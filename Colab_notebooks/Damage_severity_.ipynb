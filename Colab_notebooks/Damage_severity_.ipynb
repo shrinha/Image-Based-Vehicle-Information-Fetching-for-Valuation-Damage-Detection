{
  "cells": [
    {
      "cell_type": "markdown",
      "metadata": {
        "id": "zKo_tnau82Jk"
      },
      "source": [
        "# data3a - Damage Severity"
      ]
    },
    {
      "cell_type": "code",
      "execution_count": null,
      "metadata": {
        "id": "ge66xzQ982Jl"
      },
      "outputs": [],
      "source": [
        "import urllib.request\n",
        "import pickle\n",
        "import matplotlib.pyplot as plt\n",
        "from IPython.display import display,Image,clear_output\n",
        "import numpy as np\n",
        "import os\n",
        "import h5py\n",
        "import json\n",
        "\n",
        "import seaborn as sns\n",
        "import matplotlib.pyplot as plt\n",
        "%matplotlib inline\n",
        "\n",
        "from sklearn.metrics import classification_report,confusion_matrix\n",
        "from collections import Counter,defaultdict"
      ]
    },
    {
      "cell_type": "code",
      "execution_count": null,
      "metadata": {
        "colab": {
          "base_uri": "https://localhost:8080/"
        },
        "id": "RTS5dY_b9Ryd",
        "outputId": "9d1e0fbc-d583-47d9-8c01-6e4d297f2d73"
      },
      "outputs": [
        {
          "name": "stdout",
          "output_type": "stream",
          "text": [
            "Drive already mounted at /content/drive; to attempt to forcibly remount, call drive.mount(\"/content/drive\", force_remount=True).\n"
          ]
        }
      ],
      "source": [
        "from google.colab import drive\n",
        "drive.mount('/content/drive')\n"
      ]
    },
    {
      "cell_type": "code",
      "execution_count": null,
      "metadata": {
        "id": "FkfCtgmE82Jm"
      },
      "outputs": [],
      "source": [
        "import keras\n",
        "from keras.preprocessing.image import ImageDataGenerator, img_to_array, array_to_img, load_img\n",
        "from keras.models import Sequential, load_model, Model\n",
        "from keras.layers import Dense, Flatten, Dropout, Activation, add\n",
        "from keras.layers import Convolution2D, MaxPooling2D, ZeroPadding2D\n",
        "from keras.applications.vgg16 import VGG16,preprocess_input\n",
        "from tensorflow.keras.utils import to_categorical\n",
        "from keras.utils import get_file\n",
        "from keras import optimizers\n",
        "from keras.regularizers import l1, l2\n",
        "from keras.callbacks import ModelCheckpoint, History"
      ]
    },
    {
      "cell_type": "code",
      "execution_count": null,
      "metadata": {
        "colab": {
          "base_uri": "https://localhost:8080/",
          "height": 36
        },
        "id": "KIQH5qFn82Jm",
        "outputId": "ecd8442c-b70c-4ee0-ad5e-752d297c34fe"
      },
      "outputs": [
        {
          "data": {
            "application/vnd.google.colaboratory.intrinsic+json": {
              "type": "string"
            },
            "text/plain": [
              "'tensorflow'"
            ]
          },
          "execution_count": 11,
          "metadata": {},
          "output_type": "execute_result"
        }
      ],
      "source": [
        "from keras import backend as K\n",
        "K.backend()"
      ]
    },
    {
      "cell_type": "code",
      "execution_count": null,
      "metadata": {
        "colab": {
          "base_uri": "https://localhost:8080/"
        },
        "id": "DGEuJ2g482Jm",
        "outputId": "e56476fd-26ed-467d-f130-f9a9d4c2d9a0"
      },
      "outputs": [
        {
          "name": "stdout",
          "output_type": "stream",
          "text": [
            "Downloading data from https://github.com/fchollet/deep-learning-models/releases/download/v0.1/vgg16_weights_tf_dim_ordering_tf_kernels_notop.h5\n",
            "58889256/58889256 [==============================] - 1s 0us/step\n"
          ]
        }
      ],
      "source": [
        "WEIGHTS_PATH_NO_TOP = 'https://github.com/fchollet/deep-learning-models/releases/download/v0.1/vgg16_weights_tf_dim_ordering_tf_kernels_notop.h5'\n",
        "weights_path = get_file('vgg16_weights.h5', WEIGHTS_PATH_NO_TOP)"
      ]
    },
    {
      "cell_type": "markdown",
      "metadata": {
        "id": "OFcNp03f82Jn"
      },
      "source": [
        "### Defining input data"
      ]
    },
    {
      "cell_type": "code",
      "execution_count": null,
      "metadata": {
        "id": "VJxCMVCm82Jn"
      },
      "outputs": [],
      "source": [
        "# path to the model weights file\n",
        "location = '/content/drive/My Drive/TVS/car-damage-dataset/data3a'\n",
        "top_model_weights_path=location+'/top_model_weights.h5' # will be saved into when we create our model\n",
        "fine_tuned_model_path = '/content/drive/My Drive/TVS/car-damage-dataset/data3a/ft_model.h5'\n",
        "\n",
        "# dimensions of our images\n",
        "img_width, img_height = 256, 256\n",
        "\n",
        "train_data_dir = location+'/training'\n",
        "val_data_dir = location+'/validation'\n",
        "\n",
        "train_samples = [len(os.listdir(os.path.join(train_data_dir,i))) for i in os.listdir(train_data_dir)]\n",
        "nb_train_samples = sum(train_samples)\n",
        "val_samples = [len(os.listdir(os.path.join(val_data_dir,i))) for i in os.listdir(val_data_dir)]\n",
        "nb_val_samples = sum(val_samples)\n",
        "\n",
        "nb_epoch = 50"
      ]
    },
    {
      "cell_type": "code",
      "execution_count": null,
      "metadata": {
        "colab": {
          "base_uri": "https://localhost:8080/"
        },
        "id": "WM0xsLnb82Jn",
        "outputId": "319ab8de-961d-4a98-c7cd-a3be5fe7a1fa"
      },
      "outputs": [
        {
          "data": {
            "text/plain": [
              "[386, 315, 278]"
            ]
          },
          "execution_count": 14,
          "metadata": {},
          "output_type": "execute_result"
        }
      ],
      "source": [
        "train_samples"
      ]
    },
    {
      "cell_type": "code",
      "execution_count": null,
      "metadata": {
        "colab": {
          "base_uri": "https://localhost:8080/",
          "height": 36
        },
        "id": "HCFM5-WR82Jn",
        "outputId": "598d2ea7-0ddb-4880-c36d-dd1220ec967f"
      },
      "outputs": [
        {
          "data": {
            "application/vnd.google.colaboratory.intrinsic+json": {
              "type": "string"
            },
            "text/plain": [
              "'channels_last'"
            ]
          },
          "execution_count": 15,
          "metadata": {},
          "output_type": "execute_result"
        }
      ],
      "source": [
        "K.image_data_format()"
      ]
    },
    {
      "cell_type": "code",
      "execution_count": null,
      "metadata": {
        "id": "Fgc2sx_K82Jn"
      },
      "outputs": [],
      "source": [
        "if K.image_data_format() == 'channels_first':\n",
        "    input_shape = (3,img_height,img_widthdth)\n",
        "else:\n",
        "    input_shape = (img_height,img_width,3)"
      ]
    },
    {
      "cell_type": "code",
      "execution_count": null,
      "metadata": {
        "colab": {
          "base_uri": "https://localhost:8080/"
        },
        "id": "5rmVWw0u82Jn",
        "outputId": "f09cf6e8-64e8-4885-fd3f-29983bbe512b"
      },
      "outputs": [
        {
          "data": {
            "text/plain": [
              "(256, 256, 3)"
            ]
          },
          "execution_count": 17,
          "metadata": {},
          "output_type": "execute_result"
        }
      ],
      "source": [
        "input_shape"
      ]
    },
    {
      "cell_type": "code",
      "execution_count": null,
      "metadata": {
        "id": "4pv8rY2f82Jn"
      },
      "outputs": [],
      "source": [
        "# def load_vgg16(weights_path='../vgg16_weights.h5'):\n",
        "#     model = Sequential()\n",
        "#     model.add(ZeroPadding2D(padding=(1,1),input_shape=(224,224,3)))\n",
        "\n",
        "#     model.add(Convolution2D(filters=64, kernel_size=3, strides=3, activation='relu'))\n",
        "#     model.add(ZeroPadding2D(padding=(1,1)))\n",
        "#     model.add(Convolution2D(filters=64, kernel_size=3, strides=3, activation='relu'))\n",
        "#     model.add(MaxPooling2D(pool_size=(2,2), strides=(2,2)))\n",
        "\n",
        "#     model.add(ZeroPadding2D(padding=(1,1)))\n",
        "#     model.add(Convolution2D(filters=128, kernel_size=3, strides=3, activation='relu'))\n",
        "#     model.add(ZeroPadding2D(padding=(1,1)))\n",
        "#     model.add(Convolution2D(filters=128, kernel_size=3, strides=3, activation='relu'))\n",
        "#     model.add(MaxPooling2D(pool_size=(2,2), strides=(2,2)))\n",
        "\n",
        "#     model.add(ZeroPadding2D(padding=(1,1)))\n",
        "#     model.add(Convolution2D(filters=256, kernel_size=3, strides=3, activation='relu'))\n",
        "\n",
        "#     model.add(ZeroPadding2D(padding=(1,1)))\n",
        "#     model.add(Convolution2D(filters=256, kernel_size=3, strides=3, activation='relu'))\n",
        "#     model.add(ZeroPadding2D(padding=(1,1)))\n",
        "#     model.add(Convolution2D(filters=256, kernel_size=3, strides=3, activation='relu'))\n",
        "#     model.add(MaxPooling2D(pool_size=(2,2), strides=(2,2)))\n",
        "\n",
        "#     model.add(ZeroPadding2D(padding=(1,1)))\n",
        "#     model.add(Convolution2D(filters=512, kernel_size=3, strides=3, activation='relu'))\n",
        "#     model.add(ZeroPadding2D(padding=(1,1)))\n",
        "#     model.add(Convolution2D(filters=512, kernel_size=3, strides=3, activation='relu'))\n",
        "#     model.add(ZeroPadding2D(padding=(1,1)))\n",
        "#     model.add(Convolution2D(filters=512, kernel_size=3, strides=3, activation='relu'))\n",
        "#     model.add(MaxPooling2D(pool_size=(2,2), strides=(2,2)))\n",
        "\n",
        "#     model.add(ZeroPadding2D(padding=(1,1)))\n",
        "#     model.add(Convolution2D(filters=512, kernel_size=3, strides=3, activation='relu'))\n",
        "#     model.add(ZeroPadding2D(padding=(1,1)))\n",
        "#     model.add(Convolution2D(filters=512, kernel_size=3, strides=3, activation='relu'))\n",
        "#     model.add(ZeroPadding2D(padding=(1,1)))\n",
        "#     model.add(Convolution2D(filters=512, kernel_size=3, strides=3, activation='relu'))\n",
        "#     model.add(MaxPooling2D(pool_size=(2,2), strides=(2,2)))\n",
        "\n",
        "\n",
        "\n"
      ]
    },
    {
      "cell_type": "code",
      "execution_count": null,
      "metadata": {
        "colab": {
          "base_uri": "https://localhost:8080/"
        },
        "id": "DLN1K_vH82Jo",
        "outputId": "10079e7c-a0e0-464a-ee7d-0ef0f6977d59"
      },
      "outputs": [
        {
          "name": "stdout",
          "output_type": "stream",
          "text": [
            "Downloading data from https://storage.googleapis.com/tensorflow/keras-applications/vgg16/vgg16_weights_tf_dim_ordering_tf_kernels_notop.h5\n",
            "58889256/58889256 [==============================] - 2s 0us/step\n"
          ]
        }
      ],
      "source": [
        "base_model = VGG16(weights='imagenet',include_top=False,input_shape=input_shape ,pooling=max)"
      ]
    },
    {
      "cell_type": "code",
      "execution_count": null,
      "metadata": {
        "colab": {
          "base_uri": "https://localhost:8080/"
        },
        "id": "fYd4szli82Jo",
        "outputId": "37d360d2-cf51-4775-98d9-aeca679d91cc"
      },
      "outputs": [
        {
          "name": "stdout",
          "output_type": "stream",
          "text": [
            "Model: \"vgg16\"\n",
            "_________________________________________________________________\n",
            " Layer (type)                Output Shape              Param #   \n",
            "=================================================================\n",
            " input_1 (InputLayer)        [(None, 256, 256, 3)]     0         \n",
            "                                                                 \n",
            " block1_conv1 (Conv2D)       (None, 256, 256, 64)      1792      \n",
            "                                                                 \n",
            " block1_conv2 (Conv2D)       (None, 256, 256, 64)      36928     \n",
            "                                                                 \n",
            " block1_pool (MaxPooling2D)  (None, 128, 128, 64)      0         \n",
            "                                                                 \n",
            " block2_conv1 (Conv2D)       (None, 128, 128, 128)     73856     \n",
            "                                                                 \n",
            " block2_conv2 (Conv2D)       (None, 128, 128, 128)     147584    \n",
            "                                                                 \n",
            " block2_pool (MaxPooling2D)  (None, 64, 64, 128)       0         \n",
            "                                                                 \n",
            " block3_conv1 (Conv2D)       (None, 64, 64, 256)       295168    \n",
            "                                                                 \n",
            " block3_conv2 (Conv2D)       (None, 64, 64, 256)       590080    \n",
            "                                                                 \n",
            " block3_conv3 (Conv2D)       (None, 64, 64, 256)       590080    \n",
            "                                                                 \n",
            " block3_pool (MaxPooling2D)  (None, 32, 32, 256)       0         \n",
            "                                                                 \n",
            " block4_conv1 (Conv2D)       (None, 32, 32, 512)       1180160   \n",
            "                                                                 \n",
            " block4_conv2 (Conv2D)       (None, 32, 32, 512)       2359808   \n",
            "                                                                 \n",
            " block4_conv3 (Conv2D)       (None, 32, 32, 512)       2359808   \n",
            "                                                                 \n",
            " block4_pool (MaxPooling2D)  (None, 16, 16, 512)       0         \n",
            "                                                                 \n",
            " block5_conv1 (Conv2D)       (None, 16, 16, 512)       2359808   \n",
            "                                                                 \n",
            " block5_conv2 (Conv2D)       (None, 16, 16, 512)       2359808   \n",
            "                                                                 \n",
            " block5_conv3 (Conv2D)       (None, 16, 16, 512)       2359808   \n",
            "                                                                 \n",
            " block5_pool (MaxPooling2D)  (None, 8, 8, 512)         0         \n",
            "                                                                 \n",
            "=================================================================\n",
            "Total params: 14714688 (56.13 MB)\n",
            "Trainable params: 14714688 (56.13 MB)\n",
            "Non-trainable params: 0 (0.00 Byte)\n",
            "_________________________________________________________________\n"
          ]
        }
      ],
      "source": [
        "base_model.summary()"
      ]
    },
    {
      "cell_type": "code",
      "execution_count": null,
      "metadata": {
        "id": "t1cjzpRw82Jo"
      },
      "outputs": [],
      "source": [
        "# Set base_model layers to non-trainable\n",
        "for layer in base_model.layers:\n",
        "    layer.trainable=False"
      ]
    },
    {
      "cell_type": "code",
      "execution_count": null,
      "metadata": {
        "colab": {
          "base_uri": "https://localhost:8080/"
        },
        "id": "wXzh4PF582Jo",
        "outputId": "57838f97-f37a-44c6-e10a-69da6e991b10"
      },
      "outputs": [
        {
          "name": "stdout",
          "output_type": "stream",
          "text": [
            "Model: \"vgg16\"\n",
            "_________________________________________________________________\n",
            " Layer (type)                Output Shape              Param #   \n",
            "=================================================================\n",
            " input_1 (InputLayer)        [(None, 256, 256, 3)]     0         \n",
            "                                                                 \n",
            " block1_conv1 (Conv2D)       (None, 256, 256, 64)      1792      \n",
            "                                                                 \n",
            " block1_conv2 (Conv2D)       (None, 256, 256, 64)      36928     \n",
            "                                                                 \n",
            " block1_pool (MaxPooling2D)  (None, 128, 128, 64)      0         \n",
            "                                                                 \n",
            " block2_conv1 (Conv2D)       (None, 128, 128, 128)     73856     \n",
            "                                                                 \n",
            " block2_conv2 (Conv2D)       (None, 128, 128, 128)     147584    \n",
            "                                                                 \n",
            " block2_pool (MaxPooling2D)  (None, 64, 64, 128)       0         \n",
            "                                                                 \n",
            " block3_conv1 (Conv2D)       (None, 64, 64, 256)       295168    \n",
            "                                                                 \n",
            " block3_conv2 (Conv2D)       (None, 64, 64, 256)       590080    \n",
            "                                                                 \n",
            " block3_conv3 (Conv2D)       (None, 64, 64, 256)       590080    \n",
            "                                                                 \n",
            " block3_pool (MaxPooling2D)  (None, 32, 32, 256)       0         \n",
            "                                                                 \n",
            " block4_conv1 (Conv2D)       (None, 32, 32, 512)       1180160   \n",
            "                                                                 \n",
            " block4_conv2 (Conv2D)       (None, 32, 32, 512)       2359808   \n",
            "                                                                 \n",
            " block4_conv3 (Conv2D)       (None, 32, 32, 512)       2359808   \n",
            "                                                                 \n",
            " block4_pool (MaxPooling2D)  (None, 16, 16, 512)       0         \n",
            "                                                                 \n",
            " block5_conv1 (Conv2D)       (None, 16, 16, 512)       2359808   \n",
            "                                                                 \n",
            " block5_conv2 (Conv2D)       (None, 16, 16, 512)       2359808   \n",
            "                                                                 \n",
            " block5_conv3 (Conv2D)       (None, 16, 16, 512)       2359808   \n",
            "                                                                 \n",
            " block5_pool (MaxPooling2D)  (None, 8, 8, 512)         0         \n",
            "                                                                 \n",
            "=================================================================\n",
            "Total params: 14714688 (56.13 MB)\n",
            "Trainable params: 0 (0.00 Byte)\n",
            "Non-trainable params: 14714688 (56.13 MB)\n",
            "_________________________________________________________________\n"
          ]
        }
      ],
      "source": [
        "base_model.summary()"
      ]
    },
    {
      "cell_type": "code",
      "execution_count": null,
      "metadata": {
        "id": "flSOyr3982Jo"
      },
      "outputs": [],
      "source": [
        "def preprocess_input_vgg(x):\n",
        "    \"\"\"\n",
        "    x : a numpy 3darray (a single image to be preprocessed)\n",
        "\n",
        "    Note we cannot pass keras.applications.vgg16.preprocess_input()\n",
        "    directly to to keras.preprocessing.image.ImageDataGenerator's\n",
        "    `preprocessing_function` argument because the former expects a\n",
        "    4D tensor whereas the latter expects a 3D tensor. Hence the\n",
        "    existence of this wrapper.\n",
        "\n",
        "    Returns a numpy 3darray (the preprocessed image).\n",
        "\"\"\"\n",
        "    X = np.expand_dims(x, axis=0)\n",
        "    X = preprocess_input(X)\n",
        "    return X[0]"
      ]
    },
    {
      "cell_type": "code",
      "execution_count": null,
      "metadata": {
        "id": "NeRRsNN682Jo"
      },
      "outputs": [],
      "source": [
        "def save_bottleneck_features(location):\n",
        "    datagen = ImageDataGenerator(preprocessing_function=preprocess_input_vgg)\n",
        "\n",
        "    if(os.path.exists(location+'/bottleneck_features_train.npy')):\n",
        "        print('Already exists',location+'/bottleneck_features_train.npy')\n",
        "    else:\n",
        "        train_generator = datagen.flow_from_directory(train_data_dir,\n",
        "                                                      target_size=(img_height,img_width),\n",
        "                                                      batch_size=16,\n",
        "                                                      class_mode=None,\n",
        "                                                      shuffle=False)\n",
        "\n",
        "        bottleneck_features_train = base_model.predict_generator(train_generator,\n",
        "                                                                 nb_train_samples / 16,\n",
        "                                                                 verbose=1)\n",
        "\n",
        "        print('Saving',location+'/bottleneck_features_train.npy')\n",
        "        np.save(open(location+'/bottleneck_features_train.npy', 'wb'), bottleneck_features_train)\n",
        "        #np.save(location+'/bottleneck_features_train.npy',bottleneck_features_train)\n",
        "\n",
        "    if(os.path.exists(location+'/bottleneck_features_val.npy')):\n",
        "        print('Already exists',location+'/bottleneck_features_val.npy')\n",
        "    else:\n",
        "        # Repeat it with validation data\n",
        "        val_generator = datagen.flow_from_directory(val_data_dir,\n",
        "                                                    target_size=(img_height,img_width),\n",
        "                                                    batch_size=16,\n",
        "                                                    class_mode=None,\n",
        "                                                    shuffle=False)\n",
        "\n",
        "        bottleneck_features_val = base_model.predict_generator(val_generator,\n",
        "                                                               nb_val_samples / 16,\n",
        "                                                               verbose=1)\n",
        "        print('Saving',location+'/bottleneck_features_val.npy')\n",
        "        np.save(open(location+'/bottleneck_features_val.npy','wb'),bottleneck_features_val)\n"
      ]
    },
    {
      "cell_type": "code",
      "execution_count": null,
      "metadata": {
        "id": "1o8AuMz282Jo"
      },
      "outputs": [],
      "source": [
        "# load saved data and train a small, fully-connected ModelCheckpoint\n",
        "def train_categorical_model(location):\n",
        "    # the features were saved in order, so recreating the labels is not hard\n",
        "    train_data = np.load(open(location+'/bottleneck_features_train.npy', 'rb'))\n",
        "    print(train_data.shape[1:])\n",
        "    train_labels = np.array([0]*train_samples[0]\n",
        "                            +[1]*train_samples[1]\n",
        "                            +[2]*train_samples[2])\n",
        "\n",
        "    train_labels = to_categorical(train_labels)\n",
        "\n",
        "    val_data = np.load(open(location+'/bottleneck_features_val.npy','rb'))\n",
        "    val_labels = np.array([0]*val_samples[0]\n",
        "                          +[1]*val_samples[1]\n",
        "                          +[2]*val_samples[2])\n",
        "\n",
        "    val_labels = to_categorical(val_labels)\n",
        "\n",
        "    model = Sequential()\n",
        "    model.add(Flatten(input_shape=(train_data.shape[1:])))     # 8, 8, 512\n",
        "    model.add(Dense(units=256,activation='relu'))\n",
        "    model.add(Dropout(rate=0.5))\n",
        "    model.add(Dense(units=3,activation='softmax'))             # upped to 3 so activation softmax\n",
        "\n",
        "    model.compile(optimizer=optimizers.SGD(lr=0.0001,momentum=0.9),\n",
        "                  loss='categorical_crossentropy',\n",
        "                 metrics = ['accuracy'])\n",
        "\n",
        "    checkpoint = ModelCheckpoint(top_model_weights_path,\n",
        "                                 monitor='val_acc',\n",
        "                                 verbose=1,\n",
        "                                 save_best_only=True,\n",
        "                                 save_weights_only=True,mode='auto')     # ?read documentation\n",
        "\n",
        "    fit = model.fit(train_data,train_labels,\n",
        "                    #epochs=nb_epoch,\n",
        "                    epochs=60,\n",
        "                    batch_size=16,\n",
        "                    validation_data=(val_data,val_labels),\n",
        "                    callbacks=[checkpoint])\n",
        "\n",
        "    with open(location+'/top_history.txt', 'w') as f:\n",
        "        json.dump(fit.history, f)\n",
        "\n",
        "    return model, fit.history"
      ]
    },
    {
      "cell_type": "code",
      "execution_count": null,
      "metadata": {
        "colab": {
          "base_uri": "https://localhost:8080/"
        },
        "id": "xGu0MJqh82Jo",
        "outputId": "ae81c493-b897-4179-f3e2-23f2f215f2f0"
      },
      "outputs": [
        {
          "data": {
            "text/plain": [
              "(171, 8, 8, 512)"
            ]
          },
          "execution_count": 26,
          "metadata": {},
          "output_type": "execute_result"
        }
      ],
      "source": [
        "val_data = np.load(open(location+'/bottleneck_features_val.npy','rb'))\n",
        "val_data.shape"
      ]
    },
    {
      "cell_type": "code",
      "execution_count": null,
      "metadata": {
        "id": "3A5tSsYs82Jo"
      },
      "outputs": [],
      "source": [
        "def finetune_categorical_model(location):\n",
        "    # build a classifier model to put on top of the convolutional model\n",
        "    top_model = Sequential()\n",
        "    top_model.add(Flatten(input_shape=base_model.output_shape[1:]))\n",
        "    top_model.add(Dense(units=256,activation='relu'))\n",
        "    top_model.add(Dropout(rate=0.5))\n",
        "    top_model.add(Dense(units=3,activation='softmax'))\n",
        "\n",
        "    top_model.load_weights(top_model_weights_path)\n",
        "\n",
        "\n",
        "\n",
        "    model = Model(inputs=base_model.input, outputs=top_model(base_model.output))\n",
        "\n",
        "\n",
        "    model.compile(optimizer=optimizers.SGD(lr=0.00001,momentum=0.9),\n",
        "                       loss='categorical_crossentropy',\n",
        "                       metrics=['accuracy'])\n",
        "\n",
        "\n",
        "    train_datagen = ImageDataGenerator(preprocessing_function=preprocess_input_vgg,\n",
        "                                       rotation_range=40,\n",
        "                                       width_shift_range=0.2,\n",
        "                                       height_shift_range=0.2,\n",
        "                                       shear_range=0.2,\n",
        "                                       zoom_range=0.2,\n",
        "                                       horizontal_flip=True,\n",
        "                                       fill_mode='nearest')\n",
        "\n",
        "    test_datagen = ImageDataGenerator(preprocessing_function=preprocess_input_vgg)\n",
        "\n",
        "    train_generator = train_datagen.flow_from_directory(train_data_dir,\n",
        "                                                        target_size=(img_height, img_width),\n",
        "                                                        batch_size=8,\n",
        "                                                        class_mode='categorical')\n",
        "\n",
        "    test_generator = test_datagen.flow_from_directory(val_data_dir,\n",
        "                                                      target_size=(img_height, img_width),\n",
        "                                                      batch_size=8,\n",
        "                                                      class_mode='categorical',\n",
        "                                                      shuffle=False)\n",
        "    checkpoint = ModelCheckpoint(filepath=fine_tuned_model_path,\n",
        "                                 monitor='val_acc',\n",
        "                                 verbose=1,\n",
        "                                 save_best_only=True,\n",
        "                                 save_weights_only=False,\n",
        "                                 mode='auto')\n",
        "\n",
        "    # fine-tune the model\n",
        "    fit = model.fit_generator(train_generator,\n",
        "                              steps_per_epoch=nb_train_samples/8,\n",
        "                              epochs=10,\n",
        "                              validation_data=test_generator,\n",
        "                              validation_steps=nb_val_samples/8,\n",
        "                              verbose=1,\n",
        "                              callbacks=[checkpoint])\n",
        "\n",
        "    with open(location+'/ft_history.txt', 'w') as f:\n",
        "        json.dump(fit.history, f)\n",
        "\n",
        "    return model, fit.history"
      ]
    },
    {
      "cell_type": "code",
      "execution_count": null,
      "metadata": {
        "id": "0WIaYV7m82Jp"
      },
      "outputs": [],
      "source": [
        "def evaluate_categorical_model(model,directory,labels,Force=False):\n",
        "    test_datagen = ImageDataGenerator(preprocessing_function=preprocess_input_vgg)\n",
        "\n",
        "    if(os.path.exists(location+'/pred_labels.npy')) and not Force:\n",
        "        print('Already exists',location+'/pred_labels.npy')\n",
        "        pred_labels = np.load(open(location+'/pred_labels.npy', 'rb'))\n",
        "    else:\n",
        "        # Repeat it with validation data\n",
        "        test_generator = test_datagen.flow_from_directory(directory,\n",
        "                                                     target_size=(img_height,img_width),\n",
        "                                                     batch_size=8,\n",
        "                                                     class_mode='categorical',     # categorical for multiclass\n",
        "                                                     shuffle=False)\n",
        "\n",
        "        predictions = model.predict_generator(test_generator,\n",
        "                                              steps=len(labels)/8,\n",
        "                                              verbose=1)\n",
        "\n",
        "        # use for multiclass\n",
        "        pred_labels = np.argmax(predictions, axis=1)\n",
        "\n",
        "        # pred_labels = [0 if i <0.5 else 1 for i in predictions]\n",
        "        print('Saving',location+'/pred_labels.npy')\n",
        "        np.save(open(location+'/pred_labels.npy','wb'),pred_labels)\n",
        "        #np.save(location+'/bottleneck_features_val.npy',bottleneck_features_train)\n",
        "\n",
        "    print()\n",
        "    print(classification_report(labels, pred_labels))\n",
        "    print()\n",
        "    cm = confusion_matrix(labels, pred_labels)\n",
        "#     sns.heatmap(cm, annot=True, fmt='g');\n",
        "    return cm"
      ]
    },
    {
      "cell_type": "code",
      "execution_count": null,
      "metadata": {
        "id": "-pqrw89Z82Jp"
      },
      "outputs": [],
      "source": [
        "def plot_metrics(hist, stop=50):  # stop -> no of data pts in plot\n",
        "                                # hist(history) -> dict\n",
        "    fig, (ax0, ax1) = plt.subplots(nrows=1, ncols=2, figsize=(10, 4))\n",
        "    # axes = axes.flatten()   # flatten -> numpy flatten\n",
        "\n",
        "    ax0.plot(range(stop), hist['accuracy'], label='Training', color='#FF533D')\n",
        "    ax0.plot(range(stop), hist['val_accuracy'], label='Validation', color='#03507E')\n",
        "    ax0.set_title('Accuracy')\n",
        "    ax0.set_ylabel('Accuracy')\n",
        "    ax0.set_xlabel('Epoch')\n",
        "    ax0.legend(loc='lower right')\n",
        "\n",
        "    ax1.plot(range(stop), hist['loss'], label='Training', color='#FF533D')\n",
        "    ax1.plot(range(stop), hist['val_loss'],label='Validation', color='#03507E')\n",
        "    ax1.set_title('Loss')\n",
        "    ax1.set_ylabel('Loss')\n",
        "    ax1.set_xlabel('Epoch')\n",
        "    ax1.legend(loc='upper right')\n",
        "\n",
        "    plt.tight_layout()\n",
        "\n",
        "    print(\"Best Model: \")\n",
        "    print_best_model_results(hist)"
      ]
    },
    {
      "cell_type": "code",
      "execution_count": null,
      "metadata": {
        "id": "MCrDg-wB82Jp"
      },
      "outputs": [],
      "source": [
        "def view_images(img_dir,img_list):\n",
        "    for img in img_list:\n",
        "        clear_output()\n",
        "        display(Image(img_dir+img))\n",
        "        num = input(\"c to continue, q to quit\")\n",
        "        if num == 'c':\n",
        "            pass\n",
        "        else:\n",
        "            return 'Finished for now.'"
      ]
    },
    {
      "cell_type": "code",
      "execution_count": null,
      "metadata": {
        "id": "TAo60wVm82Jp"
      },
      "outputs": [],
      "source": [
        "def print_best_model_results(model_hist):\n",
        "    best_epoch = np.argmax(model_hist['val_acc'])\n",
        "    print('epoch:', best_epoch+1,', val_acc:', model_hist['val_acc'][best_epoch],', val_loss:',\n",
        "          model_hist['val_loss'][best_epoch])"
      ]
    },
    {
      "cell_type": "markdown",
      "metadata": {
        "id": "9sZlRprG82Jp"
      },
      "source": [
        "### Training"
      ]
    },
    {
      "cell_type": "code",
      "execution_count": null,
      "metadata": {
        "colab": {
          "base_uri": "https://localhost:8080/"
        },
        "id": "eDVcPJLQ82Jp",
        "outputId": "82fdc0cd-2ea6-4a59-dd4a-8cc2f01c70a3"
      },
      "outputs": [
        {
          "name": "stdout",
          "output_type": "stream",
          "text": [
            "Already exists /content/drive/My Drive/TVS/car-damage-dataset/data3a/bottleneck_features_train.npy\n",
            "Already exists /content/drive/My Drive/TVS/car-damage-dataset/data3a/bottleneck_features_val.npy\n"
          ]
        }
      ],
      "source": [
        "# do not rerun!!\n",
        "save_bottleneck_features(location)"
      ]
    },
    {
      "cell_type": "code",
      "execution_count": null,
      "metadata": {
        "id": "ZeaGSOSs82Jp"
      },
      "outputs": [],
      "source": [
        "sns.set_style('whitegrid')"
      ]
    },
    {
      "cell_type": "code",
      "execution_count": null,
      "metadata": {
        "colab": {
          "base_uri": "https://localhost:8080/"
        },
        "id": "O9mkjXbE82Jp",
        "outputId": "9293f343-a72a-4ecb-c3ab-36f35c7b252c",
        "scrolled": true
      },
      "outputs": [
        {
          "name": "stderr",
          "output_type": "stream",
          "text": [
            "WARNING:absl:`lr` is deprecated in Keras optimizer, please use `learning_rate` or use the legacy optimizer, e.g.,tf.keras.optimizers.legacy.SGD.\n"
          ]
        },
        {
          "name": "stdout",
          "output_type": "stream",
          "text": [
            "(8, 8, 512)\n",
            "Epoch 1/60\n",
            "57/62 [==========================>...] - ETA: 0s - loss: 484.7715 - accuracy: 0.3728"
          ]
        },
        {
          "name": "stderr",
          "output_type": "stream",
          "text": [
            "WARNING:tensorflow:Can save best model only with val_acc available, skipping.\n"
          ]
        },
        {
          "name": "stdout",
          "output_type": "stream",
          "text": [
            "\b\b\b\b\b\b\b\b\b\b\b\b\b\b\b\b\b\b\b\b\b\b\b\b\b\b\b\b\b\b\b\b\b\b\b\b\b\b\b\b\b\b\b\b\b\b\b\b\b\b\b\b\b\b\b\b\b\b\b\b\b\b\b\b\b\b\b\b\b\b\b\b\b\b\b\b\b\b\b\b\b\b\b\b\r62/62 [==============================] - 6s 12ms/step - loss: 451.6687 - accuracy: 0.3810 - val_loss: 6.8140 - val_accuracy: 0.3275\n",
            "Epoch 2/60\n",
            "58/62 [===========================>..] - ETA: 0s - loss: 962.9094 - accuracy: 0.3858 "
          ]
        },
        {
          "name": "stderr",
          "output_type": "stream",
          "text": [
            "WARNING:tensorflow:Can save best model only with val_acc available, skipping.\n"
          ]
        },
        {
          "name": "stdout",
          "output_type": "stream",
          "text": [
            "\b\b\b\b\b\b\b\b\b\b\b\b\b\b\b\b\b\b\b\b\b\b\b\b\b\b\b\b\b\b\b\b\b\b\b\b\b\b\b\b\b\b\b\b\b\b\b\b\b\b\b\b\b\b\b\b\b\b\b\b\b\b\b\b\b\b\b\b\b\b\b\b\b\b\b\b\b\b\b\b\b\b\b\b\r62/62 [==============================] - 0s 7ms/step - loss: 912.8019 - accuracy: 0.3933 - val_loss: 1.0957 - val_accuracy: 0.3275\n",
            "Epoch 3/60\n",
            "56/62 [==========================>...] - ETA: 0s - loss: 494.8687 - accuracy: 0.3895"
          ]
        },
        {
          "name": "stderr",
          "output_type": "stream",
          "text": [
            "WARNING:tensorflow:Can save best model only with val_acc available, skipping.\n"
          ]
        },
        {
          "name": "stdout",
          "output_type": "stream",
          "text": [
            "\b\b\b\b\b\b\b\b\b\b\b\b\b\b\b\b\b\b\b\b\b\b\b\b\b\b\b\b\b\b\b\b\b\b\b\b\b\b\b\b\b\b\b\b\b\b\b\b\b\b\b\b\b\b\b\b\b\b\b\b\b\b\b\b\b\b\b\b\b\b\b\b\b\b\b\b\b\b\b\b\b\b\b\b\r62/62 [==============================] - 0s 6ms/step - loss: 453.0045 - accuracy: 0.3943 - val_loss: 1.1080 - val_accuracy: 0.3216\n",
            "Epoch 4/60\n",
            "53/62 [========================>.....] - ETA: 0s - loss: 678.1555 - accuracy: 0.3998"
          ]
        },
        {
          "name": "stderr",
          "output_type": "stream",
          "text": [
            "WARNING:tensorflow:Can save best model only with val_acc available, skipping.\n"
          ]
        },
        {
          "name": "stdout",
          "output_type": "stream",
          "text": [
            "\b\b\b\b\b\b\b\b\b\b\b\b\b\b\b\b\b\b\b\b\b\b\b\b\b\b\b\b\b\b\b\b\b\b\b\b\b\b\b\b\b\b\b\b\b\b\b\b\b\b\b\b\b\b\b\b\b\b\b\b\b\b\b\b\b\b\b\b\b\b\b\b\b\b\b\b\b\b\b\b\b\b\b\b\r62/62 [==============================] - 0s 6ms/step - loss: 592.6297 - accuracy: 0.3933 - val_loss: 1.1044 - val_accuracy: 0.3216\n",
            "Epoch 5/60\n",
            "55/62 [=========================>....] - ETA: 0s - loss: 31.9428 - accuracy: 0.3955"
          ]
        },
        {
          "name": "stderr",
          "output_type": "stream",
          "text": [
            "WARNING:tensorflow:Can save best model only with val_acc available, skipping.\n"
          ]
        },
        {
          "name": "stdout",
          "output_type": "stream",
          "text": [
            "\b\b\b\b\b\b\b\b\b\b\b\b\b\b\b\b\b\b\b\b\b\b\b\b\b\b\b\b\b\b\b\b\b\b\b\b\b\b\b\b\b\b\b\b\b\b\b\b\b\b\b\b\b\b\b\b\b\b\b\b\b\b\b\b\b\b\b\b\b\b\b\b\b\b\b\b\b\b\b\b\b\b\b\r62/62 [==============================] - 0s 6ms/step - loss: 28.8239 - accuracy: 0.3984 - val_loss: 1.1022 - val_accuracy: 0.3216\n",
            "Epoch 6/60\n",
            "59/62 [===========================>..] - ETA: 0s - loss: 1.0780 - accuracy: 0.3962"
          ]
        },
        {
          "name": "stderr",
          "output_type": "stream",
          "text": [
            "WARNING:tensorflow:Can save best model only with val_acc available, skipping.\n"
          ]
        },
        {
          "name": "stdout",
          "output_type": "stream",
          "text": [
            "\b\b\b\b\b\b\b\b\b\b\b\b\b\b\b\b\b\b\b\b\b\b\b\b\b\b\b\b\b\b\b\b\b\b\b\b\b\b\b\b\b\b\b\b\b\b\b\b\b\b\b\b\b\b\b\b\b\b\b\b\b\b\b\b\b\b\b\b\b\b\b\b\b\b\b\b\b\b\b\b\b\b\r62/62 [==============================] - 0s 5ms/step - loss: 557.0065 - accuracy: 0.4014 - val_loss: 1.1052 - val_accuracy: 0.3216\n",
            "Epoch 7/60\n",
            "59/62 [===========================>..] - ETA: 0s - loss: 1.0738 - accuracy: 0.3994"
          ]
        },
        {
          "name": "stderr",
          "output_type": "stream",
          "text": [
            "WARNING:tensorflow:Can save best model only with val_acc available, skipping.\n"
          ]
        },
        {
          "name": "stdout",
          "output_type": "stream",
          "text": [
            "\b\b\b\b\b\b\b\b\b\b\b\b\b\b\b\b\b\b\b\b\b\b\b\b\b\b\b\b\b\b\b\b\b\b\b\b\b\b\b\b\b\b\b\b\b\b\b\b\b\b\b\b\b\b\b\b\b\b\b\b\b\b\b\b\b\b\b\b\b\b\b\b\b\b\b\b\b\b\b\b\b\b\r62/62 [==============================] - 0s 6ms/step - loss: 1.0726 - accuracy: 0.4025 - val_loss: 1.1045 - val_accuracy: 0.3216\n",
            "Epoch 8/60\n",
            "57/62 [==========================>...] - ETA: 0s - loss: 1.0710 - accuracy: 0.4068"
          ]
        },
        {
          "name": "stderr",
          "output_type": "stream",
          "text": [
            "WARNING:tensorflow:Can save best model only with val_acc available, skipping.\n"
          ]
        },
        {
          "name": "stdout",
          "output_type": "stream",
          "text": [
            "\b\b\b\b\b\b\b\b\b\b\b\b\b\b\b\b\b\b\b\b\b\b\b\b\b\b\b\b\b\b\b\b\b\b\b\b\b\b\b\b\b\b\b\b\b\b\b\b\b\b\b\b\b\b\b\b\b\b\b\b\b\b\b\b\b\b\b\b\b\b\b\b\b\b\b\b\b\b\b\b\b\b\r62/62 [==============================] - 0s 6ms/step - loss: 1.0732 - accuracy: 0.4025 - val_loss: 1.1015 - val_accuracy: 0.3216\n",
            "Epoch 9/60\n",
            "53/62 [========================>.....] - ETA: 0s - loss: 1.3720 - accuracy: 0.4033"
          ]
        },
        {
          "name": "stderr",
          "output_type": "stream",
          "text": [
            "WARNING:tensorflow:Can save best model only with val_acc available, skipping.\n"
          ]
        },
        {
          "name": "stdout",
          "output_type": "stream",
          "text": [
            "\b\b\b\b\b\b\b\b\b\b\b\b\b\b\b\b\b\b\b\b\b\b\b\b\b\b\b\b\b\b\b\b\b\b\b\b\b\b\b\b\b\b\b\b\b\b\b\b\b\b\b\b\b\b\b\b\b\b\b\b\b\b\b\b\b\b\b\b\b\b\b\b\b\b\b\b\b\b\b\b\b\b\r62/62 [==============================] - 0s 6ms/step - loss: 1.3348 - accuracy: 0.3994 - val_loss: 1.1056 - val_accuracy: 0.3216\n",
            "Epoch 10/60\n",
            "58/62 [===========================>..] - ETA: 0s - loss: 1.0801 - accuracy: 0.3944"
          ]
        },
        {
          "name": "stderr",
          "output_type": "stream",
          "text": [
            "WARNING:tensorflow:Can save best model only with val_acc available, skipping.\n"
          ]
        },
        {
          "name": "stdout",
          "output_type": "stream",
          "text": [
            "\b\b\b\b\b\b\b\b\b\b\b\b\b\b\b\b\b\b\b\b\b\b\b\b\b\b\b\b\b\b\b\b\b\b\b\b\b\b\b\b\b\b\b\b\b\b\b\b\b\b\b\b\b\b\b\b\b\b\b\b\b\b\b\b\b\b\b\b\b\b\b\b\b\b\b\b\b\b\b\b\b\b\r62/62 [==============================] - 0s 5ms/step - loss: 1.0789 - accuracy: 0.3994 - val_loss: 1.1010 - val_accuracy: 0.3216\n",
            "Epoch 11/60\n",
            "58/62 [===========================>..] - ETA: 0s - loss: 1.6249 - accuracy: 0.3955"
          ]
        },
        {
          "name": "stderr",
          "output_type": "stream",
          "text": [
            "WARNING:tensorflow:Can save best model only with val_acc available, skipping.\n"
          ]
        },
        {
          "name": "stdout",
          "output_type": "stream",
          "text": [
            "\b\b\b\b\b\b\b\b\b\b\b\b\b\b\b\b\b\b\b\b\b\b\b\b\b\b\b\b\b\b\b\b\b\b\b\b\b\b\b\b\b\b\b\b\b\b\b\b\b\b\b\b\b\b\b\b\b\b\b\b\b\b\b\b\b\b\b\b\b\b\b\b\b\b\b\b\b\b\b\b\b\b\r62/62 [==============================] - 0s 6ms/step - loss: 1.5958 - accuracy: 0.3984 - val_loss: 1.1059 - val_accuracy: 0.3216\n",
            "Epoch 12/60\n",
            "61/62 [============================>.] - ETA: 0s - loss: 1.0818 - accuracy: 0.3975"
          ]
        },
        {
          "name": "stderr",
          "output_type": "stream",
          "text": [
            "WARNING:tensorflow:Can save best model only with val_acc available, skipping.\n"
          ]
        },
        {
          "name": "stdout",
          "output_type": "stream",
          "text": [
            "\b\b\b\b\b\b\b\b\b\b\b\b\b\b\b\b\b\b\b\b\b\b\b\b\b\b\b\b\b\b\b\b\b\b\b\b\b\b\b\b\b\b\b\b\b\b\b\b\b\b\b\b\b\b\b\b\b\b\b\b\b\b\b\b\b\b\b\b\b\b\b\b\b\b\b\b\b\b\b\b\b\b\r62/62 [==============================] - 0s 5ms/step - loss: 1.0816 - accuracy: 0.3984 - val_loss: 1.0978 - val_accuracy: 0.3216\n",
            "Epoch 13/60\n",
            "56/62 [==========================>...] - ETA: 0s - loss: 1.0742 - accuracy: 0.4051"
          ]
        },
        {
          "name": "stderr",
          "output_type": "stream",
          "text": [
            "WARNING:tensorflow:Can save best model only with val_acc available, skipping.\n"
          ]
        },
        {
          "name": "stdout",
          "output_type": "stream",
          "text": [
            "\b\b\b\b\b\b\b\b\b\b\b\b\b\b\b\b\b\b\b\b\b\b\b\b\b\b\b\b\b\b\b\b\b\b\b\b\b\b\b\b\b\b\b\b\b\b\b\b\b\b\b\b\b\b\b\b\b\b\b\b\b\b\b\b\b\b\b\b\b\b\b\b\b\b\b\b\b\b\b\b\b\b\r62/62 [==============================] - 0s 6ms/step - loss: 1.0773 - accuracy: 0.3994 - val_loss: 1.1021 - val_accuracy: 0.3216\n",
            "Epoch 14/60\n",
            "57/62 [==========================>...] - ETA: 0s - loss: 1.0778 - accuracy: 0.4002"
          ]
        },
        {
          "name": "stderr",
          "output_type": "stream",
          "text": [
            "WARNING:tensorflow:Can save best model only with val_acc available, skipping.\n"
          ]
        },
        {
          "name": "stdout",
          "output_type": "stream",
          "text": [
            "\b\b\b\b\b\b\b\b\b\b\b\b\b\b\b\b\b\b\b\b\b\b\b\b\b\b\b\b\b\b\b\b\b\b\b\b\b\b\b\b\b\b\b\b\b\b\b\b\b\b\b\b\b\b\b\b\b\b\b\b\b\b\b\b\b\b\b\b\b\b\b\b\b\b\b\b\b\b\b\b\b\b\r62/62 [==============================] - 0s 6ms/step - loss: 1.0786 - accuracy: 0.3973 - val_loss: 1.1029 - val_accuracy: 0.3216\n",
            "Epoch 15/60\n",
            "58/62 [===========================>..] - ETA: 0s - loss: 1.0783 - accuracy: 0.3955"
          ]
        },
        {
          "name": "stderr",
          "output_type": "stream",
          "text": [
            "WARNING:tensorflow:Can save best model only with val_acc available, skipping.\n"
          ]
        },
        {
          "name": "stdout",
          "output_type": "stream",
          "text": [
            "\b\b\b\b\b\b\b\b\b\b\b\b\b\b\b\b\b\b\b\b\b\b\b\b\b\b\b\b\b\b\b\b\b\b\b\b\b\b\b\b\b\b\b\b\b\b\b\b\b\b\b\b\b\b\b\b\b\b\b\b\b\b\b\b\b\b\b\b\b\b\b\b\b\b\b\b\b\b\b\b\b\b\r62/62 [==============================] - 0s 6ms/step - loss: 1.0768 - accuracy: 0.3984 - val_loss: 1.1012 - val_accuracy: 0.3216\n",
            "Epoch 16/60\n",
            "55/62 [=========================>....] - ETA: 0s - loss: 1.1247 - accuracy: 0.3875"
          ]
        },
        {
          "name": "stderr",
          "output_type": "stream",
          "text": [
            "WARNING:tensorflow:Can save best model only with val_acc available, skipping.\n"
          ]
        },
        {
          "name": "stdout",
          "output_type": "stream",
          "text": [
            "\b\b\b\b\b\b\b\b\b\b\b\b\b\b\b\b\b\b\b\b\b\b\b\b\b\b\b\b\b\b\b\b\b\b\b\b\b\b\b\b\b\b\b\b\b\b\b\b\b\b\b\b\b\b\b\b\b\b\b\b\b\b\b\b\b\b\b\b\b\b\b\b\b\b\b\b\b\b\b\b\b\b\r62/62 [==============================] - 0s 6ms/step - loss: 1.1193 - accuracy: 0.3963 - val_loss: 1.1012 - val_accuracy: 0.3216\n",
            "Epoch 17/60\n",
            "60/62 [============================>.] - ETA: 0s - loss: 1.0771 - accuracy: 0.4010"
          ]
        },
        {
          "name": "stderr",
          "output_type": "stream",
          "text": [
            "WARNING:tensorflow:Can save best model only with val_acc available, skipping.\n"
          ]
        },
        {
          "name": "stdout",
          "output_type": "stream",
          "text": [
            "\b\b\b\b\b\b\b\b\b\b\b\b\b\b\b\b\b\b\b\b\b\b\b\b\b\b\b\b\b\b\b\b\b\b\b\b\b\b\b\b\b\b\b\b\b\b\b\b\b\b\b\b\b\b\b\b\b\b\b\b\b\b\b\b\b\b\b\b\b\b\b\b\b\b\b\b\b\b\b\b\b\b\r62/62 [==============================] - 0s 5ms/step - loss: 1.0777 - accuracy: 0.3994 - val_loss: 1.1031 - val_accuracy: 0.3216\n",
            "Epoch 18/60\n",
            "61/62 [============================>.] - ETA: 0s - loss: 1.0823 - accuracy: 0.3975"
          ]
        },
        {
          "name": "stderr",
          "output_type": "stream",
          "text": [
            "WARNING:tensorflow:Can save best model only with val_acc available, skipping.\n"
          ]
        },
        {
          "name": "stdout",
          "output_type": "stream",
          "text": [
            "\b\b\b\b\b\b\b\b\b\b\b\b\b\b\b\b\b\b\b\b\b\b\b\b\b\b\b\b\b\b\b\b\b\b\b\b\b\b\b\b\b\b\b\b\b\b\b\b\b\b\b\b\b\b\b\b\b\b\b\b\b\b\b\b\b\b\b\b\b\b\b\b\b\b\b\b\b\b\b\b\b\b\r62/62 [==============================] - 0s 6ms/step - loss: 1.0824 - accuracy: 0.3973 - val_loss: 1.1013 - val_accuracy: 0.3216\n",
            "Epoch 19/60\n",
            "54/62 [=========================>....] - ETA: 0s - loss: 1.0752 - accuracy: 0.3970"
          ]
        },
        {
          "name": "stderr",
          "output_type": "stream",
          "text": [
            "WARNING:tensorflow:Can save best model only with val_acc available, skipping.\n"
          ]
        },
        {
          "name": "stdout",
          "output_type": "stream",
          "text": [
            "\b\b\b\b\b\b\b\b\b\b\b\b\b\b\b\b\b\b\b\b\b\b\b\b\b\b\b\b\b\b\b\b\b\b\b\b\b\b\b\b\b\b\b\b\b\b\b\b\b\b\b\b\b\b\b\b\b\b\b\b\b\b\b\b\b\b\b\b\b\b\b\b\b\b\b\b\b\b\b\b\b\b\r62/62 [==============================] - 0s 6ms/step - loss: 1.0756 - accuracy: 0.3994 - val_loss: 1.1014 - val_accuracy: 0.3216\n",
            "Epoch 20/60\n",
            "60/62 [============================>.] - ETA: 0s - loss: 1.0842 - accuracy: 0.3948"
          ]
        },
        {
          "name": "stderr",
          "output_type": "stream",
          "text": [
            "WARNING:tensorflow:Can save best model only with val_acc available, skipping.\n"
          ]
        },
        {
          "name": "stdout",
          "output_type": "stream",
          "text": [
            "\b\b\b\b\b\b\b\b\b\b\b\b\b\b\b\b\b\b\b\b\b\b\b\b\b\b\b\b\b\b\b\b\b\b\b\b\b\b\b\b\b\b\b\b\b\b\b\b\b\b\b\b\b\b\b\b\b\b\b\b\b\b\b\b\b\b\b\b\b\b\b\b\b\b\b\b\b\b\b\b\b\b\r62/62 [==============================] - 0s 6ms/step - loss: 1.0828 - accuracy: 0.3963 - val_loss: 1.1008 - val_accuracy: 0.3216\n",
            "Epoch 21/60\n",
            "59/62 [===========================>..] - ETA: 0s - loss: 1.0780 - accuracy: 0.4004"
          ]
        },
        {
          "name": "stderr",
          "output_type": "stream",
          "text": [
            "WARNING:tensorflow:Can save best model only with val_acc available, skipping.\n"
          ]
        },
        {
          "name": "stdout",
          "output_type": "stream",
          "text": [
            "\b\b\b\b\b\b\b\b\b\b\b\b\b\b\b\b\b\b\b\b\b\b\b\b\b\b\b\b\b\b\b\b\b\b\b\b\b\b\b\b\b\b\b\b\b\b\b\b\b\b\b\b\b\b\b\b\b\b\b\b\b\b\b\b\b\b\b\b\b\b\b\b\b\b\b\b\b\b\b\b\b\b\r62/62 [==============================] - 0s 5ms/step - loss: 1.0796 - accuracy: 0.3984 - val_loss: 1.0995 - val_accuracy: 0.3216\n",
            "Epoch 22/60\n",
            "59/62 [===========================>..] - ETA: 0s - loss: 1.0808 - accuracy: 0.3983"
          ]
        },
        {
          "name": "stderr",
          "output_type": "stream",
          "text": [
            "WARNING:tensorflow:Can save best model only with val_acc available, skipping.\n"
          ]
        },
        {
          "name": "stdout",
          "output_type": "stream",
          "text": [
            "\b\b\b\b\b\b\b\b\b\b\b\b\b\b\b\b\b\b\b\b\b\b\b\b\b\b\b\b\b\b\b\b\b\b\b\b\b\b\b\b\b\b\b\b\b\b\b\b\b\b\b\b\b\b\b\b\b\b\b\b\b\b\b\b\b\b\b\b\b\b\b\b\b\b\b\b\b\b\b\b\b\b\r62/62 [==============================] - 0s 6ms/step - loss: 1.0810 - accuracy: 0.3984 - val_loss: 1.1026 - val_accuracy: 0.3216\n",
            "Epoch 23/60\n",
            "60/62 [============================>.] - ETA: 0s - loss: 1.0770 - accuracy: 0.3990"
          ]
        },
        {
          "name": "stderr",
          "output_type": "stream",
          "text": [
            "WARNING:tensorflow:Can save best model only with val_acc available, skipping.\n"
          ]
        },
        {
          "name": "stdout",
          "output_type": "stream",
          "text": [
            "\b\b\b\b\b\b\b\b\b\b\b\b\b\b\b\b\b\b\b\b\b\b\b\b\b\b\b\b\b\b\b\b\b\b\b\b\b\b\b\b\b\b\b\b\b\b\b\b\b\b\b\b\b\b\b\b\b\b\b\b\b\b\b\b\b\b\b\b\b\b\b\b\b\b\b\b\b\b\b\b\b\b\r62/62 [==============================] - 0s 6ms/step - loss: 1.0772 - accuracy: 0.3994 - val_loss: 1.1018 - val_accuracy: 0.3216\n",
            "Epoch 24/60\n",
            "57/62 [==========================>...] - ETA: 0s - loss: 1.0794 - accuracy: 0.3980"
          ]
        },
        {
          "name": "stderr",
          "output_type": "stream",
          "text": [
            "WARNING:tensorflow:Can save best model only with val_acc available, skipping.\n"
          ]
        },
        {
          "name": "stdout",
          "output_type": "stream",
          "text": [
            "\b\b\b\b\b\b\b\b\b\b\b\b\b\b\b\b\b\b\b\b\b\b\b\b\b\b\b\b\b\b\b\b\b\b\b\b\b\b\b\b\b\b\b\b\b\b\b\b\b\b\b\b\b\b\b\b\b\b\b\b\b\b\b\b\b\b\b\b\b\b\b\b\b\b\b\b\b\b\b\b\b\b\r62/62 [==============================] - 0s 5ms/step - loss: 1.0807 - accuracy: 0.3994 - val_loss: 1.1031 - val_accuracy: 0.3216\n",
            "Epoch 25/60\n",
            "55/62 [=========================>....] - ETA: 0s - loss: 1.0795 - accuracy: 0.3920"
          ]
        },
        {
          "name": "stderr",
          "output_type": "stream",
          "text": [
            "WARNING:tensorflow:Can save best model only with val_acc available, skipping.\n"
          ]
        },
        {
          "name": "stdout",
          "output_type": "stream",
          "text": [
            "\b\b\b\b\b\b\b\b\b\b\b\b\b\b\b\b\b\b\b\b\b\b\b\b\b\b\b\b\b\b\b\b\b\b\b\b\b\b\b\b\b\b\b\b\b\b\b\b\b\b\b\b\b\b\b\b\b\b\b\b\b\b\b\b\b\b\b\b\b\b\b\b\b\b\b\b\b\b\b\b\b\b\r62/62 [==============================] - 0s 6ms/step - loss: 1.0790 - accuracy: 0.3984 - val_loss: 1.1052 - val_accuracy: 0.3216\n",
            "Epoch 26/60\n",
            "60/62 [============================>.] - ETA: 0s - loss: 1.0794 - accuracy: 0.3990"
          ]
        },
        {
          "name": "stderr",
          "output_type": "stream",
          "text": [
            "WARNING:tensorflow:Can save best model only with val_acc available, skipping.\n"
          ]
        },
        {
          "name": "stdout",
          "output_type": "stream",
          "text": [
            "\b\b\b\b\b\b\b\b\b\b\b\b\b\b\b\b\b\b\b\b\b\b\b\b\b\b\b\b\b\b\b\b\b\b\b\b\b\b\b\b\b\b\b\b\b\b\b\b\b\b\b\b\b\b\b\b\b\b\b\b\b\b\b\b\b\b\b\b\b\b\b\b\b\b\b\b\b\b\b\b\b\b\r62/62 [==============================] - 0s 5ms/step - loss: 1.0781 - accuracy: 0.4004 - val_loss: 1.1034 - val_accuracy: 0.3216\n",
            "Epoch 27/60\n",
            "58/62 [===========================>..] - ETA: 0s - loss: 1.0788 - accuracy: 0.4009"
          ]
        },
        {
          "name": "stderr",
          "output_type": "stream",
          "text": [
            "WARNING:tensorflow:Can save best model only with val_acc available, skipping.\n"
          ]
        },
        {
          "name": "stdout",
          "output_type": "stream",
          "text": [
            "\b\b\b\b\b\b\b\b\b\b\b\b\b\b\b\b\b\b\b\b\b\b\b\b\b\b\b\b\b\b\b\b\b\b\b\b\b\b\b\b\b\b\b\b\b\b\b\b\b\b\b\b\b\b\b\b\b\b\b\b\b\b\b\b\b\b\b\b\b\b\b\b\b\b\b\b\b\b\b\b\b\b\r62/62 [==============================] - 0s 6ms/step - loss: 1.0803 - accuracy: 0.3984 - val_loss: 1.1069 - val_accuracy: 0.3216\n",
            "Epoch 28/60\n",
            "60/62 [============================>.] - ETA: 0s - loss: 1.0728 - accuracy: 0.4062"
          ]
        },
        {
          "name": "stderr",
          "output_type": "stream",
          "text": [
            "WARNING:tensorflow:Can save best model only with val_acc available, skipping.\n"
          ]
        },
        {
          "name": "stdout",
          "output_type": "stream",
          "text": [
            "\b\b\b\b\b\b\b\b\b\b\b\b\b\b\b\b\b\b\b\b\b\b\b\b\b\b\b\b\b\b\b\b\b\b\b\b\b\b\b\b\b\b\b\b\b\b\b\b\b\b\b\b\b\b\b\b\b\b\b\b\b\b\b\b\b\b\b\b\b\b\b\b\b\b\b\b\b\b\b\b\b\b\r62/62 [==============================] - 0s 5ms/step - loss: 1.0741 - accuracy: 0.4014 - val_loss: 1.1021 - val_accuracy: 0.3216\n",
            "Epoch 29/60\n",
            "60/62 [============================>.] - ETA: 0s - loss: 1.0778 - accuracy: 0.4052"
          ]
        },
        {
          "name": "stderr",
          "output_type": "stream",
          "text": [
            "WARNING:tensorflow:Can save best model only with val_acc available, skipping.\n"
          ]
        },
        {
          "name": "stdout",
          "output_type": "stream",
          "text": [
            "\b\b\b\b\b\b\b\b\b\b\b\b\b\b\b\b\b\b\b\b\b\b\b\b\b\b\b\b\b\b\b\b\b\b\b\b\b\b\b\b\b\b\b\b\b\b\b\b\b\b\b\b\b\b\b\b\b\b\b\b\b\b\b\b\b\b\b\b\b\b\b\b\b\b\b\b\b\b\b\b\b\b\r62/62 [==============================] - 0s 5ms/step - loss: 1.0783 - accuracy: 0.4004 - val_loss: 1.1040 - val_accuracy: 0.3216\n",
            "Epoch 30/60\n",
            "58/62 [===========================>..] - ETA: 0s - loss: 1.0795 - accuracy: 0.4041"
          ]
        },
        {
          "name": "stderr",
          "output_type": "stream",
          "text": [
            "WARNING:tensorflow:Can save best model only with val_acc available, skipping.\n"
          ]
        },
        {
          "name": "stdout",
          "output_type": "stream",
          "text": [
            "\b\b\b\b\b\b\b\b\b\b\b\b\b\b\b\b\b\b\b\b\b\b\b\b\b\b\b\b\b\b\b\b\b\b\b\b\b\b\b\b\b\b\b\b\b\b\b\b\b\b\b\b\b\b\b\b\b\b\b\b\b\b\b\b\b\b\b\b\b\b\b\b\b\b\b\b\b\b\b\b\b\b\r62/62 [==============================] - 0s 6ms/step - loss: 1.0802 - accuracy: 0.3984 - val_loss: 1.1054 - val_accuracy: 0.3216\n",
            "Epoch 31/60\n",
            "62/62 [==============================] - ETA: 0s - loss: 2.1249 - accuracy: 0.4025"
          ]
        },
        {
          "name": "stderr",
          "output_type": "stream",
          "text": [
            "WARNING:tensorflow:Can save best model only with val_acc available, skipping.\n"
          ]
        },
        {
          "name": "stdout",
          "output_type": "stream",
          "text": [
            "\b\b\b\b\b\b\b\b\b\b\b\b\b\b\b\b\b\b\b\b\b\b\b\b\b\b\b\b\b\b\b\b\b\b\b\b\b\b\b\b\b\b\b\b\b\b\b\b\b\b\b\b\b\b\b\b\b\b\b\b\b\b\b\b\b\b\b\b\b\b\b\b\b\b\b\b\b\b\b\b\b\b\r62/62 [==============================] - 0s 8ms/step - loss: 2.1249 - accuracy: 0.4025 - val_loss: 1.1003 - val_accuracy: 0.3216\n",
            "Epoch 32/60\n",
            "60/62 [============================>.] - ETA: 0s - loss: 1.0796 - accuracy: 0.3990"
          ]
        },
        {
          "name": "stderr",
          "output_type": "stream",
          "text": [
            "WARNING:tensorflow:Can save best model only with val_acc available, skipping.\n"
          ]
        },
        {
          "name": "stdout",
          "output_type": "stream",
          "text": [
            "\b\b\b\b\b\b\b\b\b\b\b\b\b\b\b\b\b\b\b\b\b\b\b\b\b\b\b\b\b\b\b\b\b\b\b\b\b\b\b\b\b\b\b\b\b\b\b\b\b\b\b\b\b\b\b\b\b\b\b\b\b\b\b\b\b\b\b\b\b\b\b\b\b\b\b\b\b\b\b\b\b\b\r62/62 [==============================] - 0s 7ms/step - loss: 1.0791 - accuracy: 0.4004 - val_loss: 1.1019 - val_accuracy: 0.3216\n",
            "Epoch 33/60\n",
            "59/62 [===========================>..] - ETA: 0s - loss: 1.0771 - accuracy: 0.3941"
          ]
        },
        {
          "name": "stderr",
          "output_type": "stream",
          "text": [
            "WARNING:tensorflow:Can save best model only with val_acc available, skipping.\n"
          ]
        },
        {
          "name": "stdout",
          "output_type": "stream",
          "text": [
            "\b\b\b\b\b\b\b\b\b\b\b\b\b\b\b\b\b\b\b\b\b\b\b\b\b\b\b\b\b\b\b\b\b\b\b\b\b\b\b\b\b\b\b\b\b\b\b\b\b\b\b\b\b\b\b\b\b\b\b\b\b\b\b\b\b\b\b\b\b\b\b\b\b\b\b\b\b\b\b\b\b\b\r62/62 [==============================] - 0s 7ms/step - loss: 1.0766 - accuracy: 0.3973 - val_loss: 1.1024 - val_accuracy: 0.3216\n",
            "Epoch 34/60\n",
            "58/62 [===========================>..] - ETA: 0s - loss: 1.0795 - accuracy: 0.3987"
          ]
        },
        {
          "name": "stderr",
          "output_type": "stream",
          "text": [
            "WARNING:tensorflow:Can save best model only with val_acc available, skipping.\n"
          ]
        },
        {
          "name": "stdout",
          "output_type": "stream",
          "text": [
            "\b\b\b\b\b\b\b\b\b\b\b\b\b\b\b\b\b\b\b\b\b\b\b\b\b\b\b\b\b\b\b\b\b\b\b\b\b\b\b\b\b\b\b\b\b\b\b\b\b\b\b\b\b\b\b\b\b\b\b\b\b\b\b\b\b\b\b\b\b\b\b\b\b\b\b\b\b\b\b\b\b\b\r62/62 [==============================] - 0s 7ms/step - loss: 1.0807 - accuracy: 0.3973 - val_loss: 1.1052 - val_accuracy: 0.3216\n",
            "Epoch 35/60\n",
            "58/62 [===========================>..] - ETA: 0s - loss: 1.0785 - accuracy: 0.3987"
          ]
        },
        {
          "name": "stderr",
          "output_type": "stream",
          "text": [
            "WARNING:tensorflow:Can save best model only with val_acc available, skipping.\n"
          ]
        },
        {
          "name": "stdout",
          "output_type": "stream",
          "text": [
            "\b\b\b\b\b\b\b\b\b\b\b\b\b\b\b\b\b\b\b\b\b\b\b\b\b\b\b\b\b\b\b\b\b\b\b\b\b\b\b\b\b\b\b\b\b\b\b\b\b\b\b\b\b\b\b\b\b\b\b\b\b\b\b\b\b\b\b\b\b\b\b\b\b\b\b\b\b\b\b\b\b\b\r62/62 [==============================] - 0s 7ms/step - loss: 1.0793 - accuracy: 0.3973 - val_loss: 1.1010 - val_accuracy: 0.3216\n",
            "Epoch 36/60\n",
            "57/62 [==========================>...] - ETA: 0s - loss: 1.0823 - accuracy: 0.3947"
          ]
        },
        {
          "name": "stderr",
          "output_type": "stream",
          "text": [
            "WARNING:tensorflow:Can save best model only with val_acc available, skipping.\n"
          ]
        },
        {
          "name": "stdout",
          "output_type": "stream",
          "text": [
            "\b\b\b\b\b\b\b\b\b\b\b\b\b\b\b\b\b\b\b\b\b\b\b\b\b\b\b\b\b\b\b\b\b\b\b\b\b\b\b\b\b\b\b\b\b\b\b\b\b\b\b\b\b\b\b\b\b\b\b\b\b\b\b\b\b\b\b\b\b\b\b\b\b\b\b\b\b\b\b\b\b\b\r62/62 [==============================] - 0s 7ms/step - loss: 1.0803 - accuracy: 0.3984 - val_loss: 1.1015 - val_accuracy: 0.3216\n",
            "Epoch 37/60\n",
            "55/62 [=========================>....] - ETA: 0s - loss: 1.0815 - accuracy: 0.3898"
          ]
        },
        {
          "name": "stderr",
          "output_type": "stream",
          "text": [
            "WARNING:tensorflow:Can save best model only with val_acc available, skipping.\n"
          ]
        },
        {
          "name": "stdout",
          "output_type": "stream",
          "text": [
            "\b\b\b\b\b\b\b\b\b\b\b\b\b\b\b\b\b\b\b\b\b\b\b\b\b\b\b\b\b\b\b\b\b\b\b\b\b\b\b\b\b\b\b\b\b\b\b\b\b\b\b\b\b\b\b\b\b\b\b\b\b\b\b\b\b\b\b\b\b\b\b\b\b\b\b\b\b\b\b\b\b\b\r62/62 [==============================] - 0s 7ms/step - loss: 1.0787 - accuracy: 0.3984 - val_loss: 1.1026 - val_accuracy: 0.3216\n",
            "Epoch 38/60\n",
            "62/62 [==============================] - ETA: 0s - loss: 1.0798 - accuracy: 0.3994"
          ]
        },
        {
          "name": "stderr",
          "output_type": "stream",
          "text": [
            "WARNING:tensorflow:Can save best model only with val_acc available, skipping.\n"
          ]
        },
        {
          "name": "stdout",
          "output_type": "stream",
          "text": [
            "\b\b\b\b\b\b\b\b\b\b\b\b\b\b\b\b\b\b\b\b\b\b\b\b\b\b\b\b\b\b\b\b\b\b\b\b\b\b\b\b\b\b\b\b\b\b\b\b\b\b\b\b\b\b\b\b\b\b\b\b\b\b\b\b\b\b\b\b\b\b\b\b\b\b\b\b\b\b\b\b\b\b\r62/62 [==============================] - 0s 7ms/step - loss: 1.0798 - accuracy: 0.3994 - val_loss: 1.1038 - val_accuracy: 0.3216\n",
            "Epoch 39/60\n",
            "57/62 [==========================>...] - ETA: 0s - loss: 1.0786 - accuracy: 0.4035"
          ]
        },
        {
          "name": "stderr",
          "output_type": "stream",
          "text": [
            "WARNING:tensorflow:Can save best model only with val_acc available, skipping.\n"
          ]
        },
        {
          "name": "stdout",
          "output_type": "stream",
          "text": [
            "\b\b\b\b\b\b\b\b\b\b\b\b\b\b\b\b\b\b\b\b\b\b\b\b\b\b\b\b\b\b\b\b\b\b\b\b\b\b\b\b\b\b\b\b\b\b\b\b\b\b\b\b\b\b\b\b\b\b\b\b\b\b\b\b\b\b\b\b\b\b\b\b\b\b\b\b\b\b\b\b\b\b\r62/62 [==============================] - 0s 7ms/step - loss: 1.0811 - accuracy: 0.3994 - val_loss: 1.1029 - val_accuracy: 0.3216\n",
            "Epoch 40/60\n",
            "58/62 [===========================>..] - ETA: 0s - loss: 1.0830 - accuracy: 0.3933"
          ]
        },
        {
          "name": "stderr",
          "output_type": "stream",
          "text": [
            "WARNING:tensorflow:Can save best model only with val_acc available, skipping.\n"
          ]
        },
        {
          "name": "stdout",
          "output_type": "stream",
          "text": [
            "\b\b\b\b\b\b\b\b\b\b\b\b\b\b\b\b\b\b\b\b\b\b\b\b\b\b\b\b\b\b\b\b\b\b\b\b\b\b\b\b\b\b\b\b\b\b\b\b\b\b\b\b\b\b\b\b\b\b\b\b\b\b\b\b\b\b\b\b\b\b\b\b\b\b\b\b\b\b\b\b\b\b\r62/62 [==============================] - 0s 6ms/step - loss: 1.0822 - accuracy: 0.3973 - val_loss: 1.1047 - val_accuracy: 0.3216\n",
            "Epoch 41/60\n",
            "59/62 [===========================>..] - ETA: 0s - loss: 1.0819 - accuracy: 0.3962"
          ]
        },
        {
          "name": "stderr",
          "output_type": "stream",
          "text": [
            "WARNING:tensorflow:Can save best model only with val_acc available, skipping.\n"
          ]
        },
        {
          "name": "stdout",
          "output_type": "stream",
          "text": [
            "\b\b\b\b\b\b\b\b\b\b\b\b\b\b\b\b\b\b\b\b\b\b\b\b\b\b\b\b\b\b\b\b\b\b\b\b\b\b\b\b\b\b\b\b\b\b\b\b\b\b\b\b\b\b\b\b\b\b\b\b\b\b\b\b\b\b\b\b\b\b\b\b\b\b\b\b\b\b\b\b\b\b\r62/62 [==============================] - 0s 6ms/step - loss: 1.0799 - accuracy: 0.3973 - val_loss: 1.0978 - val_accuracy: 0.3216\n",
            "Epoch 42/60\n",
            "58/62 [===========================>..] - ETA: 0s - loss: 1.0774 - accuracy: 0.3998"
          ]
        },
        {
          "name": "stderr",
          "output_type": "stream",
          "text": [
            "WARNING:tensorflow:Can save best model only with val_acc available, skipping.\n"
          ]
        },
        {
          "name": "stdout",
          "output_type": "stream",
          "text": [
            "\b\b\b\b\b\b\b\b\b\b\b\b\b\b\b\b\b\b\b\b\b\b\b\b\b\b\b\b\b\b\b\b\b\b\b\b\b\b\b\b\b\b\b\b\b\b\b\b\b\b\b\b\b\b\b\b\b\b\b\b\b\b\b\b\b\b\b\b\b\b\b\b\b\b\b\b\b\b\b\b\b\b\r62/62 [==============================] - 0s 6ms/step - loss: 1.0773 - accuracy: 0.3994 - val_loss: 1.1004 - val_accuracy: 0.3216\n",
            "Epoch 43/60\n",
            "59/62 [===========================>..] - ETA: 0s - loss: 1.0773 - accuracy: 0.4015"
          ]
        },
        {
          "name": "stderr",
          "output_type": "stream",
          "text": [
            "WARNING:tensorflow:Can save best model only with val_acc available, skipping.\n"
          ]
        },
        {
          "name": "stdout",
          "output_type": "stream",
          "text": [
            "\b\b\b\b\b\b\b\b\b\b\b\b\b\b\b\b\b\b\b\b\b\b\b\b\b\b\b\b\b\b\b\b\b\b\b\b\b\b\b\b\b\b\b\b\b\b\b\b\b\b\b\b\b\b\b\b\b\b\b\b\b\b\b\b\b\b\b\b\b\b\b\b\b\b\b\b\b\b\b\b\b\b\r62/62 [==============================] - 0s 5ms/step - loss: 1.0788 - accuracy: 0.3984 - val_loss: 1.0976 - val_accuracy: 0.3216\n",
            "Epoch 44/60\n",
            "59/62 [===========================>..] - ETA: 0s - loss: 1.0780 - accuracy: 0.3994"
          ]
        },
        {
          "name": "stderr",
          "output_type": "stream",
          "text": [
            "WARNING:tensorflow:Can save best model only with val_acc available, skipping.\n"
          ]
        },
        {
          "name": "stdout",
          "output_type": "stream",
          "text": [
            "\b\b\b\b\b\b\b\b\b\b\b\b\b\b\b\b\b\b\b\b\b\b\b\b\b\b\b\b\b\b\b\b\b\b\b\b\b\b\b\b\b\b\b\b\b\b\b\b\b\b\b\b\b\b\b\b\b\b\b\b\b\b\b\b\b\b\b\b\b\b\b\b\b\b\b\b\b\b\b\b\b\b\r62/62 [==============================] - 0s 6ms/step - loss: 1.0773 - accuracy: 0.4004 - val_loss: 1.1028 - val_accuracy: 0.3216\n",
            "Epoch 45/60\n",
            "56/62 [==========================>...] - ETA: 0s - loss: 1.0793 - accuracy: 0.4018"
          ]
        },
        {
          "name": "stderr",
          "output_type": "stream",
          "text": [
            "WARNING:tensorflow:Can save best model only with val_acc available, skipping.\n"
          ]
        },
        {
          "name": "stdout",
          "output_type": "stream",
          "text": [
            "\b\b\b\b\b\b\b\b\b\b\b\b\b\b\b\b\b\b\b\b\b\b\b\b\b\b\b\b\b\b\b\b\b\b\b\b\b\b\b\b\b\b\b\b\b\b\b\b\b\b\b\b\b\b\b\b\b\b\b\b\b\b\b\b\b\b\b\b\b\b\b\b\b\b\b\b\b\b\b\b\b\b\r62/62 [==============================] - 0s 6ms/step - loss: 1.0800 - accuracy: 0.3984 - val_loss: 1.1072 - val_accuracy: 0.3216\n",
            "Epoch 46/60\n",
            "60/62 [============================>.] - ETA: 0s - loss: 1.0812 - accuracy: 0.3958"
          ]
        },
        {
          "name": "stderr",
          "output_type": "stream",
          "text": [
            "WARNING:tensorflow:Can save best model only with val_acc available, skipping.\n"
          ]
        },
        {
          "name": "stdout",
          "output_type": "stream",
          "text": [
            "\b\b\b\b\b\b\b\b\b\b\b\b\b\b\b\b\b\b\b\b\b\b\b\b\b\b\b\b\b\b\b\b\b\b\b\b\b\b\b\b\b\b\b\b\b\b\b\b\b\b\b\b\b\b\b\b\b\b\b\b\b\b\b\b\b\b\b\b\b\b\b\b\b\b\b\b\b\b\b\b\b\b\r62/62 [==============================] - 0s 6ms/step - loss: 1.0798 - accuracy: 0.3984 - val_loss: 1.1007 - val_accuracy: 0.3216\n",
            "Epoch 47/60\n",
            "57/62 [==========================>...] - ETA: 0s - loss: 1.0793 - accuracy: 0.3969"
          ]
        },
        {
          "name": "stderr",
          "output_type": "stream",
          "text": [
            "WARNING:tensorflow:Can save best model only with val_acc available, skipping.\n"
          ]
        },
        {
          "name": "stdout",
          "output_type": "stream",
          "text": [
            "\b\b\b\b\b\b\b\b\b\b\b\b\b\b\b\b\b\b\b\b\b\b\b\b\b\b\b\b\b\b\b\b\b\b\b\b\b\b\b\b\b\b\b\b\b\b\b\b\b\b\b\b\b\b\b\b\b\b\b\b\b\b\b\b\b\b\b\b\b\b\b\b\b\b\b\b\b\b\b\b\b\b\r62/62 [==============================] - 0s 6ms/step - loss: 1.0792 - accuracy: 0.3984 - val_loss: 1.1018 - val_accuracy: 0.3216\n",
            "Epoch 48/60\n",
            "55/62 [=========================>....] - ETA: 0s - loss: 1.0839 - accuracy: 0.4000"
          ]
        },
        {
          "name": "stderr",
          "output_type": "stream",
          "text": [
            "WARNING:tensorflow:Can save best model only with val_acc available, skipping.\n"
          ]
        },
        {
          "name": "stdout",
          "output_type": "stream",
          "text": [
            "\b\b\b\b\b\b\b\b\b\b\b\b\b\b\b\b\b\b\b\b\b\b\b\b\b\b\b\b\b\b\b\b\b\b\b\b\b\b\b\b\b\b\b\b\b\b\b\b\b\b\b\b\b\b\b\b\b\b\b\b\b\b\b\b\b\b\b\b\b\b\b\b\b\b\b\b\b\b\b\b\b\b\r62/62 [==============================] - 0s 6ms/step - loss: 1.0815 - accuracy: 0.3984 - val_loss: 1.1045 - val_accuracy: 0.3216\n",
            "Epoch 49/60\n",
            "60/62 [============================>.] - ETA: 0s - loss: 1.0803 - accuracy: 0.4000"
          ]
        },
        {
          "name": "stderr",
          "output_type": "stream",
          "text": [
            "WARNING:tensorflow:Can save best model only with val_acc available, skipping.\n"
          ]
        },
        {
          "name": "stdout",
          "output_type": "stream",
          "text": [
            "\b\b\b\b\b\b\b\b\b\b\b\b\b\b\b\b\b\b\b\b\b\b\b\b\b\b\b\b\b\b\b\b\b\b\b\b\b\b\b\b\b\b\b\b\b\b\b\b\b\b\b\b\b\b\b\b\b\b\b\b\b\b\b\b\b\b\b\b\b\b\b\b\b\b\b\b\b\b\b\b\b\b\r62/62 [==============================] - 0s 5ms/step - loss: 1.0804 - accuracy: 0.3984 - val_loss: 1.1011 - val_accuracy: 0.3216\n",
            "Epoch 50/60\n",
            "58/62 [===========================>..] - ETA: 0s - loss: 1.0851 - accuracy: 0.3922"
          ]
        },
        {
          "name": "stderr",
          "output_type": "stream",
          "text": [
            "WARNING:tensorflow:Can save best model only with val_acc available, skipping.\n"
          ]
        },
        {
          "name": "stdout",
          "output_type": "stream",
          "text": [
            "\b\b\b\b\b\b\b\b\b\b\b\b\b\b\b\b\b\b\b\b\b\b\b\b\b\b\b\b\b\b\b\b\b\b\b\b\b\b\b\b\b\b\b\b\b\b\b\b\b\b\b\b\b\b\b\b\b\b\b\b\b\b\b\b\b\b\b\b\b\b\b\b\b\b\b\b\b\b\b\b\b\b\r62/62 [==============================] - 0s 6ms/step - loss: 1.0840 - accuracy: 0.3963 - val_loss: 1.1000 - val_accuracy: 0.3216\n",
            "Epoch 51/60\n",
            "55/62 [=========================>....] - ETA: 0s - loss: 1.0830 - accuracy: 0.3932"
          ]
        },
        {
          "name": "stderr",
          "output_type": "stream",
          "text": [
            "WARNING:tensorflow:Can save best model only with val_acc available, skipping.\n"
          ]
        },
        {
          "name": "stdout",
          "output_type": "stream",
          "text": [
            "\b\b\b\b\b\b\b\b\b\b\b\b\b\b\b\b\b\b\b\b\b\b\b\b\b\b\b\b\b\b\b\b\b\b\b\b\b\b\b\b\b\b\b\b\b\b\b\b\b\b\b\b\b\b\b\b\b\b\b\b\b\b\b\b\b\b\b\b\b\b\b\b\b\b\b\b\b\b\b\b\b\b\r62/62 [==============================] - 0s 6ms/step - loss: 1.0807 - accuracy: 0.3973 - val_loss: 1.1042 - val_accuracy: 0.3216\n",
            "Epoch 52/60\n",
            "61/62 [============================>.] - ETA: 0s - loss: 1.0775 - accuracy: 0.3996"
          ]
        },
        {
          "name": "stderr",
          "output_type": "stream",
          "text": [
            "WARNING:tensorflow:Can save best model only with val_acc available, skipping.\n"
          ]
        },
        {
          "name": "stdout",
          "output_type": "stream",
          "text": [
            "\b\b\b\b\b\b\b\b\b\b\b\b\b\b\b\b\b\b\b\b\b\b\b\b\b\b\b\b\b\b\b\b\b\b\b\b\b\b\b\b\b\b\b\b\b\b\b\b\b\b\b\b\b\b\b\b\b\b\b\b\b\b\b\b\b\b\b\b\b\b\b\b\b\b\b\b\b\b\b\b\b\b\r62/62 [==============================] - 0s 5ms/step - loss: 1.0776 - accuracy: 0.3994 - val_loss: 1.1015 - val_accuracy: 0.3216\n",
            "Epoch 53/60\n",
            "57/62 [==========================>...] - ETA: 0s - loss: 1.0756 - accuracy: 0.4057"
          ]
        },
        {
          "name": "stderr",
          "output_type": "stream",
          "text": [
            "WARNING:tensorflow:Can save best model only with val_acc available, skipping.\n"
          ]
        },
        {
          "name": "stdout",
          "output_type": "stream",
          "text": [
            "\b\b\b\b\b\b\b\b\b\b\b\b\b\b\b\b\b\b\b\b\b\b\b\b\b\b\b\b\b\b\b\b\b\b\b\b\b\b\b\b\b\b\b\b\b\b\b\b\b\b\b\b\b\b\b\b\b\b\b\b\b\b\b\b\b\b\b\b\b\b\b\b\b\b\b\b\b\b\b\b\b\b\r62/62 [==============================] - 0s 6ms/step - loss: 1.0768 - accuracy: 0.4004 - val_loss: 1.1010 - val_accuracy: 0.3216\n",
            "Epoch 54/60\n",
            "60/62 [============================>.] - ETA: 0s - loss: 1.0859 - accuracy: 0.3979"
          ]
        },
        {
          "name": "stderr",
          "output_type": "stream",
          "text": [
            "WARNING:tensorflow:Can save best model only with val_acc available, skipping.\n"
          ]
        },
        {
          "name": "stdout",
          "output_type": "stream",
          "text": [
            "\b\b\b\b\b\b\b\b\b\b\b\b\b\b\b\b\b\b\b\b\b\b\b\b\b\b\b\b\b\b\b\b\b\b\b\b\b\b\b\b\b\b\b\b\b\b\b\b\b\b\b\b\b\b\b\b\b\b\b\b\b\b\b\b\b\b\b\b\b\b\b\b\b\b\b\b\b\b\b\b\b\b\r62/62 [==============================] - 0s 6ms/step - loss: 1.0864 - accuracy: 0.3963 - val_loss: 1.1052 - val_accuracy: 0.3216\n",
            "Epoch 55/60\n",
            "59/62 [===========================>..] - ETA: 0s - loss: 1.0750 - accuracy: 0.4015"
          ]
        },
        {
          "name": "stderr",
          "output_type": "stream",
          "text": [
            "WARNING:tensorflow:Can save best model only with val_acc available, skipping.\n"
          ]
        },
        {
          "name": "stdout",
          "output_type": "stream",
          "text": [
            "\b\b\b\b\b\b\b\b\b\b\b\b\b\b\b\b\b\b\b\b\b\b\b\b\b\b\b\b\b\b\b\b\b\b\b\b\b\b\b\b\b\b\b\b\b\b\b\b\b\b\b\b\b\b\b\b\b\b\b\b\b\b\b\b\b\b\b\b\b\b\b\b\b\b\b\b\b\b\b\b\b\b\r62/62 [==============================] - 0s 5ms/step - loss: 1.0763 - accuracy: 0.4004 - val_loss: 1.0995 - val_accuracy: 0.3216\n",
            "Epoch 56/60\n",
            "59/62 [===========================>..] - ETA: 0s - loss: 1.0812 - accuracy: 0.4004"
          ]
        },
        {
          "name": "stderr",
          "output_type": "stream",
          "text": [
            "WARNING:tensorflow:Can save best model only with val_acc available, skipping.\n"
          ]
        },
        {
          "name": "stdout",
          "output_type": "stream",
          "text": [
            "\b\b\b\b\b\b\b\b\b\b\b\b\b\b\b\b\b\b\b\b\b\b\b\b\b\b\b\b\b\b\b\b\b\b\b\b\b\b\b\b\b\b\b\b\b\b\b\b\b\b\b\b\b\b\b\b\b\b\b\b\b\b\b\b\b\b\b\b\b\b\b\b\b\b\b\b\b\b\b\b\b\b\r62/62 [==============================] - 0s 6ms/step - loss: 1.0824 - accuracy: 0.3973 - val_loss: 1.1080 - val_accuracy: 0.3216\n",
            "Epoch 57/60\n",
            "60/62 [============================>.] - ETA: 0s - loss: 1.0829 - accuracy: 0.3990"
          ]
        },
        {
          "name": "stderr",
          "output_type": "stream",
          "text": [
            "WARNING:tensorflow:Can save best model only with val_acc available, skipping.\n"
          ]
        },
        {
          "name": "stdout",
          "output_type": "stream",
          "text": [
            "\b\b\b\b\b\b\b\b\b\b\b\b\b\b\b\b\b\b\b\b\b\b\b\b\b\b\b\b\b\b\b\b\b\b\b\b\b\b\b\b\b\b\b\b\b\b\b\b\b\b\b\b\b\b\b\b\b\b\b\b\b\b\b\b\b\b\b\b\b\b\b\b\b\b\b\b\b\b\b\b\b\b\r62/62 [==============================] - 0s 6ms/step - loss: 1.0837 - accuracy: 0.3973 - val_loss: 1.1035 - val_accuracy: 0.3216\n",
            "Epoch 58/60\n",
            "61/62 [============================>.] - ETA: 0s - loss: 1.0769 - accuracy: 0.3986"
          ]
        },
        {
          "name": "stderr",
          "output_type": "stream",
          "text": [
            "WARNING:tensorflow:Can save best model only with val_acc available, skipping.\n"
          ]
        },
        {
          "name": "stdout",
          "output_type": "stream",
          "text": [
            "\b\b\b\b\b\b\b\b\b\b\b\b\b\b\b\b\b\b\b\b\b\b\b\b\b\b\b\b\b\b\b\b\b\b\b\b\b\b\b\b\b\b\b\b\b\b\b\b\b\b\b\b\b\b\b\b\b\b\b\b\b\b\b\b\b\b\b\b\b\b\b\b\b\b\b\b\b\b\b\b\b\b\r62/62 [==============================] - 0s 5ms/step - loss: 1.0768 - accuracy: 0.3994 - val_loss: 1.1022 - val_accuracy: 0.3216\n",
            "Epoch 59/60\n",
            "57/62 [==========================>...] - ETA: 0s - loss: 1.0797 - accuracy: 0.3925"
          ]
        },
        {
          "name": "stderr",
          "output_type": "stream",
          "text": [
            "WARNING:tensorflow:Can save best model only with val_acc available, skipping.\n"
          ]
        },
        {
          "name": "stdout",
          "output_type": "stream",
          "text": [
            "\b\b\b\b\b\b\b\b\b\b\b\b\b\b\b\b\b\b\b\b\b\b\b\b\b\b\b\b\b\b\b\b\b\b\b\b\b\b\b\b\b\b\b\b\b\b\b\b\b\b\b\b\b\b\b\b\b\b\b\b\b\b\b\b\b\b\b\b\b\b\b\b\b\b\b\b\b\b\b\b\b\b\r62/62 [==============================] - 0s 6ms/step - loss: 1.0800 - accuracy: 0.3984 - val_loss: 1.0978 - val_accuracy: 0.3216\n",
            "Epoch 60/60\n",
            "59/62 [===========================>..] - ETA: 0s - loss: 1.0773 - accuracy: 0.4036"
          ]
        },
        {
          "name": "stderr",
          "output_type": "stream",
          "text": [
            "WARNING:tensorflow:Can save best model only with val_acc available, skipping.\n"
          ]
        },
        {
          "name": "stdout",
          "output_type": "stream",
          "text": [
            "\b\b\b\b\b\b\b\b\b\b\b\b\b\b\b\b\b\b\b\b\b\b\b\b\b\b\b\b\b\b\b\b\b\b\b\b\b\b\b\b\b\b\b\b\b\b\b\b\b\b\b\b\b\b\b\b\b\b\b\b\b\b\b\b\b\b\b\b\b\b\b\b\b\b\b\b\b\b\b\b\b\b\r62/62 [==============================] - 0s 6ms/step - loss: 1.0793 - accuracy: 0.3994 - val_loss: 1.1031 - val_accuracy: 0.3216\n"
          ]
        }
      ],
      "source": [
        "d3a_model1,d3a_history1 = train_categorical_model(location)    # With regularization"
      ]
    },
    {
      "cell_type": "code",
      "execution_count": null,
      "metadata": {
        "colab": {
          "base_uri": "https://localhost:8080/",
          "height": 53
        },
        "id": "7u3L6YHM-dos",
        "outputId": "5ee8c09c-7b13-42d5-966b-0b7d591b2666"
      },
      "outputs": [
        {
          "data": {
            "application/vnd.google.colaboratory.intrinsic+json": {
              "type": "string"
            },
            "text/plain": [
              "\"\\nhist1={}\\n\\nhist1['loss']=d3a_history1['loss']\\nhist1['acc']=d3a_history1['accuracy']\\nhist1['val_loss']=d3a_history1['val_loss']\\nhist1['val_acc']=d3a_history1['val_accuracy']\\nprint(hist1)\\n\""
            ]
          },
          "execution_count": 35,
          "metadata": {},
          "output_type": "execute_result"
        }
      ],
      "source": [
        "\"\"\"\n",
        "hist1={}\n",
        "\n",
        "hist1['loss']=d3a_history1['loss']\n",
        "hist1['acc']=d3a_history1['accuracy']\n",
        "hist1['val_loss']=d3a_history1['val_loss']\n",
        "hist1['val_acc']=d3a_history1['val_accuracy']\n",
        "print(hist1)\n",
        "\"\"\""
      ]
    },
    {
      "cell_type": "code",
      "execution_count": null,
      "metadata": {
        "colab": {
          "base_uri": "https://localhost:8080/"
        },
        "id": "EVR7OQ_I82Jp",
        "outputId": "8ebbe02a-5957-4664-b6c0-8480aa3a2abd",
        "scrolled": true
      },
      "outputs": [
        {
          "name": "stderr",
          "output_type": "stream",
          "text": [
            "WARNING:absl:`lr` is deprecated in Keras optimizer, please use `learning_rate` or use the legacy optimizer, e.g.,tf.keras.optimizers.legacy.SGD.\n"
          ]
        },
        {
          "name": "stdout",
          "output_type": "stream",
          "text": [
            "(8, 8, 512)\n",
            "Epoch 1/60\n",
            "59/62 [===========================>..] - ETA: 0s - loss: 130.8811 - accuracy: 0.3835"
          ]
        },
        {
          "name": "stderr",
          "output_type": "stream",
          "text": [
            "WARNING:tensorflow:Can save best model only with val_acc available, skipping.\n"
          ]
        },
        {
          "name": "stdout",
          "output_type": "stream",
          "text": [
            "\b\b\b\b\b\b\b\b\b\b\b\b\b\b\b\b\b\b\b\b\b\b\b\b\b\b\b\b\b\b\b\b\b\b\b\b\b\b\b\b\b\b\b\b\b\b\b\b\b\b\b\b\b\b\b\b\b\b\b\b\b\b\b\b\b\b\b\b\b\b\b\b\b\b\b\b\b\b\b\b\b\b\b\b\r62/62 [==============================] - 1s 9ms/step - loss: 126.2403 - accuracy: 0.3871 - val_loss: 17.8706 - val_accuracy: 0.3216\n",
            "Epoch 2/60\n",
            "57/62 [==========================>...] - ETA: 0s - loss: 1978.1073 - accuracy: 0.3849"
          ]
        },
        {
          "name": "stderr",
          "output_type": "stream",
          "text": [
            "WARNING:tensorflow:Can save best model only with val_acc available, skipping.\n"
          ]
        },
        {
          "name": "stdout",
          "output_type": "stream",
          "text": [
            "\b\b\b\b\b\b\b\b\b\b\b\b\b\b\b\b\b\b\b\b\b\b\b\b\b\b\b\b\b\b\b\b\b\b\b\b\b\b\b\b\b\b\b\b\b\b\b\b\b\b\b\b\b\b\b\b\b\b\b\b\b\b\b\b\b\b\b\b\b\b\b\b\b\b\b\b\b\b\b\b\b\b\b\b\b\r62/62 [==============================] - 0s 6ms/step - loss: 1914.4797 - accuracy: 0.3892 - val_loss: 1.1033 - val_accuracy: 0.3216\n",
            "Epoch 3/60\n",
            "59/62 [===========================>..] - ETA: 0s - loss: 342.8570 - accuracy: 0.3909"
          ]
        },
        {
          "name": "stderr",
          "output_type": "stream",
          "text": [
            "WARNING:tensorflow:Can save best model only with val_acc available, skipping.\n"
          ]
        },
        {
          "name": "stdout",
          "output_type": "stream",
          "text": [
            "\b\b\b\b\b\b\b\b\b\b\b\b\b\b\b\b\b\b\b\b\b\b\b\b\b\b\b\b\b\b\b\b\b\b\b\b\b\b\b\b\b\b\b\b\b\b\b\b\b\b\b\b\b\b\b\b\b\b\b\b\b\b\b\b\b\b\b\b\b\b\b\b\b\b\b\b\b\b\b\b\b\b\b\b\r62/62 [==============================] - 0s 6ms/step - loss: 330.6367 - accuracy: 0.3973 - val_loss: 1.1021 - val_accuracy: 0.3216\n",
            "Epoch 4/60\n",
            "59/62 [===========================>..] - ETA: 0s - loss: 42.7539 - accuracy: 0.4036"
          ]
        },
        {
          "name": "stderr",
          "output_type": "stream",
          "text": [
            "WARNING:tensorflow:Can save best model only with val_acc available, skipping.\n"
          ]
        },
        {
          "name": "stdout",
          "output_type": "stream",
          "text": [
            "\b\b\b\b\b\b\b\b\b\b\b\b\b\b\b\b\b\b\b\b\b\b\b\b\b\b\b\b\b\b\b\b\b\b\b\b\b\b\b\b\b\b\b\b\b\b\b\b\b\b\b\b\b\b\b\b\b\b\b\b\b\b\b\b\b\b\b\b\b\b\b\b\b\b\b\b\b\b\b\b\b\b\b\r62/62 [==============================] - 0s 6ms/step - loss: 41.2651 - accuracy: 0.4004 - val_loss: 1.1031 - val_accuracy: 0.3216\n",
            "Epoch 5/60\n",
            "59/62 [===========================>..] - ETA: 0s - loss: 3333.1497 - accuracy: 0.3941"
          ]
        },
        {
          "name": "stderr",
          "output_type": "stream",
          "text": [
            "WARNING:tensorflow:Can save best model only with val_acc available, skipping.\n"
          ]
        },
        {
          "name": "stdout",
          "output_type": "stream",
          "text": [
            "\b\b\b\b\b\b\b\b\b\b\b\b\b\b\b\b\b\b\b\b\b\b\b\b\b\b\b\b\b\b\b\b\b\b\b\b\b\b\b\b\b\b\b\b\b\b\b\b\b\b\b\b\b\b\b\b\b\b\b\b\b\b\b\b\b\b\b\b\b\b\b\b\b\b\b\b\b\b\b\b\b\b\b\b\b\r62/62 [==============================] - 0s 6ms/step - loss: 3214.0259 - accuracy: 0.3953 - val_loss: 1.1004 - val_accuracy: 0.3216\n",
            "Epoch 6/60\n",
            "59/62 [===========================>..] - ETA: 0s - loss: 50.8382 - accuracy: 0.4004"
          ]
        },
        {
          "name": "stderr",
          "output_type": "stream",
          "text": [
            "WARNING:tensorflow:Can save best model only with val_acc available, skipping.\n"
          ]
        },
        {
          "name": "stdout",
          "output_type": "stream",
          "text": [
            "\b\b\b\b\b\b\b\b\b\b\b\b\b\b\b\b\b\b\b\b\b\b\b\b\b\b\b\b\b\b\b\b\b\b\b\b\b\b\b\b\b\b\b\b\b\b\b\b\b\b\b\b\b\b\b\b\b\b\b\b\b\b\b\b\b\b\b\b\b\b\b\b\b\b\b\b\b\b\b\b\b\b\b\r62/62 [==============================] - 0s 6ms/step - loss: 49.0597 - accuracy: 0.3984 - val_loss: 1.1020 - val_accuracy: 0.3216\n",
            "Epoch 7/60\n",
            "55/62 [=========================>....] - ETA: 0s - loss: 174.5479 - accuracy: 0.3920"
          ]
        },
        {
          "name": "stderr",
          "output_type": "stream",
          "text": [
            "WARNING:tensorflow:Can save best model only with val_acc available, skipping.\n"
          ]
        },
        {
          "name": "stdout",
          "output_type": "stream",
          "text": [
            "\b\b\b\b\b\b\b\b\b\b\b\b\b\b\b\b\b\b\b\b\b\b\b\b\b\b\b\b\b\b\b\b\b\b\b\b\b\b\b\b\b\b\b\b\b\b\b\b\b\b\b\b\b\b\b\b\b\b\b\b\b\b\b\b\b\b\b\b\b\b\b\b\b\b\b\b\b\b\b\b\b\b\b\b\r62/62 [==============================] - 0s 6ms/step - loss: 157.0069 - accuracy: 0.3943 - val_loss: 1.1045 - val_accuracy: 0.3216\n",
            "Epoch 8/60\n",
            "58/62 [===========================>..] - ETA: 0s - loss: 1.0803 - accuracy: 0.3987"
          ]
        },
        {
          "name": "stderr",
          "output_type": "stream",
          "text": [
            "WARNING:tensorflow:Can save best model only with val_acc available, skipping.\n"
          ]
        },
        {
          "name": "stdout",
          "output_type": "stream",
          "text": [
            "\b\b\b\b\b\b\b\b\b\b\b\b\b\b\b\b\b\b\b\b\b\b\b\b\b\b\b\b\b\b\b\b\b\b\b\b\b\b\b\b\b\b\b\b\b\b\b\b\b\b\b\b\b\b\b\b\b\b\b\b\b\b\b\b\b\b\b\b\b\b\b\b\b\b\b\b\b\b\b\b\b\b\r62/62 [==============================] - 0s 6ms/step - loss: 1.0811 - accuracy: 0.3973 - val_loss: 1.1039 - val_accuracy: 0.3216\n",
            "Epoch 9/60\n",
            "60/62 [============================>.] - ETA: 0s - loss: 1934.0042 - accuracy: 0.3969"
          ]
        },
        {
          "name": "stderr",
          "output_type": "stream",
          "text": [
            "WARNING:tensorflow:Can save best model only with val_acc available, skipping.\n"
          ]
        },
        {
          "name": "stdout",
          "output_type": "stream",
          "text": [
            "\b\b\b\b\b\b\b\b\b\b\b\b\b\b\b\b\b\b\b\b\b\b\b\b\b\b\b\b\b\b\b\b\b\b\b\b\b\b\b\b\b\b\b\b\b\b\b\b\b\b\b\b\b\b\b\b\b\b\b\b\b\b\b\b\b\b\b\b\b\b\b\b\b\b\b\b\b\b\b\b\b\b\b\b\b\r62/62 [==============================] - 0s 6ms/step - loss: 1896.4906 - accuracy: 0.3994 - val_loss: 1.1033 - val_accuracy: 0.3216\n",
            "Epoch 10/60\n",
            "57/62 [==========================>...] - ETA: 0s - loss: 266301.5938 - accuracy: 0.4002"
          ]
        },
        {
          "name": "stderr",
          "output_type": "stream",
          "text": [
            "WARNING:tensorflow:Can save best model only with val_acc available, skipping.\n"
          ]
        },
        {
          "name": "stdout",
          "output_type": "stream",
          "text": [
            "\b\b\b\b\b\b\b\b\b\b\b\b\b\b\b\b\b\b\b\b\b\b\b\b\b\b\b\b\b\b\b\b\b\b\b\b\b\b\b\b\b\b\b\b\b\b\b\b\b\b\b\b\b\b\b\b\b\b\b\b\b\b\b\b\b\b\b\b\b\b\b\b\b\b\b\b\b\b\b\b\b\b\b\b\b\b\b\r62/62 [==============================] - 0s 6ms/step - loss: 248076.7188 - accuracy: 0.3953 - val_loss: 1.1022 - val_accuracy: 0.3216\n",
            "Epoch 11/60\n",
            "57/62 [==========================>...] - ETA: 0s - loss: 1.1939 - accuracy: 0.3958"
          ]
        },
        {
          "name": "stderr",
          "output_type": "stream",
          "text": [
            "WARNING:tensorflow:Can save best model only with val_acc available, skipping.\n"
          ]
        },
        {
          "name": "stdout",
          "output_type": "stream",
          "text": [
            "\b\b\b\b\b\b\b\b\b\b\b\b\b\b\b\b\b\b\b\b\b\b\b\b\b\b\b\b\b\b\b\b\b\b\b\b\b\b\b\b\b\b\b\b\b\b\b\b\b\b\b\b\b\b\b\b\b\b\b\b\b\b\b\b\b\b\b\b\b\b\b\b\b\b\b\b\b\b\b\b\b\b\r62/62 [==============================] - 0s 6ms/step - loss: 1.1864 - accuracy: 0.3963 - val_loss: 1.1026 - val_accuracy: 0.3216\n",
            "Epoch 12/60\n",
            "56/62 [==========================>...] - ETA: 0s - loss: 1.0845 - accuracy: 0.3895"
          ]
        },
        {
          "name": "stderr",
          "output_type": "stream",
          "text": [
            "WARNING:tensorflow:Can save best model only with val_acc available, skipping.\n"
          ]
        },
        {
          "name": "stdout",
          "output_type": "stream",
          "text": [
            "\b\b\b\b\b\b\b\b\b\b\b\b\b\b\b\b\b\b\b\b\b\b\b\b\b\b\b\b\b\b\b\b\b\b\b\b\b\b\b\b\b\b\b\b\b\b\b\b\b\b\b\b\b\b\b\b\b\b\b\b\b\b\b\b\b\b\b\b\b\b\b\b\b\b\b\b\b\b\b\b\b\b\r62/62 [==============================] - 0s 6ms/step - loss: 1.0835 - accuracy: 0.3973 - val_loss: 1.1010 - val_accuracy: 0.3216\n",
            "Epoch 13/60\n",
            "59/62 [===========================>..] - ETA: 0s - loss: 1.0862 - accuracy: 0.3972"
          ]
        },
        {
          "name": "stderr",
          "output_type": "stream",
          "text": [
            "WARNING:tensorflow:Can save best model only with val_acc available, skipping.\n"
          ]
        },
        {
          "name": "stdout",
          "output_type": "stream",
          "text": [
            "\b\b\b\b\b\b\b\b\b\b\b\b\b\b\b\b\b\b\b\b\b\b\b\b\b\b\b\b\b\b\b\b\b\b\b\b\b\b\b\b\b\b\b\b\b\b\b\b\b\b\b\b\b\b\b\b\b\b\b\b\b\b\b\b\b\b\b\b\b\b\b\b\b\b\b\b\b\b\b\b\b\b\r62/62 [==============================] - 0s 6ms/step - loss: 1.0867 - accuracy: 0.3963 - val_loss: 1.1004 - val_accuracy: 0.3216\n",
            "Epoch 14/60\n",
            "53/62 [========================>.....] - ETA: 0s - loss: 1.0833 - accuracy: 0.3986"
          ]
        },
        {
          "name": "stderr",
          "output_type": "stream",
          "text": [
            "WARNING:tensorflow:Can save best model only with val_acc available, skipping.\n"
          ]
        },
        {
          "name": "stdout",
          "output_type": "stream",
          "text": [
            "\b\b\b\b\b\b\b\b\b\b\b\b\b\b\b\b\b\b\b\b\b\b\b\b\b\b\b\b\b\b\b\b\b\b\b\b\b\b\b\b\b\b\b\b\b\b\b\b\b\b\b\b\b\b\b\b\b\b\b\b\b\b\b\b\b\b\b\b\b\b\b\b\b\b\b\b\b\b\b\b\b\b\r62/62 [==============================] - 0s 6ms/step - loss: 1.0831 - accuracy: 0.3973 - val_loss: 1.1052 - val_accuracy: 0.3216\n",
            "Epoch 15/60\n",
            "59/62 [===========================>..] - ETA: 0s - loss: 1.0878 - accuracy: 0.3930"
          ]
        },
        {
          "name": "stderr",
          "output_type": "stream",
          "text": [
            "WARNING:tensorflow:Can save best model only with val_acc available, skipping.\n"
          ]
        },
        {
          "name": "stdout",
          "output_type": "stream",
          "text": [
            "\b\b\b\b\b\b\b\b\b\b\b\b\b\b\b\b\b\b\b\b\b\b\b\b\b\b\b\b\b\b\b\b\b\b\b\b\b\b\b\b\b\b\b\b\b\b\b\b\b\b\b\b\b\b\b\b\b\b\b\b\b\b\b\b\b\b\b\b\b\b\b\b\b\b\b\b\b\b\b\b\b\b\r62/62 [==============================] - 0s 6ms/step - loss: 1.0865 - accuracy: 0.3953 - val_loss: 1.1009 - val_accuracy: 0.3216\n",
            "Epoch 16/60\n",
            "58/62 [===========================>..] - ETA: 0s - loss: 1.0795 - accuracy: 0.4019"
          ]
        },
        {
          "name": "stderr",
          "output_type": "stream",
          "text": [
            "WARNING:tensorflow:Can save best model only with val_acc available, skipping.\n"
          ]
        },
        {
          "name": "stdout",
          "output_type": "stream",
          "text": [
            "\b\b\b\b\b\b\b\b\b\b\b\b\b\b\b\b\b\b\b\b\b\b\b\b\b\b\b\b\b\b\b\b\b\b\b\b\b\b\b\b\b\b\b\b\b\b\b\b\b\b\b\b\b\b\b\b\b\b\b\b\b\b\b\b\b\b\b\b\b\b\b\b\b\b\b\b\b\b\b\b\b\b\r62/62 [==============================] - 0s 6ms/step - loss: 1.0808 - accuracy: 0.3984 - val_loss: 1.1044 - val_accuracy: 0.3216\n",
            "Epoch 17/60\n",
            "58/62 [===========================>..] - ETA: 0s - loss: 1.0791 - accuracy: 0.4009"
          ]
        },
        {
          "name": "stderr",
          "output_type": "stream",
          "text": [
            "WARNING:tensorflow:Can save best model only with val_acc available, skipping.\n"
          ]
        },
        {
          "name": "stdout",
          "output_type": "stream",
          "text": [
            "\b\b\b\b\b\b\b\b\b\b\b\b\b\b\b\b\b\b\b\b\b\b\b\b\b\b\b\b\b\b\b\b\b\b\b\b\b\b\b\b\b\b\b\b\b\b\b\b\b\b\b\b\b\b\b\b\b\b\b\b\b\b\b\b\b\b\b\b\b\b\b\b\b\b\b\b\b\b\b\b\b\b\r62/62 [==============================] - 0s 6ms/step - loss: 1.0806 - accuracy: 0.3984 - val_loss: 1.0998 - val_accuracy: 0.3216\n",
            "Epoch 18/60\n",
            "55/62 [=========================>....] - ETA: 0s - loss: 1.0835 - accuracy: 0.3989"
          ]
        },
        {
          "name": "stderr",
          "output_type": "stream",
          "text": [
            "WARNING:tensorflow:Can save best model only with val_acc available, skipping.\n"
          ]
        },
        {
          "name": "stdout",
          "output_type": "stream",
          "text": [
            "\b\b\b\b\b\b\b\b\b\b\b\b\b\b\b\b\b\b\b\b\b\b\b\b\b\b\b\b\b\b\b\b\b\b\b\b\b\b\b\b\b\b\b\b\b\b\b\b\b\b\b\b\b\b\b\b\b\b\b\b\b\b\b\b\b\b\b\b\b\b\b\b\b\b\b\b\b\b\b\b\b\b\r62/62 [==============================] - 0s 6ms/step - loss: 1.0834 - accuracy: 0.3963 - val_loss: 1.1040 - val_accuracy: 0.3216\n",
            "Epoch 19/60\n",
            "58/62 [===========================>..] - ETA: 0s - loss: 1.0801 - accuracy: 0.3944"
          ]
        },
        {
          "name": "stderr",
          "output_type": "stream",
          "text": [
            "WARNING:tensorflow:Can save best model only with val_acc available, skipping.\n"
          ]
        },
        {
          "name": "stdout",
          "output_type": "stream",
          "text": [
            "\b\b\b\b\b\b\b\b\b\b\b\b\b\b\b\b\b\b\b\b\b\b\b\b\b\b\b\b\b\b\b\b\b\b\b\b\b\b\b\b\b\b\b\b\b\b\b\b\b\b\b\b\b\b\b\b\b\b\b\b\b\b\b\b\b\b\b\b\b\b\b\b\b\b\b\b\b\b\b\b\b\b\r62/62 [==============================] - 0s 6ms/step - loss: 1.0799 - accuracy: 0.3984 - val_loss: 1.0997 - val_accuracy: 0.3216\n",
            "Epoch 20/60\n",
            "57/62 [==========================>...] - ETA: 0s - loss: 1.0846 - accuracy: 0.3958"
          ]
        },
        {
          "name": "stderr",
          "output_type": "stream",
          "text": [
            "WARNING:tensorflow:Can save best model only with val_acc available, skipping.\n"
          ]
        },
        {
          "name": "stdout",
          "output_type": "stream",
          "text": [
            "\b\b\b\b\b\b\b\b\b\b\b\b\b\b\b\b\b\b\b\b\b\b\b\b\b\b\b\b\b\b\b\b\b\b\b\b\b\b\b\b\b\b\b\b\b\b\b\b\b\b\b\b\b\b\b\b\b\b\b\b\b\b\b\b\b\b\b\b\b\b\b\b\b\b\b\b\b\b\b\b\b\b\r62/62 [==============================] - 0s 6ms/step - loss: 1.0847 - accuracy: 0.3963 - val_loss: 1.1046 - val_accuracy: 0.3216\n",
            "Epoch 21/60\n",
            "54/62 [=========================>....] - ETA: 0s - loss: 1.0812 - accuracy: 0.4016"
          ]
        },
        {
          "name": "stderr",
          "output_type": "stream",
          "text": [
            "WARNING:tensorflow:Can save best model only with val_acc available, skipping.\n"
          ]
        },
        {
          "name": "stdout",
          "output_type": "stream",
          "text": [
            "\b\b\b\b\b\b\b\b\b\b\b\b\b\b\b\b\b\b\b\b\b\b\b\b\b\b\b\b\b\b\b\b\b\b\b\b\b\b\b\b\b\b\b\b\b\b\b\b\b\b\b\b\b\b\b\b\b\b\b\b\b\b\b\b\b\b\b\b\b\b\b\b\b\b\b\b\b\b\b\b\b\b\r62/62 [==============================] - 0s 6ms/step - loss: 1.0822 - accuracy: 0.3963 - val_loss: 1.1034 - val_accuracy: 0.3216\n",
            "Epoch 22/60\n",
            "59/62 [===========================>..] - ETA: 0s - loss: 1.0791 - accuracy: 0.3994"
          ]
        },
        {
          "name": "stderr",
          "output_type": "stream",
          "text": [
            "WARNING:tensorflow:Can save best model only with val_acc available, skipping.\n"
          ]
        },
        {
          "name": "stdout",
          "output_type": "stream",
          "text": [
            "\b\b\b\b\b\b\b\b\b\b\b\b\b\b\b\b\b\b\b\b\b\b\b\b\b\b\b\b\b\b\b\b\b\b\b\b\b\b\b\b\b\b\b\b\b\b\b\b\b\b\b\b\b\b\b\b\b\b\b\b\b\b\b\b\b\b\b\b\b\b\b\b\b\b\b\b\b\b\b\b\b\b\r62/62 [==============================] - 0s 5ms/step - loss: 1.0787 - accuracy: 0.3984 - val_loss: 1.1071 - val_accuracy: 0.3216\n",
            "Epoch 23/60\n",
            "57/62 [==========================>...] - ETA: 0s - loss: 1.0832 - accuracy: 0.3991"
          ]
        },
        {
          "name": "stderr",
          "output_type": "stream",
          "text": [
            "WARNING:tensorflow:Can save best model only with val_acc available, skipping.\n"
          ]
        },
        {
          "name": "stdout",
          "output_type": "stream",
          "text": [
            "\b\b\b\b\b\b\b\b\b\b\b\b\b\b\b\b\b\b\b\b\b\b\b\b\b\b\b\b\b\b\b\b\b\b\b\b\b\b\b\b\b\b\b\b\b\b\b\b\b\b\b\b\b\b\b\b\b\b\b\b\b\b\b\b\b\b\b\b\b\b\b\b\b\b\b\b\b\b\b\b\b\b\r62/62 [==============================] - 0s 6ms/step - loss: 1.0831 - accuracy: 0.3973 - val_loss: 1.1048 - val_accuracy: 0.3216\n",
            "Epoch 24/60\n",
            "58/62 [===========================>..] - ETA: 0s - loss: 1.0800 - accuracy: 0.3998"
          ]
        },
        {
          "name": "stderr",
          "output_type": "stream",
          "text": [
            "WARNING:tensorflow:Can save best model only with val_acc available, skipping.\n"
          ]
        },
        {
          "name": "stdout",
          "output_type": "stream",
          "text": [
            "\b\b\b\b\b\b\b\b\b\b\b\b\b\b\b\b\b\b\b\b\b\b\b\b\b\b\b\b\b\b\b\b\b\b\b\b\b\b\b\b\b\b\b\b\b\b\b\b\b\b\b\b\b\b\b\b\b\b\b\b\b\b\b\b\b\b\b\b\b\b\b\b\b\b\b\b\b\b\b\b\b\b\r62/62 [==============================] - 0s 6ms/step - loss: 1.0815 - accuracy: 0.3973 - val_loss: 1.1058 - val_accuracy: 0.3216\n",
            "Epoch 25/60\n",
            "55/62 [=========================>....] - ETA: 0s - loss: 1.0822 - accuracy: 0.3943"
          ]
        },
        {
          "name": "stderr",
          "output_type": "stream",
          "text": [
            "WARNING:tensorflow:Can save best model only with val_acc available, skipping.\n"
          ]
        },
        {
          "name": "stdout",
          "output_type": "stream",
          "text": [
            "\b\b\b\b\b\b\b\b\b\b\b\b\b\b\b\b\b\b\b\b\b\b\b\b\b\b\b\b\b\b\b\b\b\b\b\b\b\b\b\b\b\b\b\b\b\b\b\b\b\b\b\b\b\b\b\b\b\b\b\b\b\b\b\b\b\b\b\b\b\b\b\b\b\b\b\b\b\b\b\b\b\b\r62/62 [==============================] - 0s 6ms/step - loss: 1.0824 - accuracy: 0.3973 - val_loss: 1.1005 - val_accuracy: 0.3216\n",
            "Epoch 26/60\n",
            "57/62 [==========================>...] - ETA: 0s - loss: 1.0830 - accuracy: 0.3991"
          ]
        },
        {
          "name": "stderr",
          "output_type": "stream",
          "text": [
            "WARNING:tensorflow:Can save best model only with val_acc available, skipping.\n"
          ]
        },
        {
          "name": "stdout",
          "output_type": "stream",
          "text": [
            "\b\b\b\b\b\b\b\b\b\b\b\b\b\b\b\b\b\b\b\b\b\b\b\b\b\b\b\b\b\b\b\b\b\b\b\b\b\b\b\b\b\b\b\b\b\b\b\b\b\b\b\b\b\b\b\b\b\b\b\b\b\b\b\b\b\b\b\b\b\b\b\b\b\b\b\b\b\b\b\b\b\b\r62/62 [==============================] - 0s 7ms/step - loss: 1.0834 - accuracy: 0.3973 - val_loss: 1.0985 - val_accuracy: 0.3216\n",
            "Epoch 27/60\n",
            "61/62 [============================>.] - ETA: 0s - loss: 1.0820 - accuracy: 0.3996"
          ]
        },
        {
          "name": "stderr",
          "output_type": "stream",
          "text": [
            "WARNING:tensorflow:Can save best model only with val_acc available, skipping.\n"
          ]
        },
        {
          "name": "stdout",
          "output_type": "stream",
          "text": [
            "\b\b\b\b\b\b\b\b\b\b\b\b\b\b\b\b\b\b\b\b\b\b\b\b\b\b\b\b\b\b\b\b\b\b\b\b\b\b\b\b\b\b\b\b\b\b\b\b\b\b\b\b\b\b\b\b\b\b\b\b\b\b\b\b\b\b\b\b\b\b\b\b\b\b\b\b\b\b\b\b\b\b\r62/62 [==============================] - 0s 7ms/step - loss: 1.0822 - accuracy: 0.3994 - val_loss: 1.1024 - val_accuracy: 0.3216\n",
            "Epoch 28/60\n",
            "59/62 [===========================>..] - ETA: 0s - loss: 1.0840 - accuracy: 0.3951"
          ]
        },
        {
          "name": "stderr",
          "output_type": "stream",
          "text": [
            "WARNING:tensorflow:Can save best model only with val_acc available, skipping.\n"
          ]
        },
        {
          "name": "stdout",
          "output_type": "stream",
          "text": [
            "\b\b\b\b\b\b\b\b\b\b\b\b\b\b\b\b\b\b\b\b\b\b\b\b\b\b\b\b\b\b\b\b\b\b\b\b\b\b\b\b\b\b\b\b\b\b\b\b\b\b\b\b\b\b\b\b\b\b\b\b\b\b\b\b\b\b\b\b\b\b\b\b\b\b\b\b\b\b\b\b\b\b\r62/62 [==============================] - 0s 7ms/step - loss: 1.0840 - accuracy: 0.3973 - val_loss: 1.1016 - val_accuracy: 0.3216\n",
            "Epoch 29/60\n",
            "56/62 [==========================>...] - ETA: 0s - loss: 1.0782 - accuracy: 0.4007"
          ]
        },
        {
          "name": "stderr",
          "output_type": "stream",
          "text": [
            "WARNING:tensorflow:Can save best model only with val_acc available, skipping.\n"
          ]
        },
        {
          "name": "stdout",
          "output_type": "stream",
          "text": [
            "\b\b\b\b\b\b\b\b\b\b\b\b\b\b\b\b\b\b\b\b\b\b\b\b\b\b\b\b\b\b\b\b\b\b\b\b\b\b\b\b\b\b\b\b\b\b\b\b\b\b\b\b\b\b\b\b\b\b\b\b\b\b\b\b\b\b\b\b\b\b\b\b\b\b\b\b\b\b\b\b\b\b\r62/62 [==============================] - 0s 7ms/step - loss: 1.0799 - accuracy: 0.3973 - val_loss: 1.1036 - val_accuracy: 0.3216\n",
            "Epoch 30/60\n",
            "59/62 [===========================>..] - ETA: 0s - loss: 1.0822 - accuracy: 0.3972"
          ]
        },
        {
          "name": "stderr",
          "output_type": "stream",
          "text": [
            "WARNING:tensorflow:Can save best model only with val_acc available, skipping.\n"
          ]
        },
        {
          "name": "stdout",
          "output_type": "stream",
          "text": [
            "\b\b\b\b\b\b\b\b\b\b\b\b\b\b\b\b\b\b\b\b\b\b\b\b\b\b\b\b\b\b\b\b\b\b\b\b\b\b\b\b\b\b\b\b\b\b\b\b\b\b\b\b\b\b\b\b\b\b\b\b\b\b\b\b\b\b\b\b\b\b\b\b\b\b\b\b\b\b\b\b\b\b\r62/62 [==============================] - 0s 7ms/step - loss: 1.0822 - accuracy: 0.3984 - val_loss: 1.1006 - val_accuracy: 0.3216\n",
            "Epoch 31/60\n",
            "55/62 [=========================>....] - ETA: 0s - loss: 1.0793 - accuracy: 0.3966"
          ]
        },
        {
          "name": "stderr",
          "output_type": "stream",
          "text": [
            "WARNING:tensorflow:Can save best model only with val_acc available, skipping.\n"
          ]
        },
        {
          "name": "stdout",
          "output_type": "stream",
          "text": [
            "\b\b\b\b\b\b\b\b\b\b\b\b\b\b\b\b\b\b\b\b\b\b\b\b\b\b\b\b\b\b\b\b\b\b\b\b\b\b\b\b\b\b\b\b\b\b\b\b\b\b\b\b\b\b\b\b\b\b\b\b\b\b\b\b\b\b\b\b\b\b\b\b\b\b\b\b\b\b\b\b\b\b\r62/62 [==============================] - 0s 7ms/step - loss: 1.0812 - accuracy: 0.3973 - val_loss: 1.1002 - val_accuracy: 0.3216\n",
            "Epoch 32/60\n",
            "60/62 [============================>.] - ETA: 0s - loss: 1.0834 - accuracy: 0.3990"
          ]
        },
        {
          "name": "stderr",
          "output_type": "stream",
          "text": [
            "WARNING:tensorflow:Can save best model only with val_acc available, skipping.\n"
          ]
        },
        {
          "name": "stdout",
          "output_type": "stream",
          "text": [
            "\b\b\b\b\b\b\b\b\b\b\b\b\b\b\b\b\b\b\b\b\b\b\b\b\b\b\b\b\b\b\b\b\b\b\b\b\b\b\b\b\b\b\b\b\b\b\b\b\b\b\b\b\b\b\b\b\b\b\b\b\b\b\b\b\b\b\b\b\b\b\b\b\b\b\b\b\b\b\b\b\b\b\r62/62 [==============================] - 0s 7ms/step - loss: 1.0840 - accuracy: 0.3973 - val_loss: 1.1008 - val_accuracy: 0.3216\n",
            "Epoch 33/60\n",
            "61/62 [============================>.] - ETA: 0s - loss: 1.0828 - accuracy: 0.3986"
          ]
        },
        {
          "name": "stderr",
          "output_type": "stream",
          "text": [
            "WARNING:tensorflow:Can save best model only with val_acc available, skipping.\n"
          ]
        },
        {
          "name": "stdout",
          "output_type": "stream",
          "text": [
            "\b\b\b\b\b\b\b\b\b\b\b\b\b\b\b\b\b\b\b\b\b\b\b\b\b\b\b\b\b\b\b\b\b\b\b\b\b\b\b\b\b\b\b\b\b\b\b\b\b\b\b\b\b\b\b\b\b\b\b\b\b\b\b\b\b\b\b\b\b\b\b\b\b\b\b\b\b\b\b\b\b\b\r62/62 [==============================] - 0s 7ms/step - loss: 1.0828 - accuracy: 0.3984 - val_loss: 1.1050 - val_accuracy: 0.3216\n",
            "Epoch 34/60\n",
            "54/62 [=========================>....] - ETA: 0s - loss: 1.0851 - accuracy: 0.3900"
          ]
        },
        {
          "name": "stderr",
          "output_type": "stream",
          "text": [
            "WARNING:tensorflow:Can save best model only with val_acc available, skipping.\n"
          ]
        },
        {
          "name": "stdout",
          "output_type": "stream",
          "text": [
            "\b\b\b\b\b\b\b\b\b\b\b\b\b\b\b\b\b\b\b\b\b\b\b\b\b\b\b\b\b\b\b\b\b\b\b\b\b\b\b\b\b\b\b\b\b\b\b\b\b\b\b\b\b\b\b\b\b\b\b\b\b\b\b\b\b\b\b\b\b\b\b\b\b\b\b\b\b\b\b\b\b\b\r62/62 [==============================] - 0s 7ms/step - loss: 1.0826 - accuracy: 0.3973 - val_loss: 1.1084 - val_accuracy: 0.3216\n",
            "Epoch 35/60\n",
            "53/62 [========================>.....] - ETA: 0s - loss: 1.0793 - accuracy: 0.4045"
          ]
        },
        {
          "name": "stderr",
          "output_type": "stream",
          "text": [
            "WARNING:tensorflow:Can save best model only with val_acc available, skipping.\n"
          ]
        },
        {
          "name": "stdout",
          "output_type": "stream",
          "text": [
            "\b\b\b\b\b\b\b\b\b\b\b\b\b\b\b\b\b\b\b\b\b\b\b\b\b\b\b\b\b\b\b\b\b\b\b\b\b\b\b\b\b\b\b\b\b\b\b\b\b\b\b\b\b\b\b\b\b\b\b\b\b\b\b\b\b\b\b\b\b\b\b\b\b\b\b\b\b\b\b\b\b\b\r62/62 [==============================] - 0s 6ms/step - loss: 1.0828 - accuracy: 0.3973 - val_loss: 1.1022 - val_accuracy: 0.3216\n",
            "Epoch 36/60\n",
            "56/62 [==========================>...] - ETA: 0s - loss: 1.0843 - accuracy: 0.3929"
          ]
        },
        {
          "name": "stderr",
          "output_type": "stream",
          "text": [
            "WARNING:tensorflow:Can save best model only with val_acc available, skipping.\n"
          ]
        },
        {
          "name": "stdout",
          "output_type": "stream",
          "text": [
            "\b\b\b\b\b\b\b\b\b\b\b\b\b\b\b\b\b\b\b\b\b\b\b\b\b\b\b\b\b\b\b\b\b\b\b\b\b\b\b\b\b\b\b\b\b\b\b\b\b\b\b\b\b\b\b\b\b\b\b\b\b\b\b\b\b\b\b\b\b\b\b\b\b\b\b\b\b\b\b\b\b\b\r62/62 [==============================] - 0s 6ms/step - loss: 1.0841 - accuracy: 0.3963 - val_loss: 1.1035 - val_accuracy: 0.3216\n",
            "Epoch 37/60\n",
            "58/62 [===========================>..] - ETA: 0s - loss: 1.0798 - accuracy: 0.3987"
          ]
        },
        {
          "name": "stderr",
          "output_type": "stream",
          "text": [
            "WARNING:tensorflow:Can save best model only with val_acc available, skipping.\n"
          ]
        },
        {
          "name": "stdout",
          "output_type": "stream",
          "text": [
            "\b\b\b\b\b\b\b\b\b\b\b\b\b\b\b\b\b\b\b\b\b\b\b\b\b\b\b\b\b\b\b\b\b\b\b\b\b\b\b\b\b\b\b\b\b\b\b\b\b\b\b\b\b\b\b\b\b\b\b\b\b\b\b\b\b\b\b\b\b\b\b\b\b\b\b\b\b\b\b\b\b\b\r62/62 [==============================] - 0s 6ms/step - loss: 1.0804 - accuracy: 0.3994 - val_loss: 1.1033 - val_accuracy: 0.3216\n",
            "Epoch 38/60\n",
            "58/62 [===========================>..] - ETA: 0s - loss: 1.0808 - accuracy: 0.3987"
          ]
        },
        {
          "name": "stderr",
          "output_type": "stream",
          "text": [
            "WARNING:tensorflow:Can save best model only with val_acc available, skipping.\n"
          ]
        },
        {
          "name": "stdout",
          "output_type": "stream",
          "text": [
            "\b\b\b\b\b\b\b\b\b\b\b\b\b\b\b\b\b\b\b\b\b\b\b\b\b\b\b\b\b\b\b\b\b\b\b\b\b\b\b\b\b\b\b\b\b\b\b\b\b\b\b\b\b\b\b\b\b\b\b\b\b\b\b\b\b\b\b\b\b\b\b\b\b\b\b\b\b\b\b\b\b\b\r62/62 [==============================] - 0s 6ms/step - loss: 1.0820 - accuracy: 0.3973 - val_loss: 1.1024 - val_accuracy: 0.3216\n",
            "Epoch 39/60\n",
            "58/62 [===========================>..] - ETA: 0s - loss: 1.0796 - accuracy: 0.4041"
          ]
        },
        {
          "name": "stderr",
          "output_type": "stream",
          "text": [
            "WARNING:tensorflow:Can save best model only with val_acc available, skipping.\n"
          ]
        },
        {
          "name": "stdout",
          "output_type": "stream",
          "text": [
            "\b\b\b\b\b\b\b\b\b\b\b\b\b\b\b\b\b\b\b\b\b\b\b\b\b\b\b\b\b\b\b\b\b\b\b\b\b\b\b\b\b\b\b\b\b\b\b\b\b\b\b\b\b\b\b\b\b\b\b\b\b\b\b\b\b\b\b\b\b\b\b\b\b\b\b\b\b\b\b\b\b\b\r62/62 [==============================] - 0s 5ms/step - loss: 1.0815 - accuracy: 0.3984 - val_loss: 1.1046 - val_accuracy: 0.3216\n",
            "Epoch 40/60\n",
            "58/62 [===========================>..] - ETA: 0s - loss: 1.0801 - accuracy: 0.3987"
          ]
        },
        {
          "name": "stderr",
          "output_type": "stream",
          "text": [
            "WARNING:tensorflow:Can save best model only with val_acc available, skipping.\n"
          ]
        },
        {
          "name": "stdout",
          "output_type": "stream",
          "text": [
            "\b\b\b\b\b\b\b\b\b\b\b\b\b\b\b\b\b\b\b\b\b\b\b\b\b\b\b\b\b\b\b\b\b\b\b\b\b\b\b\b\b\b\b\b\b\b\b\b\b\b\b\b\b\b\b\b\b\b\b\b\b\b\b\b\b\b\b\b\b\b\b\b\b\b\b\b\b\b\b\b\b\b\r62/62 [==============================] - 0s 6ms/step - loss: 1.0802 - accuracy: 0.3994 - val_loss: 1.1061 - val_accuracy: 0.3216\n",
            "Epoch 41/60\n",
            "59/62 [===========================>..] - ETA: 0s - loss: 1.0813 - accuracy: 0.3972"
          ]
        },
        {
          "name": "stderr",
          "output_type": "stream",
          "text": [
            "WARNING:tensorflow:Can save best model only with val_acc available, skipping.\n"
          ]
        },
        {
          "name": "stdout",
          "output_type": "stream",
          "text": [
            "\b\b\b\b\b\b\b\b\b\b\b\b\b\b\b\b\b\b\b\b\b\b\b\b\b\b\b\b\b\b\b\b\b\b\b\b\b\b\b\b\b\b\b\b\b\b\b\b\b\b\b\b\b\b\b\b\b\b\b\b\b\b\b\b\b\b\b\b\b\b\b\b\b\b\b\b\b\b\b\b\b\b\r62/62 [==============================] - 0s 6ms/step - loss: 1.0814 - accuracy: 0.3984 - val_loss: 1.1064 - val_accuracy: 0.3216\n",
            "Epoch 42/60\n",
            "58/62 [===========================>..] - ETA: 0s - loss: 1.0821 - accuracy: 0.3933"
          ]
        },
        {
          "name": "stderr",
          "output_type": "stream",
          "text": [
            "WARNING:tensorflow:Can save best model only with val_acc available, skipping.\n"
          ]
        },
        {
          "name": "stdout",
          "output_type": "stream",
          "text": [
            "\b\b\b\b\b\b\b\b\b\b\b\b\b\b\b\b\b\b\b\b\b\b\b\b\b\b\b\b\b\b\b\b\b\b\b\b\b\b\b\b\b\b\b\b\b\b\b\b\b\b\b\b\b\b\b\b\b\b\b\b\b\b\b\b\b\b\b\b\b\b\b\b\b\b\b\b\b\b\b\b\b\b\r62/62 [==============================] - 0s 5ms/step - loss: 1.0809 - accuracy: 0.3984 - val_loss: 1.1087 - val_accuracy: 0.3216\n",
            "Epoch 43/60\n",
            "58/62 [===========================>..] - ETA: 0s - loss: 1.0829 - accuracy: 0.4009"
          ]
        },
        {
          "name": "stderr",
          "output_type": "stream",
          "text": [
            "WARNING:tensorflow:Can save best model only with val_acc available, skipping.\n"
          ]
        },
        {
          "name": "stdout",
          "output_type": "stream",
          "text": [
            "\b\b\b\b\b\b\b\b\b\b\b\b\b\b\b\b\b\b\b\b\b\b\b\b\b\b\b\b\b\b\b\b\b\b\b\b\b\b\b\b\b\b\b\b\b\b\b\b\b\b\b\b\b\b\b\b\b\b\b\b\b\b\b\b\b\b\b\b\b\b\b\b\b\b\b\b\b\b\b\b\b\b\r62/62 [==============================] - 0s 6ms/step - loss: 1.0842 - accuracy: 0.3973 - val_loss: 1.1094 - val_accuracy: 0.3216\n",
            "Epoch 44/60\n",
            "59/62 [===========================>..] - ETA: 0s - loss: 1.0819 - accuracy: 0.3994"
          ]
        },
        {
          "name": "stderr",
          "output_type": "stream",
          "text": [
            "WARNING:tensorflow:Can save best model only with val_acc available, skipping.\n"
          ]
        },
        {
          "name": "stdout",
          "output_type": "stream",
          "text": [
            "\b\b\b\b\b\b\b\b\b\b\b\b\b\b\b\b\b\b\b\b\b\b\b\b\b\b\b\b\b\b\b\b\b\b\b\b\b\b\b\b\b\b\b\b\b\b\b\b\b\b\b\b\b\b\b\b\b\b\b\b\b\b\b\b\b\b\b\b\b\b\b\b\b\b\b\b\b\b\b\b\b\b\r62/62 [==============================] - 0s 6ms/step - loss: 1.0824 - accuracy: 0.3973 - val_loss: 1.1067 - val_accuracy: 0.3216\n",
            "Epoch 45/60\n",
            "58/62 [===========================>..] - ETA: 0s - loss: 1.0829 - accuracy: 0.3987"
          ]
        },
        {
          "name": "stderr",
          "output_type": "stream",
          "text": [
            "WARNING:tensorflow:Can save best model only with val_acc available, skipping.\n"
          ]
        },
        {
          "name": "stdout",
          "output_type": "stream",
          "text": [
            "\b\b\b\b\b\b\b\b\b\b\b\b\b\b\b\b\b\b\b\b\b\b\b\b\b\b\b\b\b\b\b\b\b\b\b\b\b\b\b\b\b\b\b\b\b\b\b\b\b\b\b\b\b\b\b\b\b\b\b\b\b\b\b\b\b\b\b\b\b\b\b\b\b\b\b\b\b\b\b\b\b\b\r62/62 [==============================] - 0s 6ms/step - loss: 1.0841 - accuracy: 0.3963 - val_loss: 1.1082 - val_accuracy: 0.3216\n",
            "Epoch 46/60\n",
            "58/62 [===========================>..] - ETA: 0s - loss: 1.0812 - accuracy: 0.4009"
          ]
        },
        {
          "name": "stderr",
          "output_type": "stream",
          "text": [
            "WARNING:tensorflow:Can save best model only with val_acc available, skipping.\n"
          ]
        },
        {
          "name": "stdout",
          "output_type": "stream",
          "text": [
            "\b\b\b\b\b\b\b\b\b\b\b\b\b\b\b\b\b\b\b\b\b\b\b\b\b\b\b\b\b\b\b\b\b\b\b\b\b\b\b\b\b\b\b\b\b\b\b\b\b\b\b\b\b\b\b\b\b\b\b\b\b\b\b\b\b\b\b\b\b\b\b\b\b\b\b\b\b\b\b\b\b\b\r62/62 [==============================] - 0s 6ms/step - loss: 1.0824 - accuracy: 0.3984 - val_loss: 1.1071 - val_accuracy: 0.3216\n",
            "Epoch 47/60\n",
            "57/62 [==========================>...] - ETA: 0s - loss: 1.0833 - accuracy: 0.4002"
          ]
        },
        {
          "name": "stderr",
          "output_type": "stream",
          "text": [
            "WARNING:tensorflow:Can save best model only with val_acc available, skipping.\n"
          ]
        },
        {
          "name": "stdout",
          "output_type": "stream",
          "text": [
            "\b\b\b\b\b\b\b\b\b\b\b\b\b\b\b\b\b\b\b\b\b\b\b\b\b\b\b\b\b\b\b\b\b\b\b\b\b\b\b\b\b\b\b\b\b\b\b\b\b\b\b\b\b\b\b\b\b\b\b\b\b\b\b\b\b\b\b\b\b\b\b\b\b\b\b\b\b\b\b\b\b\b\r62/62 [==============================] - 0s 6ms/step - loss: 1.0833 - accuracy: 0.3973 - val_loss: 1.1088 - val_accuracy: 0.3216\n",
            "Epoch 48/60\n",
            "57/62 [==========================>...] - ETA: 0s - loss: 1.0785 - accuracy: 0.4002"
          ]
        },
        {
          "name": "stderr",
          "output_type": "stream",
          "text": [
            "WARNING:tensorflow:Can save best model only with val_acc available, skipping.\n"
          ]
        },
        {
          "name": "stdout",
          "output_type": "stream",
          "text": [
            "\b\b\b\b\b\b\b\b\b\b\b\b\b\b\b\b\b\b\b\b\b\b\b\b\b\b\b\b\b\b\b\b\b\b\b\b\b\b\b\b\b\b\b\b\b\b\b\b\b\b\b\b\b\b\b\b\b\b\b\b\b\b\b\b\b\b\b\b\b\b\b\b\b\b\b\b\b\b\b\b\b\b\r62/62 [==============================] - 0s 6ms/step - loss: 1.0793 - accuracy: 0.3994 - val_loss: 1.1024 - val_accuracy: 0.3216\n",
            "Epoch 49/60\n",
            "58/62 [===========================>..] - ETA: 0s - loss: 1.0797 - accuracy: 0.4030"
          ]
        },
        {
          "name": "stderr",
          "output_type": "stream",
          "text": [
            "WARNING:tensorflow:Can save best model only with val_acc available, skipping.\n"
          ]
        },
        {
          "name": "stdout",
          "output_type": "stream",
          "text": [
            "\b\b\b\b\b\b\b\b\b\b\b\b\b\b\b\b\b\b\b\b\b\b\b\b\b\b\b\b\b\b\b\b\b\b\b\b\b\b\b\b\b\b\b\b\b\b\b\b\b\b\b\b\b\b\b\b\b\b\b\b\b\b\b\b\b\b\b\b\b\b\b\b\b\b\b\b\b\b\b\b\b\b\r62/62 [==============================] - 0s 6ms/step - loss: 1.0812 - accuracy: 0.3984 - val_loss: 1.1011 - val_accuracy: 0.3216\n",
            "Epoch 50/60\n",
            "58/62 [===========================>..] - ETA: 0s - loss: 1.0817 - accuracy: 0.3966"
          ]
        },
        {
          "name": "stderr",
          "output_type": "stream",
          "text": [
            "WARNING:tensorflow:Can save best model only with val_acc available, skipping.\n"
          ]
        },
        {
          "name": "stdout",
          "output_type": "stream",
          "text": [
            "\b\b\b\b\b\b\b\b\b\b\b\b\b\b\b\b\b\b\b\b\b\b\b\b\b\b\b\b\b\b\b\b\b\b\b\b\b\b\b\b\b\b\b\b\b\b\b\b\b\b\b\b\b\b\b\b\b\b\b\b\b\b\b\b\b\b\b\b\b\b\b\b\b\b\b\b\b\b\b\b\b\b\r62/62 [==============================] - 0s 6ms/step - loss: 1.0807 - accuracy: 0.3984 - val_loss: 1.1011 - val_accuracy: 0.3216\n",
            "Epoch 51/60\n",
            "60/62 [============================>.] - ETA: 0s - loss: 1.0826 - accuracy: 0.4000"
          ]
        },
        {
          "name": "stderr",
          "output_type": "stream",
          "text": [
            "WARNING:tensorflow:Can save best model only with val_acc available, skipping.\n"
          ]
        },
        {
          "name": "stdout",
          "output_type": "stream",
          "text": [
            "\b\b\b\b\b\b\b\b\b\b\b\b\b\b\b\b\b\b\b\b\b\b\b\b\b\b\b\b\b\b\b\b\b\b\b\b\b\b\b\b\b\b\b\b\b\b\b\b\b\b\b\b\b\b\b\b\b\b\b\b\b\b\b\b\b\b\b\b\b\b\b\b\b\b\b\b\b\b\b\b\b\b\r62/62 [==============================] - 0s 6ms/step - loss: 1.0834 - accuracy: 0.3963 - val_loss: 1.1008 - val_accuracy: 0.3216\n",
            "Epoch 52/60\n",
            "60/62 [============================>.] - ETA: 0s - loss: 1.0811 - accuracy: 0.3990"
          ]
        },
        {
          "name": "stderr",
          "output_type": "stream",
          "text": [
            "WARNING:tensorflow:Can save best model only with val_acc available, skipping.\n"
          ]
        },
        {
          "name": "stdout",
          "output_type": "stream",
          "text": [
            "\b\b\b\b\b\b\b\b\b\b\b\b\b\b\b\b\b\b\b\b\b\b\b\b\b\b\b\b\b\b\b\b\b\b\b\b\b\b\b\b\b\b\b\b\b\b\b\b\b\b\b\b\b\b\b\b\b\b\b\b\b\b\b\b\b\b\b\b\b\b\b\b\b\b\b\b\b\b\b\b\b\b\r62/62 [==============================] - 0s 6ms/step - loss: 1.0813 - accuracy: 0.3984 - val_loss: 1.1040 - val_accuracy: 0.3216\n",
            "Epoch 53/60\n",
            "58/62 [===========================>..] - ETA: 0s - loss: 1.0876 - accuracy: 0.3890"
          ]
        },
        {
          "name": "stderr",
          "output_type": "stream",
          "text": [
            "WARNING:tensorflow:Can save best model only with val_acc available, skipping.\n"
          ]
        },
        {
          "name": "stdout",
          "output_type": "stream",
          "text": [
            "\b\b\b\b\b\b\b\b\b\b\b\b\b\b\b\b\b\b\b\b\b\b\b\b\b\b\b\b\b\b\b\b\b\b\b\b\b\b\b\b\b\b\b\b\b\b\b\b\b\b\b\b\b\b\b\b\b\b\b\b\b\b\b\b\b\b\b\b\b\b\b\b\b\b\b\b\b\b\b\b\b\b\r62/62 [==============================] - 0s 6ms/step - loss: 1.0854 - accuracy: 0.3963 - val_loss: 1.1007 - val_accuracy: 0.3216\n",
            "Epoch 54/60\n",
            "56/62 [==========================>...] - ETA: 0s - loss: 1.0818 - accuracy: 0.3984"
          ]
        },
        {
          "name": "stderr",
          "output_type": "stream",
          "text": [
            "WARNING:tensorflow:Can save best model only with val_acc available, skipping.\n"
          ]
        },
        {
          "name": "stdout",
          "output_type": "stream",
          "text": [
            "\b\b\b\b\b\b\b\b\b\b\b\b\b\b\b\b\b\b\b\b\b\b\b\b\b\b\b\b\b\b\b\b\b\b\b\b\b\b\b\b\b\b\b\b\b\b\b\b\b\b\b\b\b\b\b\b\b\b\b\b\b\b\b\b\b\b\b\b\b\b\b\b\b\b\b\b\b\b\b\b\b\b\r62/62 [==============================] - 0s 6ms/step - loss: 1.0828 - accuracy: 0.3984 - val_loss: 1.1042 - val_accuracy: 0.3216\n",
            "Epoch 55/60\n",
            "59/62 [===========================>..] - ETA: 0s - loss: 1.0865 - accuracy: 0.3909"
          ]
        },
        {
          "name": "stderr",
          "output_type": "stream",
          "text": [
            "WARNING:tensorflow:Can save best model only with val_acc available, skipping.\n"
          ]
        },
        {
          "name": "stdout",
          "output_type": "stream",
          "text": [
            "\b\b\b\b\b\b\b\b\b\b\b\b\b\b\b\b\b\b\b\b\b\b\b\b\b\b\b\b\b\b\b\b\b\b\b\b\b\b\b\b\b\b\b\b\b\b\b\b\b\b\b\b\b\b\b\b\b\b\b\b\b\b\b\b\b\b\b\b\b\b\b\b\b\b\b\b\b\b\b\b\b\b\r62/62 [==============================] - 0s 5ms/step - loss: 1.0852 - accuracy: 0.3963 - val_loss: 1.1059 - val_accuracy: 0.3216\n",
            "Epoch 56/60\n",
            "58/62 [===========================>..] - ETA: 0s - loss: 1.0870 - accuracy: 0.3890"
          ]
        },
        {
          "name": "stderr",
          "output_type": "stream",
          "text": [
            "WARNING:tensorflow:Can save best model only with val_acc available, skipping.\n"
          ]
        },
        {
          "name": "stdout",
          "output_type": "stream",
          "text": [
            "\b\b\b\b\b\b\b\b\b\b\b\b\b\b\b\b\b\b\b\b\b\b\b\b\b\b\b\b\b\b\b\b\b\b\b\b\b\b\b\b\b\b\b\b\b\b\b\b\b\b\b\b\b\b\b\b\b\b\b\b\b\b\b\b\b\b\b\b\b\b\b\b\b\b\b\b\b\b\b\b\b\b\r62/62 [==============================] - 0s 6ms/step - loss: 1.0825 - accuracy: 0.3984 - val_loss: 1.1056 - val_accuracy: 0.3216\n",
            "Epoch 57/60\n",
            "56/62 [==========================>...] - ETA: 0s - loss: 1.0844 - accuracy: 0.3884"
          ]
        },
        {
          "name": "stderr",
          "output_type": "stream",
          "text": [
            "WARNING:tensorflow:Can save best model only with val_acc available, skipping.\n"
          ]
        },
        {
          "name": "stdout",
          "output_type": "stream",
          "text": [
            "\b\b\b\b\b\b\b\b\b\b\b\b\b\b\b\b\b\b\b\b\b\b\b\b\b\b\b\b\b\b\b\b\b\b\b\b\b\b\b\b\b\b\b\b\b\b\b\b\b\b\b\b\b\b\b\b\b\b\b\b\b\b\b\b\b\b\b\b\b\b\b\b\b\b\b\b\b\b\b\b\b\b\r62/62 [==============================] - 0s 6ms/step - loss: 1.0814 - accuracy: 0.3994 - val_loss: 1.1059 - val_accuracy: 0.3216\n",
            "Epoch 58/60\n",
            "59/62 [===========================>..] - ETA: 0s - loss: 1.0819 - accuracy: 0.3972"
          ]
        },
        {
          "name": "stderr",
          "output_type": "stream",
          "text": [
            "WARNING:tensorflow:Can save best model only with val_acc available, skipping.\n"
          ]
        },
        {
          "name": "stdout",
          "output_type": "stream",
          "text": [
            "\b\b\b\b\b\b\b\b\b\b\b\b\b\b\b\b\b\b\b\b\b\b\b\b\b\b\b\b\b\b\b\b\b\b\b\b\b\b\b\b\b\b\b\b\b\b\b\b\b\b\b\b\b\b\b\b\b\b\b\b\b\b\b\b\b\b\b\b\b\b\b\b\b\b\b\b\b\b\b\b\b\b\r62/62 [==============================] - 0s 6ms/step - loss: 1.0819 - accuracy: 0.3973 - val_loss: 1.1051 - val_accuracy: 0.3216\n",
            "Epoch 59/60\n",
            "60/62 [============================>.] - ETA: 0s - loss: 1.0827 - accuracy: 0.3938"
          ]
        },
        {
          "name": "stderr",
          "output_type": "stream",
          "text": [
            "WARNING:tensorflow:Can save best model only with val_acc available, skipping.\n"
          ]
        },
        {
          "name": "stdout",
          "output_type": "stream",
          "text": [
            "\b\b\b\b\b\b\b\b\b\b\b\b\b\b\b\b\b\b\b\b\b\b\b\b\b\b\b\b\b\b\b\b\b\b\b\b\b\b\b\b\b\b\b\b\b\b\b\b\b\b\b\b\b\b\b\b\b\b\b\b\b\b\b\b\b\b\b\b\b\b\b\b\b\b\b\b\b\b\b\b\b\b\r62/62 [==============================] - 0s 5ms/step - loss: 1.0818 - accuracy: 0.3973 - val_loss: 1.1048 - val_accuracy: 0.3216\n",
            "Epoch 60/60\n",
            "60/62 [============================>.] - ETA: 0s - loss: 1.0844 - accuracy: 0.3969"
          ]
        },
        {
          "name": "stderr",
          "output_type": "stream",
          "text": [
            "WARNING:tensorflow:Can save best model only with val_acc available, skipping.\n"
          ]
        },
        {
          "name": "stdout",
          "output_type": "stream",
          "text": [
            "\b\b\b\b\b\b\b\b\b\b\b\b\b\b\b\b\b\b\b\b\b\b\b\b\b\b\b\b\b\b\b\b\b\b\b\b\b\b\b\b\b\b\b\b\b\b\b\b\b\b\b\b\b\b\b\b\b\b\b\b\b\b\b\b\b\b\b\b\b\b\b\b\b\b\b\b\b\b\b\b\b\b\r62/62 [==============================] - 0s 6ms/step - loss: 1.0846 - accuracy: 0.3963 - val_loss: 1.1005 - val_accuracy: 0.3216\n"
          ]
        }
      ],
      "source": [
        "d3a_model2,d3a_history2 = train_categorical_model(location)      # Without regularization lr = 0.0001 epochs = 50"
      ]
    },
    {
      "cell_type": "code",
      "execution_count": null,
      "metadata": {
        "colab": {
          "base_uri": "https://localhost:8080/"
        },
        "id": "BG2sKbAc82Jp",
        "outputId": "aef017d9-0b22-439e-f6d3-3a29785ea5bb",
        "scrolled": true
      },
      "outputs": [
        {
          "name": "stderr",
          "output_type": "stream",
          "text": [
            "WARNING:absl:`lr` is deprecated in Keras optimizer, please use `learning_rate` or use the legacy optimizer, e.g.,tf.keras.optimizers.legacy.SGD.\n"
          ]
        },
        {
          "name": "stdout",
          "output_type": "stream",
          "text": [
            "(8, 8, 512)\n",
            "Epoch 1/60\n",
            "55/62 [=========================>....] - ETA: 0s - loss: 196.2945 - accuracy: 0.3648"
          ]
        },
        {
          "name": "stderr",
          "output_type": "stream",
          "text": [
            "WARNING:tensorflow:Can save best model only with val_acc available, skipping.\n"
          ]
        },
        {
          "name": "stdout",
          "output_type": "stream",
          "text": [
            "\b\b\b\b\b\b\b\b\b\b\b\b\b\b\b\b\b\b\b\b\b\b\b\b\b\b\b\b\b\b\b\b\b\b\b\b\b\b\b\b\b\b\b\b\b\b\b\b\b\b\b\b\b\b\b\b\b\b\b\b\b\b\b\b\b\b\b\b\b\b\b\b\b\b\b\b\b\b\b\b\b\b\b\b\r62/62 [==============================] - 1s 9ms/step - loss: 176.5553 - accuracy: 0.3677 - val_loss: 1.4168 - val_accuracy: 0.3216\n",
            "Epoch 2/60\n",
            "60/62 [============================>.] - ETA: 0s - loss: 2979.7517 - accuracy: 0.3906"
          ]
        },
        {
          "name": "stderr",
          "output_type": "stream",
          "text": [
            "WARNING:tensorflow:Can save best model only with val_acc available, skipping.\n"
          ]
        },
        {
          "name": "stdout",
          "output_type": "stream",
          "text": [
            "\b\b\b\b\b\b\b\b\b\b\b\b\b\b\b\b\b\b\b\b\b\b\b\b\b\b\b\b\b\b\b\b\b\b\b\b\b\b\b\b\b\b\b\b\b\b\b\b\b\b\b\b\b\b\b\b\b\b\b\b\b\b\b\b\b\b\b\b\b\b\b\b\b\b\b\b\b\b\b\b\b\b\b\b\b\r62/62 [==============================] - 0s 6ms/step - loss: 2921.9438 - accuracy: 0.3882 - val_loss: 3.0499 - val_accuracy: 0.3041\n",
            "Epoch 3/60\n",
            "59/62 [===========================>..] - ETA: 0s - loss: 720.2397 - accuracy: 0.3962"
          ]
        },
        {
          "name": "stderr",
          "output_type": "stream",
          "text": [
            "WARNING:tensorflow:Can save best model only with val_acc available, skipping.\n"
          ]
        },
        {
          "name": "stdout",
          "output_type": "stream",
          "text": [
            "\b\b\b\b\b\b\b\b\b\b\b\b\b\b\b\b\b\b\b\b\b\b\b\b\b\b\b\b\b\b\b\b\b\b\b\b\b\b\b\b\b\b\b\b\b\b\b\b\b\b\b\b\b\b\b\b\b\b\b\b\b\b\b\b\b\b\b\b\b\b\b\b\b\b\b\b\b\b\b\b\b\b\b\b\r62/62 [==============================] - 0s 6ms/step - loss: 694.5297 - accuracy: 0.3953 - val_loss: 1.1026 - val_accuracy: 0.3216\n",
            "Epoch 4/60\n",
            "55/62 [=========================>....] - ETA: 0s - loss: 69.2263 - accuracy: 0.4000"
          ]
        },
        {
          "name": "stderr",
          "output_type": "stream",
          "text": [
            "WARNING:tensorflow:Can save best model only with val_acc available, skipping.\n"
          ]
        },
        {
          "name": "stdout",
          "output_type": "stream",
          "text": [
            "\b\b\b\b\b\b\b\b\b\b\b\b\b\b\b\b\b\b\b\b\b\b\b\b\b\b\b\b\b\b\b\b\b\b\b\b\b\b\b\b\b\b\b\b\b\b\b\b\b\b\b\b\b\b\b\b\b\b\b\b\b\b\b\b\b\b\b\b\b\b\b\b\b\b\b\b\b\b\b\b\b\b\b\r62/62 [==============================] - 0s 6ms/step - loss: 62.3360 - accuracy: 0.4004 - val_loss: 1.1017 - val_accuracy: 0.3216\n",
            "Epoch 5/60\n",
            "56/62 [==========================>...] - ETA: 0s - loss: 529.9173 - accuracy: 0.4018"
          ]
        },
        {
          "name": "stderr",
          "output_type": "stream",
          "text": [
            "WARNING:tensorflow:Can save best model only with val_acc available, skipping.\n"
          ]
        },
        {
          "name": "stdout",
          "output_type": "stream",
          "text": [
            "\b\b\b\b\b\b\b\b\b\b\b\b\b\b\b\b\b\b\b\b\b\b\b\b\b\b\b\b\b\b\b\b\b\b\b\b\b\b\b\b\b\b\b\b\b\b\b\b\b\b\b\b\b\b\b\b\b\b\b\b\b\b\b\b\b\b\b\b\b\b\b\b\b\b\b\b\b\b\b\b\b\b\b\b\r62/62 [==============================] - 1s 8ms/step - loss: 485.0838 - accuracy: 0.3984 - val_loss: 555.7237 - val_accuracy: 0.3216\n",
            "Epoch 6/60\n",
            "57/62 [==========================>...] - ETA: 0s - loss: 29.1205 - accuracy: 0.3925"
          ]
        },
        {
          "name": "stderr",
          "output_type": "stream",
          "text": [
            "WARNING:tensorflow:Can save best model only with val_acc available, skipping.\n"
          ]
        },
        {
          "name": "stdout",
          "output_type": "stream",
          "text": [
            "\b\b\b\b\b\b\b\b\b\b\b\b\b\b\b\b\b\b\b\b\b\b\b\b\b\b\b\b\b\b\b\b\b\b\b\b\b\b\b\b\b\b\b\b\b\b\b\b\b\b\b\b\b\b\b\b\b\b\b\b\b\b\b\b\b\b\b\b\b\b\b\b\b\b\b\b\b\b\b\b\b\b\b\r62/62 [==============================] - 1s 8ms/step - loss: 1493.4374 - accuracy: 0.3963 - val_loss: 1.1029 - val_accuracy: 0.3216\n",
            "Epoch 7/60\n",
            "59/62 [===========================>..] - ETA: 0s - loss: 1.0831 - accuracy: 0.4004"
          ]
        },
        {
          "name": "stderr",
          "output_type": "stream",
          "text": [
            "WARNING:tensorflow:Can save best model only with val_acc available, skipping.\n"
          ]
        },
        {
          "name": "stdout",
          "output_type": "stream",
          "text": [
            "\b\b\b\b\b\b\b\b\b\b\b\b\b\b\b\b\b\b\b\b\b\b\b\b\b\b\b\b\b\b\b\b\b\b\b\b\b\b\b\b\b\b\b\b\b\b\b\b\b\b\b\b\b\b\b\b\b\b\b\b\b\b\b\b\b\b\b\b\b\b\b\b\b\b\b\b\b\b\b\b\b\b\r62/62 [==============================] - 1s 8ms/step - loss: 1.0824 - accuracy: 0.4004 - val_loss: 1.1048 - val_accuracy: 0.3216\n",
            "Epoch 8/60\n",
            "52/62 [========================>.....] - ETA: 0s - loss: 1.7780 - accuracy: 0.4038"
          ]
        },
        {
          "name": "stderr",
          "output_type": "stream",
          "text": [
            "WARNING:tensorflow:Can save best model only with val_acc available, skipping.\n"
          ]
        },
        {
          "name": "stdout",
          "output_type": "stream",
          "text": [
            "\b\b\b\b\b\b\b\b\b\b\b\b\b\b\b\b\b\b\b\b\b\b\b\b\b\b\b\b\b\b\b\b\b\b\b\b\b\b\b\b\b\b\b\b\b\b\b\b\b\b\b\b\b\b\b\b\b\b\b\b\b\b\b\b\b\b\b\b\b\b\b\b\b\b\b\b\b\b\b\b\b\b\r62/62 [==============================] - 0s 6ms/step - loss: 1.6747 - accuracy: 0.4025 - val_loss: 1.1023 - val_accuracy: 0.3216\n",
            "Epoch 9/60\n",
            "58/62 [===========================>..] - ETA: 0s - loss: 69.1134 - accuracy: 0.3976"
          ]
        },
        {
          "name": "stderr",
          "output_type": "stream",
          "text": [
            "WARNING:tensorflow:Can save best model only with val_acc available, skipping.\n"
          ]
        },
        {
          "name": "stdout",
          "output_type": "stream",
          "text": [
            "\b\b\b\b\b\b\b\b\b\b\b\b\b\b\b\b\b\b\b\b\b\b\b\b\b\b\b\b\b\b\b\b\b\b\b\b\b\b\b\b\b\b\b\b\b\b\b\b\b\b\b\b\b\b\b\b\b\b\b\b\b\b\b\b\b\b\b\b\b\b\b\b\b\b\b\b\b\b\b\b\b\b\b\r62/62 [==============================] - 0s 6ms/step - loss: 65.5696 - accuracy: 0.3963 - val_loss: 1.1047 - val_accuracy: 0.3216\n",
            "Epoch 10/60\n",
            "54/62 [=========================>....] - ETA: 0s - loss: 1758.4503 - accuracy: 0.3970"
          ]
        },
        {
          "name": "stderr",
          "output_type": "stream",
          "text": [
            "WARNING:tensorflow:Can save best model only with val_acc available, skipping.\n"
          ]
        },
        {
          "name": "stdout",
          "output_type": "stream",
          "text": [
            "\b\b\b\b\b\b\b\b\b\b\b\b\b\b\b\b\b\b\b\b\b\b\b\b\b\b\b\b\b\b\b\b\b\b\b\b\b\b\b\b\b\b\b\b\b\b\b\b\b\b\b\b\b\b\b\b\b\b\b\b\b\b\b\b\b\b\b\b\b\b\b\b\b\b\b\b\b\b\b\b\b\b\b\b\b\r62/62 [==============================] - 0s 6ms/step - loss: 1552.0186 - accuracy: 0.3973 - val_loss: 1.1079 - val_accuracy: 0.3216\n",
            "Epoch 11/60\n",
            "53/62 [========================>.....] - ETA: 0s - loss: 1.0841 - accuracy: 0.3950"
          ]
        },
        {
          "name": "stderr",
          "output_type": "stream",
          "text": [
            "WARNING:tensorflow:Can save best model only with val_acc available, skipping.\n"
          ]
        },
        {
          "name": "stdout",
          "output_type": "stream",
          "text": [
            "\b\b\b\b\b\b\b\b\b\b\b\b\b\b\b\b\b\b\b\b\b\b\b\b\b\b\b\b\b\b\b\b\b\b\b\b\b\b\b\b\b\b\b\b\b\b\b\b\b\b\b\b\b\b\b\b\b\b\b\b\b\b\b\b\b\b\b\b\b\b\b\b\b\b\b\b\b\b\b\b\b\b\r62/62 [==============================] - 0s 6ms/step - loss: 1.0831 - accuracy: 0.3994 - val_loss: 1.1036 - val_accuracy: 0.3216\n",
            "Epoch 12/60\n",
            "54/62 [=========================>....] - ETA: 0s - loss: 3.2549 - accuracy: 0.3900"
          ]
        },
        {
          "name": "stderr",
          "output_type": "stream",
          "text": [
            "WARNING:tensorflow:Can save best model only with val_acc available, skipping.\n"
          ]
        },
        {
          "name": "stdout",
          "output_type": "stream",
          "text": [
            "\b\b\b\b\b\b\b\b\b\b\b\b\b\b\b\b\b\b\b\b\b\b\b\b\b\b\b\b\b\b\b\b\b\b\b\b\b\b\b\b\b\b\b\b\b\b\b\b\b\b\b\b\b\b\b\b\b\b\b\b\b\b\b\b\b\b\b\b\b\b\b\b\b\b\b\b\b\b\b\b\b\b\r62/62 [==============================] - 0s 6ms/step - loss: 2.9993 - accuracy: 0.3984 - val_loss: 1.1013 - val_accuracy: 0.3216\n",
            "Epoch 13/60\n",
            "56/62 [==========================>...] - ETA: 0s - loss: 1.0789 - accuracy: 0.4107"
          ]
        },
        {
          "name": "stderr",
          "output_type": "stream",
          "text": [
            "WARNING:tensorflow:Can save best model only with val_acc available, skipping.\n"
          ]
        },
        {
          "name": "stdout",
          "output_type": "stream",
          "text": [
            "\b\b\b\b\b\b\b\b\b\b\b\b\b\b\b\b\b\b\b\b\b\b\b\b\b\b\b\b\b\b\b\b\b\b\b\b\b\b\b\b\b\b\b\b\b\b\b\b\b\b\b\b\b\b\b\b\b\b\b\b\b\b\b\b\b\b\b\b\b\b\b\b\b\b\b\b\b\b\b\b\b\b\r62/62 [==============================] - 0s 6ms/step - loss: 1.0807 - accuracy: 0.4025 - val_loss: 1.1034 - val_accuracy: 0.3216\n",
            "Epoch 14/60\n",
            "58/62 [===========================>..] - ETA: 0s - loss: 1.0807 - accuracy: 0.4019"
          ]
        },
        {
          "name": "stderr",
          "output_type": "stream",
          "text": [
            "WARNING:tensorflow:Can save best model only with val_acc available, skipping.\n"
          ]
        },
        {
          "name": "stdout",
          "output_type": "stream",
          "text": [
            "\b\b\b\b\b\b\b\b\b\b\b\b\b\b\b\b\b\b\b\b\b\b\b\b\b\b\b\b\b\b\b\b\b\b\b\b\b\b\b\b\b\b\b\b\b\b\b\b\b\b\b\b\b\b\b\b\b\b\b\b\b\b\b\b\b\b\b\b\b\b\b\b\b\b\b\b\b\b\b\b\b\b\r62/62 [==============================] - 0s 6ms/step - loss: 1.0801 - accuracy: 0.4025 - val_loss: 1.1073 - val_accuracy: 0.3216\n",
            "Epoch 15/60\n",
            "58/62 [===========================>..] - ETA: 0s - loss: 1.0827 - accuracy: 0.3987"
          ]
        },
        {
          "name": "stderr",
          "output_type": "stream",
          "text": [
            "WARNING:tensorflow:Can save best model only with val_acc available, skipping.\n"
          ]
        },
        {
          "name": "stdout",
          "output_type": "stream",
          "text": [
            "\b\b\b\b\b\b\b\b\b\b\b\b\b\b\b\b\b\b\b\b\b\b\b\b\b\b\b\b\b\b\b\b\b\b\b\b\b\b\b\b\b\b\b\b\b\b\b\b\b\b\b\b\b\b\b\b\b\b\b\b\b\b\b\b\b\b\b\b\b\b\b\b\b\b\b\b\b\b\b\b\b\b\r62/62 [==============================] - 0s 6ms/step - loss: 1.0822 - accuracy: 0.4004 - val_loss: 1.1027 - val_accuracy: 0.3216\n",
            "Epoch 16/60\n",
            "60/62 [============================>.] - ETA: 0s - loss: 1.0824 - accuracy: 0.4021"
          ]
        },
        {
          "name": "stderr",
          "output_type": "stream",
          "text": [
            "WARNING:tensorflow:Can save best model only with val_acc available, skipping.\n"
          ]
        },
        {
          "name": "stdout",
          "output_type": "stream",
          "text": [
            "\b\b\b\b\b\b\b\b\b\b\b\b\b\b\b\b\b\b\b\b\b\b\b\b\b\b\b\b\b\b\b\b\b\b\b\b\b\b\b\b\b\b\b\b\b\b\b\b\b\b\b\b\b\b\b\b\b\b\b\b\b\b\b\b\b\b\b\b\b\b\b\b\b\b\b\b\b\b\b\b\b\b\r62/62 [==============================] - 0s 7ms/step - loss: 1.0825 - accuracy: 0.4004 - val_loss: 1.1053 - val_accuracy: 0.3216\n",
            "Epoch 17/60\n",
            "60/62 [============================>.] - ETA: 0s - loss: 1.0855 - accuracy: 0.3990"
          ]
        },
        {
          "name": "stderr",
          "output_type": "stream",
          "text": [
            "WARNING:tensorflow:Can save best model only with val_acc available, skipping.\n"
          ]
        },
        {
          "name": "stdout",
          "output_type": "stream",
          "text": [
            "\b\b\b\b\b\b\b\b\b\b\b\b\b\b\b\b\b\b\b\b\b\b\b\b\b\b\b\b\b\b\b\b\b\b\b\b\b\b\b\b\b\b\b\b\b\b\b\b\b\b\b\b\b\b\b\b\b\b\b\b\b\b\b\b\b\b\b\b\b\b\b\b\b\b\b\b\b\b\b\b\b\b\r62/62 [==============================] - 0s 6ms/step - loss: 1.0857 - accuracy: 0.3984 - val_loss: 1.1077 - val_accuracy: 0.3216\n",
            "Epoch 18/60\n",
            "61/62 [============================>.] - ETA: 0s - loss: 1.0829 - accuracy: 0.4006"
          ]
        },
        {
          "name": "stderr",
          "output_type": "stream",
          "text": [
            "WARNING:tensorflow:Can save best model only with val_acc available, skipping.\n"
          ]
        },
        {
          "name": "stdout",
          "output_type": "stream",
          "text": [
            "\b\b\b\b\b\b\b\b\b\b\b\b\b\b\b\b\b\b\b\b\b\b\b\b\b\b\b\b\b\b\b\b\b\b\b\b\b\b\b\b\b\b\b\b\b\b\b\b\b\b\b\b\b\b\b\b\b\b\b\b\b\b\b\b\b\b\b\b\b\b\b\b\b\b\b\b\b\b\b\b\b\b\r62/62 [==============================] - 0s 5ms/step - loss: 1.0830 - accuracy: 0.3994 - val_loss: 1.1030 - val_accuracy: 0.3216\n",
            "Epoch 19/60\n",
            "51/62 [=======================>......] - ETA: 0s - loss: 1.0766 - accuracy: 0.4093"
          ]
        },
        {
          "name": "stderr",
          "output_type": "stream",
          "text": [
            "WARNING:tensorflow:Can save best model only with val_acc available, skipping.\n"
          ]
        },
        {
          "name": "stdout",
          "output_type": "stream",
          "text": [
            "\b\b\b\b\b\b\b\b\b\b\b\b\b\b\b\b\b\b\b\b\b\b\b\b\b\b\b\b\b\b\b\b\b\b\b\b\b\b\b\b\b\b\b\b\b\b\b\b\b\b\b\b\b\b\b\b\b\b\b\b\b\b\b\b\b\b\b\b\b\b\b\b\b\b\b\b\b\b\b\b\b\b\r62/62 [==============================] - 0s 6ms/step - loss: 1.0818 - accuracy: 0.4014 - val_loss: 1.1025 - val_accuracy: 0.3216\n",
            "Epoch 20/60\n",
            "57/62 [==========================>...] - ETA: 0s - loss: 1.0807 - accuracy: 0.3925"
          ]
        },
        {
          "name": "stderr",
          "output_type": "stream",
          "text": [
            "WARNING:tensorflow:Can save best model only with val_acc available, skipping.\n"
          ]
        },
        {
          "name": "stdout",
          "output_type": "stream",
          "text": [
            "\b\b\b\b\b\b\b\b\b\b\b\b\b\b\b\b\b\b\b\b\b\b\b\b\b\b\b\b\b\b\b\b\b\b\b\b\b\b\b\b\b\b\b\b\b\b\b\b\b\b\b\b\b\b\b\b\b\b\b\b\b\b\b\b\b\b\b\b\b\b\b\b\b\b\b\b\b\b\b\b\b\b\r62/62 [==============================] - 0s 6ms/step - loss: 1.0780 - accuracy: 0.4045 - val_loss: 1.1059 - val_accuracy: 0.3216\n",
            "Epoch 21/60\n",
            "58/62 [===========================>..] - ETA: 0s - loss: 1.0833 - accuracy: 0.4019"
          ]
        },
        {
          "name": "stderr",
          "output_type": "stream",
          "text": [
            "WARNING:tensorflow:Can save best model only with val_acc available, skipping.\n"
          ]
        },
        {
          "name": "stdout",
          "output_type": "stream",
          "text": [
            "\b\b\b\b\b\b\b\b\b\b\b\b\b\b\b\b\b\b\b\b\b\b\b\b\b\b\b\b\b\b\b\b\b\b\b\b\b\b\b\b\b\b\b\b\b\b\b\b\b\b\b\b\b\b\b\b\b\b\b\b\b\b\b\b\b\b\b\b\b\b\b\b\b\b\b\b\b\b\b\b\b\b\r62/62 [==============================] - 0s 6ms/step - loss: 1.0835 - accuracy: 0.3994 - val_loss: 1.1078 - val_accuracy: 0.3216\n",
            "Epoch 22/60\n",
            "56/62 [==========================>...] - ETA: 0s - loss: 1.0790 - accuracy: 0.3996"
          ]
        },
        {
          "name": "stderr",
          "output_type": "stream",
          "text": [
            "WARNING:tensorflow:Can save best model only with val_acc available, skipping.\n"
          ]
        },
        {
          "name": "stdout",
          "output_type": "stream",
          "text": [
            "\b\b\b\b\b\b\b\b\b\b\b\b\b\b\b\b\b\b\b\b\b\b\b\b\b\b\b\b\b\b\b\b\b\b\b\b\b\b\b\b\b\b\b\b\b\b\b\b\b\b\b\b\b\b\b\b\b\b\b\b\b\b\b\b\b\b\b\b\b\b\b\b\b\b\b\b\b\b\b\b\b\b\r62/62 [==============================] - 0s 7ms/step - loss: 1.0785 - accuracy: 0.4035 - val_loss: 1.1040 - val_accuracy: 0.3216\n",
            "Epoch 23/60\n",
            "54/62 [=========================>....] - ETA: 0s - loss: 1.0858 - accuracy: 0.3993"
          ]
        },
        {
          "name": "stderr",
          "output_type": "stream",
          "text": [
            "WARNING:tensorflow:Can save best model only with val_acc available, skipping.\n"
          ]
        },
        {
          "name": "stdout",
          "output_type": "stream",
          "text": [
            "\b\b\b\b\b\b\b\b\b\b\b\b\b\b\b\b\b\b\b\b\b\b\b\b\b\b\b\b\b\b\b\b\b\b\b\b\b\b\b\b\b\b\b\b\b\b\b\b\b\b\b\b\b\b\b\b\b\b\b\b\b\b\b\b\b\b\b\b\b\b\b\b\b\b\b\b\b\b\b\b\b\b\r62/62 [==============================] - 0s 7ms/step - loss: 1.0840 - accuracy: 0.3994 - val_loss: 1.1016 - val_accuracy: 0.3216\n",
            "Epoch 24/60\n",
            "58/62 [===========================>..] - ETA: 0s - loss: 1.0817 - accuracy: 0.3955"
          ]
        },
        {
          "name": "stderr",
          "output_type": "stream",
          "text": [
            "WARNING:tensorflow:Can save best model only with val_acc available, skipping.\n"
          ]
        },
        {
          "name": "stdout",
          "output_type": "stream",
          "text": [
            "\b\b\b\b\b\b\b\b\b\b\b\b\b\b\b\b\b\b\b\b\b\b\b\b\b\b\b\b\b\b\b\b\b\b\b\b\b\b\b\b\b\b\b\b\b\b\b\b\b\b\b\b\b\b\b\b\b\b\b\b\b\b\b\b\b\b\b\b\b\b\b\b\b\b\b\b\b\b\b\b\b\b\r62/62 [==============================] - 0s 7ms/step - loss: 1.0795 - accuracy: 0.4025 - val_loss: 1.1048 - val_accuracy: 0.3216\n",
            "Epoch 25/60\n",
            "59/62 [===========================>..] - ETA: 0s - loss: 1.0845 - accuracy: 0.3994"
          ]
        },
        {
          "name": "stderr",
          "output_type": "stream",
          "text": [
            "WARNING:tensorflow:Can save best model only with val_acc available, skipping.\n"
          ]
        },
        {
          "name": "stdout",
          "output_type": "stream",
          "text": [
            "\b\b\b\b\b\b\b\b\b\b\b\b\b\b\b\b\b\b\b\b\b\b\b\b\b\b\b\b\b\b\b\b\b\b\b\b\b\b\b\b\b\b\b\b\b\b\b\b\b\b\b\b\b\b\b\b\b\b\b\b\b\b\b\b\b\b\b\b\b\b\b\b\b\b\b\b\b\b\b\b\b\b\r62/62 [==============================] - 0s 7ms/step - loss: 1.0856 - accuracy: 0.3984 - val_loss: 1.1028 - val_accuracy: 0.3216\n",
            "Epoch 26/60\n",
            "60/62 [============================>.] - ETA: 0s - loss: 1.0844 - accuracy: 0.3969"
          ]
        },
        {
          "name": "stderr",
          "output_type": "stream",
          "text": [
            "WARNING:tensorflow:Can save best model only with val_acc available, skipping.\n"
          ]
        },
        {
          "name": "stdout",
          "output_type": "stream",
          "text": [
            "\b\b\b\b\b\b\b\b\b\b\b\b\b\b\b\b\b\b\b\b\b\b\b\b\b\b\b\b\b\b\b\b\b\b\b\b\b\b\b\b\b\b\b\b\b\b\b\b\b\b\b\b\b\b\b\b\b\b\b\b\b\b\b\b\b\b\b\b\b\b\b\b\b\b\b\b\b\b\b\b\b\b\r62/62 [==============================] - 0s 7ms/step - loss: 1.0839 - accuracy: 0.3994 - val_loss: 1.1045 - val_accuracy: 0.3216\n",
            "Epoch 27/60\n",
            "54/62 [=========================>....] - ETA: 0s - loss: 1.0863 - accuracy: 0.3993"
          ]
        },
        {
          "name": "stderr",
          "output_type": "stream",
          "text": [
            "WARNING:tensorflow:Can save best model only with val_acc available, skipping.\n"
          ]
        },
        {
          "name": "stdout",
          "output_type": "stream",
          "text": [
            "\b\b\b\b\b\b\b\b\b\b\b\b\b\b\b\b\b\b\b\b\b\b\b\b\b\b\b\b\b\b\b\b\b\b\b\b\b\b\b\b\b\b\b\b\b\b\b\b\b\b\b\b\b\b\b\b\b\b\b\b\b\b\b\b\b\b\b\b\b\b\b\b\b\b\b\b\b\b\b\b\b\b\r62/62 [==============================] - 0s 7ms/step - loss: 1.0843 - accuracy: 0.3984 - val_loss: 1.1012 - val_accuracy: 0.3216\n",
            "Epoch 28/60\n",
            "55/62 [=========================>....] - ETA: 0s - loss: 1.0790 - accuracy: 0.4102"
          ]
        },
        {
          "name": "stderr",
          "output_type": "stream",
          "text": [
            "WARNING:tensorflow:Can save best model only with val_acc available, skipping.\n"
          ]
        },
        {
          "name": "stdout",
          "output_type": "stream",
          "text": [
            "\b\b\b\b\b\b\b\b\b\b\b\b\b\b\b\b\b\b\b\b\b\b\b\b\b\b\b\b\b\b\b\b\b\b\b\b\b\b\b\b\b\b\b\b\b\b\b\b\b\b\b\b\b\b\b\b\b\b\b\b\b\b\b\b\b\b\b\b\b\b\b\b\b\b\b\b\b\b\b\b\b\b\r62/62 [==============================] - 0s 7ms/step - loss: 1.0832 - accuracy: 0.4004 - val_loss: 1.1013 - val_accuracy: 0.3216\n",
            "Epoch 29/60\n",
            "56/62 [==========================>...] - ETA: 0s - loss: 1.0817 - accuracy: 0.4007"
          ]
        },
        {
          "name": "stderr",
          "output_type": "stream",
          "text": [
            "WARNING:tensorflow:Can save best model only with val_acc available, skipping.\n"
          ]
        },
        {
          "name": "stdout",
          "output_type": "stream",
          "text": [
            "\b\b\b\b\b\b\b\b\b\b\b\b\b\b\b\b\b\b\b\b\b\b\b\b\b\b\b\b\b\b\b\b\b\b\b\b\b\b\b\b\b\b\b\b\b\b\b\b\b\b\b\b\b\b\b\b\b\b\b\b\b\b\b\b\b\b\b\b\b\b\b\b\b\b\b\b\b\b\b\b\b\b\r62/62 [==============================] - 0s 7ms/step - loss: 1.0820 - accuracy: 0.4025 - val_loss: 1.1018 - val_accuracy: 0.3216\n",
            "Epoch 30/60\n",
            "61/62 [============================>.] - ETA: 0s - loss: 1.0780 - accuracy: 0.4037"
          ]
        },
        {
          "name": "stderr",
          "output_type": "stream",
          "text": [
            "WARNING:tensorflow:Can save best model only with val_acc available, skipping.\n"
          ]
        },
        {
          "name": "stdout",
          "output_type": "stream",
          "text": [
            "\b\b\b\b\b\b\b\b\b\b\b\b\b\b\b\b\b\b\b\b\b\b\b\b\b\b\b\b\b\b\b\b\b\b\b\b\b\b\b\b\b\b\b\b\b\b\b\b\b\b\b\b\b\b\b\b\b\b\b\b\b\b\b\b\b\b\b\b\b\b\b\b\b\b\b\b\b\b\b\b\b\b\r62/62 [==============================] - 0s 8ms/step - loss: 1.0781 - accuracy: 0.4035 - val_loss: 1.1069 - val_accuracy: 0.3216\n",
            "Epoch 31/60\n",
            "54/62 [=========================>....] - ETA: 0s - loss: 1.0852 - accuracy: 0.3935"
          ]
        },
        {
          "name": "stderr",
          "output_type": "stream",
          "text": [
            "WARNING:tensorflow:Can save best model only with val_acc available, skipping.\n"
          ]
        },
        {
          "name": "stdout",
          "output_type": "stream",
          "text": [
            "\b\b\b\b\b\b\b\b\b\b\b\b\b\b\b\b\b\b\b\b\b\b\b\b\b\b\b\b\b\b\b\b\b\b\b\b\b\b\b\b\b\b\b\b\b\b\b\b\b\b\b\b\b\b\b\b\b\b\b\b\b\b\b\b\b\b\b\b\b\b\b\b\b\b\b\b\b\b\b\b\b\b\r62/62 [==============================] - 0s 7ms/step - loss: 1.0814 - accuracy: 0.4014 - val_loss: 1.1037 - val_accuracy: 0.3216\n",
            "Epoch 32/60\n",
            "59/62 [===========================>..] - ETA: 0s - loss: 1.0811 - accuracy: 0.4015"
          ]
        },
        {
          "name": "stderr",
          "output_type": "stream",
          "text": [
            "WARNING:tensorflow:Can save best model only with val_acc available, skipping.\n"
          ]
        },
        {
          "name": "stdout",
          "output_type": "stream",
          "text": [
            "\b\b\b\b\b\b\b\b\b\b\b\b\b\b\b\b\b\b\b\b\b\b\b\b\b\b\b\b\b\b\b\b\b\b\b\b\b\b\b\b\b\b\b\b\b\b\b\b\b\b\b\b\b\b\b\b\b\b\b\b\b\b\b\b\b\b\b\b\b\b\b\b\b\b\b\b\b\b\b\b\b\b\r62/62 [==============================] - 0s 6ms/step - loss: 1.0817 - accuracy: 0.4004 - val_loss: 1.1023 - val_accuracy: 0.3216\n",
            "Epoch 33/60\n",
            "59/62 [===========================>..] - ETA: 0s - loss: 1.0854 - accuracy: 0.3994"
          ]
        },
        {
          "name": "stderr",
          "output_type": "stream",
          "text": [
            "WARNING:tensorflow:Can save best model only with val_acc available, skipping.\n"
          ]
        },
        {
          "name": "stdout",
          "output_type": "stream",
          "text": [
            "\b\b\b\b\b\b\b\b\b\b\b\b\b\b\b\b\b\b\b\b\b\b\b\b\b\b\b\b\b\b\b\b\b\b\b\b\b\b\b\b\b\b\b\b\b\b\b\b\b\b\b\b\b\b\b\b\b\b\b\b\b\b\b\b\b\b\b\b\b\b\b\b\b\b\b\b\b\b\b\b\b\b\r62/62 [==============================] - 0s 6ms/step - loss: 1.0863 - accuracy: 0.3973 - val_loss: 1.1021 - val_accuracy: 0.3216\n",
            "Epoch 34/60\n",
            "60/62 [============================>.] - ETA: 0s - loss: 1.0806 - accuracy: 0.4042"
          ]
        },
        {
          "name": "stderr",
          "output_type": "stream",
          "text": [
            "WARNING:tensorflow:Can save best model only with val_acc available, skipping.\n"
          ]
        },
        {
          "name": "stdout",
          "output_type": "stream",
          "text": [
            "\b\b\b\b\b\b\b\b\b\b\b\b\b\b\b\b\b\b\b\b\b\b\b\b\b\b\b\b\b\b\b\b\b\b\b\b\b\b\b\b\b\b\b\b\b\b\b\b\b\b\b\b\b\b\b\b\b\b\b\b\b\b\b\b\b\b\b\b\b\b\b\b\b\b\b\b\b\b\b\b\b\b\r62/62 [==============================] - 0s 6ms/step - loss: 1.0813 - accuracy: 0.4014 - val_loss: 1.1046 - val_accuracy: 0.3216\n",
            "Epoch 35/60\n",
            "61/62 [============================>.] - ETA: 0s - loss: 1.0863 - accuracy: 0.3975"
          ]
        },
        {
          "name": "stderr",
          "output_type": "stream",
          "text": [
            "WARNING:tensorflow:Can save best model only with val_acc available, skipping.\n"
          ]
        },
        {
          "name": "stdout",
          "output_type": "stream",
          "text": [
            "\b\b\b\b\b\b\b\b\b\b\b\b\b\b\b\b\b\b\b\b\b\b\b\b\b\b\b\b\b\b\b\b\b\b\b\b\b\b\b\b\b\b\b\b\b\b\b\b\b\b\b\b\b\b\b\b\b\b\b\b\b\b\b\b\b\b\b\b\b\b\b\b\b\b\b\b\b\b\b\b\b\b\r62/62 [==============================] - 0s 6ms/step - loss: 1.0864 - accuracy: 0.3973 - val_loss: 1.1029 - val_accuracy: 0.3216\n",
            "Epoch 36/60\n",
            "55/62 [=========================>....] - ETA: 0s - loss: 1.0819 - accuracy: 0.4045"
          ]
        },
        {
          "name": "stderr",
          "output_type": "stream",
          "text": [
            "WARNING:tensorflow:Can save best model only with val_acc available, skipping.\n"
          ]
        },
        {
          "name": "stdout",
          "output_type": "stream",
          "text": [
            "\b\b\b\b\b\b\b\b\b\b\b\b\b\b\b\b\b\b\b\b\b\b\b\b\b\b\b\b\b\b\b\b\b\b\b\b\b\b\b\b\b\b\b\b\b\b\b\b\b\b\b\b\b\b\b\b\b\b\b\b\b\b\b\b\b\b\b\b\b\b\b\b\b\b\b\b\b\b\b\b\b\b\r62/62 [==============================] - 0s 6ms/step - loss: 1.0832 - accuracy: 0.4004 - val_loss: 1.1090 - val_accuracy: 0.3216\n",
            "Epoch 37/60\n",
            "59/62 [===========================>..] - ETA: 0s - loss: 1.0791 - accuracy: 0.4110"
          ]
        },
        {
          "name": "stderr",
          "output_type": "stream",
          "text": [
            "WARNING:tensorflow:Can save best model only with val_acc available, skipping.\n"
          ]
        },
        {
          "name": "stdout",
          "output_type": "stream",
          "text": [
            "\b\b\b\b\b\b\b\b\b\b\b\b\b\b\b\b\b\b\b\b\b\b\b\b\b\b\b\b\b\b\b\b\b\b\b\b\b\b\b\b\b\b\b\b\b\b\b\b\b\b\b\b\b\b\b\b\b\b\b\b\b\b\b\b\b\b\b\b\b\b\b\b\b\b\b\b\b\b\b\b\b\b\r62/62 [==============================] - 0s 5ms/step - loss: 1.0821 - accuracy: 0.4014 - val_loss: 1.1073 - val_accuracy: 0.3216\n",
            "Epoch 38/60\n",
            "58/62 [===========================>..] - ETA: 0s - loss: 1.0799 - accuracy: 0.4052"
          ]
        },
        {
          "name": "stderr",
          "output_type": "stream",
          "text": [
            "WARNING:tensorflow:Can save best model only with val_acc available, skipping.\n"
          ]
        },
        {
          "name": "stdout",
          "output_type": "stream",
          "text": [
            "\b\b\b\b\b\b\b\b\b\b\b\b\b\b\b\b\b\b\b\b\b\b\b\b\b\b\b\b\b\b\b\b\b\b\b\b\b\b\b\b\b\b\b\b\b\b\b\b\b\b\b\b\b\b\b\b\b\b\b\b\b\b\b\b\b\b\b\b\b\b\b\b\b\b\b\b\b\b\b\b\b\b\r62/62 [==============================] - 0s 6ms/step - loss: 1.0797 - accuracy: 0.4025 - val_loss: 1.1044 - val_accuracy: 0.3216\n",
            "Epoch 39/60\n",
            "58/62 [===========================>..] - ETA: 0s - loss: 1.0784 - accuracy: 0.3998"
          ]
        },
        {
          "name": "stderr",
          "output_type": "stream",
          "text": [
            "WARNING:tensorflow:Can save best model only with val_acc available, skipping.\n"
          ]
        },
        {
          "name": "stdout",
          "output_type": "stream",
          "text": [
            "\b\b\b\b\b\b\b\b\b\b\b\b\b\b\b\b\b\b\b\b\b\b\b\b\b\b\b\b\b\b\b\b\b\b\b\b\b\b\b\b\b\b\b\b\b\b\b\b\b\b\b\b\b\b\b\b\b\b\b\b\b\b\b\b\b\b\b\b\b\b\b\b\b\b\b\b\b\b\b\b\b\b\r62/62 [==============================] - 0s 6ms/step - loss: 1.0790 - accuracy: 0.4025 - val_loss: 1.1034 - val_accuracy: 0.3216\n",
            "Epoch 40/60\n",
            "59/62 [===========================>..] - ETA: 0s - loss: 1.0855 - accuracy: 0.4004"
          ]
        },
        {
          "name": "stderr",
          "output_type": "stream",
          "text": [
            "WARNING:tensorflow:Can save best model only with val_acc available, skipping.\n"
          ]
        },
        {
          "name": "stdout",
          "output_type": "stream",
          "text": [
            "\b\b\b\b\b\b\b\b\b\b\b\b\b\b\b\b\b\b\b\b\b\b\b\b\b\b\b\b\b\b\b\b\b\b\b\b\b\b\b\b\b\b\b\b\b\b\b\b\b\b\b\b\b\b\b\b\b\b\b\b\b\b\b\b\b\b\b\b\b\b\b\b\b\b\b\b\b\b\b\b\b\b\r62/62 [==============================] - 0s 5ms/step - loss: 1.0843 - accuracy: 0.3994 - val_loss: 1.1075 - val_accuracy: 0.3216\n",
            "Epoch 41/60\n",
            "58/62 [===========================>..] - ETA: 0s - loss: 1.0804 - accuracy: 0.4052"
          ]
        },
        {
          "name": "stderr",
          "output_type": "stream",
          "text": [
            "WARNING:tensorflow:Can save best model only with val_acc available, skipping.\n"
          ]
        },
        {
          "name": "stdout",
          "output_type": "stream",
          "text": [
            "\b\b\b\b\b\b\b\b\b\b\b\b\b\b\b\b\b\b\b\b\b\b\b\b\b\b\b\b\b\b\b\b\b\b\b\b\b\b\b\b\b\b\b\b\b\b\b\b\b\b\b\b\b\b\b\b\b\b\b\b\b\b\b\b\b\b\b\b\b\b\b\b\b\b\b\b\b\b\b\b\b\b\r62/62 [==============================] - 0s 6ms/step - loss: 1.0833 - accuracy: 0.3994 - val_loss: 1.1055 - val_accuracy: 0.3216\n",
            "Epoch 42/60\n",
            "59/62 [===========================>..] - ETA: 0s - loss: 1.0826 - accuracy: 0.4047"
          ]
        },
        {
          "name": "stderr",
          "output_type": "stream",
          "text": [
            "WARNING:tensorflow:Can save best model only with val_acc available, skipping.\n"
          ]
        },
        {
          "name": "stdout",
          "output_type": "stream",
          "text": [
            "\b\b\b\b\b\b\b\b\b\b\b\b\b\b\b\b\b\b\b\b\b\b\b\b\b\b\b\b\b\b\b\b\b\b\b\b\b\b\b\b\b\b\b\b\b\b\b\b\b\b\b\b\b\b\b\b\b\b\b\b\b\b\b\b\b\b\b\b\b\b\b\b\b\b\b\b\b\b\b\b\b\b\r62/62 [==============================] - 0s 6ms/step - loss: 1.0836 - accuracy: 0.4004 - val_loss: 1.1057 - val_accuracy: 0.3216\n",
            "Epoch 43/60\n",
            "59/62 [===========================>..] - ETA: 0s - loss: 1.0785 - accuracy: 0.4068"
          ]
        },
        {
          "name": "stderr",
          "output_type": "stream",
          "text": [
            "WARNING:tensorflow:Can save best model only with val_acc available, skipping.\n"
          ]
        },
        {
          "name": "stdout",
          "output_type": "stream",
          "text": [
            "\b\b\b\b\b\b\b\b\b\b\b\b\b\b\b\b\b\b\b\b\b\b\b\b\b\b\b\b\b\b\b\b\b\b\b\b\b\b\b\b\b\b\b\b\b\b\b\b\b\b\b\b\b\b\b\b\b\b\b\b\b\b\b\b\b\b\b\b\b\b\b\b\b\b\b\b\b\b\b\b\b\b\r62/62 [==============================] - 0s 5ms/step - loss: 1.0800 - accuracy: 0.4025 - val_loss: 1.1055 - val_accuracy: 0.3216\n",
            "Epoch 44/60\n",
            "58/62 [===========================>..] - ETA: 0s - loss: 1.0802 - accuracy: 0.4009"
          ]
        },
        {
          "name": "stderr",
          "output_type": "stream",
          "text": [
            "WARNING:tensorflow:Can save best model only with val_acc available, skipping.\n"
          ]
        },
        {
          "name": "stdout",
          "output_type": "stream",
          "text": [
            "\b\b\b\b\b\b\b\b\b\b\b\b\b\b\b\b\b\b\b\b\b\b\b\b\b\b\b\b\b\b\b\b\b\b\b\b\b\b\b\b\b\b\b\b\b\b\b\b\b\b\b\b\b\b\b\b\b\b\b\b\b\b\b\b\b\b\b\b\b\b\b\b\b\b\b\b\b\b\b\b\b\b\r62/62 [==============================] - 0s 6ms/step - loss: 1.0809 - accuracy: 0.4014 - val_loss: 1.1021 - val_accuracy: 0.3216\n",
            "Epoch 45/60\n",
            "57/62 [==========================>...] - ETA: 0s - loss: 1.0846 - accuracy: 0.3904"
          ]
        },
        {
          "name": "stderr",
          "output_type": "stream",
          "text": [
            "WARNING:tensorflow:Can save best model only with val_acc available, skipping.\n"
          ]
        },
        {
          "name": "stdout",
          "output_type": "stream",
          "text": [
            "\b\b\b\b\b\b\b\b\b\b\b\b\b\b\b\b\b\b\b\b\b\b\b\b\b\b\b\b\b\b\b\b\b\b\b\b\b\b\b\b\b\b\b\b\b\b\b\b\b\b\b\b\b\b\b\b\b\b\b\b\b\b\b\b\b\b\b\b\b\b\b\b\b\b\b\b\b\b\b\b\b\b\r62/62 [==============================] - 0s 6ms/step - loss: 1.0829 - accuracy: 0.4004 - val_loss: 1.1074 - val_accuracy: 0.3216\n",
            "Epoch 46/60\n",
            "58/62 [===========================>..] - ETA: 0s - loss: 1.0851 - accuracy: 0.3955"
          ]
        },
        {
          "name": "stderr",
          "output_type": "stream",
          "text": [
            "WARNING:tensorflow:Can save best model only with val_acc available, skipping.\n"
          ]
        },
        {
          "name": "stdout",
          "output_type": "stream",
          "text": [
            "\b\b\b\b\b\b\b\b\b\b\b\b\b\b\b\b\b\b\b\b\b\b\b\b\b\b\b\b\b\b\b\b\b\b\b\b\b\b\b\b\b\b\b\b\b\b\b\b\b\b\b\b\b\b\b\b\b\b\b\b\b\b\b\b\b\b\b\b\b\b\b\b\b\b\b\b\b\b\b\b\b\b\r62/62 [==============================] - 0s 6ms/step - loss: 1.0840 - accuracy: 0.3994 - val_loss: 1.1063 - val_accuracy: 0.3216\n",
            "Epoch 47/60\n",
            "60/62 [============================>.] - ETA: 0s - loss: 1.0816 - accuracy: 0.4000"
          ]
        },
        {
          "name": "stderr",
          "output_type": "stream",
          "text": [
            "WARNING:tensorflow:Can save best model only with val_acc available, skipping.\n"
          ]
        },
        {
          "name": "stdout",
          "output_type": "stream",
          "text": [
            "\b\b\b\b\b\b\b\b\b\b\b\b\b\b\b\b\b\b\b\b\b\b\b\b\b\b\b\b\b\b\b\b\b\b\b\b\b\b\b\b\b\b\b\b\b\b\b\b\b\b\b\b\b\b\b\b\b\b\b\b\b\b\b\b\b\b\b\b\b\b\b\b\b\b\b\b\b\b\b\b\b\b\r62/62 [==============================] - 0s 6ms/step - loss: 1.0814 - accuracy: 0.4014 - val_loss: 1.1044 - val_accuracy: 0.3216\n",
            "Epoch 48/60\n",
            "57/62 [==========================>...] - ETA: 0s - loss: 1.0812 - accuracy: 0.4013"
          ]
        },
        {
          "name": "stderr",
          "output_type": "stream",
          "text": [
            "WARNING:tensorflow:Can save best model only with val_acc available, skipping.\n"
          ]
        },
        {
          "name": "stdout",
          "output_type": "stream",
          "text": [
            "\b\b\b\b\b\b\b\b\b\b\b\b\b\b\b\b\b\b\b\b\b\b\b\b\b\b\b\b\b\b\b\b\b\b\b\b\b\b\b\b\b\b\b\b\b\b\b\b\b\b\b\b\b\b\b\b\b\b\b\b\b\b\b\b\b\b\b\b\b\b\b\b\b\b\b\b\b\b\b\b\b\b\r62/62 [==============================] - 0s 6ms/step - loss: 1.0832 - accuracy: 0.3994 - val_loss: 1.1044 - val_accuracy: 0.3216\n",
            "Epoch 49/60\n",
            "58/62 [===========================>..] - ETA: 0s - loss: 1.0823 - accuracy: 0.4030"
          ]
        },
        {
          "name": "stderr",
          "output_type": "stream",
          "text": [
            "WARNING:tensorflow:Can save best model only with val_acc available, skipping.\n"
          ]
        },
        {
          "name": "stdout",
          "output_type": "stream",
          "text": [
            "\b\b\b\b\b\b\b\b\b\b\b\b\b\b\b\b\b\b\b\b\b\b\b\b\b\b\b\b\b\b\b\b\b\b\b\b\b\b\b\b\b\b\b\b\b\b\b\b\b\b\b\b\b\b\b\b\b\b\b\b\b\b\b\b\b\b\b\b\b\b\b\b\b\b\b\b\b\b\b\b\b\b\r62/62 [==============================] - 0s 6ms/step - loss: 1.0829 - accuracy: 0.4004 - val_loss: 1.1061 - val_accuracy: 0.3216\n",
            "Epoch 50/60\n",
            "59/62 [===========================>..] - ETA: 0s - loss: 1.0830 - accuracy: 0.4025"
          ]
        },
        {
          "name": "stderr",
          "output_type": "stream",
          "text": [
            "WARNING:tensorflow:Can save best model only with val_acc available, skipping.\n"
          ]
        },
        {
          "name": "stdout",
          "output_type": "stream",
          "text": [
            "\b\b\b\b\b\b\b\b\b\b\b\b\b\b\b\b\b\b\b\b\b\b\b\b\b\b\b\b\b\b\b\b\b\b\b\b\b\b\b\b\b\b\b\b\b\b\b\b\b\b\b\b\b\b\b\b\b\b\b\b\b\b\b\b\b\b\b\b\b\b\b\b\b\b\b\b\b\b\b\b\b\b\r62/62 [==============================] - 1s 10ms/step - loss: 1.0840 - accuracy: 0.3994 - val_loss: 1.1034 - val_accuracy: 0.3216\n",
            "Epoch 51/60\n",
            "57/62 [==========================>...] - ETA: 0s - loss: 1.0853 - accuracy: 0.3991"
          ]
        },
        {
          "name": "stderr",
          "output_type": "stream",
          "text": [
            "WARNING:tensorflow:Can save best model only with val_acc available, skipping.\n"
          ]
        },
        {
          "name": "stdout",
          "output_type": "stream",
          "text": [
            "\b\b\b\b\b\b\b\b\b\b\b\b\b\b\b\b\b\b\b\b\b\b\b\b\b\b\b\b\b\b\b\b\b\b\b\b\b\b\b\b\b\b\b\b\b\b\b\b\b\b\b\b\b\b\b\b\b\b\b\b\b\b\b\b\b\b\b\b\b\b\b\b\b\b\b\b\b\b\b\b\b\b\r62/62 [==============================] - 1s 8ms/step - loss: 1.0836 - accuracy: 0.4004 - val_loss: 1.1073 - val_accuracy: 0.3216\n",
            "Epoch 52/60\n",
            "56/62 [==========================>...] - ETA: 0s - loss: 1.0827 - accuracy: 0.3996"
          ]
        },
        {
          "name": "stderr",
          "output_type": "stream",
          "text": [
            "WARNING:tensorflow:Can save best model only with val_acc available, skipping.\n"
          ]
        },
        {
          "name": "stdout",
          "output_type": "stream",
          "text": [
            "\b\b\b\b\b\b\b\b\b\b\b\b\b\b\b\b\b\b\b\b\b\b\b\b\b\b\b\b\b\b\b\b\b\b\b\b\b\b\b\b\b\b\b\b\b\b\b\b\b\b\b\b\b\b\b\b\b\b\b\b\b\b\b\b\b\b\b\b\b\b\b\b\b\b\b\b\b\b\b\b\b\b\r62/62 [==============================] - 0s 7ms/step - loss: 1.0843 - accuracy: 0.3994 - val_loss: 1.1073 - val_accuracy: 0.3216\n",
            "Epoch 53/60\n",
            "55/62 [=========================>....] - ETA: 0s - loss: 1.0898 - accuracy: 0.3852"
          ]
        },
        {
          "name": "stderr",
          "output_type": "stream",
          "text": [
            "WARNING:tensorflow:Can save best model only with val_acc available, skipping.\n"
          ]
        },
        {
          "name": "stdout",
          "output_type": "stream",
          "text": [
            "\b\b\b\b\b\b\b\b\b\b\b\b\b\b\b\b\b\b\b\b\b\b\b\b\b\b\b\b\b\b\b\b\b\b\b\b\b\b\b\b\b\b\b\b\b\b\b\b\b\b\b\b\b\b\b\b\b\b\b\b\b\b\b\b\b\b\b\b\b\b\b\b\b\b\b\b\b\b\b\b\b\b\r62/62 [==============================] - 0s 6ms/step - loss: 1.0857 - accuracy: 0.3984 - val_loss: 1.1042 - val_accuracy: 0.3216\n",
            "Epoch 54/60\n",
            "56/62 [==========================>...] - ETA: 0s - loss: 1.0839 - accuracy: 0.4007"
          ]
        },
        {
          "name": "stderr",
          "output_type": "stream",
          "text": [
            "WARNING:tensorflow:Can save best model only with val_acc available, skipping.\n"
          ]
        },
        {
          "name": "stdout",
          "output_type": "stream",
          "text": [
            "\b\b\b\b\b\b\b\b\b\b\b\b\b\b\b\b\b\b\b\b\b\b\b\b\b\b\b\b\b\b\b\b\b\b\b\b\b\b\b\b\b\b\b\b\b\b\b\b\b\b\b\b\b\b\b\b\b\b\b\b\b\b\b\b\b\b\b\b\b\b\b\b\b\b\b\b\b\b\b\b\b\b\r62/62 [==============================] - 0s 6ms/step - loss: 1.0839 - accuracy: 0.3994 - val_loss: 1.1046 - val_accuracy: 0.3216\n",
            "Epoch 55/60\n",
            "59/62 [===========================>..] - ETA: 0s - loss: 1.0806 - accuracy: 0.4025"
          ]
        },
        {
          "name": "stderr",
          "output_type": "stream",
          "text": [
            "WARNING:tensorflow:Can save best model only with val_acc available, skipping.\n"
          ]
        },
        {
          "name": "stdout",
          "output_type": "stream",
          "text": [
            "\b\b\b\b\b\b\b\b\b\b\b\b\b\b\b\b\b\b\b\b\b\b\b\b\b\b\b\b\b\b\b\b\b\b\b\b\b\b\b\b\b\b\b\b\b\b\b\b\b\b\b\b\b\b\b\b\b\b\b\b\b\b\b\b\b\b\b\b\b\b\b\b\b\b\b\b\b\b\b\b\b\b\r62/62 [==============================] - 0s 5ms/step - loss: 1.0810 - accuracy: 0.4014 - val_loss: 1.1043 - val_accuracy: 0.3216\n",
            "Epoch 56/60\n",
            "58/62 [===========================>..] - ETA: 0s - loss: 1.0831 - accuracy: 0.3998"
          ]
        },
        {
          "name": "stderr",
          "output_type": "stream",
          "text": [
            "WARNING:tensorflow:Can save best model only with val_acc available, skipping.\n"
          ]
        },
        {
          "name": "stdout",
          "output_type": "stream",
          "text": [
            "\b\b\b\b\b\b\b\b\b\b\b\b\b\b\b\b\b\b\b\b\b\b\b\b\b\b\b\b\b\b\b\b\b\b\b\b\b\b\b\b\b\b\b\b\b\b\b\b\b\b\b\b\b\b\b\b\b\b\b\b\b\b\b\b\b\b\b\b\b\b\b\b\b\b\b\b\b\b\b\b\b\b\r62/62 [==============================] - 0s 6ms/step - loss: 1.0832 - accuracy: 0.3994 - val_loss: 1.1075 - val_accuracy: 0.3216\n",
            "Epoch 57/60\n",
            "55/62 [=========================>....] - ETA: 0s - loss: 1.0863 - accuracy: 0.3955"
          ]
        },
        {
          "name": "stderr",
          "output_type": "stream",
          "text": [
            "WARNING:tensorflow:Can save best model only with val_acc available, skipping.\n"
          ]
        },
        {
          "name": "stdout",
          "output_type": "stream",
          "text": [
            "\b\b\b\b\b\b\b\b\b\b\b\b\b\b\b\b\b\b\b\b\b\b\b\b\b\b\b\b\b\b\b\b\b\b\b\b\b\b\b\b\b\b\b\b\b\b\b\b\b\b\b\b\b\b\b\b\b\b\b\b\b\b\b\b\b\b\b\b\b\b\b\b\b\b\b\b\b\b\b\b\b\b\r62/62 [==============================] - 0s 7ms/step - loss: 1.0858 - accuracy: 0.3984 - val_loss: 1.1055 - val_accuracy: 0.3216\n",
            "Epoch 58/60\n",
            "58/62 [===========================>..] - ETA: 0s - loss: 1.0863 - accuracy: 0.3976"
          ]
        },
        {
          "name": "stderr",
          "output_type": "stream",
          "text": [
            "WARNING:tensorflow:Can save best model only with val_acc available, skipping.\n"
          ]
        },
        {
          "name": "stdout",
          "output_type": "stream",
          "text": [
            "\b\b\b\b\b\b\b\b\b\b\b\b\b\b\b\b\b\b\b\b\b\b\b\b\b\b\b\b\b\b\b\b\b\b\b\b\b\b\b\b\b\b\b\b\b\b\b\b\b\b\b\b\b\b\b\b\b\b\b\b\b\b\b\b\b\b\b\b\b\b\b\b\b\b\b\b\b\b\b\b\b\b\r62/62 [==============================] - 0s 7ms/step - loss: 1.0860 - accuracy: 0.3984 - val_loss: 1.1038 - val_accuracy: 0.3216\n",
            "Epoch 59/60\n",
            "57/62 [==========================>...] - ETA: 0s - loss: 1.0833 - accuracy: 0.3991"
          ]
        },
        {
          "name": "stderr",
          "output_type": "stream",
          "text": [
            "WARNING:tensorflow:Can save best model only with val_acc available, skipping.\n"
          ]
        },
        {
          "name": "stdout",
          "output_type": "stream",
          "text": [
            "\b\b\b\b\b\b\b\b\b\b\b\b\b\b\b\b\b\b\b\b\b\b\b\b\b\b\b\b\b\b\b\b\b\b\b\b\b\b\b\b\b\b\b\b\b\b\b\b\b\b\b\b\b\b\b\b\b\b\b\b\b\b\b\b\b\b\b\b\b\b\b\b\b\b\b\b\b\b\b\b\b\b\r62/62 [==============================] - 0s 8ms/step - loss: 1.0822 - accuracy: 0.4004 - val_loss: 1.1056 - val_accuracy: 0.3216\n",
            "Epoch 60/60\n",
            "61/62 [============================>.] - ETA: 0s - loss: 1.0829 - accuracy: 0.4006"
          ]
        },
        {
          "name": "stderr",
          "output_type": "stream",
          "text": [
            "WARNING:tensorflow:Can save best model only with val_acc available, skipping.\n"
          ]
        },
        {
          "name": "stdout",
          "output_type": "stream",
          "text": [
            "\b\b\b\b\b\b\b\b\b\b\b\b\b\b\b\b\b\b\b\b\b\b\b\b\b\b\b\b\b\b\b\b\b\b\b\b\b\b\b\b\b\b\b\b\b\b\b\b\b\b\b\b\b\b\b\b\b\b\b\b\b\b\b\b\b\b\b\b\b\b\b\b\b\b\b\b\b\b\b\b\b\b\r62/62 [==============================] - 0s 7ms/step - loss: 1.0828 - accuracy: 0.4004 - val_loss: 1.1022 - val_accuracy: 0.3216\n"
          ]
        }
      ],
      "source": [
        "d3a_model3,d3a_history3 = train_categorical_model(location)     # Without regularization lr = 0.0002"
      ]
    },
    {
      "cell_type": "code",
      "execution_count": null,
      "metadata": {
        "colab": {
          "base_uri": "https://localhost:8080/"
        },
        "id": "zmDRrUsl82Jq",
        "outputId": "a8457bc8-e219-4b30-8233-47bfa4248182",
        "scrolled": true
      },
      "outputs": [
        {
          "name": "stderr",
          "output_type": "stream",
          "text": [
            "WARNING:absl:`lr` is deprecated in Keras optimizer, please use `learning_rate` or use the legacy optimizer, e.g.,tf.keras.optimizers.legacy.SGD.\n"
          ]
        },
        {
          "name": "stdout",
          "output_type": "stream",
          "text": [
            "(8, 8, 512)\n",
            "Epoch 1/60\n",
            "60/62 [============================>.] - ETA: 0s - loss: 2897.8977 - accuracy: 0.3812"
          ]
        },
        {
          "name": "stderr",
          "output_type": "stream",
          "text": [
            "WARNING:tensorflow:Can save best model only with val_acc available, skipping.\n"
          ]
        },
        {
          "name": "stdout",
          "output_type": "stream",
          "text": [
            "\b\b\b\b\b\b\b\b\b\b\b\b\b\b\b\b\b\b\b\b\b\b\b\b\b\b\b\b\b\b\b\b\b\b\b\b\b\b\b\b\b\b\b\b\b\b\b\b\b\b\b\b\b\b\b\b\b\b\b\b\b\b\b\b\b\b\b\b\b\b\b\b\b\b\b\b\b\b\b\b\b\b\b\b\b\r62/62 [==============================] - 1s 11ms/step - loss: 2841.6775 - accuracy: 0.3820 - val_loss: 1.4010 - val_accuracy: 0.3333\n",
            "Epoch 2/60\n",
            "53/62 [========================>.....] - ETA: 0s - loss: 4083.4546 - accuracy: 0.3939"
          ]
        },
        {
          "name": "stderr",
          "output_type": "stream",
          "text": [
            "WARNING:tensorflow:Can save best model only with val_acc available, skipping.\n"
          ]
        },
        {
          "name": "stdout",
          "output_type": "stream",
          "text": [
            "\b\b\b\b\b\b\b\b\b\b\b\b\b\b\b\b\b\b\b\b\b\b\b\b\b\b\b\b\b\b\b\b\b\b\b\b\b\b\b\b\b\b\b\b\b\b\b\b\b\b\b\b\b\b\b\b\b\b\b\b\b\b\b\b\b\b\b\b\b\b\b\b\b\b\b\b\b\b\b\b\b\b\b\b\b\r62/62 [==============================] - 0s 6ms/step - loss: 3622.5261 - accuracy: 0.3882 - val_loss: 12.7980 - val_accuracy: 0.3275\n",
            "Epoch 3/60\n",
            "59/62 [===========================>..] - ETA: 0s - loss: 416.5974 - accuracy: 0.3919"
          ]
        },
        {
          "name": "stderr",
          "output_type": "stream",
          "text": [
            "WARNING:tensorflow:Can save best model only with val_acc available, skipping.\n"
          ]
        },
        {
          "name": "stdout",
          "output_type": "stream",
          "text": [
            "\b\b\b\b\b\b\b\b\b\b\b\b\b\b\b\b\b\b\b\b\b\b\b\b\b\b\b\b\b\b\b\b\b\b\b\b\b\b\b\b\b\b\b\b\b\b\b\b\b\b\b\b\b\b\b\b\b\b\b\b\b\b\b\b\b\b\b\b\b\b\b\b\b\b\b\b\b\b\b\b\b\b\b\b\r62/62 [==============================] - 0s 5ms/step - loss: 401.7422 - accuracy: 0.3953 - val_loss: 1.1002 - val_accuracy: 0.3216\n",
            "Epoch 4/60\n",
            "60/62 [============================>.] - ETA: 0s - loss: 319.5430 - accuracy: 0.4000"
          ]
        },
        {
          "name": "stderr",
          "output_type": "stream",
          "text": [
            "WARNING:tensorflow:Can save best model only with val_acc available, skipping.\n"
          ]
        },
        {
          "name": "stdout",
          "output_type": "stream",
          "text": [
            "\b\b\b\b\b\b\b\b\b\b\b\b\b\b\b\b\b\b\b\b\b\b\b\b\b\b\b\b\b\b\b\b\b\b\b\b\b\b\b\b\b\b\b\b\b\b\b\b\b\b\b\b\b\b\b\b\b\b\b\b\b\b\b\b\b\b\b\b\b\b\b\b\b\b\b\b\b\b\b\b\b\b\b\b\r62/62 [==============================] - 0s 6ms/step - loss: 313.3616 - accuracy: 0.4035 - val_loss: 1.0951 - val_accuracy: 0.3275\n",
            "Epoch 5/60\n",
            "58/62 [===========================>..] - ETA: 0s - loss: 78.8978 - accuracy: 0.3966"
          ]
        },
        {
          "name": "stderr",
          "output_type": "stream",
          "text": [
            "WARNING:tensorflow:Can save best model only with val_acc available, skipping.\n"
          ]
        },
        {
          "name": "stdout",
          "output_type": "stream",
          "text": [
            "\b\b\b\b\b\b\b\b\b\b\b\b\b\b\b\b\b\b\b\b\b\b\b\b\b\b\b\b\b\b\b\b\b\b\b\b\b\b\b\b\b\b\b\b\b\b\b\b\b\b\b\b\b\b\b\b\b\b\b\b\b\b\b\b\b\b\b\b\b\b\b\b\b\b\b\b\b\b\b\b\b\b\b\r62/62 [==============================] - 1s 9ms/step - loss: 74.8434 - accuracy: 0.3984 - val_loss: 1.1036 - val_accuracy: 0.3216\n",
            "Epoch 6/60\n",
            "59/62 [===========================>..] - ETA: 0s - loss: 1.0779 - accuracy: 0.4036"
          ]
        },
        {
          "name": "stderr",
          "output_type": "stream",
          "text": [
            "WARNING:tensorflow:Can save best model only with val_acc available, skipping.\n"
          ]
        },
        {
          "name": "stdout",
          "output_type": "stream",
          "text": [
            "\b\b\b\b\b\b\b\b\b\b\b\b\b\b\b\b\b\b\b\b\b\b\b\b\b\b\b\b\b\b\b\b\b\b\b\b\b\b\b\b\b\b\b\b\b\b\b\b\b\b\b\b\b\b\b\b\b\b\b\b\b\b\b\b\b\b\b\b\b\b\b\b\b\b\b\b\b\b\b\b\b\b\r62/62 [==============================] - 1s 9ms/step - loss: 1.0792 - accuracy: 0.4014 - val_loss: 1.1029 - val_accuracy: 0.3216\n",
            "Epoch 7/60\n",
            "57/62 [==========================>...] - ETA: 0s - loss: 17979.9785 - accuracy: 0.3980"
          ]
        },
        {
          "name": "stderr",
          "output_type": "stream",
          "text": [
            "WARNING:tensorflow:Can save best model only with val_acc available, skipping.\n"
          ]
        },
        {
          "name": "stdout",
          "output_type": "stream",
          "text": [
            "\b\b\b\b\b\b\b\b\b\b\b\b\b\b\b\b\b\b\b\b\b\b\b\b\b\b\b\b\b\b\b\b\b\b\b\b\b\b\b\b\b\b\b\b\b\b\b\b\b\b\b\b\b\b\b\b\b\b\b\b\b\b\b\b\b\b\b\b\b\b\b\b\b\b\b\b\b\b\b\b\b\b\b\b\b\b\r62/62 [==============================] - 0s 6ms/step - loss: 16749.5527 - accuracy: 0.3984 - val_loss: 1.1068 - val_accuracy: 0.3216\n",
            "Epoch 8/60\n",
            "58/62 [===========================>..] - ETA: 0s - loss: 2.3966 - accuracy: 0.4030"
          ]
        },
        {
          "name": "stderr",
          "output_type": "stream",
          "text": [
            "WARNING:tensorflow:Can save best model only with val_acc available, skipping.\n"
          ]
        },
        {
          "name": "stdout",
          "output_type": "stream",
          "text": [
            "\b\b\b\b\b\b\b\b\b\b\b\b\b\b\b\b\b\b\b\b\b\b\b\b\b\b\b\b\b\b\b\b\b\b\b\b\b\b\b\b\b\b\b\b\b\b\b\b\b\b\b\b\b\b\b\b\b\b\b\b\b\b\b\b\b\b\b\b\b\b\b\b\b\b\b\b\b\b\b\b\b\b\r62/62 [==============================] - 0s 6ms/step - loss: 2.3282 - accuracy: 0.4004 - val_loss: 1.1084 - val_accuracy: 0.3216\n",
            "Epoch 9/60\n",
            "59/62 [===========================>..] - ETA: 0s - loss: 1.0817 - accuracy: 0.4015"
          ]
        },
        {
          "name": "stderr",
          "output_type": "stream",
          "text": [
            "WARNING:tensorflow:Can save best model only with val_acc available, skipping.\n"
          ]
        },
        {
          "name": "stdout",
          "output_type": "stream",
          "text": [
            "\b\b\b\b\b\b\b\b\b\b\b\b\b\b\b\b\b\b\b\b\b\b\b\b\b\b\b\b\b\b\b\b\b\b\b\b\b\b\b\b\b\b\b\b\b\b\b\b\b\b\b\b\b\b\b\b\b\b\b\b\b\b\b\b\b\b\b\b\b\b\b\b\b\b\b\b\b\b\b\b\b\b\r62/62 [==============================] - 0s 6ms/step - loss: 1.0825 - accuracy: 0.3994 - val_loss: 1.1034 - val_accuracy: 0.3216\n",
            "Epoch 10/60\n",
            "57/62 [==========================>...] - ETA: 0s - loss: 15.7939 - accuracy: 0.3882"
          ]
        },
        {
          "name": "stderr",
          "output_type": "stream",
          "text": [
            "WARNING:tensorflow:Can save best model only with val_acc available, skipping.\n"
          ]
        },
        {
          "name": "stdout",
          "output_type": "stream",
          "text": [
            "\b\b\b\b\b\b\b\b\b\b\b\b\b\b\b\b\b\b\b\b\b\b\b\b\b\b\b\b\b\b\b\b\b\b\b\b\b\b\b\b\b\b\b\b\b\b\b\b\b\b\b\b\b\b\b\b\b\b\b\b\b\b\b\b\b\b\b\b\b\b\b\b\b\b\b\b\b\b\b\b\b\b\b\r62/62 [==============================] - 0s 6ms/step - loss: 17.0261 - accuracy: 0.3973 - val_loss: 1.1058 - val_accuracy: 0.3216\n",
            "Epoch 11/60\n",
            "60/62 [============================>.] - ETA: 0s - loss: 41.6516 - accuracy: 0.4010"
          ]
        },
        {
          "name": "stderr",
          "output_type": "stream",
          "text": [
            "WARNING:tensorflow:Can save best model only with val_acc available, skipping.\n"
          ]
        },
        {
          "name": "stdout",
          "output_type": "stream",
          "text": [
            "\b\b\b\b\b\b\b\b\b\b\b\b\b\b\b\b\b\b\b\b\b\b\b\b\b\b\b\b\b\b\b\b\b\b\b\b\b\b\b\b\b\b\b\b\b\b\b\b\b\b\b\b\b\b\b\b\b\b\b\b\b\b\b\b\b\b\b\b\b\b\b\b\b\b\b\b\b\b\b\b\b\b\b\r62/62 [==============================] - 0s 6ms/step - loss: 40.8650 - accuracy: 0.3994 - val_loss: 1.1068 - val_accuracy: 0.3216\n",
            "Epoch 12/60\n",
            "56/62 [==========================>...] - ETA: 0s - loss: 597.6578 - accuracy: 0.3906"
          ]
        },
        {
          "name": "stderr",
          "output_type": "stream",
          "text": [
            "WARNING:tensorflow:Can save best model only with val_acc available, skipping.\n"
          ]
        },
        {
          "name": "stdout",
          "output_type": "stream",
          "text": [
            "\b\b\b\b\b\b\b\b\b\b\b\b\b\b\b\b\b\b\b\b\b\b\b\b\b\b\b\b\b\b\b\b\b\b\b\b\b\b\b\b\b\b\b\b\b\b\b\b\b\b\b\b\b\b\b\b\b\b\b\b\b\b\b\b\b\b\b\b\b\b\b\b\b\b\b\b\b\b\b\b\b\b\b\b\r62/62 [==============================] - 0s 6ms/step - loss: 547.0759 - accuracy: 0.4014 - val_loss: 1.1055 - val_accuracy: 0.3216\n",
            "Epoch 13/60\n",
            "54/62 [=========================>....] - ETA: 0s - loss: 1.0805 - accuracy: 0.3970"
          ]
        },
        {
          "name": "stderr",
          "output_type": "stream",
          "text": [
            "WARNING:tensorflow:Can save best model only with val_acc available, skipping.\n"
          ]
        },
        {
          "name": "stdout",
          "output_type": "stream",
          "text": [
            "\b\b\b\b\b\b\b\b\b\b\b\b\b\b\b\b\b\b\b\b\b\b\b\b\b\b\b\b\b\b\b\b\b\b\b\b\b\b\b\b\b\b\b\b\b\b\b\b\b\b\b\b\b\b\b\b\b\b\b\b\b\b\b\b\b\b\b\b\b\b\b\b\b\b\b\b\b\b\b\b\b\b\r62/62 [==============================] - 0s 6ms/step - loss: 1.0816 - accuracy: 0.4004 - val_loss: 1.1072 - val_accuracy: 0.3216\n",
            "Epoch 14/60\n",
            "58/62 [===========================>..] - ETA: 0s - loss: 1.0801 - accuracy: 0.4009"
          ]
        },
        {
          "name": "stderr",
          "output_type": "stream",
          "text": [
            "WARNING:tensorflow:Can save best model only with val_acc available, skipping.\n"
          ]
        },
        {
          "name": "stdout",
          "output_type": "stream",
          "text": [
            "\b\b\b\b\b\b\b\b\b\b\b\b\b\b\b\b\b\b\b\b\b\b\b\b\b\b\b\b\b\b\b\b\b\b\b\b\b\b\b\b\b\b\b\b\b\b\b\b\b\b\b\b\b\b\b\b\b\b\b\b\b\b\b\b\b\b\b\b\b\b\b\b\b\b\b\b\b\b\b\b\b\b\r62/62 [==============================] - 0s 6ms/step - loss: 1.0804 - accuracy: 0.3994 - val_loss: 1.1018 - val_accuracy: 0.3216\n",
            "Epoch 15/60\n",
            "59/62 [===========================>..] - ETA: 0s - loss: 1.0850 - accuracy: 0.3941"
          ]
        },
        {
          "name": "stderr",
          "output_type": "stream",
          "text": [
            "WARNING:tensorflow:Can save best model only with val_acc available, skipping.\n"
          ]
        },
        {
          "name": "stdout",
          "output_type": "stream",
          "text": [
            "\b\b\b\b\b\b\b\b\b\b\b\b\b\b\b\b\b\b\b\b\b\b\b\b\b\b\b\b\b\b\b\b\b\b\b\b\b\b\b\b\b\b\b\b\b\b\b\b\b\b\b\b\b\b\b\b\b\b\b\b\b\b\b\b\b\b\b\b\b\b\b\b\b\b\b\b\b\b\b\b\b\b\r62/62 [==============================] - 0s 6ms/step - loss: 1.0841 - accuracy: 0.3963 - val_loss: 1.1076 - val_accuracy: 0.3216\n",
            "Epoch 16/60\n",
            "60/62 [============================>.] - ETA: 0s - loss: 1.0818 - accuracy: 0.3990"
          ]
        },
        {
          "name": "stderr",
          "output_type": "stream",
          "text": [
            "WARNING:tensorflow:Can save best model only with val_acc available, skipping.\n"
          ]
        },
        {
          "name": "stdout",
          "output_type": "stream",
          "text": [
            "\b\b\b\b\b\b\b\b\b\b\b\b\b\b\b\b\b\b\b\b\b\b\b\b\b\b\b\b\b\b\b\b\b\b\b\b\b\b\b\b\b\b\b\b\b\b\b\b\b\b\b\b\b\b\b\b\b\b\b\b\b\b\b\b\b\b\b\b\b\b\b\b\b\b\b\b\b\b\b\b\b\b\r62/62 [==============================] - 0s 5ms/step - loss: 1.0816 - accuracy: 0.4004 - val_loss: 1.1080 - val_accuracy: 0.3216\n",
            "Epoch 17/60\n",
            "60/62 [============================>.] - ETA: 0s - loss: 1.0827 - accuracy: 0.3948"
          ]
        },
        {
          "name": "stderr",
          "output_type": "stream",
          "text": [
            "WARNING:tensorflow:Can save best model only with val_acc available, skipping.\n"
          ]
        },
        {
          "name": "stdout",
          "output_type": "stream",
          "text": [
            "\b\b\b\b\b\b\b\b\b\b\b\b\b\b\b\b\b\b\b\b\b\b\b\b\b\b\b\b\b\b\b\b\b\b\b\b\b\b\b\b\b\b\b\b\b\b\b\b\b\b\b\b\b\b\b\b\b\b\b\b\b\b\b\b\b\b\b\b\b\b\b\b\b\b\b\b\b\b\b\b\b\b\r62/62 [==============================] - 0s 5ms/step - loss: 1.0808 - accuracy: 0.3994 - val_loss: 1.1051 - val_accuracy: 0.3216\n",
            "Epoch 18/60\n",
            "52/62 [========================>.....] - ETA: 0s - loss: 1.0798 - accuracy: 0.4002"
          ]
        },
        {
          "name": "stderr",
          "output_type": "stream",
          "text": [
            "WARNING:tensorflow:Can save best model only with val_acc available, skipping.\n"
          ]
        },
        {
          "name": "stdout",
          "output_type": "stream",
          "text": [
            "\b\b\b\b\b\b\b\b\b\b\b\b\b\b\b\b\b\b\b\b\b\b\b\b\b\b\b\b\b\b\b\b\b\b\b\b\b\b\b\b\b\b\b\b\b\b\b\b\b\b\b\b\b\b\b\b\b\b\b\b\b\b\b\b\b\b\b\b\b\b\b\b\b\b\b\b\b\b\b\b\b\b\r62/62 [==============================] - 0s 6ms/step - loss: 1.0800 - accuracy: 0.4014 - val_loss: 1.1040 - val_accuracy: 0.3216\n",
            "Epoch 19/60\n",
            "56/62 [==========================>...] - ETA: 0s - loss: 1.0760 - accuracy: 0.4163"
          ]
        },
        {
          "name": "stderr",
          "output_type": "stream",
          "text": [
            "WARNING:tensorflow:Can save best model only with val_acc available, skipping.\n"
          ]
        },
        {
          "name": "stdout",
          "output_type": "stream",
          "text": [
            "\b\b\b\b\b\b\b\b\b\b\b\b\b\b\b\b\b\b\b\b\b\b\b\b\b\b\b\b\b\b\b\b\b\b\b\b\b\b\b\b\b\b\b\b\b\b\b\b\b\b\b\b\b\b\b\b\b\b\b\b\b\b\b\b\b\b\b\b\b\b\b\b\b\b\b\b\b\b\b\b\b\b\r62/62 [==============================] - 0s 6ms/step - loss: 1.0833 - accuracy: 0.3994 - val_loss: 1.1120 - val_accuracy: 0.3216\n",
            "Epoch 20/60\n",
            "58/62 [===========================>..] - ETA: 0s - loss: 1.0837 - accuracy: 0.3966"
          ]
        },
        {
          "name": "stderr",
          "output_type": "stream",
          "text": [
            "WARNING:tensorflow:Can save best model only with val_acc available, skipping.\n"
          ]
        },
        {
          "name": "stdout",
          "output_type": "stream",
          "text": [
            "\b\b\b\b\b\b\b\b\b\b\b\b\b\b\b\b\b\b\b\b\b\b\b\b\b\b\b\b\b\b\b\b\b\b\b\b\b\b\b\b\b\b\b\b\b\b\b\b\b\b\b\b\b\b\b\b\b\b\b\b\b\b\b\b\b\b\b\b\b\b\b\b\b\b\b\b\b\b\b\b\b\b\r62/62 [==============================] - 0s 6ms/step - loss: 1.0834 - accuracy: 0.3994 - val_loss: 1.1036 - val_accuracy: 0.3216\n",
            "Epoch 21/60\n",
            "56/62 [==========================>...] - ETA: 0s - loss: 1.0817 - accuracy: 0.4007"
          ]
        },
        {
          "name": "stderr",
          "output_type": "stream",
          "text": [
            "WARNING:tensorflow:Can save best model only with val_acc available, skipping.\n"
          ]
        },
        {
          "name": "stdout",
          "output_type": "stream",
          "text": [
            "\b\b\b\b\b\b\b\b\b\b\b\b\b\b\b\b\b\b\b\b\b\b\b\b\b\b\b\b\b\b\b\b\b\b\b\b\b\b\b\b\b\b\b\b\b\b\b\b\b\b\b\b\b\b\b\b\b\b\b\b\b\b\b\b\b\b\b\b\b\b\b\b\b\b\b\b\b\b\b\b\b\b\r62/62 [==============================] - 0s 6ms/step - loss: 1.0812 - accuracy: 0.4004 - val_loss: 1.1048 - val_accuracy: 0.3216\n",
            "Epoch 22/60\n",
            "58/62 [===========================>..] - ETA: 0s - loss: 1.0806 - accuracy: 0.3987"
          ]
        },
        {
          "name": "stderr",
          "output_type": "stream",
          "text": [
            "WARNING:tensorflow:Can save best model only with val_acc available, skipping.\n"
          ]
        },
        {
          "name": "stdout",
          "output_type": "stream",
          "text": [
            "\b\b\b\b\b\b\b\b\b\b\b\b\b\b\b\b\b\b\b\b\b\b\b\b\b\b\b\b\b\b\b\b\b\b\b\b\b\b\b\b\b\b\b\b\b\b\b\b\b\b\b\b\b\b\b\b\b\b\b\b\b\b\b\b\b\b\b\b\b\b\b\b\b\b\b\b\b\b\b\b\b\b\r62/62 [==============================] - 0s 6ms/step - loss: 1.0804 - accuracy: 0.4004 - val_loss: 1.1012 - val_accuracy: 0.3216\n",
            "Epoch 23/60\n",
            "56/62 [==========================>...] - ETA: 0s - loss: 1.0767 - accuracy: 0.4051"
          ]
        },
        {
          "name": "stderr",
          "output_type": "stream",
          "text": [
            "WARNING:tensorflow:Can save best model only with val_acc available, skipping.\n"
          ]
        },
        {
          "name": "stdout",
          "output_type": "stream",
          "text": [
            "\b\b\b\b\b\b\b\b\b\b\b\b\b\b\b\b\b\b\b\b\b\b\b\b\b\b\b\b\b\b\b\b\b\b\b\b\b\b\b\b\b\b\b\b\b\b\b\b\b\b\b\b\b\b\b\b\b\b\b\b\b\b\b\b\b\b\b\b\b\b\b\b\b\b\b\b\b\b\b\b\b\b\r62/62 [==============================] - 0s 6ms/step - loss: 1.0782 - accuracy: 0.4014 - val_loss: 1.1052 - val_accuracy: 0.3216\n",
            "Epoch 24/60\n",
            "55/62 [=========================>....] - ETA: 0s - loss: 1.0768 - accuracy: 0.3955"
          ]
        },
        {
          "name": "stderr",
          "output_type": "stream",
          "text": [
            "WARNING:tensorflow:Can save best model only with val_acc available, skipping.\n"
          ]
        },
        {
          "name": "stdout",
          "output_type": "stream",
          "text": [
            "\b\b\b\b\b\b\b\b\b\b\b\b\b\b\b\b\b\b\b\b\b\b\b\b\b\b\b\b\b\b\b\b\b\b\b\b\b\b\b\b\b\b\b\b\b\b\b\b\b\b\b\b\b\b\b\b\b\b\b\b\b\b\b\b\b\b\b\b\b\b\b\b\b\b\b\b\b\b\b\b\b\b\r62/62 [==============================] - 0s 6ms/step - loss: 1.0752 - accuracy: 0.4035 - val_loss: 1.1057 - val_accuracy: 0.3216\n",
            "Epoch 25/60\n",
            "56/62 [==========================>...] - ETA: 0s - loss: 1.0826 - accuracy: 0.4007"
          ]
        },
        {
          "name": "stderr",
          "output_type": "stream",
          "text": [
            "WARNING:tensorflow:Can save best model only with val_acc available, skipping.\n"
          ]
        },
        {
          "name": "stdout",
          "output_type": "stream",
          "text": [
            "\b\b\b\b\b\b\b\b\b\b\b\b\b\b\b\b\b\b\b\b\b\b\b\b\b\b\b\b\b\b\b\b\b\b\b\b\b\b\b\b\b\b\b\b\b\b\b\b\b\b\b\b\b\b\b\b\b\b\b\b\b\b\b\b\b\b\b\b\b\b\b\b\b\b\b\b\b\b\b\b\b\b\r62/62 [==============================] - 0s 6ms/step - loss: 1.0836 - accuracy: 0.4004 - val_loss: 1.1043 - val_accuracy: 0.3216\n",
            "Epoch 26/60\n",
            "57/62 [==========================>...] - ETA: 0s - loss: 1.0819 - accuracy: 0.3991"
          ]
        },
        {
          "name": "stderr",
          "output_type": "stream",
          "text": [
            "WARNING:tensorflow:Can save best model only with val_acc available, skipping.\n"
          ]
        },
        {
          "name": "stdout",
          "output_type": "stream",
          "text": [
            "\b\b\b\b\b\b\b\b\b\b\b\b\b\b\b\b\b\b\b\b\b\b\b\b\b\b\b\b\b\b\b\b\b\b\b\b\b\b\b\b\b\b\b\b\b\b\b\b\b\b\b\b\b\b\b\b\b\b\b\b\b\b\b\b\b\b\b\b\b\b\b\b\b\b\b\b\b\b\b\b\b\b\r62/62 [==============================] - 0s 6ms/step - loss: 1.0805 - accuracy: 0.4014 - val_loss: 1.1054 - val_accuracy: 0.3216\n",
            "Epoch 27/60\n",
            "57/62 [==========================>...] - ETA: 0s - loss: 1.0753 - accuracy: 0.4068"
          ]
        },
        {
          "name": "stderr",
          "output_type": "stream",
          "text": [
            "WARNING:tensorflow:Can save best model only with val_acc available, skipping.\n"
          ]
        },
        {
          "name": "stdout",
          "output_type": "stream",
          "text": [
            "\b\b\b\b\b\b\b\b\b\b\b\b\b\b\b\b\b\b\b\b\b\b\b\b\b\b\b\b\b\b\b\b\b\b\b\b\b\b\b\b\b\b\b\b\b\b\b\b\b\b\b\b\b\b\b\b\b\b\b\b\b\b\b\b\b\b\b\b\b\b\b\b\b\b\b\b\b\b\b\b\b\b\r62/62 [==============================] - 0s 6ms/step - loss: 1.0757 - accuracy: 0.4045 - val_loss: 1.1077 - val_accuracy: 0.3216\n",
            "Epoch 28/60\n",
            "55/62 [=========================>....] - ETA: 0s - loss: 1.0826 - accuracy: 0.3966"
          ]
        },
        {
          "name": "stderr",
          "output_type": "stream",
          "text": [
            "WARNING:tensorflow:Can save best model only with val_acc available, skipping.\n"
          ]
        },
        {
          "name": "stdout",
          "output_type": "stream",
          "text": [
            "\b\b\b\b\b\b\b\b\b\b\b\b\b\b\b\b\b\b\b\b\b\b\b\b\b\b\b\b\b\b\b\b\b\b\b\b\b\b\b\b\b\b\b\b\b\b\b\b\b\b\b\b\b\b\b\b\b\b\b\b\b\b\b\b\b\b\b\b\b\b\b\b\b\b\b\b\b\b\b\b\b\b\r62/62 [==============================] - 0s 7ms/step - loss: 1.0814 - accuracy: 0.3994 - val_loss: 1.1030 - val_accuracy: 0.3216\n",
            "Epoch 29/60\n",
            "56/62 [==========================>...] - ETA: 0s - loss: 1.0799 - accuracy: 0.4018"
          ]
        },
        {
          "name": "stderr",
          "output_type": "stream",
          "text": [
            "WARNING:tensorflow:Can save best model only with val_acc available, skipping.\n"
          ]
        },
        {
          "name": "stdout",
          "output_type": "stream",
          "text": [
            "\b\b\b\b\b\b\b\b\b\b\b\b\b\b\b\b\b\b\b\b\b\b\b\b\b\b\b\b\b\b\b\b\b\b\b\b\b\b\b\b\b\b\b\b\b\b\b\b\b\b\b\b\b\b\b\b\b\b\b\b\b\b\b\b\b\b\b\b\b\b\b\b\b\b\b\b\b\b\b\b\b\b\r62/62 [==============================] - 0s 7ms/step - loss: 1.0793 - accuracy: 0.4025 - val_loss: 1.1050 - val_accuracy: 0.3216\n",
            "Epoch 30/60\n",
            "61/62 [============================>.] - ETA: 0s - loss: 1.0792 - accuracy: 0.4016"
          ]
        },
        {
          "name": "stderr",
          "output_type": "stream",
          "text": [
            "WARNING:tensorflow:Can save best model only with val_acc available, skipping.\n"
          ]
        },
        {
          "name": "stdout",
          "output_type": "stream",
          "text": [
            "\b\b\b\b\b\b\b\b\b\b\b\b\b\b\b\b\b\b\b\b\b\b\b\b\b\b\b\b\b\b\b\b\b\b\b\b\b\b\b\b\b\b\b\b\b\b\b\b\b\b\b\b\b\b\b\b\b\b\b\b\b\b\b\b\b\b\b\b\b\b\b\b\b\b\b\b\b\b\b\b\b\b\r62/62 [==============================] - 0s 7ms/step - loss: 1.0796 - accuracy: 0.4004 - val_loss: 1.1034 - val_accuracy: 0.3216\n",
            "Epoch 31/60\n",
            "58/62 [===========================>..] - ETA: 0s - loss: 1.0800 - accuracy: 0.4009"
          ]
        },
        {
          "name": "stderr",
          "output_type": "stream",
          "text": [
            "WARNING:tensorflow:Can save best model only with val_acc available, skipping.\n"
          ]
        },
        {
          "name": "stdout",
          "output_type": "stream",
          "text": [
            "\b\b\b\b\b\b\b\b\b\b\b\b\b\b\b\b\b\b\b\b\b\b\b\b\b\b\b\b\b\b\b\b\b\b\b\b\b\b\b\b\b\b\b\b\b\b\b\b\b\b\b\b\b\b\b\b\b\b\b\b\b\b\b\b\b\b\b\b\b\b\b\b\b\b\b\b\b\b\b\b\b\b\r62/62 [==============================] - 0s 7ms/step - loss: 1.0793 - accuracy: 0.4004 - val_loss: 1.1036 - val_accuracy: 0.3216\n",
            "Epoch 32/60\n",
            "57/62 [==========================>...] - ETA: 0s - loss: 1.0825 - accuracy: 0.4013"
          ]
        },
        {
          "name": "stderr",
          "output_type": "stream",
          "text": [
            "WARNING:tensorflow:Can save best model only with val_acc available, skipping.\n"
          ]
        },
        {
          "name": "stdout",
          "output_type": "stream",
          "text": [
            "\b\b\b\b\b\b\b\b\b\b\b\b\b\b\b\b\b\b\b\b\b\b\b\b\b\b\b\b\b\b\b\b\b\b\b\b\b\b\b\b\b\b\b\b\b\b\b\b\b\b\b\b\b\b\b\b\b\b\b\b\b\b\b\b\b\b\b\b\b\b\b\b\b\b\b\b\b\b\b\b\b\b\r62/62 [==============================] - 0s 7ms/step - loss: 1.0823 - accuracy: 0.3994 - val_loss: 1.1054 - val_accuracy: 0.3216\n",
            "Epoch 33/60\n",
            "57/62 [==========================>...] - ETA: 0s - loss: 1.0771 - accuracy: 0.4024"
          ]
        },
        {
          "name": "stderr",
          "output_type": "stream",
          "text": [
            "WARNING:tensorflow:Can save best model only with val_acc available, skipping.\n"
          ]
        },
        {
          "name": "stdout",
          "output_type": "stream",
          "text": [
            "\b\b\b\b\b\b\b\b\b\b\b\b\b\b\b\b\b\b\b\b\b\b\b\b\b\b\b\b\b\b\b\b\b\b\b\b\b\b\b\b\b\b\b\b\b\b\b\b\b\b\b\b\b\b\b\b\b\b\b\b\b\b\b\b\b\b\b\b\b\b\b\b\b\b\b\b\b\b\b\b\b\b\r62/62 [==============================] - 0s 7ms/step - loss: 1.0775 - accuracy: 0.4014 - val_loss: 1.0992 - val_accuracy: 0.3216\n",
            "Epoch 34/60\n",
            "55/62 [=========================>....] - ETA: 0s - loss: 1.0818 - accuracy: 0.4011"
          ]
        },
        {
          "name": "stderr",
          "output_type": "stream",
          "text": [
            "WARNING:tensorflow:Can save best model only with val_acc available, skipping.\n"
          ]
        },
        {
          "name": "stdout",
          "output_type": "stream",
          "text": [
            "\b\b\b\b\b\b\b\b\b\b\b\b\b\b\b\b\b\b\b\b\b\b\b\b\b\b\b\b\b\b\b\b\b\b\b\b\b\b\b\b\b\b\b\b\b\b\b\b\b\b\b\b\b\b\b\b\b\b\b\b\b\b\b\b\b\b\b\b\b\b\b\b\b\b\b\b\b\b\b\b\b\b\r62/62 [==============================] - 0s 8ms/step - loss: 1.0814 - accuracy: 0.3994 - val_loss: 1.1020 - val_accuracy: 0.3216\n",
            "Epoch 35/60\n",
            "60/62 [============================>.] - ETA: 0s - loss: 1.0792 - accuracy: 0.3990"
          ]
        },
        {
          "name": "stderr",
          "output_type": "stream",
          "text": [
            "WARNING:tensorflow:Can save best model only with val_acc available, skipping.\n"
          ]
        },
        {
          "name": "stdout",
          "output_type": "stream",
          "text": [
            "\b\b\b\b\b\b\b\b\b\b\b\b\b\b\b\b\b\b\b\b\b\b\b\b\b\b\b\b\b\b\b\b\b\b\b\b\b\b\b\b\b\b\b\b\b\b\b\b\b\b\b\b\b\b\b\b\b\b\b\b\b\b\b\b\b\b\b\b\b\b\b\b\b\b\b\b\b\b\b\b\b\b\r62/62 [==============================] - 0s 7ms/step - loss: 1.0790 - accuracy: 0.4004 - val_loss: 1.1053 - val_accuracy: 0.3216\n",
            "Epoch 36/60\n",
            "62/62 [==============================] - ETA: 0s - loss: 1.0810 - accuracy: 0.4004"
          ]
        },
        {
          "name": "stderr",
          "output_type": "stream",
          "text": [
            "WARNING:tensorflow:Can save best model only with val_acc available, skipping.\n"
          ]
        },
        {
          "name": "stdout",
          "output_type": "stream",
          "text": [
            "\b\b\b\b\b\b\b\b\b\b\b\b\b\b\b\b\b\b\b\b\b\b\b\b\b\b\b\b\b\b\b\b\b\b\b\b\b\b\b\b\b\b\b\b\b\b\b\b\b\b\b\b\b\b\b\b\b\b\b\b\b\b\b\b\b\b\b\b\b\b\b\b\b\b\b\b\b\b\b\b\b\b\r62/62 [==============================] - 0s 8ms/step - loss: 1.0810 - accuracy: 0.4004 - val_loss: 1.1000 - val_accuracy: 0.3216\n",
            "Epoch 37/60\n",
            "53/62 [========================>.....] - ETA: 0s - loss: 1.0836 - accuracy: 0.3962"
          ]
        },
        {
          "name": "stderr",
          "output_type": "stream",
          "text": [
            "WARNING:tensorflow:Can save best model only with val_acc available, skipping.\n"
          ]
        },
        {
          "name": "stdout",
          "output_type": "stream",
          "text": [
            "\b\b\b\b\b\b\b\b\b\b\b\b\b\b\b\b\b\b\b\b\b\b\b\b\b\b\b\b\b\b\b\b\b\b\b\b\b\b\b\b\b\b\b\b\b\b\b\b\b\b\b\b\b\b\b\b\b\b\b\b\b\b\b\b\b\b\b\b\b\b\b\b\b\b\b\b\b\b\b\b\b\b\r62/62 [==============================] - 0s 6ms/step - loss: 1.0824 - accuracy: 0.4004 - val_loss: 1.1013 - val_accuracy: 0.3216\n",
            "Epoch 38/60\n",
            "56/62 [==========================>...] - ETA: 0s - loss: 1.0809 - accuracy: 0.3996"
          ]
        },
        {
          "name": "stderr",
          "output_type": "stream",
          "text": [
            "WARNING:tensorflow:Can save best model only with val_acc available, skipping.\n"
          ]
        },
        {
          "name": "stdout",
          "output_type": "stream",
          "text": [
            "\b\b\b\b\b\b\b\b\b\b\b\b\b\b\b\b\b\b\b\b\b\b\b\b\b\b\b\b\b\b\b\b\b\b\b\b\b\b\b\b\b\b\b\b\b\b\b\b\b\b\b\b\b\b\b\b\b\b\b\b\b\b\b\b\b\b\b\b\b\b\b\b\b\b\b\b\b\b\b\b\b\b\r62/62 [==============================] - 0s 6ms/step - loss: 1.0815 - accuracy: 0.4004 - val_loss: 1.1010 - val_accuracy: 0.3216\n",
            "Epoch 39/60\n",
            "59/62 [===========================>..] - ETA: 0s - loss: 1.0772 - accuracy: 0.4025"
          ]
        },
        {
          "name": "stderr",
          "output_type": "stream",
          "text": [
            "WARNING:tensorflow:Can save best model only with val_acc available, skipping.\n"
          ]
        },
        {
          "name": "stdout",
          "output_type": "stream",
          "text": [
            "\b\b\b\b\b\b\b\b\b\b\b\b\b\b\b\b\b\b\b\b\b\b\b\b\b\b\b\b\b\b\b\b\b\b\b\b\b\b\b\b\b\b\b\b\b\b\b\b\b\b\b\b\b\b\b\b\b\b\b\b\b\b\b\b\b\b\b\b\b\b\b\b\b\b\b\b\b\b\b\b\b\b\r62/62 [==============================] - 0s 6ms/step - loss: 1.0784 - accuracy: 0.4014 - val_loss: 1.1035 - val_accuracy: 0.3216\n",
            "Epoch 40/60\n",
            "58/62 [===========================>..] - ETA: 0s - loss: 1.0826 - accuracy: 0.3944"
          ]
        },
        {
          "name": "stderr",
          "output_type": "stream",
          "text": [
            "WARNING:tensorflow:Can save best model only with val_acc available, skipping.\n"
          ]
        },
        {
          "name": "stdout",
          "output_type": "stream",
          "text": [
            "\b\b\b\b\b\b\b\b\b\b\b\b\b\b\b\b\b\b\b\b\b\b\b\b\b\b\b\b\b\b\b\b\b\b\b\b\b\b\b\b\b\b\b\b\b\b\b\b\b\b\b\b\b\b\b\b\b\b\b\b\b\b\b\b\b\b\b\b\b\b\b\b\b\b\b\b\b\b\b\b\b\b\r62/62 [==============================] - 0s 5ms/step - loss: 1.0809 - accuracy: 0.3994 - val_loss: 1.1055 - val_accuracy: 0.3216\n",
            "Epoch 41/60\n",
            "57/62 [==========================>...] - ETA: 0s - loss: 1.0840 - accuracy: 0.3947"
          ]
        },
        {
          "name": "stderr",
          "output_type": "stream",
          "text": [
            "WARNING:tensorflow:Can save best model only with val_acc available, skipping.\n"
          ]
        },
        {
          "name": "stdout",
          "output_type": "stream",
          "text": [
            "\b\b\b\b\b\b\b\b\b\b\b\b\b\b\b\b\b\b\b\b\b\b\b\b\b\b\b\b\b\b\b\b\b\b\b\b\b\b\b\b\b\b\b\b\b\b\b\b\b\b\b\b\b\b\b\b\b\b\b\b\b\b\b\b\b\b\b\b\b\b\b\b\b\b\b\b\b\b\b\b\b\b\r62/62 [==============================] - 0s 6ms/step - loss: 1.0816 - accuracy: 0.3994 - val_loss: 1.1030 - val_accuracy: 0.3216\n",
            "Epoch 42/60\n",
            "59/62 [===========================>..] - ETA: 0s - loss: 1.0810 - accuracy: 0.3994"
          ]
        },
        {
          "name": "stderr",
          "output_type": "stream",
          "text": [
            "WARNING:tensorflow:Can save best model only with val_acc available, skipping.\n"
          ]
        },
        {
          "name": "stdout",
          "output_type": "stream",
          "text": [
            "\b\b\b\b\b\b\b\b\b\b\b\b\b\b\b\b\b\b\b\b\b\b\b\b\b\b\b\b\b\b\b\b\b\b\b\b\b\b\b\b\b\b\b\b\b\b\b\b\b\b\b\b\b\b\b\b\b\b\b\b\b\b\b\b\b\b\b\b\b\b\b\b\b\b\b\b\b\b\b\b\b\b\r62/62 [==============================] - 1s 12ms/step - loss: 1.0817 - accuracy: 0.4004 - val_loss: 1.1033 - val_accuracy: 0.3216\n",
            "Epoch 43/60\n",
            "60/62 [============================>.] - ETA: 0s - loss: 1.0867 - accuracy: 0.3969"
          ]
        },
        {
          "name": "stderr",
          "output_type": "stream",
          "text": [
            "WARNING:tensorflow:Can save best model only with val_acc available, skipping.\n"
          ]
        },
        {
          "name": "stdout",
          "output_type": "stream",
          "text": [
            "\b\b\b\b\b\b\b\b\b\b\b\b\b\b\b\b\b\b\b\b\b\b\b\b\b\b\b\b\b\b\b\b\b\b\b\b\b\b\b\b\b\b\b\b\b\b\b\b\b\b\b\b\b\b\b\b\b\b\b\b\b\b\b\b\b\b\b\b\b\b\b\b\b\b\b\b\b\b\b\b\b\b\r62/62 [==============================] - 0s 7ms/step - loss: 1.0856 - accuracy: 0.3973 - val_loss: 1.1059 - val_accuracy: 0.3216\n",
            "Epoch 44/60\n",
            "60/62 [============================>.] - ETA: 0s - loss: 1.0806 - accuracy: 0.3979"
          ]
        },
        {
          "name": "stderr",
          "output_type": "stream",
          "text": [
            "WARNING:tensorflow:Can save best model only with val_acc available, skipping.\n"
          ]
        },
        {
          "name": "stdout",
          "output_type": "stream",
          "text": [
            "\b\b\b\b\b\b\b\b\b\b\b\b\b\b\b\b\b\b\b\b\b\b\b\b\b\b\b\b\b\b\b\b\b\b\b\b\b\b\b\b\b\b\b\b\b\b\b\b\b\b\b\b\b\b\b\b\b\b\b\b\b\b\b\b\b\b\b\b\b\b\b\b\b\b\b\b\b\b\b\b\b\b\r62/62 [==============================] - 1s 9ms/step - loss: 1.0805 - accuracy: 0.4004 - val_loss: 1.1050 - val_accuracy: 0.3216\n",
            "Epoch 45/60\n",
            "59/62 [===========================>..] - ETA: 0s - loss: 1.0869 - accuracy: 0.3930"
          ]
        },
        {
          "name": "stderr",
          "output_type": "stream",
          "text": [
            "WARNING:tensorflow:Can save best model only with val_acc available, skipping.\n"
          ]
        },
        {
          "name": "stdout",
          "output_type": "stream",
          "text": [
            "\b\b\b\b\b\b\b\b\b\b\b\b\b\b\b\b\b\b\b\b\b\b\b\b\b\b\b\b\b\b\b\b\b\b\b\b\b\b\b\b\b\b\b\b\b\b\b\b\b\b\b\b\b\b\b\b\b\b\b\b\b\b\b\b\b\b\b\b\b\b\b\b\b\b\b\b\b\b\b\b\b\b\r62/62 [==============================] - 1s 11ms/step - loss: 1.0845 - accuracy: 0.3973 - val_loss: 1.1069 - val_accuracy: 0.3216\n",
            "Epoch 46/60\n",
            "59/62 [===========================>..] - ETA: 0s - loss: 1.0810 - accuracy: 0.4004"
          ]
        },
        {
          "name": "stderr",
          "output_type": "stream",
          "text": [
            "WARNING:tensorflow:Can save best model only with val_acc available, skipping.\n"
          ]
        },
        {
          "name": "stdout",
          "output_type": "stream",
          "text": [
            "\b\b\b\b\b\b\b\b\b\b\b\b\b\b\b\b\b\b\b\b\b\b\b\b\b\b\b\b\b\b\b\b\b\b\b\b\b\b\b\b\b\b\b\b\b\b\b\b\b\b\b\b\b\b\b\b\b\b\b\b\b\b\b\b\b\b\b\b\b\b\b\b\b\b\b\b\b\b\b\b\b\b\r62/62 [==============================] - 0s 5ms/step - loss: 1.0805 - accuracy: 0.4014 - val_loss: 1.1016 - val_accuracy: 0.3216\n",
            "Epoch 47/60\n",
            "61/62 [============================>.] - ETA: 0s - loss: 1.0807 - accuracy: 0.4006"
          ]
        },
        {
          "name": "stderr",
          "output_type": "stream",
          "text": [
            "WARNING:tensorflow:Can save best model only with val_acc available, skipping.\n"
          ]
        },
        {
          "name": "stdout",
          "output_type": "stream",
          "text": [
            "\b\b\b\b\b\b\b\b\b\b\b\b\b\b\b\b\b\b\b\b\b\b\b\b\b\b\b\b\b\b\b\b\b\b\b\b\b\b\b\b\b\b\b\b\b\b\b\b\b\b\b\b\b\b\b\b\b\b\b\b\b\b\b\b\b\b\b\b\b\b\b\b\b\b\b\b\b\b\b\b\b\b\r62/62 [==============================] - 1s 13ms/step - loss: 1.0808 - accuracy: 0.4004 - val_loss: 1.1025 - val_accuracy: 0.3216\n",
            "Epoch 48/60\n",
            "62/62 [==============================] - ETA: 0s - loss: 1.0766 - accuracy: 0.4025"
          ]
        },
        {
          "name": "stderr",
          "output_type": "stream",
          "text": [
            "WARNING:tensorflow:Can save best model only with val_acc available, skipping.\n"
          ]
        },
        {
          "name": "stdout",
          "output_type": "stream",
          "text": [
            "\b\b\b\b\b\b\b\b\b\b\b\b\b\b\b\b\b\b\b\b\b\b\b\b\b\b\b\b\b\b\b\b\b\b\b\b\b\b\b\b\b\b\b\b\b\b\b\b\b\b\b\b\b\b\b\b\b\b\b\b\b\b\b\b\b\b\b\b\b\b\b\b\b\b\b\b\b\b\b\b\b\b\r62/62 [==============================] - 0s 7ms/step - loss: 1.0766 - accuracy: 0.4025 - val_loss: 1.1017 - val_accuracy: 0.3216\n",
            "Epoch 49/60\n",
            "57/62 [==========================>...] - ETA: 0s - loss: 1.0804 - accuracy: 0.3980"
          ]
        },
        {
          "name": "stderr",
          "output_type": "stream",
          "text": [
            "WARNING:tensorflow:Can save best model only with val_acc available, skipping.\n"
          ]
        },
        {
          "name": "stdout",
          "output_type": "stream",
          "text": [
            "\b\b\b\b\b\b\b\b\b\b\b\b\b\b\b\b\b\b\b\b\b\b\b\b\b\b\b\b\b\b\b\b\b\b\b\b\b\b\b\b\b\b\b\b\b\b\b\b\b\b\b\b\b\b\b\b\b\b\b\b\b\b\b\b\b\b\b\b\b\b\b\b\b\b\b\b\b\b\b\b\b\b\r62/62 [==============================] - 0s 6ms/step - loss: 1.0791 - accuracy: 0.4014 - val_loss: 1.1065 - val_accuracy: 0.3216\n",
            "Epoch 50/60\n",
            "56/62 [==========================>...] - ETA: 0s - loss: 1.0816 - accuracy: 0.4007"
          ]
        },
        {
          "name": "stderr",
          "output_type": "stream",
          "text": [
            "WARNING:tensorflow:Can save best model only with val_acc available, skipping.\n"
          ]
        },
        {
          "name": "stdout",
          "output_type": "stream",
          "text": [
            "\b\b\b\b\b\b\b\b\b\b\b\b\b\b\b\b\b\b\b\b\b\b\b\b\b\b\b\b\b\b\b\b\b\b\b\b\b\b\b\b\b\b\b\b\b\b\b\b\b\b\b\b\b\b\b\b\b\b\b\b\b\b\b\b\b\b\b\b\b\b\b\b\b\b\b\b\b\b\b\b\b\b\r62/62 [==============================] - 0s 6ms/step - loss: 1.0812 - accuracy: 0.3994 - val_loss: 1.1061 - val_accuracy: 0.3216\n",
            "Epoch 51/60\n",
            "58/62 [===========================>..] - ETA: 0s - loss: 1.0838 - accuracy: 0.3987"
          ]
        },
        {
          "name": "stderr",
          "output_type": "stream",
          "text": [
            "WARNING:tensorflow:Can save best model only with val_acc available, skipping.\n"
          ]
        },
        {
          "name": "stdout",
          "output_type": "stream",
          "text": [
            "\b\b\b\b\b\b\b\b\b\b\b\b\b\b\b\b\b\b\b\b\b\b\b\b\b\b\b\b\b\b\b\b\b\b\b\b\b\b\b\b\b\b\b\b\b\b\b\b\b\b\b\b\b\b\b\b\b\b\b\b\b\b\b\b\b\b\b\b\b\b\b\b\b\b\b\b\b\b\b\b\b\b\r62/62 [==============================] - 0s 5ms/step - loss: 1.0827 - accuracy: 0.3994 - val_loss: 1.1051 - val_accuracy: 0.3216\n",
            "Epoch 52/60\n",
            "58/62 [===========================>..] - ETA: 0s - loss: 1.0782 - accuracy: 0.4030"
          ]
        },
        {
          "name": "stderr",
          "output_type": "stream",
          "text": [
            "WARNING:tensorflow:Can save best model only with val_acc available, skipping.\n"
          ]
        },
        {
          "name": "stdout",
          "output_type": "stream",
          "text": [
            "\b\b\b\b\b\b\b\b\b\b\b\b\b\b\b\b\b\b\b\b\b\b\b\b\b\b\b\b\b\b\b\b\b\b\b\b\b\b\b\b\b\b\b\b\b\b\b\b\b\b\b\b\b\b\b\b\b\b\b\b\b\b\b\b\b\b\b\b\b\b\b\b\b\b\b\b\b\b\b\b\b\b\r62/62 [==============================] - 0s 6ms/step - loss: 1.0790 - accuracy: 0.4004 - val_loss: 1.1058 - val_accuracy: 0.3216\n",
            "Epoch 53/60\n",
            "56/62 [==========================>...] - ETA: 0s - loss: 1.0812 - accuracy: 0.3951"
          ]
        },
        {
          "name": "stderr",
          "output_type": "stream",
          "text": [
            "WARNING:tensorflow:Can save best model only with val_acc available, skipping.\n"
          ]
        },
        {
          "name": "stdout",
          "output_type": "stream",
          "text": [
            "\b\b\b\b\b\b\b\b\b\b\b\b\b\b\b\b\b\b\b\b\b\b\b\b\b\b\b\b\b\b\b\b\b\b\b\b\b\b\b\b\b\b\b\b\b\b\b\b\b\b\b\b\b\b\b\b\b\b\b\b\b\b\b\b\b\b\b\b\b\b\b\b\b\b\b\b\b\b\b\b\b\b\r62/62 [==============================] - 0s 6ms/step - loss: 1.0795 - accuracy: 0.4014 - val_loss: 1.1004 - val_accuracy: 0.3216\n",
            "Epoch 54/60\n",
            "59/62 [===========================>..] - ETA: 0s - loss: 1.0811 - accuracy: 0.4025"
          ]
        },
        {
          "name": "stderr",
          "output_type": "stream",
          "text": [
            "WARNING:tensorflow:Can save best model only with val_acc available, skipping.\n"
          ]
        },
        {
          "name": "stdout",
          "output_type": "stream",
          "text": [
            "\b\b\b\b\b\b\b\b\b\b\b\b\b\b\b\b\b\b\b\b\b\b\b\b\b\b\b\b\b\b\b\b\b\b\b\b\b\b\b\b\b\b\b\b\b\b\b\b\b\b\b\b\b\b\b\b\b\b\b\b\b\b\b\b\b\b\b\b\b\b\b\b\b\b\b\b\b\b\b\b\b\b\r62/62 [==============================] - 0s 5ms/step - loss: 1.0822 - accuracy: 0.3994 - val_loss: 1.1033 - val_accuracy: 0.3216\n",
            "Epoch 55/60\n",
            "57/62 [==========================>...] - ETA: 0s - loss: 1.0838 - accuracy: 0.3914"
          ]
        },
        {
          "name": "stderr",
          "output_type": "stream",
          "text": [
            "WARNING:tensorflow:Can save best model only with val_acc available, skipping.\n"
          ]
        },
        {
          "name": "stdout",
          "output_type": "stream",
          "text": [
            "\b\b\b\b\b\b\b\b\b\b\b\b\b\b\b\b\b\b\b\b\b\b\b\b\b\b\b\b\b\b\b\b\b\b\b\b\b\b\b\b\b\b\b\b\b\b\b\b\b\b\b\b\b\b\b\b\b\b\b\b\b\b\b\b\b\b\b\b\b\b\b\b\b\b\b\b\b\b\b\b\b\b\r62/62 [==============================] - 0s 6ms/step - loss: 1.0798 - accuracy: 0.4004 - val_loss: 1.1054 - val_accuracy: 0.3216\n",
            "Epoch 56/60\n",
            "53/62 [========================>.....] - ETA: 0s - loss: 1.0812 - accuracy: 0.4033"
          ]
        },
        {
          "name": "stderr",
          "output_type": "stream",
          "text": [
            "WARNING:tensorflow:Can save best model only with val_acc available, skipping.\n"
          ]
        },
        {
          "name": "stdout",
          "output_type": "stream",
          "text": [
            "\b\b\b\b\b\b\b\b\b\b\b\b\b\b\b\b\b\b\b\b\b\b\b\b\b\b\b\b\b\b\b\b\b\b\b\b\b\b\b\b\b\b\b\b\b\b\b\b\b\b\b\b\b\b\b\b\b\b\b\b\b\b\b\b\b\b\b\b\b\b\b\b\b\b\b\b\b\b\b\b\b\b\r62/62 [==============================] - 0s 6ms/step - loss: 1.0836 - accuracy: 0.3984 - val_loss: 1.1068 - val_accuracy: 0.3216\n",
            "Epoch 57/60\n",
            "61/62 [============================>.] - ETA: 0s - loss: 1.0785 - accuracy: 0.4027"
          ]
        },
        {
          "name": "stderr",
          "output_type": "stream",
          "text": [
            "WARNING:tensorflow:Can save best model only with val_acc available, skipping.\n"
          ]
        },
        {
          "name": "stdout",
          "output_type": "stream",
          "text": [
            "\b\b\b\b\b\b\b\b\b\b\b\b\b\b\b\b\b\b\b\b\b\b\b\b\b\b\b\b\b\b\b\b\b\b\b\b\b\b\b\b\b\b\b\b\b\b\b\b\b\b\b\b\b\b\b\b\b\b\b\b\b\b\b\b\b\b\b\b\b\b\b\b\b\b\b\b\b\b\b\b\b\b\r62/62 [==============================] - 0s 6ms/step - loss: 1.0785 - accuracy: 0.4025 - val_loss: 1.1014 - val_accuracy: 0.3216\n",
            "Epoch 58/60\n",
            "58/62 [===========================>..] - ETA: 0s - loss: 1.0800 - accuracy: 0.3998"
          ]
        },
        {
          "name": "stderr",
          "output_type": "stream",
          "text": [
            "WARNING:tensorflow:Can save best model only with val_acc available, skipping.\n"
          ]
        },
        {
          "name": "stdout",
          "output_type": "stream",
          "text": [
            "\b\b\b\b\b\b\b\b\b\b\b\b\b\b\b\b\b\b\b\b\b\b\b\b\b\b\b\b\b\b\b\b\b\b\b\b\b\b\b\b\b\b\b\b\b\b\b\b\b\b\b\b\b\b\b\b\b\b\b\b\b\b\b\b\b\b\b\b\b\b\b\b\b\b\b\b\b\b\b\b\b\b\r62/62 [==============================] - 0s 6ms/step - loss: 1.0796 - accuracy: 0.4014 - val_loss: 1.1033 - val_accuracy: 0.3216\n",
            "Epoch 59/60\n",
            "57/62 [==========================>...] - ETA: 0s - loss: 1.0794 - accuracy: 0.4013"
          ]
        },
        {
          "name": "stderr",
          "output_type": "stream",
          "text": [
            "WARNING:tensorflow:Can save best model only with val_acc available, skipping.\n"
          ]
        },
        {
          "name": "stdout",
          "output_type": "stream",
          "text": [
            "\b\b\b\b\b\b\b\b\b\b\b\b\b\b\b\b\b\b\b\b\b\b\b\b\b\b\b\b\b\b\b\b\b\b\b\b\b\b\b\b\b\b\b\b\b\b\b\b\b\b\b\b\b\b\b\b\b\b\b\b\b\b\b\b\b\b\b\b\b\b\b\b\b\b\b\b\b\b\b\b\b\b\r62/62 [==============================] - 0s 6ms/step - loss: 1.0789 - accuracy: 0.4004 - val_loss: 1.1056 - val_accuracy: 0.3216\n",
            "Epoch 60/60\n",
            "56/62 [==========================>...] - ETA: 0s - loss: 1.0851 - accuracy: 0.3929"
          ]
        },
        {
          "name": "stderr",
          "output_type": "stream",
          "text": [
            "WARNING:tensorflow:Can save best model only with val_acc available, skipping.\n"
          ]
        },
        {
          "name": "stdout",
          "output_type": "stream",
          "text": [
            "\b\b\b\b\b\b\b\b\b\b\b\b\b\b\b\b\b\b\b\b\b\b\b\b\b\b\b\b\b\b\b\b\b\b\b\b\b\b\b\b\b\b\b\b\b\b\b\b\b\b\b\b\b\b\b\b\b\b\b\b\b\b\b\b\b\b\b\b\b\b\b\b\b\b\b\b\b\b\b\b\b\b\r62/62 [==============================] - 0s 6ms/step - loss: 1.0848 - accuracy: 0.3973 - val_loss: 1.1032 - val_accuracy: 0.3216\n"
          ]
        }
      ],
      "source": [
        "d3a_model4,d3a_history4 = train_categorical_model(location)    # Without regularization lr = 0.0001 epochs = 60\n",
        "# Over-fitted"
      ]
    },
    {
      "cell_type": "markdown",
      "metadata": {
        "id": "S8PJkayV82Jq"
      },
      "source": [
        "### Fine Tuning"
      ]
    },
    {
      "cell_type": "code",
      "execution_count": null,
      "metadata": {
        "id": "UqmHT_Wu82Ju"
      },
      "outputs": [],
      "source": [
        "ft_model = load_model(fine_tuned_model_path)"
      ]
    },
    {
      "cell_type": "code",
      "execution_count": null,
      "metadata": {
        "id": "KSiu2k6e82Jv"
      },
      "outputs": [],
      "source": [
        "with open(location+'/top_history.txt') as f:\n",
        "    top_history = json.load(f)"
      ]
    },
    {
      "cell_type": "code",
      "execution_count": null,
      "metadata": {
        "id": "4cNny7Ew82Jv"
      },
      "outputs": [],
      "source": [
        "with open(location+'/ft_history.txt') as f:\n",
        "    ft_history = json.load(f)"
      ]
    },
    {
      "cell_type": "code",
      "execution_count": null,
      "metadata": {
        "id": "JyMOb6GF82Jv"
      },
      "outputs": [],
      "source": [
        "val_labels = np.array([0] * val_samples[0] +\n",
        "                      [1] * val_samples[1] +\n",
        "                      [2] * val_samples[2])\n",
        "val_labels = to_categorical(val_labels)"
      ]
    },
    {
      "cell_type": "code",
      "execution_count": null,
      "metadata": {
        "colab": {
          "base_uri": "https://localhost:8080/"
        },
        "id": "LN7Xzh6i82Jv",
        "outputId": "f7fa1b4c-da84-480c-bcac-73b089d10481"
      },
      "outputs": [
        {
          "name": "stdout",
          "output_type": "stream",
          "text": [
            "Found 171 images belonging to 3 classes.\n"
          ]
        },
        {
          "name": "stderr",
          "output_type": "stream",
          "text": [
            "<ipython-input-28-72342a3eff16>:15: UserWarning: `Model.predict_generator` is deprecated and will be removed in a future version. Please use `Model.predict`, which supports generators.\n",
            "  predictions = model.predict_generator(test_generator,\n"
          ]
        },
        {
          "name": "stdout",
          "output_type": "stream",
          "text": [
            "21/21 [==============================] - 74s 4s/step\n",
            "Saving /content/drive/My Drive/TVS/car-damage-dataset/data3a/pred_labels.npy\n",
            "\n",
            "              precision    recall  f1-score   support\n",
            "\n",
            "           0       0.82      0.58      0.68        55\n",
            "           1       0.55      0.38      0.45        68\n",
            "           2       0.48      0.85      0.62        48\n",
            "\n",
            "    accuracy                           0.58       171\n",
            "   macro avg       0.62      0.61      0.58       171\n",
            "weighted avg       0.62      0.58      0.57       171\n",
            "\n",
            "\n"
          ]
        }
      ],
      "source": [
        "cm = evaluate_categorical_model(ft_model, val_data_dir, np.argmax(val_labels,axis=1),Force=True)"
      ]
    },
    {
      "cell_type": "code",
      "execution_count": null,
      "metadata": {
        "id": "qAzaJ7z-82Jv"
      },
      "outputs": [],
      "source": [
        "def plot_acc_metrics(hist1, hist2, stop1=50,stop2=10):\n",
        "    fig, axes = plt.subplots(nrows=2, ncols=1, figsize=(4.25,6))\n",
        "\n",
        "    axes = axes.flatten()\n",
        "\n",
        "    axes[0].plot(range(stop1), hist1['acc'], label='Training', color='#FF533D')\n",
        "    axes[0].plot(range(stop1), hist1['val_acc'], label='Validation', color='#03507E')\n",
        "    axes[0].set_title('Training')\n",
        "    axes[0].set_ylabel('Accuracy')\n",
        "    axes[0].set_xlabel('Epoch')\n",
        "    axes[0].legend(loc='lower right')\n",
        "\n",
        "    axes[1].plot(range(stop2), hist2['acc'], label='Training', color='#FF533D')\n",
        "    axes[1].plot(range(stop2), hist2['val_acc'], label='Validation', color='#03507E')\n",
        "    axes[1].set_title('Fine-tuning')\n",
        "    axes[1].set_ylabel('Accuracy')\n",
        "    axes[1].set_xlabel('Epoch')\n",
        "    axes[1].legend(loc='lower right')\n",
        "\n",
        "    plt.tight_layout()"
      ]
    },
    {
      "cell_type": "code",
      "execution_count": null,
      "metadata": {
        "id": "6_wlw3po82Jv"
      },
      "outputs": [],
      "source": [
        "heatmap_labels = ['Minor', 'Moderate', 'Severe']"
      ]
    },
    {
      "cell_type": "code",
      "execution_count": null,
      "metadata": {
        "colab": {
          "base_uri": "https://localhost:8080/",
          "height": 430
        },
        "id": "sR-8WATE82Jv",
        "outputId": "7201f906-1784-4f0d-e2a5-a70a5c2de687"
      },
      "outputs": [
        {
          "data": {
            "image/png": "[encoded data removed]",
            "text/plain": [
              "<Figure size 640x480 with 2 Axes>"
            ]
          },
          "metadata": {},
          "output_type": "display_data"
        }
      ],
      "source": [
        "sns.heatmap(cm, annot=True, annot_kws={\"size\": 14},\n",
        "            fmt='g', cmap='Blues', xticklabels=heatmap_labels, yticklabels=heatmap_labels);"
      ]
    },
    {
      "cell_type": "code",
      "execution_count": null,
      "metadata": {
        "id": "ZDN0KGCh82Jv"
      },
      "outputs": [],
      "source": [
        "def severity_estimator(image_path, model):\n",
        "    print(\"Determining severity of damage...\")\n",
        "    urllib.request.urlretrieve(image_path, 'save_4th_gate.jpg') # or other way to upload image\n",
        "    img = load_img('save_4th_gate.jpg', target_size=(256, 256)) # this is a PIL image\n",
        "    x = img_to_array(img) # this is a Numpy array with shape (3, 256, 256)\n",
        "    x = x.reshape((1,) + x.shape) # this is a Numpy array with shape (1, 3, 256, 256)\n",
        "    pred = model.predict(x)\n",
        "    pred_label = np.argmax(pred, axis=1)\n",
        "#     print(pred_label)\n",
        "    d = {0: 'Minor', 1: 'Moderate', 2: 'Severe'}\n",
        "    for key in d.keys():\n",
        "        if pred_label[0] == key:\n",
        "            print(\"Assessment: {} damage to vehicle\".format(d[key]))\n",
        "    print(\"Severity assessment complete.\")"
      ]
    },
    {
      "cell_type": "code",
      "execution_count": null,
      "metadata": {
        "colab": {
          "base_uri": "https://localhost:8080/",
          "height": 250
        },
        "id": "ayKz07d982Jw",
        "outputId": "13cf9691-5fa0-40a3-80f5-5b145d83d648"
      },
      "outputs": [
        {
          "data": {
            "image/jpeg": "[encoded data removed]",
            "text/plain": [
              "<IPython.core.display.Image object>"
            ]
          },
          "execution_count": 46,
          "metadata": {},
          "output_type": "execute_result"
        }
      ],
      "source": [
        "Image('https://www.nerdwallet.com/blog/wp-content/uploads/2015/12/exterior-car-damage-384x233.jpg')"
      ]
    },
    {
      "cell_type": "code",
      "execution_count": null,
      "metadata": {
        "colab": {
          "base_uri": "https://localhost:8080/"
        },
        "id": "IbjXe6Rm82Jw",
        "outputId": "6fd18148-62de-4679-9aee-f5ec276604b9"
      },
      "outputs": [
        {
          "name": "stdout",
          "output_type": "stream",
          "text": [
            "Determining severity of damage...\n",
            "1/1 [==============================] - 1s 720ms/step\n",
            "Assessment: Minor damage to vehicle\n",
            "Severity assessment complete.\n"
          ]
        }
      ],
      "source": [
        "severity_estimator('https://www.nerdwallet.com/blog/wp-content/uploads/2015/12/exterior-car-damage-384x233.jpg', ft_model)"
      ]
    },
    {
      "cell_type": "code",
      "execution_count": null,
      "metadata": {
        "colab": {
          "base_uri": "https://localhost:8080/",
          "height": 167
        },
        "id": "lyGJoqIM82Jw",
        "outputId": "932e43bd-0262-459b-a906-d3d7cf35319d"
      },
      "outputs": [
        {
          "data": {
            "image/jpeg": "[encoded data removed]",
            "text/plain": [
              "<IPython.core.display.Image object>"
            ]
          },
          "execution_count": 52,
          "metadata": {},
          "output_type": "execute_result"
        }
      ],
      "source": [
        "Image('http://1.bp.blogspot.com/-ToQS-qIxYbo/UDNuV5OcVQI/AAAAAAAABdo/tjeQywWiOo0/s200/Key+scratch.jpg')"
      ]
    },
    {
      "cell_type": "code",
      "execution_count": null,
      "metadata": {
        "colab": {
          "base_uri": "https://localhost:8080/"
        },
        "id": "4ZaCxj6r82Jw",
        "outputId": "d8e3e60b-1b02-4cf5-9d55-b6b74ac98915"
      },
      "outputs": [
        {
          "name": "stdout",
          "output_type": "stream",
          "text": [
            "Determining severity of damage...\n",
            "1/1 [==============================] - 0s 19ms/step\n",
            "Assessment: Minor damage to vehicle\n",
            "Severity assessment complete.\n"
          ]
        }
      ],
      "source": [
        "severity_estimator('http://1.bp.blogspot.com/-ToQS-qIxYbo/UDNuV5OcVQI/AAAAAAAABdo/tjeQywWiOo0/s200/Key+scratch.jpg', ft_model)"
      ]
    },
    {
      "cell_type": "code",
      "execution_count": null,
      "metadata": {
        "colab": {
          "base_uri": "https://localhost:8080/",
          "height": 286
        },
        "id": "olJjlxKx82Jw",
        "outputId": "27deee9e-3dfe-4c1d-9b06-a017aeef0ced"
      },
      "outputs": [
        {
          "data": {
            "image/jpeg": "[encoded data removed]",
            "text/plain": [
              "<IPython.core.display.Image object>"
            ]
          },
          "execution_count": 54,
          "metadata": {},
          "output_type": "execute_result"
        }
      ],
      "source": [
        "Image('http://1.bp.blogspot.com/-hzoFer11Gcw/Uw_b0Z8HGAI/AAAAAAAAA4M/XjV-NrRl0iM/s1600/20140227_140935.jpg')"
      ]
    },
    {
      "cell_type": "code",
      "execution_count": null,
      "metadata": {
        "colab": {
          "base_uri": "https://localhost:8080/"
        },
        "id": "QBrqPGCD82Jw",
        "outputId": "45c03585-9ddf-43fc-cc74-ac40fcc8f010"
      },
      "outputs": [
        {
          "name": "stdout",
          "output_type": "stream",
          "text": [
            "Determining severity of damage...\n",
            "1/1 [==============================] - 0s 18ms/step\n",
            "Assessment: Severe damage to vehicle\n",
            "Severity assessment complete.\n"
          ]
        }
      ],
      "source": [
        "severity_estimator('http://1.bp.blogspot.com/-hzoFer11Gcw/Uw_b0Z8HGAI/AAAAAAAAA4M/XjV-NrRl0iM/s1600/20140227_140935.jpg', ft_model)"
      ]
    },
    {
      "cell_type": "code",
      "execution_count": null,
      "metadata": {
        "id": "tY6-kbZf82Jw"
      },
      "outputs": [],
      "source": [
        "from sklearn.datasets import load_iris\n",
        "from sklearn.ensemble import RandomForestClassifier\n",
        "import pickle\n",
        "\n",
        "\n",
        "\n",
        "# Pickle and save the model\n",
        "with open('model.pkl', 'wb') as file:\n",
        "    pickle.dump(ft_model, file)\n",
        "\n",
        "\n"
      ]
    }
  ],
  "metadata": {
    "accelerator": "GPU",
    "colab": {
      "gpuType": "T4",
      "provenance": []
    },
    "kernelspec": {
      "display_name": "Python 3",
      "name": "python3"
    },
    "language_info": {
      "codemirror_mode": {
        "name": "ipython",
        "version": 3
      },
      "file_extension": ".py",
      "mimetype": "text/x-python",
      "name": "python",
      "nbconvert_exporter": "python",
      "pygments_lexer": "ipython3",
      "version": "3.6.2"
    }
  },
  "nbformat": 4,
  "nbformat_minor": 0
}
