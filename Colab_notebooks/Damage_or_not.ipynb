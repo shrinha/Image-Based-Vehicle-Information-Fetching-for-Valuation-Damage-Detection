{
  "cells": [
    {
      "cell_type": "markdown",
      "metadata": {
        "id": "TLeW54nX99yO"
      },
      "source": [
        "# data1a - Whole or Damaged"
      ]
    },
    {
      "cell_type": "code",
      "execution_count": null,
      "metadata": {
        "id": "hpAyGikZ99yR"
      },
      "outputs": [],
      "source": [
        "import urllib.request\n",
        "import pickle\n",
        "import matplotlib.pyplot as plt\n",
        "from IPython.display import display,Image,clear_output\n",
        "import numpy as np\n",
        "import os\n",
        "import h5py\n",
        "import json\n",
        "\n",
        "import seaborn as sns\n",
        "import matplotlib.pyplot as plt\n",
        "%matplotlib inline\n",
        "\n",
        "from sklearn.metrics import classification_report,confusion_matrix\n",
        "from collections import Counter,defaultdict"
      ]
    },
    {
      "cell_type": "code",
      "execution_count": null,
      "metadata": {
        "colab": {
          "base_uri": "https://localhost:8080/"
        },
        "id": "8THzGPsB99yT",
        "outputId": "54b577a8-a239-480d-9ba6-a5a8d5dbe92f"
      },
      "outputs": [
        {
          "output_type": "stream",
          "name": "stdout",
          "text": [
            "Requirement already satisfied: keras in /usr/local/lib/python3.10/dist-packages (2.13.1)\n"
          ]
        }
      ],
      "source": [
        "!pip install keras\n",
        "import keras\n",
        "from keras.preprocessing.image import ImageDataGenerator, img_to_array, array_to_img, load_img\n",
        "from keras.models import Sequential, load_model,Model\n",
        "from keras.layers import Dense, Flatten, Dropout, Activation, add\n",
        "from keras.layers import Convolution2D, MaxPooling2D, ZeroPadding2D\n",
        "from keras.applications.vgg16 import VGG16,preprocess_input\n",
        "#from keras.utils.np_utils import to_categorical\n",
        "from keras.utils import get_file\n",
        "from keras import optimizers\n",
        "from keras.regularizers import l1, l2\n",
        "from keras.callbacks import ModelCheckpoint, History"
      ]
    },
    {
      "cell_type": "code",
      "execution_count": null,
      "metadata": {
        "colab": {
          "base_uri": "https://localhost:8080/",
          "height": 36
        },
        "id": "bvZ5pAty99yV",
        "outputId": "a0c55188-0633-4c68-efd7-6691bcbb8502"
      },
      "outputs": [
        {
          "output_type": "execute_result",
          "data": {
            "text/plain": [
              "'tensorflow'"
            ],
            "application/vnd.google.colaboratory.intrinsic+json": {
              "type": "string"
            }
          },
          "metadata": {},
          "execution_count": 6
        }
      ],
      "source": [
        "from keras import backend as K\n",
        "K.backend()"
      ]
    },
    {
      "cell_type": "code",
      "execution_count": null,
      "metadata": {
        "colab": {
          "base_uri": "https://localhost:8080/"
        },
        "id": "JEJT43op99yV",
        "outputId": "605bf2c6-f512-47d9-cb98-091acba97914"
      },
      "outputs": [
        {
          "output_type": "stream",
          "name": "stdout",
          "text": [
            "Downloading data from https://github.com/fchollet/deep-learning-models/releases/download/v0.1/vgg16_weights_tf_dim_ordering_tf_kernels_notop.h5\n",
            "58889256/58889256 [==============================] - 0s 0us/step\n"
          ]
        }
      ],
      "source": [
        "WEIGHTS_PATH_NO_TOP = 'https://github.com/fchollet/deep-learning-models/releases/download/v0.1/vgg16_weights_tf_dim_ordering_tf_kernels_notop.h5'\n",
        "weights_path = get_file('vgg16_weights.h5', WEIGHTS_PATH_NO_TOP)"
      ]
    },
    {
      "cell_type": "code",
      "source": [
        "from google.colab import drive\n",
        "drive.mount('/content/drive')\n"
      ],
      "metadata": {
        "colab": {
          "base_uri": "https://localhost:8080/"
        },
        "id": "IQ9k9fdF-xtd",
        "outputId": "bf03d4ed-acaa-4d4c-89bf-0a0a1c0f0092"
      },
      "execution_count": null,
      "outputs": [
        {
          "output_type": "stream",
          "name": "stdout",
          "text": [
            "Mounted at /content/drive\n"
          ]
        }
      ]
    },
    {
      "cell_type": "markdown",
      "metadata": {
        "id": "L9e6nX4499yW"
      },
      "source": [
        "### Defining input data"
      ]
    },
    {
      "cell_type": "code",
      "execution_count": null,
      "metadata": {
        "id": "l-d9I9ti99yW"
      },
      "outputs": [],
      "source": [
        "# path to the model weights file\n",
        "location = '/content/drive/My Drive/TVS/car-damage-dataset/data1a'\n",
        "top_model_weights_path=location+'/top_model_weights.h5' # will be saved into when we create our model\n",
        "fine_tuned_model_path = location+'/ft_model.h5'\n",
        "\n",
        "# dimensions of our images\n",
        "img_width, img_height = 256, 256\n",
        "\n",
        "train_data_dir = location+'/training'\n",
        "val_data_dir = location+'/validation'\n",
        "\n",
        "train_samples = [len(os.listdir(os.path.join(train_data_dir,i))) for i in os.listdir(train_data_dir)]\n",
        "nb_train_samples = sum(train_samples)\n",
        "val_samples = [len(os.listdir(os.path.join(val_data_dir,i))) for i in os.listdir(val_data_dir)]\n",
        "nb_val_samples = sum(val_samples)\n",
        "\n",
        "nb_epoch = 50"
      ]
    },
    {
      "cell_type": "code",
      "execution_count": null,
      "metadata": {
        "colab": {
          "base_uri": "https://localhost:8080/"
        },
        "id": "LF3tZggW99yW",
        "outputId": "a50849f2-0b51-49e2-bb05-62b3003c0889"
      },
      "outputs": [
        {
          "output_type": "execute_result",
          "data": {
            "text/plain": [
              "[920, 920]"
            ]
          },
          "metadata": {},
          "execution_count": 12
        }
      ],
      "source": [
        "train_samples"
      ]
    },
    {
      "cell_type": "code",
      "execution_count": null,
      "metadata": {
        "colab": {
          "base_uri": "https://localhost:8080/",
          "height": 36
        },
        "id": "UNFeRvYV99yX",
        "outputId": "59bb6e4b-6cd2-4d38-b9de-0de769cce77f"
      },
      "outputs": [
        {
          "output_type": "execute_result",
          "data": {
            "text/plain": [
              "'channels_last'"
            ],
            "application/vnd.google.colaboratory.intrinsic+json": {
              "type": "string"
            }
          },
          "metadata": {},
          "execution_count": 13
        }
      ],
      "source": [
        "K.image_data_format()"
      ]
    },
    {
      "cell_type": "code",
      "execution_count": null,
      "metadata": {
        "id": "-Rwaceqv99yX"
      },
      "outputs": [],
      "source": [
        "if K.image_data_format() == 'channels_first':\n",
        "    input_shape = (3, img_width, img_height)\n",
        "else:\n",
        "    input_shape = (img_width, img_height, 3)    # img_width first or img_height"
      ]
    },
    {
      "cell_type": "code",
      "execution_count": null,
      "metadata": {
        "colab": {
          "base_uri": "https://localhost:8080/"
        },
        "id": "QraqM8SG99yX",
        "outputId": "6061688e-f92a-48fa-ef06-276a2d4e9b8f"
      },
      "outputs": [
        {
          "output_type": "execute_result",
          "data": {
            "text/plain": [
              "(256, 256, 3)"
            ]
          },
          "metadata": {},
          "execution_count": 15
        }
      ],
      "source": [
        "input_shape"
      ]
    },
    {
      "cell_type": "code",
      "execution_count": null,
      "metadata": {
        "id": "8bf-59ff99yY"
      },
      "outputs": [],
      "source": [
        "# def load_vgg16(weights_path='../vgg16_weights.h5'):\n",
        "#     model = Sequential()\n",
        "#     model.add(ZeroPadding2D(padding=(1,1),input_shape=(224,224,3)))   # for best performance you should set\n",
        "#                                                                       # `image_data_format='channels_last'`\n",
        "#                                                                       # in your Keras config\n",
        "#                                                                       # at ~/.keras/keras.json.\n",
        "#     model.add(Convolution2D(filters=64, kernel_size=3, strides=3, activation='relu'))\n",
        "#     model.add(ZeroPadding2D(padding=(1,1)))\n",
        "#     model.add(Convolution2D(filters=64, kernel_size=3, strides=3, activation='relu'))\n",
        "#     model.add(MaxPooling2D(pool_size=(2,2), strides=(2,2)))\n",
        "\n",
        "#     model.add(ZeroPadding2D(padding=(1,1)))\n",
        "#     model.add(Convolution2D(filters=128, kernel_size=3, strides=3, activation='relu'))\n",
        "#     model.add(ZeroPadding2D(padding=(1,1)))\n",
        "#     model.add(Convolution2D(filters=128, kernel_size=3, strides=3, activation='relu'))\n",
        "#     model.add(MaxPooling2D(pool_size=(2,2), strides=(2,2)))\n",
        "\n",
        "#     model.add(ZeroPadding2D(padding=(1,1)))\n",
        "#     model.add(Convolution2D(filters=256, kernel_size=3, strides=3, activation='relu'))\n",
        "\n",
        "#     model.add(ZeroPadding2D(padding=(1,1)))\n",
        "#     model.add(Convolution2D(filters=256, kernel_size=3, strides=3, activation='relu'))\n",
        "#     model.add(ZeroPadding2D(padding=(1,1)))\n",
        "#     model.add(Convolution2D(filters=256, kernel_size=3, strides=3, activation='relu'))\n",
        "#     model.add(MaxPooling2D(pool_size=(2,2), strides=(2,2)))\n",
        "\n",
        "#     model.add(ZeroPadding2D(padding=(1,1)))\n",
        "#     model.add(Convolution2D(filters=512, kernel_size=3, strides=3, activation='relu'))\n",
        "#     model.add(ZeroPadding2D(padding=(1,1)))\n",
        "#     model.add(Convolution2D(filters=512, kernel_size=3, strides=3, activation='relu'))\n",
        "#     model.add(ZeroPadding2D(padding=(1,1)))\n",
        "#     model.add(Convolution2D(filters=512, kernel_size=3, strides=3, activation='relu'))\n",
        "#     model.add(MaxPooling2D(pool_size=(2,2), strides=(2,2)))\n",
        "\n",
        "#     model.add(ZeroPadding2D(padding=(1,1)))\n",
        "#     model.add(Convolution2D(filters=512, kernel_size=3, strides=3, activation='relu'))\n",
        "#     model.add(ZeroPadding2D(padding=(1,1)))\n",
        "#     model.add(Convolution2D(filters=512, kernel_size=3, strides=3, activation='relu'))\n",
        "#     model.add(ZeroPadding2D(padding=(1,1)))\n",
        "#     model.add(Convolution2D(filters=512, kernel_size=3, strides=3, activation='relu'))\n",
        "#     model.add(MaxPooling2D(pool_size=(2,2), strides=(2,2)))\n",
        "\n",
        "#     # assert os.path.exists(weights_path), 'Model weights not found (see \"weights_path\")'\n",
        "\n",
        "#     # Use below code to freeze the conv model i.e. its learning\n",
        "#     '''\n",
        "#     for layer in model.layers:\n",
        "#         layer.trainable = False\n",
        "#     '''\n",
        "\n",
        "#     if weights_path:\n",
        "#     # note: this chops off the last layers of VGG16\n",
        "\n",
        "#     # loads the weights of the VGG16 networks\n",
        "#     # NOTE: when there is a complete match between model definition\n",
        "#     # and your weights savefile, you can simply call model.load_weights(filename)\n",
        "#         f = h5py.File(weights_path)\n",
        "\n",
        "#         # LEFT CURRENTLY"
      ]
    },
    {
      "cell_type": "code",
      "execution_count": null,
      "metadata": {
        "id": "w0tVNMyB99yY",
        "outputId": "ffa36abf-dd85-461c-e683-b591a0a5cd94"
      },
      "outputs": [
        {
          "ename": "KeyboardInterrupt",
          "evalue": "",
          "output_type": "error",
          "traceback": [
            "\u001b[0;31m---------------------------------------------------------------------------\u001b[0m",
            "\u001b[0;31mKeyboardInterrupt\u001b[0m                         Traceback (most recent call last)",
            "\u001b[0;32m<ipython-input-103-f4a4f2254f52>\u001b[0m in \u001b[0;36m<module>\u001b[0;34m()\u001b[0m\n\u001b[1;32m      2\u001b[0m     \u001b[0mbase_model\u001b[0m \u001b[0;34m=\u001b[0m \u001b[0mload_model\u001b[0m\u001b[0;34m(\u001b[0m\u001b[0;34m'vgg16.h5'\u001b[0m\u001b[0;34m)\u001b[0m\u001b[0;34m\u001b[0m\u001b[0m\n\u001b[1;32m      3\u001b[0m \u001b[0;32melse\u001b[0m\u001b[0;34m:\u001b[0m\u001b[0;34m\u001b[0m\u001b[0m\n\u001b[0;32m----> 4\u001b[0;31m     \u001b[0mbase_model\u001b[0m \u001b[0;34m=\u001b[0m \u001b[0mVGG16\u001b[0m\u001b[0;34m(\u001b[0m\u001b[0mweights\u001b[0m\u001b[0;34m=\u001b[0m\u001b[0;34m'imagenet'\u001b[0m\u001b[0;34m)\u001b[0m\u001b[0;34m\u001b[0m\u001b[0m\n\u001b[0m\u001b[1;32m      5\u001b[0m     \u001b[0mbase_model\u001b[0m\u001b[0;34m.\u001b[0m\u001b[0msave\u001b[0m\u001b[0;34m(\u001b[0m\u001b[0mlocation\u001b[0m\u001b[0;34m)\u001b[0m\u001b[0;34m\u001b[0m\u001b[0m\n",
            "\u001b[0;32m~/anaconda3/lib/python3.6/site-packages/keras/applications/vgg16.py\u001b[0m in \u001b[0;36mVGG16\u001b[0;34m(include_top, weights, input_tensor, input_shape, pooling, classes)\u001b[0m\n\u001b[1;32m    103\u001b[0m \u001b[0;34m\u001b[0m\u001b[0m\n\u001b[1;32m    104\u001b[0m     \u001b[0;32mif\u001b[0m \u001b[0minput_tensor\u001b[0m \u001b[0;32mis\u001b[0m \u001b[0;32mNone\u001b[0m\u001b[0;34m:\u001b[0m\u001b[0;34m\u001b[0m\u001b[0m\n\u001b[0;32m--> 105\u001b[0;31m         \u001b[0mimg_input\u001b[0m \u001b[0;34m=\u001b[0m \u001b[0mInput\u001b[0m\u001b[0;34m(\u001b[0m\u001b[0mshape\u001b[0m\u001b[0;34m=\u001b[0m\u001b[0minput_shape\u001b[0m\u001b[0;34m)\u001b[0m\u001b[0;34m\u001b[0m\u001b[0m\n\u001b[0m\u001b[1;32m    106\u001b[0m     \u001b[0;32melse\u001b[0m\u001b[0;34m:\u001b[0m\u001b[0;34m\u001b[0m\u001b[0m\n\u001b[1;32m    107\u001b[0m         \u001b[0;32mif\u001b[0m \u001b[0;32mnot\u001b[0m \u001b[0mK\u001b[0m\u001b[0;34m.\u001b[0m\u001b[0mis_keras_tensor\u001b[0m\u001b[0;34m(\u001b[0m\u001b[0minput_tensor\u001b[0m\u001b[0;34m)\u001b[0m\u001b[0;34m:\u001b[0m\u001b[0;34m\u001b[0m\u001b[0m\n",
            "\u001b[0;32m~/anaconda3/lib/python3.6/site-packages/keras/engine/topology.py\u001b[0m in \u001b[0;36mInput\u001b[0;34m(shape, batch_shape, name, dtype, sparse, tensor)\u001b[0m\n\u001b[1;32m   1437\u001b[0m                              \u001b[0mname\u001b[0m\u001b[0;34m=\u001b[0m\u001b[0mname\u001b[0m\u001b[0;34m,\u001b[0m \u001b[0mdtype\u001b[0m\u001b[0;34m=\u001b[0m\u001b[0mdtype\u001b[0m\u001b[0;34m,\u001b[0m\u001b[0;34m\u001b[0m\u001b[0m\n\u001b[1;32m   1438\u001b[0m                              \u001b[0msparse\u001b[0m\u001b[0;34m=\u001b[0m\u001b[0msparse\u001b[0m\u001b[0;34m,\u001b[0m\u001b[0;34m\u001b[0m\u001b[0m\n\u001b[0;32m-> 1439\u001b[0;31m                              input_tensor=tensor)\n\u001b[0m\u001b[1;32m   1440\u001b[0m     \u001b[0;31m# Return tensor including _keras_shape and _keras_history.\u001b[0m\u001b[0;34m\u001b[0m\u001b[0;34m\u001b[0m\u001b[0m\n\u001b[1;32m   1441\u001b[0m     \u001b[0;31m# Note that in this case train_output and test_output are the same pointer.\u001b[0m\u001b[0;34m\u001b[0m\u001b[0;34m\u001b[0m\u001b[0m\n",
            "\u001b[0;32m~/anaconda3/lib/python3.6/site-packages/keras/legacy/interfaces.py\u001b[0m in \u001b[0;36mwrapper\u001b[0;34m(*args, **kwargs)\u001b[0m\n\u001b[1;32m     85\u001b[0m                 warnings.warn('Update your `' + object_name +\n\u001b[1;32m     86\u001b[0m                               '` call to the Keras 2 API: ' + signature, stacklevel=2)\n\u001b[0;32m---> 87\u001b[0;31m             \u001b[0;32mreturn\u001b[0m \u001b[0mfunc\u001b[0m\u001b[0;34m(\u001b[0m\u001b[0;34m*\u001b[0m\u001b[0margs\u001b[0m\u001b[0;34m,\u001b[0m \u001b[0;34m**\u001b[0m\u001b[0mkwargs\u001b[0m\u001b[0;34m)\u001b[0m\u001b[0;34m\u001b[0m\u001b[0m\n\u001b[0m\u001b[1;32m     88\u001b[0m         \u001b[0mwrapper\u001b[0m\u001b[0;34m.\u001b[0m\u001b[0m_original_function\u001b[0m \u001b[0;34m=\u001b[0m \u001b[0mfunc\u001b[0m\u001b[0;34m\u001b[0m\u001b[0m\n\u001b[1;32m     89\u001b[0m         \u001b[0;32mreturn\u001b[0m \u001b[0mwrapper\u001b[0m\u001b[0;34m\u001b[0m\u001b[0m\n",
            "\u001b[0;32m~/anaconda3/lib/python3.6/site-packages/keras/engine/topology.py\u001b[0m in \u001b[0;36m__init__\u001b[0;34m(self, input_shape, batch_size, batch_input_shape, dtype, input_tensor, sparse, name)\u001b[0m\n\u001b[1;32m   1346\u001b[0m                                          \u001b[0mdtype\u001b[0m\u001b[0;34m=\u001b[0m\u001b[0mdtype\u001b[0m\u001b[0;34m,\u001b[0m\u001b[0;34m\u001b[0m\u001b[0m\n\u001b[1;32m   1347\u001b[0m                                          \u001b[0msparse\u001b[0m\u001b[0;34m=\u001b[0m\u001b[0mself\u001b[0m\u001b[0;34m.\u001b[0m\u001b[0msparse\u001b[0m\u001b[0;34m,\u001b[0m\u001b[0;34m\u001b[0m\u001b[0m\n\u001b[0;32m-> 1348\u001b[0;31m                                          name=self.name)\n\u001b[0m\u001b[1;32m   1349\u001b[0m         \u001b[0;32melse\u001b[0m\u001b[0;34m:\u001b[0m\u001b[0;34m\u001b[0m\u001b[0m\n\u001b[1;32m   1350\u001b[0m             \u001b[0mself\u001b[0m\u001b[0;34m.\u001b[0m\u001b[0mis_placeholder\u001b[0m \u001b[0;34m=\u001b[0m \u001b[0;32mFalse\u001b[0m\u001b[0;34m\u001b[0m\u001b[0m\n",
            "\u001b[0;32m~/anaconda3/lib/python3.6/site-packages/keras/backend/tensorflow_backend.py\u001b[0m in \u001b[0;36mplaceholder\u001b[0;34m(shape, ndim, dtype, sparse, name)\u001b[0m\n\u001b[1;32m    486\u001b[0m         \u001b[0mx\u001b[0m \u001b[0;34m=\u001b[0m \u001b[0mtf\u001b[0m\u001b[0;34m.\u001b[0m\u001b[0msparse_placeholder\u001b[0m\u001b[0;34m(\u001b[0m\u001b[0mdtype\u001b[0m\u001b[0;34m,\u001b[0m \u001b[0mshape\u001b[0m\u001b[0;34m=\u001b[0m\u001b[0mshape\u001b[0m\u001b[0;34m,\u001b[0m \u001b[0mname\u001b[0m\u001b[0;34m=\u001b[0m\u001b[0mname\u001b[0m\u001b[0;34m)\u001b[0m\u001b[0;34m\u001b[0m\u001b[0m\n\u001b[1;32m    487\u001b[0m     \u001b[0;32melse\u001b[0m\u001b[0;34m:\u001b[0m\u001b[0;34m\u001b[0m\u001b[0m\n\u001b[0;32m--> 488\u001b[0;31m         \u001b[0mx\u001b[0m \u001b[0;34m=\u001b[0m \u001b[0mtf\u001b[0m\u001b[0;34m.\u001b[0m\u001b[0mplaceholder\u001b[0m\u001b[0;34m(\u001b[0m\u001b[0mdtype\u001b[0m\u001b[0;34m,\u001b[0m \u001b[0mshape\u001b[0m\u001b[0;34m=\u001b[0m\u001b[0mshape\u001b[0m\u001b[0;34m,\u001b[0m \u001b[0mname\u001b[0m\u001b[0;34m=\u001b[0m\u001b[0mname\u001b[0m\u001b[0;34m)\u001b[0m\u001b[0;34m\u001b[0m\u001b[0m\n\u001b[0m\u001b[1;32m    489\u001b[0m     \u001b[0mx\u001b[0m\u001b[0;34m.\u001b[0m\u001b[0m_keras_shape\u001b[0m \u001b[0;34m=\u001b[0m \u001b[0mshape\u001b[0m\u001b[0;34m\u001b[0m\u001b[0m\n\u001b[1;32m    490\u001b[0m     \u001b[0mx\u001b[0m\u001b[0;34m.\u001b[0m\u001b[0m_uses_learning_phase\u001b[0m \u001b[0;34m=\u001b[0m \u001b[0;32mFalse\u001b[0m\u001b[0;34m\u001b[0m\u001b[0m\n",
            "\u001b[0;32m~/anaconda3/lib/python3.6/site-packages/tensorflow/python/ops/array_ops.py\u001b[0m in \u001b[0;36mplaceholder\u001b[0;34m(dtype, shape, name)\u001b[0m\n\u001b[1;32m   1597\u001b[0m     \u001b[0mevaluated\u001b[0m \u001b[0mdirectly\u001b[0m\u001b[0;34m.\u001b[0m\u001b[0;34m\u001b[0m\u001b[0m\n\u001b[1;32m   1598\u001b[0m   \"\"\"\n\u001b[0;32m-> 1599\u001b[0;31m   \u001b[0;32mreturn\u001b[0m \u001b[0mgen_array_ops\u001b[0m\u001b[0;34m.\u001b[0m\u001b[0m_placeholder\u001b[0m\u001b[0;34m(\u001b[0m\u001b[0mdtype\u001b[0m\u001b[0;34m=\u001b[0m\u001b[0mdtype\u001b[0m\u001b[0;34m,\u001b[0m \u001b[0mshape\u001b[0m\u001b[0;34m=\u001b[0m\u001b[0mshape\u001b[0m\u001b[0;34m,\u001b[0m \u001b[0mname\u001b[0m\u001b[0;34m=\u001b[0m\u001b[0mname\u001b[0m\u001b[0;34m)\u001b[0m\u001b[0;34m\u001b[0m\u001b[0m\n\u001b[0m\u001b[1;32m   1600\u001b[0m \u001b[0;34m\u001b[0m\u001b[0m\n\u001b[1;32m   1601\u001b[0m \u001b[0;34m\u001b[0m\u001b[0m\n",
            "\u001b[0;32m~/anaconda3/lib/python3.6/site-packages/tensorflow/python/ops/gen_array_ops.py\u001b[0m in \u001b[0;36m_placeholder\u001b[0;34m(dtype, shape, name)\u001b[0m\n\u001b[1;32m   3089\u001b[0m   \u001b[0;32mif\u001b[0m \u001b[0m_ctx\u001b[0m\u001b[0;34m.\u001b[0m\u001b[0min_graph_mode\u001b[0m\u001b[0;34m(\u001b[0m\u001b[0;34m)\u001b[0m\u001b[0;34m:\u001b[0m\u001b[0;34m\u001b[0m\u001b[0m\n\u001b[1;32m   3090\u001b[0m     _, _, _op = _op_def_lib._apply_op_helper(\n\u001b[0;32m-> 3091\u001b[0;31m         \"Placeholder\", dtype=dtype, shape=shape, name=name)\n\u001b[0m\u001b[1;32m   3092\u001b[0m     \u001b[0m_result\u001b[0m \u001b[0;34m=\u001b[0m \u001b[0m_op\u001b[0m\u001b[0;34m.\u001b[0m\u001b[0moutputs\u001b[0m\u001b[0;34m[\u001b[0m\u001b[0;34m:\u001b[0m\u001b[0;34m]\u001b[0m\u001b[0;34m\u001b[0m\u001b[0m\n\u001b[1;32m   3093\u001b[0m     \u001b[0m_inputs_flat\u001b[0m \u001b[0;34m=\u001b[0m \u001b[0m_op\u001b[0m\u001b[0;34m.\u001b[0m\u001b[0minputs\u001b[0m\u001b[0;34m\u001b[0m\u001b[0m\n",
            "\u001b[0;32m~/anaconda3/lib/python3.6/site-packages/tensorflow/python/framework/op_def_library.py\u001b[0m in \u001b[0;36m_apply_op_helper\u001b[0;34m(self, op_type_name, name, **keywords)\u001b[0m\n\u001b[1;32m    785\u001b[0m         op = g.create_op(op_type_name, inputs, output_types, name=scope,\n\u001b[1;32m    786\u001b[0m                          \u001b[0minput_types\u001b[0m\u001b[0;34m=\u001b[0m\u001b[0minput_types\u001b[0m\u001b[0;34m,\u001b[0m \u001b[0mattrs\u001b[0m\u001b[0;34m=\u001b[0m\u001b[0mattr_protos\u001b[0m\u001b[0;34m,\u001b[0m\u001b[0;34m\u001b[0m\u001b[0m\n\u001b[0;32m--> 787\u001b[0;31m                          op_def=op_def)\n\u001b[0m\u001b[1;32m    788\u001b[0m       \u001b[0;32mreturn\u001b[0m \u001b[0moutput_structure\u001b[0m\u001b[0;34m,\u001b[0m \u001b[0mop_def\u001b[0m\u001b[0;34m.\u001b[0m\u001b[0mis_stateful\u001b[0m\u001b[0;34m,\u001b[0m \u001b[0mop\u001b[0m\u001b[0;34m\u001b[0m\u001b[0m\n\u001b[1;32m    789\u001b[0m \u001b[0;34m\u001b[0m\u001b[0m\n",
            "\u001b[0;32m~/anaconda3/lib/python3.6/site-packages/tensorflow/python/framework/ops.py\u001b[0m in \u001b[0;36mcreate_op\u001b[0;34m(self, op_type, inputs, dtypes, input_types, name, attrs, op_def, compute_shapes, compute_device)\u001b[0m\n\u001b[1;32m   2956\u001b[0m         op_def=op_def)\n\u001b[1;32m   2957\u001b[0m     \u001b[0;32mif\u001b[0m \u001b[0mcompute_shapes\u001b[0m\u001b[0;34m:\u001b[0m\u001b[0;34m\u001b[0m\u001b[0m\n\u001b[0;32m-> 2958\u001b[0;31m       \u001b[0mset_shapes_for_outputs\u001b[0m\u001b[0;34m(\u001b[0m\u001b[0mret\u001b[0m\u001b[0;34m)\u001b[0m\u001b[0;34m\u001b[0m\u001b[0m\n\u001b[0m\u001b[1;32m   2959\u001b[0m     \u001b[0mself\u001b[0m\u001b[0;34m.\u001b[0m\u001b[0m_add_op\u001b[0m\u001b[0;34m(\u001b[0m\u001b[0mret\u001b[0m\u001b[0;34m)\u001b[0m\u001b[0;34m\u001b[0m\u001b[0m\n\u001b[1;32m   2960\u001b[0m     \u001b[0mself\u001b[0m\u001b[0;34m.\u001b[0m\u001b[0m_record_op_seen_by_control_dependencies\u001b[0m\u001b[0;34m(\u001b[0m\u001b[0mret\u001b[0m\u001b[0;34m)\u001b[0m\u001b[0;34m\u001b[0m\u001b[0m\n",
            "\u001b[0;32m~/anaconda3/lib/python3.6/site-packages/tensorflow/python/framework/ops.py\u001b[0m in \u001b[0;36mset_shapes_for_outputs\u001b[0;34m(op)\u001b[0m\n\u001b[1;32m   2226\u001b[0m         (op, len(shapes), len(op.outputs), shape_func.__name__, str(shapes)))\n\u001b[1;32m   2227\u001b[0m   \u001b[0;32mfor\u001b[0m \u001b[0moutput\u001b[0m\u001b[0;34m,\u001b[0m \u001b[0ms\u001b[0m \u001b[0;32min\u001b[0m \u001b[0mzip\u001b[0m\u001b[0;34m(\u001b[0m\u001b[0mop\u001b[0m\u001b[0;34m.\u001b[0m\u001b[0moutputs\u001b[0m\u001b[0;34m,\u001b[0m \u001b[0mshapes\u001b[0m\u001b[0;34m)\u001b[0m\u001b[0;34m:\u001b[0m\u001b[0;34m\u001b[0m\u001b[0m\n\u001b[0;32m-> 2228\u001b[0;31m     \u001b[0moutput\u001b[0m\u001b[0;34m.\u001b[0m\u001b[0mset_shape\u001b[0m\u001b[0;34m(\u001b[0m\u001b[0ms\u001b[0m\u001b[0;34m)\u001b[0m\u001b[0;34m\u001b[0m\u001b[0m\n\u001b[0m\u001b[1;32m   2229\u001b[0m \u001b[0;34m\u001b[0m\u001b[0m\n\u001b[1;32m   2230\u001b[0m \u001b[0;34m\u001b[0m\u001b[0m\n",
            "\u001b[0;32m~/anaconda3/lib/python3.6/site-packages/tensorflow/python/framework/ops.py\u001b[0m in \u001b[0;36mset_shape\u001b[0;34m(self, shape)\u001b[0m\n\u001b[1;32m    405\u001b[0m         \u001b[0mthis\u001b[0m \u001b[0mtensor\u001b[0m\u001b[0;34m.\u001b[0m\u001b[0;34m\u001b[0m\u001b[0m\n\u001b[1;32m    406\u001b[0m     \"\"\"\n\u001b[0;32m--> 407\u001b[0;31m     \u001b[0mself\u001b[0m\u001b[0;34m.\u001b[0m\u001b[0m_shape\u001b[0m \u001b[0;34m=\u001b[0m \u001b[0mself\u001b[0m\u001b[0;34m.\u001b[0m\u001b[0m_shape\u001b[0m\u001b[0;34m.\u001b[0m\u001b[0mmerge_with\u001b[0m\u001b[0;34m(\u001b[0m\u001b[0mshape\u001b[0m\u001b[0;34m)\u001b[0m\u001b[0;34m\u001b[0m\u001b[0m\n\u001b[0m\u001b[1;32m    408\u001b[0m \u001b[0;34m\u001b[0m\u001b[0m\n\u001b[1;32m    409\u001b[0m   \u001b[0;34m@\u001b[0m\u001b[0mproperty\u001b[0m\u001b[0;34m\u001b[0m\u001b[0m\n",
            "\u001b[0;32m~/anaconda3/lib/python3.6/site-packages/tensorflow/python/framework/tensor_shape.py\u001b[0m in \u001b[0;36mmerge_with\u001b[0;34m(self, other)\u001b[0m\n\u001b[1;32m    569\u001b[0m       \u001b[0mValueError\u001b[0m\u001b[0;34m:\u001b[0m \u001b[0mIf\u001b[0m\u001b[0;31m \u001b[0m\u001b[0;31m`\u001b[0m\u001b[0mself\u001b[0m\u001b[0;31m`\u001b[0m \u001b[0;32mand\u001b[0m\u001b[0;31m \u001b[0m\u001b[0;31m`\u001b[0m\u001b[0mother\u001b[0m\u001b[0;31m`\u001b[0m \u001b[0mare\u001b[0m \u001b[0;32mnot\u001b[0m \u001b[0mcompatible\u001b[0m\u001b[0;34m.\u001b[0m\u001b[0;34m\u001b[0m\u001b[0m\n\u001b[1;32m    570\u001b[0m     \"\"\"\n\u001b[0;32m--> 571\u001b[0;31m     \u001b[0mother\u001b[0m \u001b[0;34m=\u001b[0m \u001b[0mas_shape\u001b[0m\u001b[0;34m(\u001b[0m\u001b[0mother\u001b[0m\u001b[0;34m)\u001b[0m\u001b[0;34m\u001b[0m\u001b[0m\n\u001b[0m\u001b[1;32m    572\u001b[0m     \u001b[0;32mif\u001b[0m \u001b[0mself\u001b[0m\u001b[0;34m.\u001b[0m\u001b[0m_dims\u001b[0m \u001b[0;32mis\u001b[0m \u001b[0;32mNone\u001b[0m\u001b[0;34m:\u001b[0m\u001b[0;34m\u001b[0m\u001b[0m\n\u001b[1;32m    573\u001b[0m       \u001b[0;32mreturn\u001b[0m \u001b[0mother\u001b[0m\u001b[0;34m\u001b[0m\u001b[0m\n",
            "\u001b[0;32m~/anaconda3/lib/python3.6/site-packages/tensorflow/python/framework/tensor_shape.py\u001b[0m in \u001b[0;36mas_shape\u001b[0;34m(shape)\u001b[0m\n\u001b[1;32m    844\u001b[0m \u001b[0;32mdef\u001b[0m \u001b[0mas_shape\u001b[0m\u001b[0;34m(\u001b[0m\u001b[0mshape\u001b[0m\u001b[0;34m)\u001b[0m\u001b[0;34m:\u001b[0m\u001b[0;34m\u001b[0m\u001b[0m\n\u001b[1;32m    845\u001b[0m   \u001b[0;34m\"\"\"Converts the given object to a TensorShape.\"\"\"\u001b[0m\u001b[0;34m\u001b[0m\u001b[0m\n\u001b[0;32m--> 846\u001b[0;31m   \u001b[0;32mif\u001b[0m \u001b[0misinstance\u001b[0m\u001b[0;34m(\u001b[0m\u001b[0mshape\u001b[0m\u001b[0;34m,\u001b[0m \u001b[0mTensorShape\u001b[0m\u001b[0;34m)\u001b[0m\u001b[0;34m:\u001b[0m\u001b[0;34m\u001b[0m\u001b[0m\n\u001b[0m\u001b[1;32m    847\u001b[0m     \u001b[0;32mreturn\u001b[0m \u001b[0mshape\u001b[0m\u001b[0;34m\u001b[0m\u001b[0m\n\u001b[1;32m    848\u001b[0m   \u001b[0;32melse\u001b[0m\u001b[0;34m:\u001b[0m\u001b[0;34m\u001b[0m\u001b[0m\n",
            "\u001b[0;31mKeyboardInterrupt\u001b[0m: "
          ]
        }
      ],
      "source": [
        "# if(os.path.exists(location+'vgg16.h5')):\n",
        "#     base_model = load_model('vgg16.h5')\n",
        "# else:\n",
        "#     base_model = VGG16(weights='imagenet')\n",
        "#     base_model.save(location)"
      ]
    },
    {
      "cell_type": "code",
      "execution_count": null,
      "metadata": {
        "colab": {
          "base_uri": "https://localhost:8080/"
        },
        "id": "YKqKKbXg99yZ",
        "outputId": "5c8d3af4-a0b7-401e-d90b-14d473cfb93d"
      },
      "outputs": [
        {
          "output_type": "stream",
          "name": "stdout",
          "text": [
            "Downloading data from https://storage.googleapis.com/tensorflow/keras-applications/vgg16/vgg16_weights_tf_dim_ordering_tf_kernels_notop.h5\n",
            "58889256/58889256 [==============================] - 0s 0us/step\n"
          ]
        }
      ],
      "source": [
        "base_model = VGG16(weights='imagenet',include_top=False,input_shape=input_shape ,pooling=max)"
      ]
    },
    {
      "cell_type": "code",
      "execution_count": null,
      "metadata": {
        "colab": {
          "base_uri": "https://localhost:8080/"
        },
        "id": "YGKJzH2099yZ",
        "outputId": "4a73a9aa-8973-4da0-8120-6b367e661f76"
      },
      "outputs": [
        {
          "output_type": "stream",
          "name": "stdout",
          "text": [
            "Model: \"vgg16\"\n",
            "_________________________________________________________________\n",
            " Layer (type)                Output Shape              Param #   \n",
            "=================================================================\n",
            " input_1 (InputLayer)        [(None, 256, 256, 3)]     0         \n",
            "                                                                 \n",
            " block1_conv1 (Conv2D)       (None, 256, 256, 64)      1792      \n",
            "                                                                 \n",
            " block1_conv2 (Conv2D)       (None, 256, 256, 64)      36928     \n",
            "                                                                 \n",
            " block1_pool (MaxPooling2D)  (None, 128, 128, 64)      0         \n",
            "                                                                 \n",
            " block2_conv1 (Conv2D)       (None, 128, 128, 128)     73856     \n",
            "                                                                 \n",
            " block2_conv2 (Conv2D)       (None, 128, 128, 128)     147584    \n",
            "                                                                 \n",
            " block2_pool (MaxPooling2D)  (None, 64, 64, 128)       0         \n",
            "                                                                 \n",
            " block3_conv1 (Conv2D)       (None, 64, 64, 256)       295168    \n",
            "                                                                 \n",
            " block3_conv2 (Conv2D)       (None, 64, 64, 256)       590080    \n",
            "                                                                 \n",
            " block3_conv3 (Conv2D)       (None, 64, 64, 256)       590080    \n",
            "                                                                 \n",
            " block3_pool (MaxPooling2D)  (None, 32, 32, 256)       0         \n",
            "                                                                 \n",
            " block4_conv1 (Conv2D)       (None, 32, 32, 512)       1180160   \n",
            "                                                                 \n",
            " block4_conv2 (Conv2D)       (None, 32, 32, 512)       2359808   \n",
            "                                                                 \n",
            " block4_conv3 (Conv2D)       (None, 32, 32, 512)       2359808   \n",
            "                                                                 \n",
            " block4_pool (MaxPooling2D)  (None, 16, 16, 512)       0         \n",
            "                                                                 \n",
            " block5_conv1 (Conv2D)       (None, 16, 16, 512)       2359808   \n",
            "                                                                 \n",
            " block5_conv2 (Conv2D)       (None, 16, 16, 512)       2359808   \n",
            "                                                                 \n",
            " block5_conv3 (Conv2D)       (None, 16, 16, 512)       2359808   \n",
            "                                                                 \n",
            " block5_pool (MaxPooling2D)  (None, 8, 8, 512)         0         \n",
            "                                                                 \n",
            "=================================================================\n",
            "Total params: 14714688 (56.13 MB)\n",
            "Trainable params: 14714688 (56.13 MB)\n",
            "Non-trainable params: 0 (0.00 Byte)\n",
            "_________________________________________________________________\n"
          ]
        }
      ],
      "source": [
        "base_model.summary()"
      ]
    },
    {
      "cell_type": "code",
      "execution_count": null,
      "metadata": {
        "id": "Mgl7N0WM99yZ"
      },
      "outputs": [],
      "source": [
        "# Set base_model layers to non-trainable\n",
        "for layer in base_model.layers:\n",
        "    layer.trainable=False"
      ]
    },
    {
      "cell_type": "code",
      "execution_count": null,
      "metadata": {
        "colab": {
          "base_uri": "https://localhost:8080/"
        },
        "id": "DkxHklWJ99yZ",
        "outputId": "2f6ddd84-18ec-41b1-c8aa-8bba1340984d"
      },
      "outputs": [
        {
          "output_type": "stream",
          "name": "stdout",
          "text": [
            "Model: \"vgg16\"\n",
            "_________________________________________________________________\n",
            " Layer (type)                Output Shape              Param #   \n",
            "=================================================================\n",
            " input_1 (InputLayer)        [(None, 256, 256, 3)]     0         \n",
            "                                                                 \n",
            " block1_conv1 (Conv2D)       (None, 256, 256, 64)      1792      \n",
            "                                                                 \n",
            " block1_conv2 (Conv2D)       (None, 256, 256, 64)      36928     \n",
            "                                                                 \n",
            " block1_pool (MaxPooling2D)  (None, 128, 128, 64)      0         \n",
            "                                                                 \n",
            " block2_conv1 (Conv2D)       (None, 128, 128, 128)     73856     \n",
            "                                                                 \n",
            " block2_conv2 (Conv2D)       (None, 128, 128, 128)     147584    \n",
            "                                                                 \n",
            " block2_pool (MaxPooling2D)  (None, 64, 64, 128)       0         \n",
            "                                                                 \n",
            " block3_conv1 (Conv2D)       (None, 64, 64, 256)       295168    \n",
            "                                                                 \n",
            " block3_conv2 (Conv2D)       (None, 64, 64, 256)       590080    \n",
            "                                                                 \n",
            " block3_conv3 (Conv2D)       (None, 64, 64, 256)       590080    \n",
            "                                                                 \n",
            " block3_pool (MaxPooling2D)  (None, 32, 32, 256)       0         \n",
            "                                                                 \n",
            " block4_conv1 (Conv2D)       (None, 32, 32, 512)       1180160   \n",
            "                                                                 \n",
            " block4_conv2 (Conv2D)       (None, 32, 32, 512)       2359808   \n",
            "                                                                 \n",
            " block4_conv3 (Conv2D)       (None, 32, 32, 512)       2359808   \n",
            "                                                                 \n",
            " block4_pool (MaxPooling2D)  (None, 16, 16, 512)       0         \n",
            "                                                                 \n",
            " block5_conv1 (Conv2D)       (None, 16, 16, 512)       2359808   \n",
            "                                                                 \n",
            " block5_conv2 (Conv2D)       (None, 16, 16, 512)       2359808   \n",
            "                                                                 \n",
            " block5_conv3 (Conv2D)       (None, 16, 16, 512)       2359808   \n",
            "                                                                 \n",
            " block5_pool (MaxPooling2D)  (None, 8, 8, 512)         0         \n",
            "                                                                 \n",
            "=================================================================\n",
            "Total params: 14714688 (56.13 MB)\n",
            "Trainable params: 0 (0.00 Byte)\n",
            "Non-trainable params: 14714688 (56.13 MB)\n",
            "_________________________________________________________________\n"
          ]
        }
      ],
      "source": [
        "base_model.summary()"
      ]
    },
    {
      "cell_type": "code",
      "execution_count": null,
      "metadata": {
        "id": "hbORUpMJ99ya"
      },
      "outputs": [],
      "source": [
        "def preprocess_input_vgg(x):\n",
        "    \"\"\"Wrapper around keras.applications.vgg16.preprocess_input()\n",
        "    to make it compatible for use with keras.preprocessing.image.ImageDataGenerator's\n",
        "    `preprocessing_function` argument.\n",
        "\n",
        "    Parameters\n",
        "    ----------\n",
        "    x : a numpy 3darray (a single image to be preprocessed)\n",
        "\n",
        "    Note we cannot pass keras.applications.vgg16.preprocess_input()\n",
        "    directly to to keras.preprocessing.image.ImageDataGenerator's\n",
        "    `preprocessing_function` argument because the former expects a\n",
        "    4D tensor whereas the latter expects a 3D tensor. Hence the\n",
        "    existence of this wrapper.\n",
        "\n",
        "    Returns a numpy 3darray (the preprocessed image).\n",
        "\n",
        "    \"\"\"\n",
        "    X = np.expand_dims(x, axis=0)\n",
        "    X = preprocess_input(X)\n",
        "    return X[0]"
      ]
    },
    {
      "cell_type": "code",
      "execution_count": null,
      "metadata": {
        "id": "U40ynFvT99ya"
      },
      "outputs": [],
      "source": [
        "def save_bottleneck_features(location):    # SAMAJANA\n",
        "    datagen = ImageDataGenerator(preprocessing_function=preprocess_input_vgg)\n",
        "\n",
        "    if(os.path.exists(location+'/bottleneck_features_train.npy')):\n",
        "        print('Already exists',location+'/bottleneck_features_train.npy')\n",
        "    else:\n",
        "        train_generator = datagen.flow_from_directory(train_data_dir,\n",
        "                                                      target_size=(img_height,img_width),\n",
        "                                                      batch_size=16,\n",
        "                                                      class_mode=None,         # only data, no labels\n",
        "                                                      shuffle=False)           # keep data in same order as labels\n",
        "\n",
        "        bottleneck_features_train = base_model.predict_generator(train_generator,\n",
        "                                                                 nb_train_samples // 16,\n",
        "                                                                 verbose=1)\n",
        "\n",
        "        print('Saving',location+'/bottleneck_features_train.npy')\n",
        "        np.save(open(location+'/bottleneck_features_train.npy', 'wb'), bottleneck_features_train)\n",
        "        #np.save(location+'/bottleneck_features_train.npy',bottleneck_features_train)\n",
        "\n",
        "    if(os.path.exists(location+'/bottleneck_features_val.npy')):\n",
        "        print('Already exists',location+'/bottleneck_features_val.npy')\n",
        "    else:\n",
        "        # Repeat it with validation data\n",
        "        val_generator = datagen.flow_from_directory(val_data_dir,\n",
        "                                                    target_size=(img_height,img_width),\n",
        "                                                    batch_size=16,\n",
        "                                                    class_mode=None,\n",
        "                                                    shuffle=False)\n",
        "\n",
        "        bottleneck_features_val = base_model.predict_generator(val_generator,\n",
        "                                                               nb_val_samples / 16,\n",
        "                                                               verbose=1)\n",
        "        print('Saving',location+'/bottleneck_features_val.npy')\n",
        "        np.save(open(location+'/bottleneck_features_val.npy','wb'),bottleneck_features_val)\n",
        "        #np.save(location+'/bottleneck_features_val.npy',bottleneck_features_train)"
      ]
    },
    {
      "cell_type": "code",
      "execution_count": null,
      "metadata": {
        "id": "326pzDrj99ya"
      },
      "outputs": [],
      "source": [
        "val_labels = np.array([0]*val_samples[0] +\n",
        "                          [1]*val_samples[1])"
      ]
    },
    {
      "cell_type": "code",
      "execution_count": null,
      "metadata": {
        "id": "N3Kg0cAG99ya"
      },
      "outputs": [],
      "source": [
        "train_data = np.load(open(location+'/bottleneck_features_train.npy', 'rb'))"
      ]
    },
    {
      "cell_type": "code",
      "execution_count": null,
      "metadata": {
        "colab": {
          "base_uri": "https://localhost:8080/"
        },
        "id": "0sR9kIQ699yb",
        "outputId": "bea91f1a-ca2b-4174-f4b5-53d8c3b16a8d"
      },
      "outputs": [
        {
          "output_type": "execute_result",
          "data": {
            "text/plain": [
              "(1840, 8, 8, 512)"
            ]
          },
          "metadata": {},
          "execution_count": 24
        }
      ],
      "source": [
        "train_data.shape"
      ]
    },
    {
      "cell_type": "code",
      "execution_count": null,
      "metadata": {
        "colab": {
          "base_uri": "https://localhost:8080/"
        },
        "id": "YXaRaofj99yb",
        "outputId": "04c622a2-5e90-433f-a890-242828944398"
      },
      "outputs": [
        {
          "output_type": "execute_result",
          "data": {
            "text/plain": [
              "(460, 8, 8, 512)"
            ]
          },
          "metadata": {},
          "execution_count": 25
        }
      ],
      "source": [
        "val_data = np.load(open(location+'/bottleneck_features_val.npy', 'rb'))\n",
        "val_data.shape"
      ]
    },
    {
      "cell_type": "code",
      "execution_count": null,
      "metadata": {
        "id": "9wmd-75199yb"
      },
      "outputs": [],
      "source": [
        "def train_binary_model(location):\n",
        "    train_data = np.load(open(location+'/bottleneck_features_train.npy', 'rb'))\n",
        "    print(train_data.shape[1:])\n",
        "    train_labels = np.array([0]*train_samples[0]+\n",
        "                            [1]*train_samples[1])\n",
        "\n",
        "    val_data = np.load(open(location+'/bottleneck_features_val.npy', 'rb'))\n",
        "    val_labels = np.array([0]*val_samples[0] +\n",
        "                          [1]*val_samples[1])\n",
        "\n",
        "    model = Sequential()\n",
        "    model.add(Flatten(input_shape=(train_data.shape[1:])))     # 8, 8, 512\n",
        "    model.add(Dense(units=256, activation='relu',\n",
        "                    kernel_regularizer=l2(l=0.01)))\n",
        "    model.add(Dropout(rate=0.5))\n",
        "    model.add(Dense(units=1, activation='sigmoid'))\n",
        "\n",
        "    model.compile(optimizer=optimizers.SGD(lr=0.0001, momentum=0.9),    # check the lr\n",
        "                  loss='binary_crossentropy',\n",
        "                  metrics=['accuracy'])\n",
        "\n",
        "    checkpoint = ModelCheckpoint(top_model_weights_path,\n",
        "                                 monitor='val_acc',\n",
        "                                 verbose=1,\n",
        "                                 save_best_only=True,\n",
        "                                 save_weights_only=True,\n",
        "                                 mode='auto')     # ?read documentation\n",
        "\n",
        "    fit = model.fit(train_data, train_labels, epochs=nb_epoch, batch_size=16,\n",
        "                    validation_data=(val_data, val_labels), callbacks=[checkpoint])\n",
        "\n",
        "    with open(location+'/top_history.txt', 'w') as f:\n",
        "        json.dump(fit.history, f)\n",
        "\n",
        "    return model, fit.history"
      ]
    },
    {
      "cell_type": "code",
      "execution_count": null,
      "metadata": {
        "id": "aUnLSc4l99yb"
      },
      "outputs": [],
      "source": [
        "# # either bottleneck or this\n",
        "\n",
        "# top_model = Sequential()\n",
        "# top_model.add(Conv2D(32, (3, 3), input_shape=input_shape))\n",
        "# top_model.add(Activation('relu'))\n",
        "# top_model.add(MaxPooling2D(pool_size=(2, 2)))\n",
        "\n",
        "# top_model.add(Conv2D(32, (3, 3)))\n",
        "# top_model.add(Activation('relu'))\n",
        "# top_model.add(MaxPooling2D(pool_size=(2, 2)))\n",
        "\n",
        "# top_model.add(Conv2D(64, (3, 3)))\n",
        "# top_model.add(Activation('relu'))\n",
        "# top_model.add(MaxPooling2D(pool_size=(2, 2)))\n",
        "\n",
        "# top_model = Sequential()\n",
        "# top_model.add(Flatten(input_shape=base_model.output_shape[1:]))\n",
        "# top_model.add(Dense(units=256,activation='relu',kernel_regularizer=l2(l=0.01)))\n",
        "# top_model.add(Dropout(rate=0.5))\n",
        "# top_model.add(Dense(units=1,activation='sigmoid'))\n",
        "\n",
        "# top_model.compile(optimizer=optimizers.SGD(lr=0.0001,momentum=0.9),    # check the lr\n",
        "#                   loss='binary_crossentropy',\n",
        "#                  metrics = ['accuracy'])\n",
        "\n",
        "# # prepare data augmentation configuration\n",
        "# train_datagen = ImageDataGenerator(rescale=1./255,\n",
        "#                                    rotation_range=40,\n",
        "#                                    width_shift_range=0.2,\n",
        "#                                    height_shift_range=0.2,\n",
        "#                                    shear_range=0.2,\n",
        "#                                    zoom_range=0.2,\n",
        "#                                    horizontal_flip=True,\n",
        "#                                    fill_mode='nearest')\n",
        "\n",
        "# # this is the augmentation configuration we will use for testing:\n",
        "# # only rescaling\n",
        "# test_datagen = ImageDataGenerator(rescale=1. / 255)\n",
        "\n",
        "# train_generator = train_datagen.flow_from_directory(train_data_dir,\n",
        "#                                                     target_size=(img_height, img_width),\n",
        "#                                                     batch_size=8,\n",
        "#                                                     class_mode='binary')   # categorical for multiclass\n",
        "\n",
        "# test_generator = test_datagen.flow_from_directory(val_data_dir,\n",
        "#                                                   target_size=(img_height, img_width),\n",
        "#                                                   batch_size=8,\n",
        "#                                                   class_mode='binary',     # categorical for multiclass\n",
        "#                                                   shuffle=False)\n",
        "\n",
        "# model.fit_generator(\n",
        "#     train_generator,\n",
        "#     steps_per_epoch=nb_train_samples // 8,\n",
        "#     epochs=nb_epoch,\n",
        "#     validation_data=validation_generator,\n",
        "#     validation_steps=nb_validation_samples // 8)\n",
        "\n",
        "# model.save_weights(top_model_weights_path)"
      ]
    },
    {
      "cell_type": "code",
      "execution_count": null,
      "metadata": {
        "scrolled": true,
        "colab": {
          "base_uri": "https://localhost:8080/"
        },
        "id": "d65AL6-U99yc",
        "outputId": "6d062aa4-6b4d-4948-a9aa-f962f208b822"
      },
      "outputs": [
        {
          "output_type": "stream",
          "name": "stdout",
          "text": [
            "[array([[-0.01012065, -0.01048303,  0.0032335 , ...,  0.00972222,\n",
            "        -0.01335548, -0.01087625],\n",
            "       [ 0.00905526, -0.00504446, -0.00211019, ...,  0.00015012,\n",
            "        -0.00304197,  0.00717667],\n",
            "       [ 0.01050402, -0.00598194,  0.01128646, ...,  0.00608847,\n",
            "         0.00694825, -0.00326765],\n",
            "       ...,\n",
            "       [ 0.00228057,  0.00289785, -0.00409706, ..., -0.0096005 ,\n",
            "        -0.01046735,  0.00817893],\n",
            "       [-0.00052284, -0.00416786, -0.00747126, ..., -0.00335509,\n",
            "         0.01101705, -0.00097601],\n",
            "       [-0.00150657,  0.00663762, -0.00871113, ..., -0.00802929,\n",
            "        -0.00821638, -0.00677615]], dtype=float32), array([-6.63930041e-05, -6.27243571e-05, -4.21339973e-05, -3.36487865e-05,\n",
            "       -1.31908173e-05,  1.40916454e-04,  3.21922744e-05, -9.27699875e-05,\n",
            "       -1.64583562e-05, -7.52625201e-05, -6.59315119e-05,  6.05078058e-05,\n",
            "       -4.62493745e-06,  2.27251494e-05, -1.93112064e-05, -1.38478526e-05,\n",
            "       -2.43670002e-05,  2.52712562e-05,  1.22849873e-04, -5.67450406e-05,\n",
            "       -1.40729553e-05, -4.66946585e-05, -1.11470254e-04,  7.71815830e-05,\n",
            "        3.60833510e-05, -4.10605899e-05,  3.99478413e-05,  3.03622819e-05,\n",
            "       -2.34833601e-06, -7.29053136e-06, -3.12944394e-05,  5.80759524e-06,\n",
            "        1.14288327e-04, -1.31211418e-05, -3.33256248e-05, -3.77881188e-05,\n",
            "       -3.59795777e-05, -6.23083952e-06, -3.26455847e-05, -2.62920785e-05,\n",
            "       -3.30111361e-05, -9.48238812e-06, -1.71164593e-05,  1.30050930e-05,\n",
            "        2.60636771e-05,  3.72646196e-06, -8.99121223e-05, -4.32252891e-05,\n",
            "       -2.93856756e-05, -6.68446319e-06,  1.09819921e-05,  2.47536318e-05,\n",
            "        4.38133065e-06, -6.98478689e-05,  7.87173412e-05, -4.11947804e-06,\n",
            "       -6.30899467e-06,  1.18504095e-05, -1.13525501e-04,  6.25687826e-05,\n",
            "       -1.60942349e-04, -2.04196840e-06,  1.71990414e-05, -1.93313881e-05,\n",
            "        2.87854873e-05, -1.54491412e-04, -6.66494525e-05, -2.90935350e-05,\n",
            "       -1.94044842e-05,  6.04557936e-05, -1.22534126e-04, -3.53062278e-05,\n",
            "       -4.24191239e-05, -7.25215432e-05,  2.82166930e-05,  1.06065045e-06,\n",
            "        6.16623875e-05, -1.21720323e-05, -2.13952171e-05, -1.38145206e-05,\n",
            "       -6.55098411e-05,  1.63364730e-05,  5.78114959e-05, -6.33383897e-05,\n",
            "       -4.20465676e-06, -4.60839765e-05, -5.24475436e-05, -3.99866403e-05,\n",
            "       -3.56980308e-05, -5.86093338e-05, -7.00711462e-06, -1.32935293e-05,\n",
            "       -2.72292309e-05, -7.70976112e-06, -8.86831403e-05, -4.33842615e-05,\n",
            "       -3.13491400e-05,  9.13490203e-06,  3.05104595e-06, -5.71447199e-05,\n",
            "       -6.51073715e-05, -1.63680288e-05, -2.06388740e-05, -2.22892832e-05,\n",
            "       -2.14506344e-05, -7.85489010e-06, -8.96075016e-06,  4.94603119e-05,\n",
            "       -1.08531485e-05,  3.82959151e-05,  4.27981904e-05, -4.81870775e-05,\n",
            "        4.31619083e-05,  5.74621627e-05,  1.93899450e-06, -5.96948921e-05,\n",
            "       -2.36500782e-05, -2.95604641e-05,  2.09809259e-05, -2.67456362e-05,\n",
            "       -3.62759565e-05,  6.54221458e-06,  9.48833404e-05, -6.22585139e-05,\n",
            "       -7.17541843e-05, -1.02063364e-04, -7.28657324e-06, -5.02967559e-05,\n",
            "       -4.17754673e-05,  4.73773180e-05, -2.06259356e-05, -1.08028282e-04,\n",
            "       -8.27373806e-05,  9.39414531e-06, -1.40759308e-04,  2.98674076e-05,\n",
            "        4.55700319e-05,  6.34226353e-06, -4.63029064e-05,  3.49121319e-06,\n",
            "       -1.39495151e-05,  2.68146050e-05, -2.39128913e-05, -6.05593632e-05,\n",
            "       -7.47093291e-05, -4.70974155e-05,  4.09420172e-05,  3.60877630e-06,\n",
            "       -4.78593029e-05,  1.02271406e-05, -9.98944743e-05, -1.70191342e-05,\n",
            "       -2.19754475e-05, -4.51710075e-05, -3.01961263e-05, -3.90370842e-05,\n",
            "        3.05752037e-05, -1.45479265e-04, -2.34514264e-05,  3.04704663e-05,\n",
            "       -5.35693543e-05,  6.37201156e-05, -1.80762909e-05, -3.31148913e-05,\n",
            "       -7.35691865e-05, -1.55692414e-05, -9.35915596e-05, -1.38606110e-05,\n",
            "       -1.37064635e-05,  6.20974242e-05,  3.55759366e-05,  3.31042211e-05,\n",
            "       -7.62082800e-06,  6.45781938e-06, -2.39594410e-05, -7.52656197e-05,\n",
            "       -4.65755511e-06, -5.82118901e-06, -1.34833695e-04, -1.23409482e-04,\n",
            "       -1.50768328e-05, -4.10795074e-05, -5.04356467e-05,  9.02143529e-06,\n",
            "        1.71951433e-05, -1.66971862e-04,  5.11114413e-05, -1.19414663e-05,\n",
            "       -1.81248834e-05, -6.51302980e-05,  7.16040595e-05,  1.18398737e-06,\n",
            "       -1.18823582e-05, -1.02839231e-05, -4.79632981e-05,  1.85752906e-05,\n",
            "       -4.49779727e-05, -2.42066799e-05, -1.15241965e-04, -1.41958690e-05,\n",
            "       -7.76115412e-05, -1.50587894e-05,  1.46739876e-06, -3.90891546e-05,\n",
            "       -1.02604259e-04, -6.39565587e-06, -9.39184465e-05,  6.26772307e-05,\n",
            "       -2.02562151e-05, -5.06734577e-05,  1.61175521e-05, -3.45086592e-05,\n",
            "       -1.22171768e-04,  1.61776006e-05, -2.70135133e-05, -6.25724642e-05,\n",
            "       -2.69941320e-05, -9.58340606e-05,  4.87289362e-05, -7.17146759e-05,\n",
            "       -2.75739585e-05, -6.82998652e-05, -7.00891324e-05, -3.91223184e-05,\n",
            "        1.03989652e-04,  1.33884914e-05,  1.37241150e-05, -7.72540443e-05,\n",
            "       -8.85863701e-05, -6.53749157e-05,  6.32144656e-05, -7.35388812e-06,\n",
            "       -1.10624796e-05, -5.30547777e-06, -4.71020721e-05, -5.25768774e-05,\n",
            "       -4.88433543e-05, -5.80305168e-05, -2.77842064e-05, -6.00681888e-05,\n",
            "        6.06362737e-05, -5.00387578e-05,  1.02118967e-04, -2.54744173e-05,\n",
            "       -6.72085753e-06, -4.20239485e-05, -2.02619540e-05, -7.14055495e-05,\n",
            "       -6.22713924e-05,  6.34105672e-05, -6.73857721e-05, -5.99654632e-05,\n",
            "       -3.46375382e-05, -4.36097471e-05, -1.72141124e-04, -3.46757843e-05],\n",
            "      dtype=float32), array([[ 0.12124304],\n",
            "       [-0.0685415 ],\n",
            "       [ 0.08793068],\n",
            "       [ 0.10112542],\n",
            "       [ 0.02003647],\n",
            "       [-0.09571368],\n",
            "       [-0.07856353],\n",
            "       [ 0.10306241],\n",
            "       [ 0.04205618],\n",
            "       [ 0.12411634],\n",
            "       [ 0.04212575],\n",
            "       [-0.07728707],\n",
            "       [-0.14832675],\n",
            "       [-0.05081724],\n",
            "       [-0.00855604],\n",
            "       [-0.06572163],\n",
            "       [ 0.04207853],\n",
            "       [-0.12049444],\n",
            "       [-0.13690935],\n",
            "       [ 0.02434364],\n",
            "       [ 0.08194617],\n",
            "       [ 0.03715052],\n",
            "       [ 0.13027504],\n",
            "       [-0.09557465],\n",
            "       [-0.09170835],\n",
            "       [-0.04112567],\n",
            "       [-0.12997003],\n",
            "       [-0.11640856],\n",
            "       [ 0.05421448],\n",
            "       [-0.01419757],\n",
            "       [ 0.06342798],\n",
            "       [-0.05946992],\n",
            "       [-0.12923428],\n",
            "       [ 0.02292988],\n",
            "       [-0.12970236],\n",
            "       [ 0.10566287],\n",
            "       [-0.04877049],\n",
            "       [ 0.00083501],\n",
            "       [ 0.03101758],\n",
            "       [ 0.05239249],\n",
            "       [ 0.04115029],\n",
            "       [ 0.00218051],\n",
            "       [ 0.10247836],\n",
            "       [-0.07443643],\n",
            "       [-0.05601317],\n",
            "       [ 0.07421674],\n",
            "       [ 0.13230519],\n",
            "       [-0.07898359],\n",
            "       [ 0.10029709],\n",
            "       [-0.07721163],\n",
            "       [-0.05822454],\n",
            "       [-0.12567149],\n",
            "       [-0.04606552],\n",
            "       [ 0.09727198],\n",
            "       [-0.08810759],\n",
            "       [-0.10366042],\n",
            "       [-0.06516092],\n",
            "       [-0.02990677],\n",
            "       [ 0.12092585],\n",
            "       [-0.11780827],\n",
            "       [ 0.13633348],\n",
            "       [ 0.04990653],\n",
            "       [-0.05601411],\n",
            "       [-0.0810312 ],\n",
            "       [-0.10200635],\n",
            "       [ 0.0914215 ],\n",
            "       [-0.1249425 ],\n",
            "       [-0.00280975],\n",
            "       [-0.05155902],\n",
            "       [ 0.06943927],\n",
            "       [ 0.13694784],\n",
            "       [-0.06976711],\n",
            "       [ 0.09436301],\n",
            "       [-0.13423137],\n",
            "       [-0.0839032 ],\n",
            "       [-0.06352707],\n",
            "       [-0.13394238],\n",
            "       [-0.13714279],\n",
            "       [ 0.04855333],\n",
            "       [-0.02738726],\n",
            "       [ 0.03922187],\n",
            "       [ 0.09008253],\n",
            "       [-0.0876732 ],\n",
            "       [-0.14010377],\n",
            "       [ 0.06901252],\n",
            "       [-0.07550932],\n",
            "       [ 0.10935163],\n",
            "       [ 0.03021149],\n",
            "       [ 0.07162279],\n",
            "       [-0.1479355 ],\n",
            "       [ 0.02653366],\n",
            "       [-0.05302908],\n",
            "       [ 0.04865133],\n",
            "       [ 0.03904669],\n",
            "       [-0.11424024],\n",
            "       [ 0.1006542 ],\n",
            "       [-0.13602293],\n",
            "       [ 0.03407434],\n",
            "       [ 0.04001173],\n",
            "       [ 0.08635794],\n",
            "       [ 0.0506657 ],\n",
            "       [-0.01846587],\n",
            "       [-0.13205092],\n",
            "       [ 0.06734935],\n",
            "       [-0.02321076],\n",
            "       [-0.0134723 ],\n",
            "       [ 0.02335557],\n",
            "       [-0.06181452],\n",
            "       [-0.04020237],\n",
            "       [ 0.03662939],\n",
            "       [ 0.12018163],\n",
            "       [-0.0791977 ],\n",
            "       [-0.05622166],\n",
            "       [-0.07080186],\n",
            "       [-0.0275593 ],\n",
            "       [ 0.12254007],\n",
            "       [ 0.04617819],\n",
            "       [ 0.08941662],\n",
            "       [-0.01511961],\n",
            "       [-0.16531567],\n",
            "       [-0.02655232],\n",
            "       [ 0.06183282],\n",
            "       [-0.12531835],\n",
            "       [-0.12135493],\n",
            "       [ 0.10796561],\n",
            "       [ 0.09157646],\n",
            "       [-0.04181038],\n",
            "       [ 0.04112628],\n",
            "       [ 0.02319223],\n",
            "       [-0.09940879],\n",
            "       [ 0.02562439],\n",
            "       [ 0.1017007 ],\n",
            "       [ 0.12261383],\n",
            "       [-0.01948871],\n",
            "       [ 0.09936224],\n",
            "       [-0.05929748],\n",
            "       [ 0.02696436],\n",
            "       [ 0.0196094 ],\n",
            "       [ 0.07218593],\n",
            "       [ 0.05022663],\n",
            "       [ 0.00135238],\n",
            "       [-0.06026578],\n",
            "       [-0.05636784],\n",
            "       [ 0.0901245 ],\n",
            "       [ 0.07751135],\n",
            "       [ 0.01276771],\n",
            "       [-0.07364471],\n",
            "       [-0.06387722],\n",
            "       [-0.12323207],\n",
            "       [-0.05077241],\n",
            "       [ 0.13558112],\n",
            "       [-0.12071223],\n",
            "       [ 0.06318224],\n",
            "       [-0.12879305],\n",
            "       [-0.10619131],\n",
            "       [ 0.11066172],\n",
            "       [-0.03673645],\n",
            "       [ 0.10982454],\n",
            "       [ 0.06073479],\n",
            "       [ 0.03201565],\n",
            "       [-0.11250038],\n",
            "       [-0.1557404 ],\n",
            "       [ 0.08940601],\n",
            "       [ 0.04775262],\n",
            "       [ 0.11671195],\n",
            "       [ 0.02310331],\n",
            "       [ 0.07629927],\n",
            "       [-0.16682336],\n",
            "       [ 0.10758672],\n",
            "       [-0.09783013],\n",
            "       [-0.10837113],\n",
            "       [-0.03514739],\n",
            "       [ 0.03650935],\n",
            "       [-0.03000464],\n",
            "       [-0.10076618],\n",
            "       [ 0.08775338],\n",
            "       [-0.04964183],\n",
            "       [ 0.02362729],\n",
            "       [ 0.16362149],\n",
            "       [ 0.12163698],\n",
            "       [-0.07519589],\n",
            "       [ 0.04674587],\n",
            "       [ 0.10549577],\n",
            "       [-0.08334521],\n",
            "       [-0.06120995],\n",
            "       [ 0.12282745],\n",
            "       [ 0.05725805],\n",
            "       [-0.02434438],\n",
            "       [ 0.04825849],\n",
            "       [ 0.07647444],\n",
            "       [-0.05304407],\n",
            "       [-0.0323233 ],\n",
            "       [-0.07268901],\n",
            "       [ 0.03067316],\n",
            "       [-0.10883604],\n",
            "       [-0.05065865],\n",
            "       [ 0.04483581],\n",
            "       [-0.07894646],\n",
            "       [ 0.13194965],\n",
            "       [-0.08992589],\n",
            "       [ 0.10762957],\n",
            "       [-0.12205317],\n",
            "       [-0.00702157],\n",
            "       [ 0.08006062],\n",
            "       [ 0.12223145],\n",
            "       [-0.01931478],\n",
            "       [ 0.10382156],\n",
            "       [-0.11158417],\n",
            "       [-0.06152328],\n",
            "       [-0.11998478],\n",
            "       [-0.13431723],\n",
            "       [-0.0896455 ],\n",
            "       [ 0.14430308],\n",
            "       [ 0.00643983],\n",
            "       [ 0.06616772],\n",
            "       [ 0.0901897 ],\n",
            "       [-0.061427  ],\n",
            "       [ 0.09033413],\n",
            "       [-0.03717859],\n",
            "       [ 0.1204911 ],\n",
            "       [ 0.0673934 ],\n",
            "       [ 0.03329101],\n",
            "       [-0.11965302],\n",
            "       [-0.13618621],\n",
            "       [-0.08934002],\n",
            "       [-0.0824893 ],\n",
            "       [ 0.10913774],\n",
            "       [ 0.07903811],\n",
            "       [ 0.14401788],\n",
            "       [ 0.13817118],\n",
            "       [-0.09800476],\n",
            "       [ 0.09437063],\n",
            "       [ 0.00959632],\n",
            "       [-0.13082927],\n",
            "       [ 0.08756316],\n",
            "       [ 0.07589345],\n",
            "       [ 0.1248664 ],\n",
            "       [ 0.07018562],\n",
            "       [-0.02011305],\n",
            "       [ 0.13105294],\n",
            "       [-0.05985064],\n",
            "       [-0.0301464 ],\n",
            "       [-0.13553558],\n",
            "       [ 0.03718253],\n",
            "       [-0.01084033],\n",
            "       [-0.05165053],\n",
            "       [ 0.03620179],\n",
            "       [ 0.0412594 ],\n",
            "       [ 0.10842907],\n",
            "       [-0.04829417],\n",
            "       [ 0.13529982],\n",
            "       [ 0.10075952],\n",
            "       [-0.06418979],\n",
            "       [ 0.02081472],\n",
            "       [ 0.12059508],\n",
            "       [ 0.13636257]], dtype=float32), array([-0.00040775], dtype=float32)]\n",
            "[array([[-0.01012065, -0.01048303,  0.0032335 , ...,  0.00972222,\n",
            "        -0.01335548, -0.01087625],\n",
            "       [ 0.00905526, -0.00504446, -0.00211019, ...,  0.00015012,\n",
            "        -0.00304197,  0.00717667],\n",
            "       [ 0.01050402, -0.00598194,  0.01128646, ...,  0.00608847,\n",
            "         0.00694825, -0.00326765],\n",
            "       ...,\n",
            "       [ 0.00228057,  0.00289785, -0.00409706, ..., -0.0096005 ,\n",
            "        -0.01046735,  0.00817893],\n",
            "       [-0.00052284, -0.00416786, -0.00747126, ..., -0.00335509,\n",
            "         0.01101705, -0.00097601],\n",
            "       [-0.00150657,  0.00663762, -0.00871113, ..., -0.00802929,\n",
            "        -0.00821638, -0.00677615]], dtype=float32), array([-6.63930041e-05, -6.27243571e-05, -4.21339973e-05, -3.36487865e-05,\n",
            "       -1.31908173e-05,  1.40916454e-04,  3.21922744e-05, -9.27699875e-05,\n",
            "       -1.64583562e-05, -7.52625201e-05, -6.59315119e-05,  6.05078058e-05,\n",
            "       -4.62493745e-06,  2.27251494e-05, -1.93112064e-05, -1.38478526e-05,\n",
            "       -2.43670002e-05,  2.52712562e-05,  1.22849873e-04, -5.67450406e-05,\n",
            "       -1.40729553e-05, -4.66946585e-05, -1.11470254e-04,  7.71815830e-05,\n",
            "        3.60833510e-05, -4.10605899e-05,  3.99478413e-05,  3.03622819e-05,\n",
            "       -2.34833601e-06, -7.29053136e-06, -3.12944394e-05,  5.80759524e-06,\n",
            "        1.14288327e-04, -1.31211418e-05, -3.33256248e-05, -3.77881188e-05,\n",
            "       -3.59795777e-05, -6.23083952e-06, -3.26455847e-05, -2.62920785e-05,\n",
            "       -3.30111361e-05, -9.48238812e-06, -1.71164593e-05,  1.30050930e-05,\n",
            "        2.60636771e-05,  3.72646196e-06, -8.99121223e-05, -4.32252891e-05,\n",
            "       -2.93856756e-05, -6.68446319e-06,  1.09819921e-05,  2.47536318e-05,\n",
            "        4.38133065e-06, -6.98478689e-05,  7.87173412e-05, -4.11947804e-06,\n",
            "       -6.30899467e-06,  1.18504095e-05, -1.13525501e-04,  6.25687826e-05,\n",
            "       -1.60942349e-04, -2.04196840e-06,  1.71990414e-05, -1.93313881e-05,\n",
            "        2.87854873e-05, -1.54491412e-04, -6.66494525e-05, -2.90935350e-05,\n",
            "       -1.94044842e-05,  6.04557936e-05, -1.22534126e-04, -3.53062278e-05,\n",
            "       -4.24191239e-05, -7.25215432e-05,  2.82166930e-05,  1.06065045e-06,\n",
            "        6.16623875e-05, -1.21720323e-05, -2.13952171e-05, -1.38145206e-05,\n",
            "       -6.55098411e-05,  1.63364730e-05,  5.78114959e-05, -6.33383897e-05,\n",
            "       -4.20465676e-06, -4.60839765e-05, -5.24475436e-05, -3.99866403e-05,\n",
            "       -3.56980308e-05, -5.86093338e-05, -7.00711462e-06, -1.32935293e-05,\n",
            "       -2.72292309e-05, -7.70976112e-06, -8.86831403e-05, -4.33842615e-05,\n",
            "       -3.13491400e-05,  9.13490203e-06,  3.05104595e-06, -5.71447199e-05,\n",
            "       -6.51073715e-05, -1.63680288e-05, -2.06388740e-05, -2.22892832e-05,\n",
            "       -2.14506344e-05, -7.85489010e-06, -8.96075016e-06,  4.94603119e-05,\n",
            "       -1.08531485e-05,  3.82959151e-05,  4.27981904e-05, -4.81870775e-05,\n",
            "        4.31619083e-05,  5.74621627e-05,  1.93899450e-06, -5.96948921e-05,\n",
            "       -2.36500782e-05, -2.95604641e-05,  2.09809259e-05, -2.67456362e-05,\n",
            "       -3.62759565e-05,  6.54221458e-06,  9.48833404e-05, -6.22585139e-05,\n",
            "       -7.17541843e-05, -1.02063364e-04, -7.28657324e-06, -5.02967559e-05,\n",
            "       -4.17754673e-05,  4.73773180e-05, -2.06259356e-05, -1.08028282e-04,\n",
            "       -8.27373806e-05,  9.39414531e-06, -1.40759308e-04,  2.98674076e-05,\n",
            "        4.55700319e-05,  6.34226353e-06, -4.63029064e-05,  3.49121319e-06,\n",
            "       -1.39495151e-05,  2.68146050e-05, -2.39128913e-05, -6.05593632e-05,\n",
            "       -7.47093291e-05, -4.70974155e-05,  4.09420172e-05,  3.60877630e-06,\n",
            "       -4.78593029e-05,  1.02271406e-05, -9.98944743e-05, -1.70191342e-05,\n",
            "       -2.19754475e-05, -4.51710075e-05, -3.01961263e-05, -3.90370842e-05,\n",
            "        3.05752037e-05, -1.45479265e-04, -2.34514264e-05,  3.04704663e-05,\n",
            "       -5.35693543e-05,  6.37201156e-05, -1.80762909e-05, -3.31148913e-05,\n",
            "       -7.35691865e-05, -1.55692414e-05, -9.35915596e-05, -1.38606110e-05,\n",
            "       -1.37064635e-05,  6.20974242e-05,  3.55759366e-05,  3.31042211e-05,\n",
            "       -7.62082800e-06,  6.45781938e-06, -2.39594410e-05, -7.52656197e-05,\n",
            "       -4.65755511e-06, -5.82118901e-06, -1.34833695e-04, -1.23409482e-04,\n",
            "       -1.50768328e-05, -4.10795074e-05, -5.04356467e-05,  9.02143529e-06,\n",
            "        1.71951433e-05, -1.66971862e-04,  5.11114413e-05, -1.19414663e-05,\n",
            "       -1.81248834e-05, -6.51302980e-05,  7.16040595e-05,  1.18398737e-06,\n",
            "       -1.18823582e-05, -1.02839231e-05, -4.79632981e-05,  1.85752906e-05,\n",
            "       -4.49779727e-05, -2.42066799e-05, -1.15241965e-04, -1.41958690e-05,\n",
            "       -7.76115412e-05, -1.50587894e-05,  1.46739876e-06, -3.90891546e-05,\n",
            "       -1.02604259e-04, -6.39565587e-06, -9.39184465e-05,  6.26772307e-05,\n",
            "       -2.02562151e-05, -5.06734577e-05,  1.61175521e-05, -3.45086592e-05,\n",
            "       -1.22171768e-04,  1.61776006e-05, -2.70135133e-05, -6.25724642e-05,\n",
            "       -2.69941320e-05, -9.58340606e-05,  4.87289362e-05, -7.17146759e-05,\n",
            "       -2.75739585e-05, -6.82998652e-05, -7.00891324e-05, -3.91223184e-05,\n",
            "        1.03989652e-04,  1.33884914e-05,  1.37241150e-05, -7.72540443e-05,\n",
            "       -8.85863701e-05, -6.53749157e-05,  6.32144656e-05, -7.35388812e-06,\n",
            "       -1.10624796e-05, -5.30547777e-06, -4.71020721e-05, -5.25768774e-05,\n",
            "       -4.88433543e-05, -5.80305168e-05, -2.77842064e-05, -6.00681888e-05,\n",
            "        6.06362737e-05, -5.00387578e-05,  1.02118967e-04, -2.54744173e-05,\n",
            "       -6.72085753e-06, -4.20239485e-05, -2.02619540e-05, -7.14055495e-05,\n",
            "       -6.22713924e-05,  6.34105672e-05, -6.73857721e-05, -5.99654632e-05,\n",
            "       -3.46375382e-05, -4.36097471e-05, -1.72141124e-04, -3.46757843e-05],\n",
            "      dtype=float32), array([[ 0.12124304],\n",
            "       [-0.0685415 ],\n",
            "       [ 0.08793068],\n",
            "       [ 0.10112542],\n",
            "       [ 0.02003647],\n",
            "       [-0.09571368],\n",
            "       [-0.07856353],\n",
            "       [ 0.10306241],\n",
            "       [ 0.04205618],\n",
            "       [ 0.12411634],\n",
            "       [ 0.04212575],\n",
            "       [-0.07728707],\n",
            "       [-0.14832675],\n",
            "       [-0.05081724],\n",
            "       [-0.00855604],\n",
            "       [-0.06572163],\n",
            "       [ 0.04207853],\n",
            "       [-0.12049444],\n",
            "       [-0.13690935],\n",
            "       [ 0.02434364],\n",
            "       [ 0.08194617],\n",
            "       [ 0.03715052],\n",
            "       [ 0.13027504],\n",
            "       [-0.09557465],\n",
            "       [-0.09170835],\n",
            "       [-0.04112567],\n",
            "       [-0.12997003],\n",
            "       [-0.11640856],\n",
            "       [ 0.05421448],\n",
            "       [-0.01419757],\n",
            "       [ 0.06342798],\n",
            "       [-0.05946992],\n",
            "       [-0.12923428],\n",
            "       [ 0.02292988],\n",
            "       [-0.12970236],\n",
            "       [ 0.10566287],\n",
            "       [-0.04877049],\n",
            "       [ 0.00083501],\n",
            "       [ 0.03101758],\n",
            "       [ 0.05239249],\n",
            "       [ 0.04115029],\n",
            "       [ 0.00218051],\n",
            "       [ 0.10247836],\n",
            "       [-0.07443643],\n",
            "       [-0.05601317],\n",
            "       [ 0.07421674],\n",
            "       [ 0.13230519],\n",
            "       [-0.07898359],\n",
            "       [ 0.10029709],\n",
            "       [-0.07721163],\n",
            "       [-0.05822454],\n",
            "       [-0.12567149],\n",
            "       [-0.04606552],\n",
            "       [ 0.09727198],\n",
            "       [-0.08810759],\n",
            "       [-0.10366042],\n",
            "       [-0.06516092],\n",
            "       [-0.02990677],\n",
            "       [ 0.12092585],\n",
            "       [-0.11780827],\n",
            "       [ 0.13633348],\n",
            "       [ 0.04990653],\n",
            "       [-0.05601411],\n",
            "       [-0.0810312 ],\n",
            "       [-0.10200635],\n",
            "       [ 0.0914215 ],\n",
            "       [-0.1249425 ],\n",
            "       [-0.00280975],\n",
            "       [-0.05155902],\n",
            "       [ 0.06943927],\n",
            "       [ 0.13694784],\n",
            "       [-0.06976711],\n",
            "       [ 0.09436301],\n",
            "       [-0.13423137],\n",
            "       [-0.0839032 ],\n",
            "       [-0.06352707],\n",
            "       [-0.13394238],\n",
            "       [-0.13714279],\n",
            "       [ 0.04855333],\n",
            "       [-0.02738726],\n",
            "       [ 0.03922187],\n",
            "       [ 0.09008253],\n",
            "       [-0.0876732 ],\n",
            "       [-0.14010377],\n",
            "       [ 0.06901252],\n",
            "       [-0.07550932],\n",
            "       [ 0.10935163],\n",
            "       [ 0.03021149],\n",
            "       [ 0.07162279],\n",
            "       [-0.1479355 ],\n",
            "       [ 0.02653366],\n",
            "       [-0.05302908],\n",
            "       [ 0.04865133],\n",
            "       [ 0.03904669],\n",
            "       [-0.11424024],\n",
            "       [ 0.1006542 ],\n",
            "       [-0.13602293],\n",
            "       [ 0.03407434],\n",
            "       [ 0.04001173],\n",
            "       [ 0.08635794],\n",
            "       [ 0.0506657 ],\n",
            "       [-0.01846587],\n",
            "       [-0.13205092],\n",
            "       [ 0.06734935],\n",
            "       [-0.02321076],\n",
            "       [-0.0134723 ],\n",
            "       [ 0.02335557],\n",
            "       [-0.06181452],\n",
            "       [-0.04020237],\n",
            "       [ 0.03662939],\n",
            "       [ 0.12018163],\n",
            "       [-0.0791977 ],\n",
            "       [-0.05622166],\n",
            "       [-0.07080186],\n",
            "       [-0.0275593 ],\n",
            "       [ 0.12254007],\n",
            "       [ 0.04617819],\n",
            "       [ 0.08941662],\n",
            "       [-0.01511961],\n",
            "       [-0.16531567],\n",
            "       [-0.02655232],\n",
            "       [ 0.06183282],\n",
            "       [-0.12531835],\n",
            "       [-0.12135493],\n",
            "       [ 0.10796561],\n",
            "       [ 0.09157646],\n",
            "       [-0.04181038],\n",
            "       [ 0.04112628],\n",
            "       [ 0.02319223],\n",
            "       [-0.09940879],\n",
            "       [ 0.02562439],\n",
            "       [ 0.1017007 ],\n",
            "       [ 0.12261383],\n",
            "       [-0.01948871],\n",
            "       [ 0.09936224],\n",
            "       [-0.05929748],\n",
            "       [ 0.02696436],\n",
            "       [ 0.0196094 ],\n",
            "       [ 0.07218593],\n",
            "       [ 0.05022663],\n",
            "       [ 0.00135238],\n",
            "       [-0.06026578],\n",
            "       [-0.05636784],\n",
            "       [ 0.0901245 ],\n",
            "       [ 0.07751135],\n",
            "       [ 0.01276771],\n",
            "       [-0.07364471],\n",
            "       [-0.06387722],\n",
            "       [-0.12323207],\n",
            "       [-0.05077241],\n",
            "       [ 0.13558112],\n",
            "       [-0.12071223],\n",
            "       [ 0.06318224],\n",
            "       [-0.12879305],\n",
            "       [-0.10619131],\n",
            "       [ 0.11066172],\n",
            "       [-0.03673645],\n",
            "       [ 0.10982454],\n",
            "       [ 0.06073479],\n",
            "       [ 0.03201565],\n",
            "       [-0.11250038],\n",
            "       [-0.1557404 ],\n",
            "       [ 0.08940601],\n",
            "       [ 0.04775262],\n",
            "       [ 0.11671195],\n",
            "       [ 0.02310331],\n",
            "       [ 0.07629927],\n",
            "       [-0.16682336],\n",
            "       [ 0.10758672],\n",
            "       [-0.09783013],\n",
            "       [-0.10837113],\n",
            "       [-0.03514739],\n",
            "       [ 0.03650935],\n",
            "       [-0.03000464],\n",
            "       [-0.10076618],\n",
            "       [ 0.08775338],\n",
            "       [-0.04964183],\n",
            "       [ 0.02362729],\n",
            "       [ 0.16362149],\n",
            "       [ 0.12163698],\n",
            "       [-0.07519589],\n",
            "       [ 0.04674587],\n",
            "       [ 0.10549577],\n",
            "       [-0.08334521],\n",
            "       [-0.06120995],\n",
            "       [ 0.12282745],\n",
            "       [ 0.05725805],\n",
            "       [-0.02434438],\n",
            "       [ 0.04825849],\n",
            "       [ 0.07647444],\n",
            "       [-0.05304407],\n",
            "       [-0.0323233 ],\n",
            "       [-0.07268901],\n",
            "       [ 0.03067316],\n",
            "       [-0.10883604],\n",
            "       [-0.05065865],\n",
            "       [ 0.04483581],\n",
            "       [-0.07894646],\n",
            "       [ 0.13194965],\n",
            "       [-0.08992589],\n",
            "       [ 0.10762957],\n",
            "       [-0.12205317],\n",
            "       [-0.00702157],\n",
            "       [ 0.08006062],\n",
            "       [ 0.12223145],\n",
            "       [-0.01931478],\n",
            "       [ 0.10382156],\n",
            "       [-0.11158417],\n",
            "       [-0.06152328],\n",
            "       [-0.11998478],\n",
            "       [-0.13431723],\n",
            "       [-0.0896455 ],\n",
            "       [ 0.14430308],\n",
            "       [ 0.00643983],\n",
            "       [ 0.06616772],\n",
            "       [ 0.0901897 ],\n",
            "       [-0.061427  ],\n",
            "       [ 0.09033413],\n",
            "       [-0.03717859],\n",
            "       [ 0.1204911 ],\n",
            "       [ 0.0673934 ],\n",
            "       [ 0.03329101],\n",
            "       [-0.11965302],\n",
            "       [-0.13618621],\n",
            "       [-0.08934002],\n",
            "       [-0.0824893 ],\n",
            "       [ 0.10913774],\n",
            "       [ 0.07903811],\n",
            "       [ 0.14401788],\n",
            "       [ 0.13817118],\n",
            "       [-0.09800476],\n",
            "       [ 0.09437063],\n",
            "       [ 0.00959632],\n",
            "       [-0.13082927],\n",
            "       [ 0.08756316],\n",
            "       [ 0.07589345],\n",
            "       [ 0.1248664 ],\n",
            "       [ 0.07018562],\n",
            "       [-0.02011305],\n",
            "       [ 0.13105294],\n",
            "       [-0.05985064],\n",
            "       [-0.0301464 ],\n",
            "       [-0.13553558],\n",
            "       [ 0.03718253],\n",
            "       [-0.01084033],\n",
            "       [-0.05165053],\n",
            "       [ 0.03620179],\n",
            "       [ 0.0412594 ],\n",
            "       [ 0.10842907],\n",
            "       [-0.04829417],\n",
            "       [ 0.13529982],\n",
            "       [ 0.10075952],\n",
            "       [-0.06418979],\n",
            "       [ 0.02081472],\n",
            "       [ 0.12059508],\n",
            "       [ 0.13636257]], dtype=float32), array([-0.00040775], dtype=float32)]\n",
            "Model: \"model\"\n",
            "_________________________________________________________________\n",
            " Layer (type)                Output Shape              Param #   \n",
            "=================================================================\n",
            " input_1 (InputLayer)        [(None, 256, 256, 3)]     0         \n",
            "                                                                 \n",
            " block1_conv1 (Conv2D)       (None, 256, 256, 64)      1792      \n",
            "                                                                 \n",
            " block1_conv2 (Conv2D)       (None, 256, 256, 64)      36928     \n",
            "                                                                 \n",
            " block1_pool (MaxPooling2D)  (None, 128, 128, 64)      0         \n",
            "                                                                 \n",
            " block2_conv1 (Conv2D)       (None, 128, 128, 128)     73856     \n",
            "                                                                 \n",
            " block2_conv2 (Conv2D)       (None, 128, 128, 128)     147584    \n",
            "                                                                 \n",
            " block2_pool (MaxPooling2D)  (None, 64, 64, 128)       0         \n",
            "                                                                 \n",
            " block3_conv1 (Conv2D)       (None, 64, 64, 256)       295168    \n",
            "                                                                 \n",
            " block3_conv2 (Conv2D)       (None, 64, 64, 256)       590080    \n",
            "                                                                 \n",
            " block3_conv3 (Conv2D)       (None, 64, 64, 256)       590080    \n",
            "                                                                 \n",
            " block3_pool (MaxPooling2D)  (None, 32, 32, 256)       0         \n",
            "                                                                 \n",
            " block4_conv1 (Conv2D)       (None, 32, 32, 512)       1180160   \n",
            "                                                                 \n",
            " block4_conv2 (Conv2D)       (None, 32, 32, 512)       2359808   \n",
            "                                                                 \n",
            " block4_conv3 (Conv2D)       (None, 32, 32, 512)       2359808   \n",
            "                                                                 \n",
            " block4_pool (MaxPooling2D)  (None, 16, 16, 512)       0         \n",
            "                                                                 \n",
            " block5_conv1 (Conv2D)       (None, 16, 16, 512)       2359808   \n",
            "                                                                 \n",
            " block5_conv2 (Conv2D)       (None, 16, 16, 512)       2359808   \n",
            "                                                                 \n",
            " block5_conv3 (Conv2D)       (None, 16, 16, 512)       2359808   \n",
            "                                                                 \n",
            " block5_pool (MaxPooling2D)  (None, 8, 8, 512)         0         \n",
            "                                                                 \n",
            " sequential (Sequential)     (None, 1)                 8389121   \n",
            "                                                                 \n",
            "=================================================================\n",
            "Total params: 23103809 (88.13 MB)\n",
            "Trainable params: 8389121 (32.00 MB)\n",
            "Non-trainable params: 14714688 (56.13 MB)\n",
            "_________________________________________________________________\n"
          ]
        }
      ],
      "source": [
        "top_model = Sequential()\n",
        "top_model.add(Flatten(input_shape=base_model.output_shape[1:]))\n",
        "top_model.add(Dense(units=256,activation='relu',kernel_regularizer=l2(l=0.01)))\n",
        "top_model.add(Dropout(rate=0.5))\n",
        "top_model.add(Dense(units=1,activation='sigmoid'))\n",
        "\n",
        "top_model.load_weights(top_model_weights_path) # load weights_path\n",
        "\n",
        "#base_model.add(top_model)\n",
        "\n",
        "model = Model(inputs=base_model.input, outputs=top_model(base_model.output))\n",
        "print(model.layers[-1].get_weights())\n",
        "print(top_model.get_weights())\n",
        "model.summary()"
      ]
    },
    {
      "cell_type": "code",
      "execution_count": null,
      "metadata": {
        "id": "rqGlS-1Q99yc"
      },
      "outputs": [],
      "source": [
        "def finetune_binary_model(location):\n",
        "    # build a classifier model to put on top of the convolutional model\n",
        "    top_model = Sequential()\n",
        "    top_model.add(Flatten(input_shape=base_model.output_shape[1:]))\n",
        "    top_model.add(Dense(units=256,activation='relu',kernel_regularizer=l2(l=0.01)))\n",
        "    top_model.add(Dropout(rate=0.5))\n",
        "    top_model.add(Dense(units=1,activation='sigmoid'))\n",
        "\n",
        "    top_model.load_weights(top_model_weights_path) # load weights_path\n",
        "\n",
        "    #base_model.add(top_model)\n",
        "\n",
        "    model = Model(inputs=base_model.input, outputs=top_model(base_model.output))\n",
        "    #model.add(top_model)\n",
        "\n",
        "#     input1 = keras.layers.Input(shape=(16,))\n",
        "#     x1 = keras.layers.Dense(8, activation='relu')(input1)\n",
        "#     input2 = keras.layers.Input(shape=(32,))\n",
        "#     x2 = keras.layers.Dense(8, activation='relu')(input2)\n",
        "#     added = keras.layers.add([x1, x2])\n",
        "\n",
        "#     out = keras.layers.Dense(4)(added)\n",
        "#     model = keras.models.Model(inputs=[input1, input2], outputs=out)\n",
        "\n",
        "#     # finetune\n",
        "#     top_model = Sequential()\n",
        "#     top_model.add(Flatten(input_shape=base_model.output_shape[1:]))\n",
        "#     top_model.add(Dense(256, activation='relu'))\n",
        "#     top_model.add(Dropout(0.5))\n",
        "#     top_model.add(Dense(6, activation='sigmoid'))\n",
        "#     top_model.load_weights(top_model_weights_path)\n",
        "\n",
        "#     model = Model(input= base_model.input, output= top_model(model.output))\n",
        "#     model.add(top_model)\n",
        "\n",
        "\n",
        "#     # set the first 25 layers (up to the last conv block)\n",
        "#     # to non-trainable - weights will not be updated\n",
        "#     for layer in model.layers[:25]:\n",
        "#         layer.trainable=False\n",
        "\n",
        "    # compile the model with a SGD/momentum optimizer\n",
        "    # and a very slow learning rate\n",
        "    model.compile(optimizer=optimizers.SGD(lr=0.00001,momentum=0.9),    # reduced learning rate by 1/10\n",
        "                       loss='binary_crossentropy',\n",
        "                       metrics=['accuracy'])\n",
        "\n",
        "    # prepare data augmentation configuration\n",
        "    train_datagen = ImageDataGenerator(preprocessing_function=preprocess_input_vgg,\n",
        "                                       rotation_range=40,\n",
        "                                       width_shift_range=0.2,\n",
        "                                       height_shift_range=0.2,\n",
        "                                       shear_range=0.2,\n",
        "                                       zoom_range=0.2,\n",
        "                                       horizontal_flip=True,\n",
        "                                       fill_mode='nearest')\n",
        "\n",
        "    test_datagen = ImageDataGenerator(preprocessing_function=preprocess_input_vgg)\n",
        "\n",
        "    train_generator = train_datagen.flow_from_directory(train_data_dir,\n",
        "                                                        target_size=(img_height, img_width),\n",
        "                                                        batch_size=8,\n",
        "                                                        class_mode='binary')   # categorical for multiclass\n",
        "\n",
        "    test_generator = test_datagen.flow_from_directory(val_data_dir,\n",
        "                                                      target_size=(img_height, img_width),\n",
        "                                                      batch_size=8,\n",
        "                                                      class_mode='binary',     # categorical for multiclass\n",
        "                                                      shuffle=False)\n",
        "\n",
        "    checkpoint = ModelCheckpoint(filepath=fine_tuned_model_path,monitor='val_acc',verbose=1,save_best_only=True,\n",
        "                                 save_weights_only=False,mode='auto')\n",
        "\n",
        "    # fine-tune the model\n",
        "    fit = model.fit_generator(train_generator,\n",
        "                              steps_per_epoch=nb_train_samples/8,\n",
        "                              #epochs=nb_epoch,\n",
        "                              epochs=10,\n",
        "                              validation_data=test_generator,\n",
        "                              validation_steps=nb_val_samples/8,\n",
        "                              verbose=1,\n",
        "                              callbacks=[checkpoint])\n",
        "\n",
        "#     model.fit_generator(\n",
        "#     train_generator,\n",
        "#     steps_per_epoch=nb_train_samples // batch_size,\n",
        "#     epochs=epochs,\n",
        "#     validation_data=validation_generator,\n",
        "#     validation_steps=nb_validation_samples // batch_size,\n",
        "#     verbose=2)\n",
        "\n",
        "    with open(location+'/ft_history.txt', 'w') as f:\n",
        "        json.dump(fit.history, f)\n",
        "\n",
        "    return model, fit.history"
      ]
    },
    {
      "cell_type": "code",
      "execution_count": null,
      "metadata": {
        "id": "usam2PjD99yd"
      },
      "outputs": [],
      "source": [
        "def evaluate_binary_model(model,directory,labels):\n",
        "    test_datagen = ImageDataGenerator(preprocessing_function=preprocess_input_vgg)\n",
        "    test_generator = test_datagen.flow_from_directory(directory,\n",
        "                                                     target_size=(img_height,img_width),\n",
        "                                                     batch_size=8,\n",
        "                                                     class_mode='binary',     # categorical for multiclass\n",
        "                                                     shuffle=False)\n",
        "\n",
        "    predictions = model.predict_generator(test_generator,\n",
        "                                          steps=len(labels)/8,\n",
        "                                          verbose=1)\n",
        "\n",
        "    # use for multiclass\n",
        "    # pred_labels = np.argmax(predictions, axis=1)\n",
        "\n",
        "    pred_labels = [0 if i <0.5 else 1 for i in predictions]\n",
        "\n",
        "    print()\n",
        "    print(classification_report(labels, pred_labels))\n",
        "    print()\n",
        "    cm = confusion_matrix(labels, pred_labels)\n",
        "#     sns.heatmap(cm, annot=True, fmt='g');\n",
        "    return cm"
      ]
    },
    {
      "cell_type": "code",
      "execution_count": null,
      "metadata": {
        "id": "egdIdutn99yd"
      },
      "outputs": [],
      "source": [
        "def view_images(img_dir,img_list):\n",
        "    for img in img_list:\n",
        "        clear_output()\n",
        "        display(Image(img_dir+img,width=200))\n",
        "        num = input(\"c to continue, q to quit\")\n",
        "        if num == 'c':\n",
        "            pass\n",
        "        else:\n",
        "            return 'Finished for now.'"
      ]
    },
    {
      "cell_type": "code",
      "execution_count": null,
      "metadata": {
        "id": "tkgx4RY699yd"
      },
      "outputs": [],
      "source": [
        "def print_best_model_results(model_hist):\n",
        "    best_epoch = np.argmax(model_hist['val_acc'])\n",
        "    print('epoch:', best_epoch+1,', val_acc:', model_hist['val_acc'][best_epoch],', val_loss:',\n",
        "          model_hist['val_loss'][best_epoch])"
      ]
    },
    {
      "cell_type": "code",
      "execution_count": null,
      "metadata": {
        "id": "sB-i6u_r99yd"
      },
      "outputs": [],
      "source": [
        "def plot_metrics(hist, stop=50):  # stop -> no of data pts in plot\n",
        "                                # hist(history) -> dict\n",
        "    fig, (ax0, ax1) = plt.subplots(nrows=1, ncols=2, figsize=(10, 4))\n",
        "    # axes = axes.flatten()   # flatten -> numpy flatten\n",
        "\n",
        "    ax0.plot(range(stop), hist['acc'], label='Training', color='#FF533D')\n",
        "    ax0.plot(range(stop), hist['val_acc'], label='Validation', color='#03507E')\n",
        "    ax0.set_title('Accuracy')\n",
        "    ax0.set_ylabel('Accuracy')\n",
        "    ax0.set_xlabel('Epoch')\n",
        "    ax0.legend(loc='lower right')\n",
        "\n",
        "    ax1.plot(range(stop), hist['loss'], label='Training', color='#FF533D')\n",
        "    ax1.plot(range(stop), hist['val_loss'],\n",
        "             label='Validation', color='#03507E')\n",
        "    ax1.set_title('Loss')\n",
        "    ax1.set_ylabel('Loss')\n",
        "    ax1.set_xlabel('Epoch')\n",
        "    ax1.legend(loc='upper right')\n",
        "\n",
        "    plt.tight_layout()\n",
        "\n",
        "    print(\"Best Model: \")\n",
        "    print_best_model_results(hist)"
      ]
    },
    {
      "cell_type": "markdown",
      "metadata": {
        "id": "My3__elg99yd"
      },
      "source": [
        "### Testing Image Generation"
      ]
    },
    {
      "cell_type": "code",
      "execution_count": null,
      "metadata": {
        "id": "Q0KqjIwH99ye"
      },
      "outputs": [],
      "source": [
        "datagen = ImageDataGenerator(rotation_range=40,\n",
        "                             width_shift_range=0.2,\n",
        "                             height_shift_range=0.2,\n",
        "                             shear_range=0.2,\n",
        "                             zoom_range=0.2,\n",
        "                             horizontal_flip=True,\n",
        "                             fill_mode='nearest')\n",
        "\n",
        "img = load_img(path='/content/drive/My Drive/TVS/car-damage-dataset/data1a/training/00-damage/0354.JPEG')  # this is a PIL image\n",
        "x = img_to_array(img)   # x shape (height,width,3)\n",
        "x = x.reshape((1,)+x.shape)  # this is a numpy array of shape (1,height,width,3)\n",
        "\n",
        "# the .flow() command below generates batches of randomly transformed images\n",
        "# and saves the results to the 'preview/' directory\n",
        "if not os.path.exists('/content/drive/My Drive/TVS/car-damage-dataset/data1a_preview'):\n",
        "    os.makedirs('/content/drive/My Drive/TVS/car-damage-dataset/data1a_preview')\n",
        "i = 0\n",
        "for batch in datagen.flow(x, batch_size=1,\n",
        "                         save_to_dir='/content/drive/My Drive/TVS/car-damage-dataset/data1a_preview', save_prefix='damage_car',\n",
        "                         save_format='jpeg'):\n",
        "    i +=1\n",
        "    if i > 30:\n",
        "        break # otherwise the generator would loop indefinitely"
      ]
    },
    {
      "cell_type": "code",
      "execution_count": null,
      "metadata": {
        "colab": {
          "base_uri": "https://localhost:8080/",
          "height": 247
        },
        "id": "pzjqP0BX99ye",
        "outputId": "02e8bab6-d87e-4da5-9966-f702ebe39d9f"
      },
      "outputs": [
        {
          "output_type": "display_data",
          "data": {
            "image/jpeg": "[encoded data removed]",
            "text/plain": [
              "<IPython.core.display.Image object>"
            ]
          },
          "metadata": {
            "image/jpeg": {
              "width": 200
            }
          }
        },
        {
          "name": "stdout",
          "output_type": "stream",
          "text": [
            "c to continue, q to quitq\n"
          ]
        },
        {
          "output_type": "execute_result",
          "data": {
            "text/plain": [
              "'Finished for now.'"
            ],
            "application/vnd.google.colaboratory.intrinsic+json": {
              "type": "string"
            }
          },
          "metadata": {},
          "execution_count": 35
        }
      ],
      "source": [
        "view_images('/content/drive/My Drive/TVS/car-damage-dataset/data1a_preview/',os.listdir('/content/drive/My Drive/TVS/car-damage-dataset/data1a_preview'))"
      ]
    },
    {
      "cell_type": "markdown",
      "metadata": {
        "id": "-II1TYnZ99ye"
      },
      "source": [
        "### Training"
      ]
    },
    {
      "cell_type": "code",
      "execution_count": null,
      "metadata": {
        "colab": {
          "base_uri": "https://localhost:8080/"
        },
        "id": "RU49AcFW99ye",
        "outputId": "d07cbb93-ddf6-4c27-eafe-9f30b09e8c33"
      },
      "outputs": [
        {
          "output_type": "stream",
          "name": "stdout",
          "text": [
            "Already exists /content/drive/My Drive/TVS/car-damage-dataset/data1a/bottleneck_features_train.npy\n",
            "Already exists /content/drive/My Drive/TVS/car-damage-dataset/data1a/bottleneck_features_val.npy\n"
          ]
        }
      ],
      "source": [
        "# do not rerun!!\n",
        "save_bottleneck_features(location)"
      ]
    },
    {
      "cell_type": "code",
      "execution_count": null,
      "metadata": {
        "id": "YmsepnJd99yf"
      },
      "outputs": [],
      "source": [
        "sns.set_style('whitegrid')"
      ]
    },
    {
      "cell_type": "code",
      "execution_count": null,
      "metadata": {
        "scrolled": true,
        "colab": {
          "base_uri": "https://localhost:8080/"
        },
        "id": "CjtlKhxA99yf",
        "outputId": "ce759017-79c5-4ffc-dfb5-5a2fda990091"
      },
      "outputs": [
        {
          "output_type": "stream",
          "name": "stderr",
          "text": [
            "WARNING:absl:`lr` is deprecated in Keras optimizer, please use `learning_rate` or use the legacy optimizer, e.g.,tf.keras.optimizers.legacy.SGD.\n"
          ]
        },
        {
          "output_type": "stream",
          "name": "stdout",
          "text": [
            "(8, 8, 512)\n",
            "Epoch 1/50\n",
            "115/115 [==============================] - ETA: 0s - loss: 589.0023 - accuracy: 0.4815"
          ]
        },
        {
          "output_type": "stream",
          "name": "stderr",
          "text": [
            "WARNING:tensorflow:Can save best model only with val_acc available, skipping.\n"
          ]
        },
        {
          "output_type": "stream",
          "name": "stdout",
          "text": [
            "\b\b\b\b\b\b\b\b\b\b\b\b\b\b\b\b\b\b\b\b\b\b\b\b\b\b\b\b\b\b\b\b\b\b\b\b\b\b\b\b\b\b\b\b\b\b\b\b\b\b\b\b\b\b\b\b\b\b\b\b\b\b\b\b\b\b\b\b\b\b\b\b\b\b\b\b\b\b\b\b\b\b\b\b\b\b\r115/115 [==============================] - 2s 8ms/step - loss: 589.0023 - accuracy: 0.4815 - val_loss: 848.1689 - val_accuracy: 0.4957\n",
            "Epoch 2/50\n",
            "108/115 [===========================>..] - ETA: 0s - loss: 4485.4521 - accuracy: 0.4855"
          ]
        },
        {
          "output_type": "stream",
          "name": "stderr",
          "text": [
            "WARNING:tensorflow:Can save best model only with val_acc available, skipping.\n"
          ]
        },
        {
          "output_type": "stream",
          "name": "stdout",
          "text": [
            "\b\b\b\b\b\b\b\b\b\b\b\b\b\b\b\b\b\b\b\b\b\b\b\b\b\b\b\b\b\b\b\b\b\b\b\b\b\b\b\b\b\b\b\b\b\b\b\b\b\b\b\b\b\b\b\b\b\b\b\b\b\b\b\b\b\b\b\b\b\b\b\b\b\b\b\b\b\b\b\b\b\b\b\b\b\b\b\r115/115 [==============================] - 1s 6ms/step - loss: 4632.5933 - accuracy: 0.4875 - val_loss: 6718.1665 - val_accuracy: 0.4978\n",
            "Epoch 3/50\n",
            "108/115 [===========================>..] - ETA: 0s - loss: 10842.9326 - accuracy: 0.4983"
          ]
        },
        {
          "output_type": "stream",
          "name": "stderr",
          "text": [
            "WARNING:tensorflow:Can save best model only with val_acc available, skipping.\n"
          ]
        },
        {
          "output_type": "stream",
          "name": "stdout",
          "text": [
            "\b\b\b\b\b\b\b\b\b\b\b\b\b\b\b\b\b\b\b\b\b\b\b\b\b\b\b\b\b\b\b\b\b\b\b\b\b\b\b\b\b\b\b\b\b\b\b\b\b\b\b\b\b\b\b\b\b\b\b\b\b\b\b\b\b\b\b\b\b\b\b\b\b\b\b\b\b\b\b\b\b\b\b\b\b\b\b\b\r115/115 [==============================] - 1s 6ms/step - loss: 10863.6064 - accuracy: 0.4984 - val_loss: 11002.4336 - val_accuracy: 0.5000\n",
            "Epoch 4/50\n",
            "105/115 [==========================>...] - ETA: 0s - loss: 9058.5371 - accuracy: 0.4792"
          ]
        },
        {
          "output_type": "stream",
          "name": "stderr",
          "text": [
            "WARNING:tensorflow:Can save best model only with val_acc available, skipping.\n"
          ]
        },
        {
          "output_type": "stream",
          "name": "stdout",
          "text": [
            "\b\b\b\b\b\b\b\b\b\b\b\b\b\b\b\b\b\b\b\b\b\b\b\b\b\b\b\b\b\b\b\b\b\b\b\b\b\b\b\b\b\b\b\b\b\b\b\b\b\b\b\b\b\b\b\b\b\b\b\b\b\b\b\b\b\b\b\b\b\b\b\b\b\b\b\b\b\b\b\b\b\b\b\b\b\b\b\r115/115 [==============================] - 1s 5ms/step - loss: 8897.9639 - accuracy: 0.4793 - val_loss: 7051.9897 - val_accuracy: 0.5000\n",
            "Epoch 5/50\n",
            "106/115 [==========================>...] - ETA: 0s - loss: 5739.0352 - accuracy: 0.4971"
          ]
        },
        {
          "output_type": "stream",
          "name": "stderr",
          "text": [
            "WARNING:tensorflow:Can save best model only with val_acc available, skipping.\n"
          ]
        },
        {
          "output_type": "stream",
          "name": "stdout",
          "text": [
            "\b\b\b\b\b\b\b\b\b\b\b\b\b\b\b\b\b\b\b\b\b\b\b\b\b\b\b\b\b\b\b\b\b\b\b\b\b\b\b\b\b\b\b\b\b\b\b\b\b\b\b\b\b\b\b\b\b\b\b\b\b\b\b\b\b\b\b\b\b\b\b\b\b\b\b\b\b\b\b\b\b\b\b\b\b\b\b\r115/115 [==============================] - 1s 6ms/step - loss: 5643.8296 - accuracy: 0.5033 - val_loss: 4438.3203 - val_accuracy: 0.5000\n",
            "Epoch 6/50\n",
            "104/115 [==========================>...] - ETA: 0s - loss: 3633.6111 - accuracy: 0.4868"
          ]
        },
        {
          "output_type": "stream",
          "name": "stderr",
          "text": [
            "WARNING:tensorflow:Can save best model only with val_acc available, skipping.\n"
          ]
        },
        {
          "output_type": "stream",
          "name": "stdout",
          "text": [
            "\b\b\b\b\b\b\b\b\b\b\b\b\b\b\b\b\b\b\b\b\b\b\b\b\b\b\b\b\b\b\b\b\b\b\b\b\b\b\b\b\b\b\b\b\b\b\b\b\b\b\b\b\b\b\b\b\b\b\b\b\b\b\b\b\b\b\b\b\b\b\b\b\b\b\b\b\b\b\b\b\b\b\b\b\b\b\b\r115/115 [==============================] - 1s 5ms/step - loss: 3559.0288 - accuracy: 0.4853 - val_loss: 2784.6729 - val_accuracy: 0.5000\n",
            "Epoch 7/50\n",
            "106/115 [==========================>...] - ETA: 0s - loss: 2265.5452 - accuracy: 0.4864"
          ]
        },
        {
          "output_type": "stream",
          "name": "stderr",
          "text": [
            "WARNING:tensorflow:Can save best model only with val_acc available, skipping.\n"
          ]
        },
        {
          "output_type": "stream",
          "name": "stdout",
          "text": [
            "\b\b\b\b\b\b\b\b\b\b\b\b\b\b\b\b\b\b\b\b\b\b\b\b\b\b\b\b\b\b\b\b\b\b\b\b\b\b\b\b\b\b\b\b\b\b\b\b\b\b\b\b\b\b\b\b\b\b\b\b\b\b\b\b\b\b\b\b\b\b\b\b\b\b\b\b\b\b\b\b\b\b\b\b\b\b\b\r115/115 [==============================] - 1s 5ms/step - loss: 2227.4097 - accuracy: 0.4853 - val_loss: 1742.2742 - val_accuracy: 0.5000\n",
            "Epoch 8/50\n",
            "108/115 [===========================>..] - ETA: 0s - loss: 1412.1710 - accuracy: 0.4884"
          ]
        },
        {
          "output_type": "stream",
          "name": "stderr",
          "text": [
            "WARNING:tensorflow:Can save best model only with val_acc available, skipping.\n"
          ]
        },
        {
          "output_type": "stream",
          "name": "stdout",
          "text": [
            "\b\b\b\b\b\b\b\b\b\b\b\b\b\b\b\b\b\b\b\b\b\b\b\b\b\b\b\b\b\b\b\b\b\b\b\b\b\b\b\b\b\b\b\b\b\b\b\b\b\b\b\b\b\b\b\b\b\b\b\b\b\b\b\b\b\b\b\b\b\b\b\b\b\b\b\b\b\b\b\b\b\b\b\b\b\b\b\r115/115 [==============================] - 1s 5ms/step - loss: 1393.6644 - accuracy: 0.4870 - val_loss: 1090.1779 - val_accuracy: 0.5000\n",
            "Epoch 9/50\n",
            "112/115 [============================>.] - ETA: 0s - loss: 877.0336 - accuracy: 0.4972"
          ]
        },
        {
          "output_type": "stream",
          "name": "stderr",
          "text": [
            "WARNING:tensorflow:Can save best model only with val_acc available, skipping.\n"
          ]
        },
        {
          "output_type": "stream",
          "name": "stdout",
          "text": [
            "\b\b\b\b\b\b\b\b\b\b\b\b\b\b\b\b\b\b\b\b\b\b\b\b\b\b\b\b\b\b\b\b\b\b\b\b\b\b\b\b\b\b\b\b\b\b\b\b\b\b\b\b\b\b\b\b\b\b\b\b\b\b\b\b\b\b\b\b\b\b\b\b\b\b\b\b\b\b\b\b\b\b\b\b\b\b\r115/115 [==============================] - 1s 6ms/step - loss: 872.0979 - accuracy: 0.4957 - val_loss: 682.2448 - val_accuracy: 0.5000\n",
            "Epoch 10/50\n",
            "108/115 [===========================>..] - ETA: 0s - loss: 553.0613 - accuracy: 0.4994"
          ]
        },
        {
          "output_type": "stream",
          "name": "stderr",
          "text": [
            "WARNING:tensorflow:Can save best model only with val_acc available, skipping.\n"
          ]
        },
        {
          "output_type": "stream",
          "name": "stdout",
          "text": [
            "\b\b\b\b\b\b\b\b\b\b\b\b\b\b\b\b\b\b\b\b\b\b\b\b\b\b\b\b\b\b\b\b\b\b\b\b\b\b\b\b\b\b\b\b\b\b\b\b\b\b\b\b\b\b\b\b\b\b\b\b\b\b\b\b\b\b\b\b\b\b\b\b\b\b\b\b\b\b\b\b\b\b\b\b\b\b\r115/115 [==============================] - 1s 5ms/step - loss: 545.8192 - accuracy: 0.4935 - val_loss: 427.0529 - val_accuracy: 0.5000\n",
            "Epoch 11/50\n",
            "103/115 [=========================>....] - ETA: 0s - loss: 349.5276 - accuracy: 0.4763"
          ]
        },
        {
          "output_type": "stream",
          "name": "stderr",
          "text": [
            "WARNING:tensorflow:Can save best model only with val_acc available, skipping.\n"
          ]
        },
        {
          "output_type": "stream",
          "name": "stdout",
          "text": [
            "\b\b\b\b\b\b\b\b\b\b\b\b\b\b\b\b\b\b\b\b\b\b\b\b\b\b\b\b\b\b\b\b\b\b\b\b\b\b\b\b\b\b\b\b\b\b\b\b\b\b\b\b\b\b\b\b\b\b\b\b\b\b\b\b\b\b\b\b\b\b\b\b\b\b\b\b\b\b\b\b\b\b\b\b\b\b\r115/115 [==============================] - 1s 6ms/step - loss: 341.7097 - accuracy: 0.4783 - val_loss: 267.4120 - val_accuracy: 0.5000\n",
            "Epoch 12/50\n",
            "105/115 [==========================>...] - ETA: 0s - loss: 218.0877 - accuracy: 0.4851"
          ]
        },
        {
          "output_type": "stream",
          "name": "stderr",
          "text": [
            "WARNING:tensorflow:Can save best model only with val_acc available, skipping.\n"
          ]
        },
        {
          "output_type": "stream",
          "name": "stdout",
          "text": [
            "\b\b\b\b\b\b\b\b\b\b\b\b\b\b\b\b\b\b\b\b\b\b\b\b\b\b\b\b\b\b\b\b\b\b\b\b\b\b\b\b\b\b\b\b\b\b\b\b\b\b\b\b\b\b\b\b\b\b\b\b\b\b\b\b\b\b\b\b\b\b\b\b\b\b\b\b\b\b\b\b\b\b\b\b\b\b\r115/115 [==============================] - 1s 5ms/step - loss: 214.0229 - accuracy: 0.4821 - val_loss: 167.5453 - val_accuracy: 0.5000\n",
            "Epoch 13/50\n",
            "108/115 [===========================>..] - ETA: 0s - loss: 136.0053 - accuracy: 0.4850"
          ]
        },
        {
          "output_type": "stream",
          "name": "stderr",
          "text": [
            "WARNING:tensorflow:Can save best model only with val_acc available, skipping.\n"
          ]
        },
        {
          "output_type": "stream",
          "name": "stdout",
          "text": [
            "\b\b\b\b\b\b\b\b\b\b\b\b\b\b\b\b\b\b\b\b\b\b\b\b\b\b\b\b\b\b\b\b\b\b\b\b\b\b\b\b\b\b\b\b\b\b\b\b\b\b\b\b\b\b\b\b\b\b\b\b\b\b\b\b\b\b\b\b\b\b\b\b\b\b\b\b\b\b\b\b\b\b\b\b\b\b\r115/115 [==============================] - 1s 7ms/step - loss: 134.2462 - accuracy: 0.4848 - val_loss: 105.3913 - val_accuracy: 0.5000\n",
            "Epoch 14/50\n",
            "111/115 [===========================>..] - ETA: 0s - loss: 85.0832 - accuracy: 0.4865"
          ]
        },
        {
          "output_type": "stream",
          "name": "stderr",
          "text": [
            "WARNING:tensorflow:Can save best model only with val_acc available, skipping.\n"
          ]
        },
        {
          "output_type": "stream",
          "name": "stdout",
          "text": [
            "\b\b\b\b\b\b\b\b\b\b\b\b\b\b\b\b\b\b\b\b\b\b\b\b\b\b\b\b\b\b\b\b\b\b\b\b\b\b\b\b\b\b\b\b\b\b\b\b\b\b\b\b\b\b\b\b\b\b\b\b\b\b\b\b\b\b\b\b\b\b\b\b\b\b\b\b\b\b\b\b\b\b\b\b\b\r115/115 [==============================] - 1s 9ms/step - loss: 84.4499 - accuracy: 0.4870 - val_loss: 66.2030 - val_accuracy: 0.5000\n",
            "Epoch 15/50\n",
            "113/115 [============================>.] - ETA: 0s - loss: 53.2873 - accuracy: 0.4867"
          ]
        },
        {
          "output_type": "stream",
          "name": "stderr",
          "text": [
            "WARNING:tensorflow:Can save best model only with val_acc available, skipping.\n"
          ]
        },
        {
          "output_type": "stream",
          "name": "stdout",
          "text": [
            "\b\b\b\b\b\b\b\b\b\b\b\b\b\b\b\b\b\b\b\b\b\b\b\b\b\b\b\b\b\b\b\b\b\b\b\b\b\b\b\b\b\b\b\b\b\b\b\b\b\b\b\b\b\b\b\b\b\b\b\b\b\b\b\b\b\b\b\b\b\b\b\b\b\b\b\b\b\b\b\b\b\b\b\b\b\r115/115 [==============================] - 1s 12ms/step - loss: 53.0897 - accuracy: 0.4870 - val_loss: 41.6743 - val_accuracy: 0.5000\n",
            "Epoch 16/50\n",
            "111/115 [===========================>..] - ETA: 0s - loss: 33.7191 - accuracy: 0.4944"
          ]
        },
        {
          "output_type": "stream",
          "name": "stderr",
          "text": [
            "WARNING:tensorflow:Can save best model only with val_acc available, skipping.\n"
          ]
        },
        {
          "output_type": "stream",
          "name": "stdout",
          "text": [
            "\b\b\b\b\b\b\b\b\b\b\b\b\b\b\b\b\b\b\b\b\b\b\b\b\b\b\b\b\b\b\b\b\b\b\b\b\b\b\b\b\b\b\b\b\b\b\b\b\b\b\b\b\b\b\b\b\b\b\b\b\b\b\b\b\b\b\b\b\b\b\b\b\b\b\b\b\b\b\b\b\b\b\b\b\b\r115/115 [==============================] - 2s 14ms/step - loss: 33.4714 - accuracy: 0.4929 - val_loss: 26.3301 - val_accuracy: 0.5000\n",
            "Epoch 17/50\n",
            "109/115 [===========================>..] - ETA: 0s - loss: 21.4319 - accuracy: 0.4857"
          ]
        },
        {
          "output_type": "stream",
          "name": "stderr",
          "text": [
            "WARNING:tensorflow:Can save best model only with val_acc available, skipping.\n"
          ]
        },
        {
          "output_type": "stream",
          "name": "stdout",
          "text": [
            "\b\b\b\b\b\b\b\b\b\b\b\b\b\b\b\b\b\b\b\b\b\b\b\b\b\b\b\b\b\b\b\b\b\b\b\b\b\b\b\b\b\b\b\b\b\b\b\b\b\b\b\b\b\b\b\b\b\b\b\b\b\b\b\b\b\b\b\b\b\b\b\b\b\b\b\b\b\b\b\b\b\b\b\b\b\r115/115 [==============================] - 1s 13ms/step - loss: 21.1988 - accuracy: 0.4848 - val_loss: 16.7308 - val_accuracy: 0.5000\n",
            "Epoch 18/50\n",
            "108/115 [===========================>..] - ETA: 0s - loss: 13.6914 - accuracy: 0.4664"
          ]
        },
        {
          "output_type": "stream",
          "name": "stderr",
          "text": [
            "WARNING:tensorflow:Can save best model only with val_acc available, skipping.\n"
          ]
        },
        {
          "output_type": "stream",
          "name": "stdout",
          "text": [
            "\b\b\b\b\b\b\b\b\b\b\b\b\b\b\b\b\b\b\b\b\b\b\b\b\b\b\b\b\b\b\b\b\b\b\b\b\b\b\b\b\b\b\b\b\b\b\b\b\b\b\b\b\b\b\b\b\b\b\b\b\b\b\b\b\b\b\b\b\b\b\b\b\b\b\b\b\b\b\b\b\b\b\b\b\b\r115/115 [==============================] - 1s 9ms/step - loss: 13.5209 - accuracy: 0.4701 - val_loss: 10.7259 - val_accuracy: 0.5000\n",
            "Epoch 19/50\n",
            "106/115 [==========================>...] - ETA: 0s - loss: 8.8549 - accuracy: 0.5029"
          ]
        },
        {
          "output_type": "stream",
          "name": "stderr",
          "text": [
            "WARNING:tensorflow:Can save best model only with val_acc available, skipping.\n"
          ]
        },
        {
          "output_type": "stream",
          "name": "stdout",
          "text": [
            "\b\b\b\b\b\b\b\b\b\b\b\b\b\b\b\b\b\b\b\b\b\b\b\b\b\b\b\b\b\b\b\b\b\b\b\b\b\b\b\b\b\b\b\b\b\b\b\b\b\b\b\b\b\b\b\b\b\b\b\b\b\b\b\b\b\b\b\b\b\b\b\b\b\b\b\b\b\b\b\b\b\b\b\b\r115/115 [==============================] - 1s 5ms/step - loss: 8.7172 - accuracy: 0.5022 - val_loss: 6.9694 - val_accuracy: 0.5000\n",
            "Epoch 20/50\n",
            "105/115 [==========================>...] - ETA: 0s - loss: 5.8087 - accuracy: 0.5137"
          ]
        },
        {
          "output_type": "stream",
          "name": "stderr",
          "text": [
            "WARNING:tensorflow:Can save best model only with val_acc available, skipping.\n"
          ]
        },
        {
          "output_type": "stream",
          "name": "stdout",
          "text": [
            "\b\b\b\b\b\b\b\b\b\b\b\b\b\b\b\b\b\b\b\b\b\b\b\b\b\b\b\b\b\b\b\b\b\b\b\b\b\b\b\b\b\b\b\b\b\b\b\b\b\b\b\b\b\b\b\b\b\b\b\b\b\b\b\b\b\b\b\b\b\b\b\b\b\b\b\b\b\b\b\b\b\b\b\b\r115/115 [==============================] - 1s 6ms/step - loss: 5.7129 - accuracy: 0.5158 - val_loss: 4.6205 - val_accuracy: 0.5000\n",
            "Epoch 21/50\n",
            "107/115 [==========================>...] - ETA: 0s - loss: 3.8819 - accuracy: 0.4953"
          ]
        },
        {
          "output_type": "stream",
          "name": "stderr",
          "text": [
            "WARNING:tensorflow:Can save best model only with val_acc available, skipping.\n"
          ]
        },
        {
          "output_type": "stream",
          "name": "stdout",
          "text": [
            "\b\b\b\b\b\b\b\b\b\b\b\b\b\b\b\b\b\b\b\b\b\b\b\b\b\b\b\b\b\b\b\b\b\b\b\b\b\b\b\b\b\b\b\b\b\b\b\b\b\b\b\b\b\b\b\b\b\b\b\b\b\b\b\b\b\b\b\b\b\b\b\b\b\b\b\b\b\b\b\b\b\b\b\b\r115/115 [==============================] - 1s 5ms/step - loss: 3.8341 - accuracy: 0.4940 - val_loss: 3.1493 - val_accuracy: 0.5000\n",
            "Epoch 22/50\n",
            "112/115 [============================>.] - ETA: 0s - loss: 2.6686 - accuracy: 0.4939"
          ]
        },
        {
          "output_type": "stream",
          "name": "stderr",
          "text": [
            "WARNING:tensorflow:Can save best model only with val_acc available, skipping.\n"
          ]
        },
        {
          "output_type": "stream",
          "name": "stdout",
          "text": [
            "\b\b\b\b\b\b\b\b\b\b\b\b\b\b\b\b\b\b\b\b\b\b\b\b\b\b\b\b\b\b\b\b\b\b\b\b\b\b\b\b\b\b\b\b\b\b\b\b\b\b\b\b\b\b\b\b\b\b\b\b\b\b\b\b\b\b\b\b\b\b\b\b\b\b\b\b\b\b\b\b\b\b\b\b\r115/115 [==============================] - 1s 6ms/step - loss: 2.6575 - accuracy: 0.4957 - val_loss: 2.2296 - val_accuracy: 0.5000\n",
            "Epoch 23/50\n",
            "113/115 [============================>.] - ETA: 0s - loss: 1.9266 - accuracy: 0.4862"
          ]
        },
        {
          "output_type": "stream",
          "name": "stderr",
          "text": [
            "WARNING:tensorflow:Can save best model only with val_acc available, skipping.\n"
          ]
        },
        {
          "output_type": "stream",
          "name": "stdout",
          "text": [
            "\b\b\b\b\b\b\b\b\b\b\b\b\b\b\b\b\b\b\b\b\b\b\b\b\b\b\b\b\b\b\b\b\b\b\b\b\b\b\b\b\b\b\b\b\b\b\b\b\b\b\b\b\b\b\b\b\b\b\b\b\b\b\b\b\b\b\b\b\b\b\b\b\b\b\b\b\b\b\b\b\b\b\b\b\r115/115 [==============================] - 1s 6ms/step - loss: 1.9220 - accuracy: 0.4870 - val_loss: 1.6544 - val_accuracy: 0.5000\n",
            "Epoch 24/50\n",
            "107/115 [==========================>...] - ETA: 0s - loss: 1.4735 - accuracy: 0.5093"
          ]
        },
        {
          "output_type": "stream",
          "name": "stderr",
          "text": [
            "WARNING:tensorflow:Can save best model only with val_acc available, skipping.\n"
          ]
        },
        {
          "output_type": "stream",
          "name": "stdout",
          "text": [
            "\b\b\b\b\b\b\b\b\b\b\b\b\b\b\b\b\b\b\b\b\b\b\b\b\b\b\b\b\b\b\b\b\b\b\b\b\b\b\b\b\b\b\b\b\b\b\b\b\b\b\b\b\b\b\b\b\b\b\b\b\b\b\b\b\b\b\b\b\b\b\b\b\b\b\b\b\b\b\b\b\b\b\b\b\r115/115 [==============================] - 1s 6ms/step - loss: 1.4618 - accuracy: 0.5103 - val_loss: 1.2956 - val_accuracy: 0.5000\n",
            "Epoch 25/50\n",
            "112/115 [============================>.] - ETA: 0s - loss: 1.1771 - accuracy: 0.4950"
          ]
        },
        {
          "output_type": "stream",
          "name": "stderr",
          "text": [
            "WARNING:tensorflow:Can save best model only with val_acc available, skipping.\n"
          ]
        },
        {
          "output_type": "stream",
          "name": "stdout",
          "text": [
            "\b\b\b\b\b\b\b\b\b\b\b\b\b\b\b\b\b\b\b\b\b\b\b\b\b\b\b\b\b\b\b\b\b\b\b\b\b\b\b\b\b\b\b\b\b\b\b\b\b\b\b\b\b\b\b\b\b\b\b\b\b\b\b\b\b\b\b\b\b\b\b\b\b\b\b\b\b\b\b\b\b\b\b\b\r115/115 [==============================] - 1s 6ms/step - loss: 1.1743 - accuracy: 0.4962 - val_loss: 1.0694 - val_accuracy: 0.5000\n",
            "Epoch 26/50\n",
            "114/115 [============================>.] - ETA: 0s - loss: 0.9944 - accuracy: 0.4814"
          ]
        },
        {
          "output_type": "stream",
          "name": "stderr",
          "text": [
            "WARNING:tensorflow:Can save best model only with val_acc available, skipping.\n"
          ]
        },
        {
          "output_type": "stream",
          "name": "stdout",
          "text": [
            "\b\b\b\b\b\b\b\b\b\b\b\b\b\b\b\b\b\b\b\b\b\b\b\b\b\b\b\b\b\b\b\b\b\b\b\b\b\b\b\b\b\b\b\b\b\b\b\b\b\b\b\b\b\b\b\b\b\b\b\b\b\b\b\b\b\b\b\b\b\b\b\b\b\b\b\b\b\b\b\b\b\b\b\b\r115/115 [==============================] - 1s 6ms/step - loss: 0.9938 - accuracy: 0.4826 - val_loss: 0.9285 - val_accuracy: 0.5000\n",
            "Epoch 27/50\n",
            "103/115 [=========================>....] - ETA: 0s - loss: 0.8861 - accuracy: 0.4933"
          ]
        },
        {
          "output_type": "stream",
          "name": "stderr",
          "text": [
            "WARNING:tensorflow:Can save best model only with val_acc available, skipping.\n"
          ]
        },
        {
          "output_type": "stream",
          "name": "stdout",
          "text": [
            "\b\b\b\b\b\b\b\b\b\b\b\b\b\b\b\b\b\b\b\b\b\b\b\b\b\b\b\b\b\b\b\b\b\b\b\b\b\b\b\b\b\b\b\b\b\b\b\b\b\b\b\b\b\b\b\b\b\b\b\b\b\b\b\b\b\b\b\b\b\b\b\b\b\b\b\b\b\b\b\b\b\b\b\b\r115/115 [==============================] - 1s 5ms/step - loss: 0.8818 - accuracy: 0.4967 - val_loss: 0.8407 - val_accuracy: 0.5000\n",
            "Epoch 28/50\n",
            "104/115 [==========================>...] - ETA: 0s - loss: 0.8133 - accuracy: 0.5018"
          ]
        },
        {
          "output_type": "stream",
          "name": "stderr",
          "text": [
            "WARNING:tensorflow:Can save best model only with val_acc available, skipping.\n"
          ]
        },
        {
          "output_type": "stream",
          "name": "stdout",
          "text": [
            "\b\b\b\b\b\b\b\b\b\b\b\b\b\b\b\b\b\b\b\b\b\b\b\b\b\b\b\b\b\b\b\b\b\b\b\b\b\b\b\b\b\b\b\b\b\b\b\b\b\b\b\b\b\b\b\b\b\b\b\b\b\b\b\b\b\b\b\b\b\b\b\b\b\b\b\b\b\b\b\b\b\b\b\b\r115/115 [==============================] - 1s 6ms/step - loss: 0.8108 - accuracy: 0.5022 - val_loss: 0.7853 - val_accuracy: 0.5000\n",
            "Epoch 29/50\n",
            "112/115 [============================>.] - ETA: 0s - loss: 0.7671 - accuracy: 0.5000"
          ]
        },
        {
          "output_type": "stream",
          "name": "stderr",
          "text": [
            "WARNING:tensorflow:Can save best model only with val_acc available, skipping.\n"
          ]
        },
        {
          "output_type": "stream",
          "name": "stdout",
          "text": [
            "\b\b\b\b\b\b\b\b\b\b\b\b\b\b\b\b\b\b\b\b\b\b\b\b\b\b\b\b\b\b\b\b\b\b\b\b\b\b\b\b\b\b\b\b\b\b\b\b\b\b\b\b\b\b\b\b\b\b\b\b\b\b\b\b\b\b\b\b\b\b\b\b\b\b\b\b\b\b\b\b\b\b\b\b\r115/115 [==============================] - 1s 6ms/step - loss: 0.7667 - accuracy: 0.4989 - val_loss: 0.7508 - val_accuracy: 0.5000\n",
            "Epoch 30/50\n",
            "104/115 [==========================>...] - ETA: 0s - loss: 0.7400 - accuracy: 0.5048"
          ]
        },
        {
          "output_type": "stream",
          "name": "stderr",
          "text": [
            "WARNING:tensorflow:Can save best model only with val_acc available, skipping.\n"
          ]
        },
        {
          "output_type": "stream",
          "name": "stdout",
          "text": [
            "\b\b\b\b\b\b\b\b\b\b\b\b\b\b\b\b\b\b\b\b\b\b\b\b\b\b\b\b\b\b\b\b\b\b\b\b\b\b\b\b\b\b\b\b\b\b\b\b\b\b\b\b\b\b\b\b\b\b\b\b\b\b\b\b\b\b\b\b\b\b\b\b\b\b\b\b\b\b\b\b\b\b\b\b\r115/115 [==============================] - 1s 6ms/step - loss: 0.7392 - accuracy: 0.5033 - val_loss: 0.7294 - val_accuracy: 0.5000\n",
            "Epoch 31/50\n",
            "115/115 [==============================] - ETA: 0s - loss: 0.7219 - accuracy: 0.4864"
          ]
        },
        {
          "output_type": "stream",
          "name": "stderr",
          "text": [
            "WARNING:tensorflow:Can save best model only with val_acc available, skipping.\n"
          ]
        },
        {
          "output_type": "stream",
          "name": "stdout",
          "text": [
            "\b\b\b\b\b\b\b\b\b\b\b\b\b\b\b\b\b\b\b\b\b\b\b\b\b\b\b\b\b\b\b\b\b\b\b\b\b\b\b\b\b\b\b\b\b\b\b\b\b\b\b\b\b\b\b\b\b\b\b\b\b\b\b\b\b\b\b\b\b\b\b\b\b\b\b\b\b\b\b\b\b\b\b\b\r115/115 [==============================] - 1s 6ms/step - loss: 0.7219 - accuracy: 0.4864 - val_loss: 0.7160 - val_accuracy: 0.5000\n",
            "Epoch 32/50\n",
            "110/115 [===========================>..] - ETA: 0s - loss: 6.8490 - accuracy: 0.5040"
          ]
        },
        {
          "output_type": "stream",
          "name": "stderr",
          "text": [
            "WARNING:tensorflow:Can save best model only with val_acc available, skipping.\n"
          ]
        },
        {
          "output_type": "stream",
          "name": "stdout",
          "text": [
            "\b\b\b\b\b\b\b\b\b\b\b\b\b\b\b\b\b\b\b\b\b\b\b\b\b\b\b\b\b\b\b\b\b\b\b\b\b\b\b\b\b\b\b\b\b\b\b\b\b\b\b\b\b\b\b\b\b\b\b\b\b\b\b\b\b\b\b\b\b\b\b\b\b\b\b\b\b\b\b\b\b\b\b\b\r115/115 [==============================] - 1s 6ms/step - loss: 7.3030 - accuracy: 0.5016 - val_loss: 17.1253 - val_accuracy: 0.5000\n",
            "Epoch 33/50\n",
            "113/115 [============================>.] - ETA: 0s - loss: 13.9589 - accuracy: 0.5011"
          ]
        },
        {
          "output_type": "stream",
          "name": "stderr",
          "text": [
            "WARNING:tensorflow:Can save best model only with val_acc available, skipping.\n"
          ]
        },
        {
          "output_type": "stream",
          "name": "stdout",
          "text": [
            "\b\b\b\b\b\b\b\b\b\b\b\b\b\b\b\b\b\b\b\b\b\b\b\b\b\b\b\b\b\b\b\b\b\b\b\b\b\b\b\b\b\b\b\b\b\b\b\b\b\b\b\b\b\b\b\b\b\b\b\b\b\b\b\b\b\b\b\b\b\b\b\b\b\b\b\b\b\b\b\b\b\b\b\b\b\r115/115 [==============================] - 1s 10ms/step - loss: 13.9092 - accuracy: 0.5016 - val_loss: 11.0371 - val_accuracy: 0.5000\n",
            "Epoch 34/50\n",
            "115/115 [==============================] - ETA: 0s - loss: 8.9667 - accuracy: 0.5000"
          ]
        },
        {
          "output_type": "stream",
          "name": "stderr",
          "text": [
            "WARNING:tensorflow:Can save best model only with val_acc available, skipping.\n"
          ]
        },
        {
          "output_type": "stream",
          "name": "stdout",
          "text": [
            "\b\b\b\b\b\b\b\b\b\b\b\b\b\b\b\b\b\b\b\b\b\b\b\b\b\b\b\b\b\b\b\b\b\b\b\b\b\b\b\b\b\b\b\b\b\b\b\b\b\b\b\b\b\b\b\b\b\b\b\b\b\b\b\b\b\b\b\b\b\b\b\b\b\b\b\b\b\b\b\b\b\b\b\b\r115/115 [==============================] - 1s 12ms/step - loss: 8.9667 - accuracy: 0.5000 - val_loss: 7.1639 - val_accuracy: 0.5000\n",
            "Epoch 35/50\n",
            "113/115 [============================>.] - ETA: 0s - loss: 5.8883 - accuracy: 0.5022"
          ]
        },
        {
          "output_type": "stream",
          "name": "stderr",
          "text": [
            "WARNING:tensorflow:Can save best model only with val_acc available, skipping.\n"
          ]
        },
        {
          "output_type": "stream",
          "name": "stdout",
          "text": [
            "\b\b\b\b\b\b\b\b\b\b\b\b\b\b\b\b\b\b\b\b\b\b\b\b\b\b\b\b\b\b\b\b\b\b\b\b\b\b\b\b\b\b\b\b\b\b\b\b\b\b\b\b\b\b\b\b\b\b\b\b\b\b\b\b\b\b\b\b\b\b\b\b\b\b\b\b\b\b\b\b\b\b\b\b\r115/115 [==============================] - 1s 10ms/step - loss: 5.8688 - accuracy: 0.5005 - val_loss: 4.7410 - val_accuracy: 0.5000\n",
            "Epoch 36/50\n",
            "110/115 [===========================>..] - ETA: 0s - loss: 3.9619 - accuracy: 0.5017"
          ]
        },
        {
          "output_type": "stream",
          "name": "stderr",
          "text": [
            "WARNING:tensorflow:Can save best model only with val_acc available, skipping.\n"
          ]
        },
        {
          "output_type": "stream",
          "name": "stdout",
          "text": [
            "\b\b\b\b\b\b\b\b\b\b\b\b\b\b\b\b\b\b\b\b\b\b\b\b\b\b\b\b\b\b\b\b\b\b\b\b\b\b\b\b\b\b\b\b\b\b\b\b\b\b\b\b\b\b\b\b\b\b\b\b\b\b\b\b\b\b\b\b\b\b\b\b\b\b\b\b\b\b\b\b\b\b\b\b\r115/115 [==============================] - 1s 9ms/step - loss: 3.9312 - accuracy: 0.5011 - val_loss: 3.2254 - val_accuracy: 0.5000\n",
            "Epoch 37/50\n",
            "112/115 [============================>.] - ETA: 0s - loss: 2.7300 - accuracy: 0.5073"
          ]
        },
        {
          "output_type": "stream",
          "name": "stderr",
          "text": [
            "WARNING:tensorflow:Can save best model only with val_acc available, skipping.\n"
          ]
        },
        {
          "output_type": "stream",
          "name": "stdout",
          "text": [
            "\b\b\b\b\b\b\b\b\b\b\b\b\b\b\b\b\b\b\b\b\b\b\b\b\b\b\b\b\b\b\b\b\b\b\b\b\b\b\b\b\b\b\b\b\b\b\b\b\b\b\b\b\b\b\b\b\b\b\b\b\b\b\b\b\b\b\b\b\b\b\b\b\b\b\b\b\b\b\b\b\b\b\b\b\r115/115 [==============================] - 1s 8ms/step - loss: 2.7186 - accuracy: 0.5060 - val_loss: 2.2774 - val_accuracy: 0.5000\n",
            "Epoch 38/50\n",
            "111/115 [===========================>..] - ETA: 0s - loss: 1.9701 - accuracy: 0.5023"
          ]
        },
        {
          "output_type": "stream",
          "name": "stderr",
          "text": [
            "WARNING:tensorflow:Can save best model only with val_acc available, skipping.\n"
          ]
        },
        {
          "output_type": "stream",
          "name": "stdout",
          "text": [
            "\b\b\b\b\b\b\b\b\b\b\b\b\b\b\b\b\b\b\b\b\b\b\b\b\b\b\b\b\b\b\b\b\b\b\b\b\b\b\b\b\b\b\b\b\b\b\b\b\b\b\b\b\b\b\b\b\b\b\b\b\b\b\b\b\b\b\b\b\b\b\b\b\b\b\b\b\b\b\b\b\b\b\b\b\r115/115 [==============================] - 1s 8ms/step - loss: 1.9606 - accuracy: 0.5011 - val_loss: 1.6844 - val_accuracy: 0.5000\n",
            "Epoch 39/50\n",
            "111/115 [===========================>..] - ETA: 0s - loss: 1.4923 - accuracy: 0.4977"
          ]
        },
        {
          "output_type": "stream",
          "name": "stderr",
          "text": [
            "WARNING:tensorflow:Can save best model only with val_acc available, skipping.\n"
          ]
        },
        {
          "output_type": "stream",
          "name": "stdout",
          "text": [
            "\b\b\b\b\b\b\b\b\b\b\b\b\b\b\b\b\b\b\b\b\b\b\b\b\b\b\b\b\b\b\b\b\b\b\b\b\b\b\b\b\b\b\b\b\b\b\b\b\b\b\b\b\b\b\b\b\b\b\b\b\b\b\b\b\b\b\b\b\b\b\b\b\b\b\b\b\b\b\b\b\b\b\b\b\r115/115 [==============================] - 1s 7ms/step - loss: 1.4863 - accuracy: 0.4967 - val_loss: 1.3132 - val_accuracy: 0.5000\n",
            "Epoch 40/50\n",
            "114/115 [============================>.] - ETA: 0s - loss: 1.1902 - accuracy: 0.4890"
          ]
        },
        {
          "output_type": "stream",
          "name": "stderr",
          "text": [
            "WARNING:tensorflow:Can save best model only with val_acc available, skipping.\n"
          ]
        },
        {
          "output_type": "stream",
          "name": "stdout",
          "text": [
            "\b\b\b\b\b\b\b\b\b\b\b\b\b\b\b\b\b\b\b\b\b\b\b\b\b\b\b\b\b\b\b\b\b\b\b\b\b\b\b\b\b\b\b\b\b\b\b\b\b\b\b\b\b\b\b\b\b\b\b\b\b\b\b\b\b\b\b\b\b\b\b\b\b\b\b\b\b\b\b\b\b\b\b\b\r115/115 [==============================] - 1s 8ms/step - loss: 1.1893 - accuracy: 0.4891 - val_loss: 1.0810 - val_accuracy: 0.5000\n",
            "Epoch 41/50\n",
            "115/115 [==============================] - ETA: 0s - loss: 1.0038 - accuracy: 0.4924"
          ]
        },
        {
          "output_type": "stream",
          "name": "stderr",
          "text": [
            "WARNING:tensorflow:Can save best model only with val_acc available, skipping.\n"
          ]
        },
        {
          "output_type": "stream",
          "name": "stdout",
          "text": [
            "\b\b\b\b\b\b\b\b\b\b\b\b\b\b\b\b\b\b\b\b\b\b\b\b\b\b\b\b\b\b\b\b\b\b\b\b\b\b\b\b\b\b\b\b\b\b\b\b\b\b\b\b\b\b\b\b\b\b\b\b\b\b\b\b\b\b\b\b\b\b\b\b\b\b\b\b\b\b\b\b\b\b\b\b\r115/115 [==============================] - 1s 6ms/step - loss: 1.0038 - accuracy: 0.4924 - val_loss: 0.9358 - val_accuracy: 0.5000\n",
            "Epoch 42/50\n",
            "107/115 [==========================>...] - ETA: 0s - loss: 0.8904 - accuracy: 0.4930"
          ]
        },
        {
          "output_type": "stream",
          "name": "stderr",
          "text": [
            "WARNING:tensorflow:Can save best model only with val_acc available, skipping.\n"
          ]
        },
        {
          "output_type": "stream",
          "name": "stdout",
          "text": [
            "\b\b\b\b\b\b\b\b\b\b\b\b\b\b\b\b\b\b\b\b\b\b\b\b\b\b\b\b\b\b\b\b\b\b\b\b\b\b\b\b\b\b\b\b\b\b\b\b\b\b\b\b\b\b\b\b\b\b\b\b\b\b\b\b\b\b\b\b\b\b\b\b\b\b\b\b\b\b\b\b\b\b\b\b\r115/115 [==============================] - 1s 6ms/step - loss: 0.8874 - accuracy: 0.4946 - val_loss: 0.8449 - val_accuracy: 0.5000\n",
            "Epoch 43/50\n",
            "110/115 [===========================>..] - ETA: 0s - loss: 0.8160 - accuracy: 0.4909"
          ]
        },
        {
          "output_type": "stream",
          "name": "stderr",
          "text": [
            "WARNING:tensorflow:Can save best model only with val_acc available, skipping.\n"
          ]
        },
        {
          "output_type": "stream",
          "name": "stdout",
          "text": [
            "\b\b\b\b\b\b\b\b\b\b\b\b\b\b\b\b\b\b\b\b\b\b\b\b\b\b\b\b\b\b\b\b\b\b\b\b\b\b\b\b\b\b\b\b\b\b\b\b\b\b\b\b\b\b\b\b\b\b\b\b\b\b\b\b\b\b\b\b\b\b\b\b\b\b\b\b\b\b\b\b\b\b\b\b\r115/115 [==============================] - 1s 6ms/step - loss: 0.8150 - accuracy: 0.4891 - val_loss: 0.7882 - val_accuracy: 0.5000\n",
            "Epoch 44/50\n",
            "114/115 [============================>.] - ETA: 0s - loss: 2249.0491 - accuracy: 0.4896"
          ]
        },
        {
          "output_type": "stream",
          "name": "stderr",
          "text": [
            "WARNING:tensorflow:Can save best model only with val_acc available, skipping.\n"
          ]
        },
        {
          "output_type": "stream",
          "name": "stdout",
          "text": [
            "\b\b\b\b\b\b\b\b\b\b\b\b\b\b\b\b\b\b\b\b\b\b\b\b\b\b\b\b\b\b\b\b\b\b\b\b\b\b\b\b\b\b\b\b\b\b\b\b\b\b\b\b\b\b\b\b\b\b\b\b\b\b\b\b\b\b\b\b\b\b\b\b\b\b\b\b\b\b\b\b\b\b\b\b\b\b\b\r115/115 [==============================] - 1s 8ms/step - loss: 2286.1335 - accuracy: 0.4891 - val_loss: 6494.4150 - val_accuracy: 0.5000\n",
            "Epoch 45/50\n",
            "111/115 [===========================>..] - ETA: 0s - loss: 5282.2017 - accuracy: 0.4882"
          ]
        },
        {
          "output_type": "stream",
          "name": "stderr",
          "text": [
            "WARNING:tensorflow:Can save best model only with val_acc available, skipping.\n"
          ]
        },
        {
          "output_type": "stream",
          "name": "stdout",
          "text": [
            "\b\b\b\b\b\b\b\b\b\b\b\b\b\b\b\b\b\b\b\b\b\b\b\b\b\b\b\b\b\b\b\b\b\b\b\b\b\b\b\b\b\b\b\b\b\b\b\b\b\b\b\b\b\b\b\b\b\b\b\b\b\b\b\b\b\b\b\b\b\b\b\b\b\b\b\b\b\b\b\b\b\b\b\b\b\b\b\r115/115 [==============================] - 1s 7ms/step - loss: 5242.7280 - accuracy: 0.4902 - val_loss: 4105.2456 - val_accuracy: 0.5000\n",
            "Epoch 46/50\n",
            "109/115 [===========================>..] - ETA: 0s - loss: 3320.9822 - accuracy: 0.4805"
          ]
        },
        {
          "output_type": "stream",
          "name": "stderr",
          "text": [
            "WARNING:tensorflow:Can save best model only with val_acc available, skipping.\n"
          ]
        },
        {
          "output_type": "stream",
          "name": "stdout",
          "text": [
            "\b\b\b\b\b\b\b\b\b\b\b\b\b\b\b\b\b\b\b\b\b\b\b\b\b\b\b\b\b\b\b\b\b\b\b\b\b\b\b\b\b\b\b\b\b\b\b\b\b\b\b\b\b\b\b\b\b\b\b\b\b\b\b\b\b\b\b\b\b\b\b\b\b\b\b\b\b\b\b\b\b\b\b\b\b\b\b\r115/115 [==============================] - 1s 7ms/step - loss: 3283.6458 - accuracy: 0.4761 - val_loss: 2568.3870 - val_accuracy: 0.5000\n",
            "Epoch 47/50\n",
            "113/115 [============================>.] - ETA: 0s - loss: 2062.1619 - accuracy: 0.5000"
          ]
        },
        {
          "output_type": "stream",
          "name": "stderr",
          "text": [
            "WARNING:tensorflow:Can save best model only with val_acc available, skipping.\n"
          ]
        },
        {
          "output_type": "stream",
          "name": "stdout",
          "text": [
            "\b\b\b\b\b\b\b\b\b\b\b\b\b\b\b\b\b\b\b\b\b\b\b\b\b\b\b\b\b\b\b\b\b\b\b\b\b\b\b\b\b\b\b\b\b\b\b\b\b\b\b\b\b\b\b\b\b\b\b\b\b\b\b\b\b\b\b\b\b\b\b\b\b\b\b\b\b\b\b\b\b\b\b\b\b\b\b\r115/115 [==============================] - 1s 8ms/step - loss: 2054.4170 - accuracy: 0.5000 - val_loss: 1606.9712 - val_accuracy: 0.5000\n",
            "Epoch 48/50\n",
            "115/115 [==============================] - ETA: 0s - loss: 1285.4463 - accuracy: 0.4837"
          ]
        },
        {
          "output_type": "stream",
          "name": "stderr",
          "text": [
            "WARNING:tensorflow:Can save best model only with val_acc available, skipping.\n"
          ]
        },
        {
          "output_type": "stream",
          "name": "stdout",
          "text": [
            "\b\b\b\b\b\b\b\b\b\b\b\b\b\b\b\b\b\b\b\b\b\b\b\b\b\b\b\b\b\b\b\b\b\b\b\b\b\b\b\b\b\b\b\b\b\b\b\b\b\b\b\b\b\b\b\b\b\b\b\b\b\b\b\b\b\b\b\b\b\b\b\b\b\b\b\b\b\b\b\b\b\b\b\b\b\b\b\r115/115 [==============================] - 1s 8ms/step - loss: 1285.4463 - accuracy: 0.4837 - val_loss: 1005.5361 - val_accuracy: 0.5000\n",
            "Epoch 49/50\n",
            "109/115 [===========================>..] - ETA: 0s - loss: 813.5403 - accuracy: 0.4891"
          ]
        },
        {
          "output_type": "stream",
          "name": "stderr",
          "text": [
            "WARNING:tensorflow:Can save best model only with val_acc available, skipping.\n"
          ]
        },
        {
          "output_type": "stream",
          "name": "stdout",
          "text": [
            "\b\b\b\b\b\b\b\b\b\b\b\b\b\b\b\b\b\b\b\b\b\b\b\b\b\b\b\b\b\b\b\b\b\b\b\b\b\b\b\b\b\b\b\b\b\b\b\b\b\b\b\b\b\b\b\b\b\b\b\b\b\b\b\b\b\b\b\b\b\b\b\b\b\b\b\b\b\b\b\b\b\b\b\b\b\b\r115/115 [==============================] - 1s 7ms/step - loss: 804.3998 - accuracy: 0.4913 - val_loss: 629.2952 - val_accuracy: 0.5000\n",
            "Epoch 50/50\n",
            "109/115 [===========================>..] - ETA: 0s - loss: 509.1876 - accuracy: 0.5040"
          ]
        },
        {
          "output_type": "stream",
          "name": "stderr",
          "text": [
            "WARNING:tensorflow:Can save best model only with val_acc available, skipping.\n"
          ]
        },
        {
          "output_type": "stream",
          "name": "stdout",
          "text": [
            "\b\b\b\b\b\b\b\b\b\b\b\b\b\b\b\b\b\b\b\b\b\b\b\b\b\b\b\b\b\b\b\b\b\b\b\b\b\b\b\b\b\b\b\b\b\b\b\b\b\b\b\b\b\b\b\b\b\b\b\b\b\b\b\b\b\b\b\b\b\b\b\b\b\b\b\b\b\b\b\b\b\b\b\b\b\b\r115/115 [==============================] - 1s 7ms/step - loss: 503.4699 - accuracy: 0.5000 - val_loss: 393.9294 - val_accuracy: 0.5000\n"
          ]
        }
      ],
      "source": [
        "d1a_model1,d1a_history1 = train_binary_model(location)"
      ]
    },
    {
      "cell_type": "code",
      "source": [
        "d1a_history1"
      ],
      "metadata": {
        "colab": {
          "base_uri": "https://localhost:8080/"
        },
        "id": "h_ATQ8vVDqYs",
        "outputId": "e14e4920-99dd-4d8a-a271-03a0d5dc24e6"
      },
      "execution_count": null,
      "outputs": [
        {
          "output_type": "execute_result",
          "data": {
            "text/plain": [
              "{'loss': [589.0023193359375,\n",
              "  4632.59326171875,\n",
              "  10863.6064453125,\n",
              "  8897.9638671875,\n",
              "  5643.82958984375,\n",
              "  3559.02880859375,\n",
              "  2227.40966796875,\n",
              "  1393.6644287109375,\n",
              "  872.097900390625,\n",
              "  545.8191528320312,\n",
              "  341.709716796875,\n",
              "  214.0229034423828,\n",
              "  134.24618530273438,\n",
              "  84.44987487792969,\n",
              "  53.08973693847656,\n",
              "  33.47135543823242,\n",
              "  21.198776245117188,\n",
              "  13.520923614501953,\n",
              "  8.717171669006348,\n",
              "  5.712850093841553,\n",
              "  3.834148645401001,\n",
              "  2.657460927963257,\n",
              "  1.921967625617981,\n",
              "  1.4618192911148071,\n",
              "  1.1743465662002563,\n",
              "  0.9937804341316223,\n",
              "  0.8817506432533264,\n",
              "  0.8108331561088562,\n",
              "  0.7667469382286072,\n",
              "  0.73918616771698,\n",
              "  0.7219486236572266,\n",
              "  7.303028583526611,\n",
              "  13.909157752990723,\n",
              "  8.966729164123535,\n",
              "  5.868778705596924,\n",
              "  3.931246042251587,\n",
              "  2.718592643737793,\n",
              "  1.9605603218078613,\n",
              "  1.486342430114746,\n",
              "  1.189305305480957,\n",
              "  1.0038151741027832,\n",
              "  0.8874191045761108,\n",
              "  0.8149749040603638,\n",
              "  2286.133544921875,\n",
              "  5242.72802734375,\n",
              "  3283.645751953125,\n",
              "  2054.4169921875,\n",
              "  1285.4462890625,\n",
              "  804.3998413085938,\n",
              "  503.4698791503906],\n",
              " 'accuracy': [0.48152172565460205,\n",
              "  0.48750001192092896,\n",
              "  0.49836957454681396,\n",
              "  0.479347825050354,\n",
              "  0.5032608509063721,\n",
              "  0.4853260815143585,\n",
              "  0.4853260815143585,\n",
              "  0.48695650696754456,\n",
              "  0.4956521689891815,\n",
              "  0.49347826838493347,\n",
              "  0.47826087474823,\n",
              "  0.48206523060798645,\n",
              "  0.4847826063632965,\n",
              "  0.48695650696754456,\n",
              "  0.48695650696754456,\n",
              "  0.49293479323387146,\n",
              "  0.4847826063632965,\n",
              "  0.47010868787765503,\n",
              "  0.502173900604248,\n",
              "  0.5157608985900879,\n",
              "  0.4940217435359955,\n",
              "  0.4956521689891815,\n",
              "  0.48695650696754456,\n",
              "  0.510326087474823,\n",
              "  0.49619564414024353,\n",
              "  0.48260870575904846,\n",
              "  0.49673911929130554,\n",
              "  0.502173900604248,\n",
              "  0.498913049697876,\n",
              "  0.5032608509063721,\n",
              "  0.48641303181648254,\n",
              "  0.501630425453186,\n",
              "  0.501630425453186,\n",
              "  0.5,\n",
              "  0.500543475151062,\n",
              "  0.501086950302124,\n",
              "  0.5059782862663269,\n",
              "  0.501086950302124,\n",
              "  0.49673911929130554,\n",
              "  0.489130437374115,\n",
              "  0.49239131808280945,\n",
              "  0.4945652186870575,\n",
              "  0.489130437374115,\n",
              "  0.489130437374115,\n",
              "  0.490217387676239,\n",
              "  0.47608694434165955,\n",
              "  0.5,\n",
              "  0.4836956560611725,\n",
              "  0.49130433797836304,\n",
              "  0.5],\n",
              " 'val_loss': [848.1688842773438,\n",
              "  6718.16650390625,\n",
              "  11002.43359375,\n",
              "  7051.98974609375,\n",
              "  4438.3203125,\n",
              "  2784.6728515625,\n",
              "  1742.274169921875,\n",
              "  1090.1778564453125,\n",
              "  682.2447509765625,\n",
              "  427.05291748046875,\n",
              "  267.4120178222656,\n",
              "  167.5453338623047,\n",
              "  105.39131927490234,\n",
              "  66.20297241210938,\n",
              "  41.67428207397461,\n",
              "  26.330081939697266,\n",
              "  16.730836868286133,\n",
              "  10.725920677185059,\n",
              "  6.969372749328613,\n",
              "  4.62053108215332,\n",
              "  3.149275302886963,\n",
              "  2.2296276092529297,\n",
              "  1.6543731689453125,\n",
              "  1.2955893278121948,\n",
              "  1.069353699684143,\n",
              "  0.9284730553627014,\n",
              "  0.8406687378883362,\n",
              "  0.7853284478187561,\n",
              "  0.7507882714271545,\n",
              "  0.7293781042098999,\n",
              "  0.7160318493843079,\n",
              "  17.125349044799805,\n",
              "  11.037126541137695,\n",
              "  7.1638994216918945,\n",
              "  4.741031646728516,\n",
              "  3.22544527053833,\n",
              "  2.2774345874786377,\n",
              "  1.6844369173049927,\n",
              "  1.313248872756958,\n",
              "  1.0809797048568726,\n",
              "  0.935760498046875,\n",
              "  0.8449302911758423,\n",
              "  0.7882452011108398,\n",
              "  6494.4150390625,\n",
              "  4105.24560546875,\n",
              "  2568.386962890625,\n",
              "  1606.97119140625,\n",
              "  1005.5360717773438,\n",
              "  629.2952270507812,\n",
              "  393.9293518066406],\n",
              " 'val_accuracy': [0.4956521689891815,\n",
              "  0.49782609939575195,\n",
              "  0.5,\n",
              "  0.5,\n",
              "  0.5,\n",
              "  0.5,\n",
              "  0.5,\n",
              "  0.5,\n",
              "  0.5,\n",
              "  0.5,\n",
              "  0.5,\n",
              "  0.5,\n",
              "  0.5,\n",
              "  0.5,\n",
              "  0.5,\n",
              "  0.5,\n",
              "  0.5,\n",
              "  0.5,\n",
              "  0.5,\n",
              "  0.5,\n",
              "  0.5,\n",
              "  0.5,\n",
              "  0.5,\n",
              "  0.5,\n",
              "  0.5,\n",
              "  0.5,\n",
              "  0.5,\n",
              "  0.5,\n",
              "  0.5,\n",
              "  0.5,\n",
              "  0.5,\n",
              "  0.5,\n",
              "  0.5,\n",
              "  0.5,\n",
              "  0.5,\n",
              "  0.5,\n",
              "  0.5,\n",
              "  0.5,\n",
              "  0.5,\n",
              "  0.5,\n",
              "  0.5,\n",
              "  0.5,\n",
              "  0.5,\n",
              "  0.5,\n",
              "  0.5,\n",
              "  0.5,\n",
              "  0.5,\n",
              "  0.5,\n",
              "  0.5,\n",
              "  0.5]}"
            ]
          },
          "metadata": {},
          "execution_count": 69
        }
      ]
    },
    {
      "cell_type": "code",
      "source": [
        "hist1={}\n",
        "\n",
        "hist1['loss']=d1a_history1['loss']\n",
        "hist1['acc']=d1a_history1['accuracy']\n",
        "hist1['val_loss']=d1a_history1['val_loss']\n",
        "hist1['val_acc']=d1a_history1['val_accuracy']\n",
        "print(hist1)\n"
      ],
      "metadata": {
        "colab": {
          "base_uri": "https://localhost:8080/"
        },
        "id": "neVe0IzoFS9m",
        "outputId": "09a01927-5521-46d8-e49c-4c8af128c827"
      },
      "execution_count": null,
      "outputs": [
        {
          "output_type": "stream",
          "name": "stdout",
          "text": [
            "{'loss': [589.0023193359375, 4632.59326171875, 10863.6064453125, 8897.9638671875, 5643.82958984375, 3559.02880859375, 2227.40966796875, 1393.6644287109375, 872.097900390625, 545.8191528320312, 341.709716796875, 214.0229034423828, 134.24618530273438, 84.44987487792969, 53.08973693847656, 33.47135543823242, 21.198776245117188, 13.520923614501953, 8.717171669006348, 5.712850093841553, 3.834148645401001, 2.657460927963257, 1.921967625617981, 1.4618192911148071, 1.1743465662002563, 0.9937804341316223, 0.8817506432533264, 0.8108331561088562, 0.7667469382286072, 0.73918616771698, 0.7219486236572266, 7.303028583526611, 13.909157752990723, 8.966729164123535, 5.868778705596924, 3.931246042251587, 2.718592643737793, 1.9605603218078613, 1.486342430114746, 1.189305305480957, 1.0038151741027832, 0.8874191045761108, 0.8149749040603638, 2286.133544921875, 5242.72802734375, 3283.645751953125, 2054.4169921875, 1285.4462890625, 804.3998413085938, 503.4698791503906], 'acc': [0.48152172565460205, 0.48750001192092896, 0.49836957454681396, 0.479347825050354, 0.5032608509063721, 0.4853260815143585, 0.4853260815143585, 0.48695650696754456, 0.4956521689891815, 0.49347826838493347, 0.47826087474823, 0.48206523060798645, 0.4847826063632965, 0.48695650696754456, 0.48695650696754456, 0.49293479323387146, 0.4847826063632965, 0.47010868787765503, 0.502173900604248, 0.5157608985900879, 0.4940217435359955, 0.4956521689891815, 0.48695650696754456, 0.510326087474823, 0.49619564414024353, 0.48260870575904846, 0.49673911929130554, 0.502173900604248, 0.498913049697876, 0.5032608509063721, 0.48641303181648254, 0.501630425453186, 0.501630425453186, 0.5, 0.500543475151062, 0.501086950302124, 0.5059782862663269, 0.501086950302124, 0.49673911929130554, 0.489130437374115, 0.49239131808280945, 0.4945652186870575, 0.489130437374115, 0.489130437374115, 0.490217387676239, 0.47608694434165955, 0.5, 0.4836956560611725, 0.49130433797836304, 0.5], 'val_loss': [848.1688842773438, 6718.16650390625, 11002.43359375, 7051.98974609375, 4438.3203125, 2784.6728515625, 1742.274169921875, 1090.1778564453125, 682.2447509765625, 427.05291748046875, 267.4120178222656, 167.5453338623047, 105.39131927490234, 66.20297241210938, 41.67428207397461, 26.330081939697266, 16.730836868286133, 10.725920677185059, 6.969372749328613, 4.62053108215332, 3.149275302886963, 2.2296276092529297, 1.6543731689453125, 1.2955893278121948, 1.069353699684143, 0.9284730553627014, 0.8406687378883362, 0.7853284478187561, 0.7507882714271545, 0.7293781042098999, 0.7160318493843079, 17.125349044799805, 11.037126541137695, 7.1638994216918945, 4.741031646728516, 3.22544527053833, 2.2774345874786377, 1.6844369173049927, 1.313248872756958, 1.0809797048568726, 0.935760498046875, 0.8449302911758423, 0.7882452011108398, 6494.4150390625, 4105.24560546875, 2568.386962890625, 1606.97119140625, 1005.5360717773438, 629.2952270507812, 393.9293518066406], 'val_acc': [0.4956521689891815, 0.49782609939575195, 0.5, 0.5, 0.5, 0.5, 0.5, 0.5, 0.5, 0.5, 0.5, 0.5, 0.5, 0.5, 0.5, 0.5, 0.5, 0.5, 0.5, 0.5, 0.5, 0.5, 0.5, 0.5, 0.5, 0.5, 0.5, 0.5, 0.5, 0.5, 0.5, 0.5, 0.5, 0.5, 0.5, 0.5, 0.5, 0.5, 0.5, 0.5, 0.5, 0.5, 0.5, 0.5, 0.5, 0.5, 0.5, 0.5, 0.5, 0.5]}\n"
          ]
        }
      ]
    },
    {
      "cell_type": "code",
      "execution_count": null,
      "metadata": {
        "colab": {
          "base_uri": "https://localhost:8080/",
          "height": 442
        },
        "id": "9AydMz7F99yf",
        "outputId": "21bfe14c-527b-49e5-e2ce-78308b23febc"
      },
      "outputs": [
        {
          "output_type": "stream",
          "name": "stdout",
          "text": [
            "Best Model: \n",
            "epoch: 3 , val_acc: 0.5 , val_loss: 11002.43359375\n"
          ]
        },
        {
          "output_type": "display_data",
          "data": {
            "text/plain": [
              "<Figure size 1000x400 with 2 Axes>"
            ],
            "image/png": "[encoded data removed]"
          },
          "metadata": {}
        }
      ],
      "source": [
        "# Winner\n",
        "\n",
        "plot_metrics(hist1)  # sgd with lr = 0.0001, sigmoid, with l2 = 0.001"
      ]
    },
    {
      "cell_type": "markdown",
      "metadata": {
        "id": "LUGkEhkD99y2"
      },
      "source": [
        "### Fine Tuning"
      ]
    },
    {
      "cell_type": "code",
      "execution_count": null,
      "metadata": {
        "scrolled": true,
        "colab": {
          "base_uri": "https://localhost:8080/"
        },
        "id": "ZY1BYg6k99y3",
        "outputId": "d7a6a854-1af9-410a-c707-c60297ecd42e"
      },
      "outputs": [
        {
          "output_type": "stream",
          "name": "stderr",
          "text": [
            "WARNING:absl:`lr` is deprecated in Keras optimizer, please use `learning_rate` or use the legacy optimizer, e.g.,tf.keras.optimizers.legacy.SGD.\n"
          ]
        },
        {
          "output_type": "stream",
          "name": "stdout",
          "text": [
            "Found 1840 images belonging to 2 classes.\n",
            "Found 460 images belonging to 2 classes.\n"
          ]
        },
        {
          "output_type": "stream",
          "name": "stderr",
          "text": [
            "<ipython-input-28-b0c0be00a2f7>:75: UserWarning: `Model.fit_generator` is deprecated and will be removed in a future version. Please use `Model.fit`, which supports generators.\n",
            "  fit = model.fit_generator(train_generator,\n"
          ]
        },
        {
          "output_type": "stream",
          "name": "stdout",
          "text": [
            "Epoch 1/10\n",
            "230/230 [==============================] - ETA: 0s - loss: 33415.8281 - accuracy: 0.4989"
          ]
        },
        {
          "output_type": "stream",
          "name": "stderr",
          "text": [
            "WARNING:tensorflow:Can save best model only with val_acc available, skipping.\n"
          ]
        },
        {
          "output_type": "stream",
          "name": "stdout",
          "text": [
            "\b\b\b\b\b\b\b\b\b\b\b\b\b\b\b\b\b\b\b\b\b\b\b\b\b\b\b\b\b\b\b\b\b\b\b\b\b\b\b\b\b\b\b\b\b\b\b\b\b\b\b\b\b\b\b\b\b\b\b\b\b\b\b\b\b\b\b\b\b\b\b\b\b\b\b\b\b\b\b\b\b\b\b\b\b\b\b\b\r230/230 [==============================] - 447s 2s/step - loss: 33415.8281 - accuracy: 0.4989 - val_loss: 29981.6523 - val_accuracy: 0.4978\n",
            "Epoch 2/10\n",
            "230/230 [==============================] - ETA: 0s - loss: 19487.9297 - accuracy: 0.4799"
          ]
        },
        {
          "output_type": "stream",
          "name": "stderr",
          "text": [
            "WARNING:tensorflow:Can save best model only with val_acc available, skipping.\n"
          ]
        },
        {
          "output_type": "stream",
          "name": "stdout",
          "text": [
            "\b\b\b\b\b\b\b\b\b\b\b\b\b\b\b\b\b\b\b\b\b\b\b\b\b\b\b\b\b\b\b\b\b\b\b\b\b\b\b\b\b\b\b\b\b\b\b\b\b\b\b\b\b\b\b\b\b\b\b\b\b\b\b\b\b\b\b\b\b\b\b\b\b\b\b\b\b\b\b\b\b\b\b\b\b\b\b\b\r230/230 [==============================] - 53s 229ms/step - loss: 19487.9297 - accuracy: 0.4799 - val_loss: 11745.5986 - val_accuracy: 0.4913\n",
            "Epoch 3/10\n",
            "230/230 [==============================] - ETA: 0s - loss: 20125.0430 - accuracy: 0.5082"
          ]
        },
        {
          "output_type": "stream",
          "name": "stderr",
          "text": [
            "WARNING:tensorflow:Can save best model only with val_acc available, skipping.\n"
          ]
        },
        {
          "output_type": "stream",
          "name": "stdout",
          "text": [
            "\b\b\b\b\b\b\b\b\b\b\b\b\b\b\b\b\b\b\b\b\b\b\b\b\b\b\b\b\b\b\b\b\b\b\b\b\b\b\b\b\b\b\b\b\b\b\b\b\b\b\b\b\b\b\b\b\b\b\b\b\b\b\b\b\b\b\b\b\b\b\b\b\b\b\b\b\b\b\b\b\b\b\b\b\b\b\b\b\r230/230 [==============================] - 47s 203ms/step - loss: 20125.0430 - accuracy: 0.5082 - val_loss: 26086.0195 - val_accuracy: 0.4913\n",
            "Epoch 4/10\n",
            "230/230 [==============================] - ETA: 0s - loss: 17543.3047 - accuracy: 0.4913"
          ]
        },
        {
          "output_type": "stream",
          "name": "stderr",
          "text": [
            "WARNING:tensorflow:Can save best model only with val_acc available, skipping.\n"
          ]
        },
        {
          "output_type": "stream",
          "name": "stdout",
          "text": [
            "\b\b\b\b\b\b\b\b\b\b\b\b\b\b\b\b\b\b\b\b\b\b\b\b\b\b\b\b\b\b\b\b\b\b\b\b\b\b\b\b\b\b\b\b\b\b\b\b\b\b\b\b\b\b\b\b\b\b\b\b\b\b\b\b\b\b\b\b\b\b\b\b\b\b\b\b\b\b\b\b\b\b\b\b\b\b\b\b\r230/230 [==============================] - 50s 218ms/step - loss: 17543.3047 - accuracy: 0.4913 - val_loss: 11127.8525 - val_accuracy: 0.5000\n",
            "Epoch 5/10\n",
            "230/230 [==============================] - ETA: 0s - loss: 7275.2368 - accuracy: 0.4946"
          ]
        },
        {
          "output_type": "stream",
          "name": "stderr",
          "text": [
            "WARNING:tensorflow:Can save best model only with val_acc available, skipping.\n"
          ]
        },
        {
          "output_type": "stream",
          "name": "stdout",
          "text": [
            "\b\b\b\b\b\b\b\b\b\b\b\b\b\b\b\b\b\b\b\b\b\b\b\b\b\b\b\b\b\b\b\b\b\b\b\b\b\b\b\b\b\b\b\b\b\b\b\b\b\b\b\b\b\b\b\b\b\b\b\b\b\b\b\b\b\b\b\b\b\b\b\b\b\b\b\b\b\b\b\b\b\b\b\b\b\b\b\r230/230 [==============================] - 49s 212ms/step - loss: 7275.2368 - accuracy: 0.4946 - val_loss: 4650.9502 - val_accuracy: 0.5000\n",
            "Epoch 6/10\n",
            "230/230 [==============================] - ETA: 0s - loss: 3031.5527 - accuracy: 0.4935"
          ]
        },
        {
          "output_type": "stream",
          "name": "stderr",
          "text": [
            "WARNING:tensorflow:Can save best model only with val_acc available, skipping.\n"
          ]
        },
        {
          "output_type": "stream",
          "name": "stdout",
          "text": [
            "\b\b\b\b\b\b\b\b\b\b\b\b\b\b\b\b\b\b\b\b\b\b\b\b\b\b\b\b\b\b\b\b\b\b\b\b\b\b\b\b\b\b\b\b\b\b\b\b\b\b\b\b\b\b\b\b\b\b\b\b\b\b\b\b\b\b\b\b\b\b\b\b\b\b\b\b\b\b\b\b\b\b\b\b\b\b\b\r230/230 [==============================] - 49s 212ms/step - loss: 3031.5527 - accuracy: 0.4935 - val_loss: 1825.5374 - val_accuracy: 0.5000\n",
            "Epoch 7/10\n",
            "230/230 [==============================] - ETA: 0s - loss: 1187.0114 - accuracy: 0.4870"
          ]
        },
        {
          "output_type": "stream",
          "name": "stderr",
          "text": [
            "WARNING:tensorflow:Can save best model only with val_acc available, skipping.\n"
          ]
        },
        {
          "output_type": "stream",
          "name": "stdout",
          "text": [
            "\b\b\b\b\b\b\b\b\b\b\b\b\b\b\b\b\b\b\b\b\b\b\b\b\b\b\b\b\b\b\b\b\b\b\b\b\b\b\b\b\b\b\b\b\b\b\b\b\b\b\b\b\b\b\b\b\b\b\b\b\b\b\b\b\b\b\b\b\b\b\b\b\b\b\b\b\b\b\b\b\b\b\b\b\b\b\b\r230/230 [==============================] - 47s 202ms/step - loss: 1187.0114 - accuracy: 0.4870 - val_loss: 714.8300 - val_accuracy: 0.5000\n",
            "Epoch 8/10\n",
            "230/230 [==============================] - ETA: 0s - loss: 464.9492 - accuracy: 0.4935"
          ]
        },
        {
          "output_type": "stream",
          "name": "stderr",
          "text": [
            "WARNING:tensorflow:Can save best model only with val_acc available, skipping.\n"
          ]
        },
        {
          "output_type": "stream",
          "name": "stdout",
          "text": [
            "\b\b\b\b\b\b\b\b\b\b\b\b\b\b\b\b\b\b\b\b\b\b\b\b\b\b\b\b\b\b\b\b\b\b\b\b\b\b\b\b\b\b\b\b\b\b\b\b\b\b\b\b\b\b\b\b\b\b\b\b\b\b\b\b\b\b\b\b\b\b\b\b\b\b\b\b\b\b\b\b\b\b\b\b\b\b\r230/230 [==============================] - 47s 204ms/step - loss: 464.9492 - accuracy: 0.4935 - val_loss: 280.1637 - val_accuracy: 0.5000\n",
            "Epoch 9/10\n",
            "230/230 [==============================] - ETA: 0s - loss: 182.3764 - accuracy: 0.4880"
          ]
        },
        {
          "output_type": "stream",
          "name": "stderr",
          "text": [
            "WARNING:tensorflow:Can save best model only with val_acc available, skipping.\n"
          ]
        },
        {
          "output_type": "stream",
          "name": "stdout",
          "text": [
            "\b\b\b\b\b\b\b\b\b\b\b\b\b\b\b\b\b\b\b\b\b\b\b\b\b\b\b\b\b\b\b\b\b\b\b\b\b\b\b\b\b\b\b\b\b\b\b\b\b\b\b\b\b\b\b\b\b\b\b\b\b\b\b\b\b\b\b\b\b\b\b\b\b\b\b\b\b\b\b\b\b\b\b\b\b\b\r230/230 [==============================] - 49s 213ms/step - loss: 182.3764 - accuracy: 0.4880 - val_loss: 110.0615 - val_accuracy: 0.5000\n",
            "Epoch 10/10\n",
            "230/230 [==============================] - ETA: 0s - loss: 197.1186 - accuracy: 0.4962"
          ]
        },
        {
          "output_type": "stream",
          "name": "stderr",
          "text": [
            "WARNING:tensorflow:Can save best model only with val_acc available, skipping.\n"
          ]
        },
        {
          "output_type": "stream",
          "name": "stdout",
          "text": [
            "\b\b\b\b\b\b\b\b\b\b\b\b\b\b\b\b\b\b\b\b\b\b\b\b\b\b\b\b\b\b\b\b\b\b\b\b\b\b\b\b\b\b\b\b\b\b\b\b\b\b\b\b\b\b\b\b\b\b\b\b\b\b\b\b\b\b\b\b\b\b\b\b\b\b\b\b\b\b\b\b\b\b\b\b\b\b\r230/230 [==============================] - 48s 207ms/step - loss: 197.1186 - accuracy: 0.4962 - val_loss: 315.4331 - val_accuracy: 0.5000\n"
          ]
        }
      ],
      "source": [
        "ft_model,ft_history = finetune_binary_model(location)"
      ]
    },
    {
      "cell_type": "code",
      "execution_count": null,
      "metadata": {
        "colab": {
          "base_uri": "https://localhost:8080/",
          "height": 671
        },
        "id": "AbEeXNhT99y3",
        "outputId": "03737f5f-e97f-49f8-de9e-b5632da7ccca"
      },
      "outputs": [
        {
          "output_type": "error",
          "ename": "KeyError",
          "evalue": "ignored",
          "traceback": [
            "\u001b[0;31m---------------------------------------------------------------------------\u001b[0m",
            "\u001b[0;31mKeyError\u001b[0m                                  Traceback (most recent call last)",
            "\u001b[0;32m<ipython-input-42-c2e191f7d161>\u001b[0m in \u001b[0;36m<cell line: 2>\u001b[0;34m()\u001b[0m\n\u001b[1;32m      1\u001b[0m \u001b[0;31m# Winner\u001b[0m\u001b[0;34m\u001b[0m\u001b[0;34m\u001b[0m\u001b[0m\n\u001b[0;32m----> 2\u001b[0;31m \u001b[0mplot_metrics\u001b[0m\u001b[0;34m(\u001b[0m\u001b[0mft_history\u001b[0m\u001b[0;34m,\u001b[0m\u001b[0mstop\u001b[0m\u001b[0;34m=\u001b[0m\u001b[0;36m10\u001b[0m\u001b[0;34m)\u001b[0m   \u001b[0;31m# sgd with lr = 0.0001, sigmoid, with l2 = 0.001\u001b[0m\u001b[0;34m\u001b[0m\u001b[0;34m\u001b[0m\u001b[0m\n\u001b[0m",
            "\u001b[0;32m<ipython-input-32-6cb92261143f>\u001b[0m in \u001b[0;36mplot_metrics\u001b[0;34m(hist, stop)\u001b[0m\n\u001b[1;32m      4\u001b[0m     \u001b[0;31m# axes = axes.flatten()   # flatten -> numpy flatten\u001b[0m\u001b[0;34m\u001b[0m\u001b[0;34m\u001b[0m\u001b[0m\n\u001b[1;32m      5\u001b[0m \u001b[0;34m\u001b[0m\u001b[0m\n\u001b[0;32m----> 6\u001b[0;31m     \u001b[0max0\u001b[0m\u001b[0;34m.\u001b[0m\u001b[0mplot\u001b[0m\u001b[0;34m(\u001b[0m\u001b[0mrange\u001b[0m\u001b[0;34m(\u001b[0m\u001b[0mstop\u001b[0m\u001b[0;34m)\u001b[0m\u001b[0;34m,\u001b[0m \u001b[0mhist\u001b[0m\u001b[0;34m[\u001b[0m\u001b[0;34m'acc'\u001b[0m\u001b[0;34m]\u001b[0m\u001b[0;34m,\u001b[0m \u001b[0mlabel\u001b[0m\u001b[0;34m=\u001b[0m\u001b[0;34m'Training'\u001b[0m\u001b[0;34m,\u001b[0m \u001b[0mcolor\u001b[0m\u001b[0;34m=\u001b[0m\u001b[0;34m'#FF533D'\u001b[0m\u001b[0;34m)\u001b[0m\u001b[0;34m\u001b[0m\u001b[0;34m\u001b[0m\u001b[0m\n\u001b[0m\u001b[1;32m      7\u001b[0m     \u001b[0max0\u001b[0m\u001b[0;34m.\u001b[0m\u001b[0mplot\u001b[0m\u001b[0;34m(\u001b[0m\u001b[0mrange\u001b[0m\u001b[0;34m(\u001b[0m\u001b[0mstop\u001b[0m\u001b[0;34m)\u001b[0m\u001b[0;34m,\u001b[0m \u001b[0mhist\u001b[0m\u001b[0;34m[\u001b[0m\u001b[0;34m'val_acc'\u001b[0m\u001b[0;34m]\u001b[0m\u001b[0;34m,\u001b[0m \u001b[0mlabel\u001b[0m\u001b[0;34m=\u001b[0m\u001b[0;34m'Validation'\u001b[0m\u001b[0;34m,\u001b[0m \u001b[0mcolor\u001b[0m\u001b[0;34m=\u001b[0m\u001b[0;34m'#03507E'\u001b[0m\u001b[0;34m)\u001b[0m\u001b[0;34m\u001b[0m\u001b[0;34m\u001b[0m\u001b[0m\n\u001b[1;32m      8\u001b[0m     \u001b[0max0\u001b[0m\u001b[0;34m.\u001b[0m\u001b[0mset_title\u001b[0m\u001b[0;34m(\u001b[0m\u001b[0;34m'Accuracy'\u001b[0m\u001b[0;34m)\u001b[0m\u001b[0;34m\u001b[0m\u001b[0;34m\u001b[0m\u001b[0m\n",
            "\u001b[0;31mKeyError\u001b[0m: 'acc'"
          ]
        },
        {
          "output_type": "display_data",
          "data": {
            "text/plain": [
              "<Figure size 1000x400 with 2 Axes>"
            ],
            "image/png": "[encoded data removed]"
          },
          "metadata": {}
        }
      ],
      "source": [
        "# Winner\n",
        "plot_metrics(ft_history,stop=10)   # sgd with lr = 0.0001, sigmoid, with l2 = 0.001"
      ]
    },
    {
      "cell_type": "markdown",
      "metadata": {
        "id": "vMFXZIbg99y3"
      },
      "source": [
        "### Load Modal Point"
      ]
    },
    {
      "cell_type": "code",
      "execution_count": null,
      "metadata": {
        "id": "4hK5cjz-99y3"
      },
      "outputs": [],
      "source": [
        "ft_model = load_model(location+'/ft_model.h5')"
      ]
    },
    {
      "cell_type": "code",
      "execution_count": null,
      "metadata": {
        "id": "6VuF3f1Z99y3"
      },
      "outputs": [],
      "source": [
        "with open(location+'/top_history.txt') as f:\n",
        "    top_history = json.load(f)"
      ]
    },
    {
      "cell_type": "code",
      "execution_count": null,
      "metadata": {
        "colab": {
          "base_uri": "https://localhost:8080/",
          "height": 654
        },
        "id": "HaWYrvho99y4",
        "outputId": "495e0649-3b6c-4d5d-ac8e-42242f4fbdc6"
      },
      "outputs": [
        {
          "output_type": "error",
          "ename": "KeyError",
          "evalue": "ignored",
          "traceback": [
            "\u001b[0;31m---------------------------------------------------------------------------\u001b[0m",
            "\u001b[0;31mKeyError\u001b[0m                                  Traceback (most recent call last)",
            "\u001b[0;32m<ipython-input-47-6257e3ef94b0>\u001b[0m in \u001b[0;36m<cell line: 1>\u001b[0;34m()\u001b[0m\n\u001b[0;32m----> 1\u001b[0;31m \u001b[0mplot_metrics\u001b[0m\u001b[0;34m(\u001b[0m\u001b[0mtop_history\u001b[0m\u001b[0;34m)\u001b[0m\u001b[0;34m\u001b[0m\u001b[0;34m\u001b[0m\u001b[0m\n\u001b[0m",
            "\u001b[0;32m<ipython-input-32-6cb92261143f>\u001b[0m in \u001b[0;36mplot_metrics\u001b[0;34m(hist, stop)\u001b[0m\n\u001b[1;32m      4\u001b[0m     \u001b[0;31m# axes = axes.flatten()   # flatten -> numpy flatten\u001b[0m\u001b[0;34m\u001b[0m\u001b[0;34m\u001b[0m\u001b[0m\n\u001b[1;32m      5\u001b[0m \u001b[0;34m\u001b[0m\u001b[0m\n\u001b[0;32m----> 6\u001b[0;31m     \u001b[0max0\u001b[0m\u001b[0;34m.\u001b[0m\u001b[0mplot\u001b[0m\u001b[0;34m(\u001b[0m\u001b[0mrange\u001b[0m\u001b[0;34m(\u001b[0m\u001b[0mstop\u001b[0m\u001b[0;34m)\u001b[0m\u001b[0;34m,\u001b[0m \u001b[0mhist\u001b[0m\u001b[0;34m[\u001b[0m\u001b[0;34m'acc'\u001b[0m\u001b[0;34m]\u001b[0m\u001b[0;34m,\u001b[0m \u001b[0mlabel\u001b[0m\u001b[0;34m=\u001b[0m\u001b[0;34m'Training'\u001b[0m\u001b[0;34m,\u001b[0m \u001b[0mcolor\u001b[0m\u001b[0;34m=\u001b[0m\u001b[0;34m'#FF533D'\u001b[0m\u001b[0;34m)\u001b[0m\u001b[0;34m\u001b[0m\u001b[0;34m\u001b[0m\u001b[0m\n\u001b[0m\u001b[1;32m      7\u001b[0m     \u001b[0max0\u001b[0m\u001b[0;34m.\u001b[0m\u001b[0mplot\u001b[0m\u001b[0;34m(\u001b[0m\u001b[0mrange\u001b[0m\u001b[0;34m(\u001b[0m\u001b[0mstop\u001b[0m\u001b[0;34m)\u001b[0m\u001b[0;34m,\u001b[0m \u001b[0mhist\u001b[0m\u001b[0;34m[\u001b[0m\u001b[0;34m'val_acc'\u001b[0m\u001b[0;34m]\u001b[0m\u001b[0;34m,\u001b[0m \u001b[0mlabel\u001b[0m\u001b[0;34m=\u001b[0m\u001b[0;34m'Validation'\u001b[0m\u001b[0;34m,\u001b[0m \u001b[0mcolor\u001b[0m\u001b[0;34m=\u001b[0m\u001b[0;34m'#03507E'\u001b[0m\u001b[0;34m)\u001b[0m\u001b[0;34m\u001b[0m\u001b[0;34m\u001b[0m\u001b[0m\n\u001b[1;32m      8\u001b[0m     \u001b[0max0\u001b[0m\u001b[0;34m.\u001b[0m\u001b[0mset_title\u001b[0m\u001b[0;34m(\u001b[0m\u001b[0;34m'Accuracy'\u001b[0m\u001b[0;34m)\u001b[0m\u001b[0;34m\u001b[0m\u001b[0;34m\u001b[0m\u001b[0m\n",
            "\u001b[0;31mKeyError\u001b[0m: 'acc'"
          ]
        },
        {
          "output_type": "display_data",
          "data": {
            "text/plain": [
              "<Figure size 1000x400 with 2 Axes>"
            ],
            "image/png": "[encoded data removed]"
          },
          "metadata": {}
        }
      ],
      "source": [
        "plot_metrics(top_history)"
      ]
    },
    {
      "cell_type": "code",
      "execution_count": null,
      "metadata": {
        "id": "MU5747Ve99y4"
      },
      "outputs": [],
      "source": [
        "with open(location+'/ft_history.txt') as f:\n",
        "    ft_history = json.load(f)"
      ]
    },
    {
      "cell_type": "code",
      "execution_count": null,
      "metadata": {
        "colab": {
          "base_uri": "https://localhost:8080/",
          "height": 654
        },
        "id": "hZa-bKdk99y4",
        "outputId": "cb62eb41-71e7-439a-9b6a-ebb638cdf6b7"
      },
      "outputs": [
        {
          "output_type": "error",
          "ename": "KeyError",
          "evalue": "ignored",
          "traceback": [
            "\u001b[0;31m---------------------------------------------------------------------------\u001b[0m",
            "\u001b[0;31mKeyError\u001b[0m                                  Traceback (most recent call last)",
            "\u001b[0;32m<ipython-input-50-910b930f4494>\u001b[0m in \u001b[0;36m<cell line: 1>\u001b[0;34m()\u001b[0m\n\u001b[0;32m----> 1\u001b[0;31m \u001b[0mplot_metrics\u001b[0m\u001b[0;34m(\u001b[0m\u001b[0mft_history\u001b[0m\u001b[0;34m,\u001b[0m\u001b[0mstop\u001b[0m\u001b[0;34m=\u001b[0m\u001b[0;36m10\u001b[0m\u001b[0;34m)\u001b[0m\u001b[0;34m\u001b[0m\u001b[0;34m\u001b[0m\u001b[0m\n\u001b[0m",
            "\u001b[0;32m<ipython-input-32-6cb92261143f>\u001b[0m in \u001b[0;36mplot_metrics\u001b[0;34m(hist, stop)\u001b[0m\n\u001b[1;32m      4\u001b[0m     \u001b[0;31m# axes = axes.flatten()   # flatten -> numpy flatten\u001b[0m\u001b[0;34m\u001b[0m\u001b[0;34m\u001b[0m\u001b[0m\n\u001b[1;32m      5\u001b[0m \u001b[0;34m\u001b[0m\u001b[0m\n\u001b[0;32m----> 6\u001b[0;31m     \u001b[0max0\u001b[0m\u001b[0;34m.\u001b[0m\u001b[0mplot\u001b[0m\u001b[0;34m(\u001b[0m\u001b[0mrange\u001b[0m\u001b[0;34m(\u001b[0m\u001b[0mstop\u001b[0m\u001b[0;34m)\u001b[0m\u001b[0;34m,\u001b[0m \u001b[0mhist\u001b[0m\u001b[0;34m[\u001b[0m\u001b[0;34m'acc'\u001b[0m\u001b[0;34m]\u001b[0m\u001b[0;34m,\u001b[0m \u001b[0mlabel\u001b[0m\u001b[0;34m=\u001b[0m\u001b[0;34m'Training'\u001b[0m\u001b[0;34m,\u001b[0m \u001b[0mcolor\u001b[0m\u001b[0;34m=\u001b[0m\u001b[0;34m'#FF533D'\u001b[0m\u001b[0;34m)\u001b[0m\u001b[0;34m\u001b[0m\u001b[0;34m\u001b[0m\u001b[0m\n\u001b[0m\u001b[1;32m      7\u001b[0m     \u001b[0max0\u001b[0m\u001b[0;34m.\u001b[0m\u001b[0mplot\u001b[0m\u001b[0;34m(\u001b[0m\u001b[0mrange\u001b[0m\u001b[0;34m(\u001b[0m\u001b[0mstop\u001b[0m\u001b[0;34m)\u001b[0m\u001b[0;34m,\u001b[0m \u001b[0mhist\u001b[0m\u001b[0;34m[\u001b[0m\u001b[0;34m'val_acc'\u001b[0m\u001b[0;34m]\u001b[0m\u001b[0;34m,\u001b[0m \u001b[0mlabel\u001b[0m\u001b[0;34m=\u001b[0m\u001b[0;34m'Validation'\u001b[0m\u001b[0;34m,\u001b[0m \u001b[0mcolor\u001b[0m\u001b[0;34m=\u001b[0m\u001b[0;34m'#03507E'\u001b[0m\u001b[0;34m)\u001b[0m\u001b[0;34m\u001b[0m\u001b[0;34m\u001b[0m\u001b[0m\n\u001b[1;32m      8\u001b[0m     \u001b[0max0\u001b[0m\u001b[0;34m.\u001b[0m\u001b[0mset_title\u001b[0m\u001b[0;34m(\u001b[0m\u001b[0;34m'Accuracy'\u001b[0m\u001b[0;34m)\u001b[0m\u001b[0;34m\u001b[0m\u001b[0;34m\u001b[0m\u001b[0m\n",
            "\u001b[0;31mKeyError\u001b[0m: 'acc'"
          ]
        },
        {
          "output_type": "display_data",
          "data": {
            "text/plain": [
              "<Figure size 1000x400 with 2 Axes>"
            ],
            "image/png": "[encoded data removed]"
          },
          "metadata": {}
        }
      ],
      "source": [
        "plot_metrics(ft_history,stop=10)"
      ]
    },
    {
      "cell_type": "code",
      "execution_count": null,
      "metadata": {
        "id": "pCtD9epk99y4"
      },
      "outputs": [],
      "source": [
        "def plot_acc_metrics(hist1,hist2,stop1=50,stop2=10):\n",
        "    fig,axes = plt.subplots(nrows=2,ncols=1,figsize=(5,6))\n",
        "    axes = axes.flatten()\n",
        "\n",
        "    axes[0].plot(range(stop1),hist1['acc'],label='training',color='#FF533D')\n",
        "    axes[0].plot(range(stop1),hist1['val_acc'],label='validation',color='#03507E')\n",
        "    axes[0].set_title('Training')\n",
        "    axes[0].set_xlabel('Epoch')\n",
        "    axes[0].set_ylabel('Accuracy')\n",
        "    axes[0].legend(loc='lower right')\n",
        "\n",
        "    axes[1].plot(range(stop2),hist2['acc'],label='training',color='#FF533D')\n",
        "    axes[1].plot(range(stop2),hist2['val_acc'],label='validation',color='#03507E')\n",
        "    axes[1].set_title('Fine-Tuning')\n",
        "    axes[1].set_xlabel('Epoch')\n",
        "    axes[1].set_ylabel('Accuarcy')\n",
        "    axes[1].legend(loc='lower right')\n",
        "\n",
        "    plt.tight_layout()"
      ]
    },
    {
      "cell_type": "code",
      "execution_count": null,
      "metadata": {
        "colab": {
          "base_uri": "https://localhost:8080/",
          "height": 808
        },
        "id": "ms869as299y5",
        "outputId": "3b8b1fa4-8f19-45c1-e90f-236c8c66f1c5"
      },
      "outputs": [
        {
          "output_type": "error",
          "ename": "KeyError",
          "evalue": "ignored",
          "traceback": [
            "\u001b[0;31m---------------------------------------------------------------------------\u001b[0m",
            "\u001b[0;31mKeyError\u001b[0m                                  Traceback (most recent call last)",
            "\u001b[0;32m<ipython-input-51-fbf53eac61ca>\u001b[0m in \u001b[0;36m<cell line: 1>\u001b[0;34m()\u001b[0m\n\u001b[0;32m----> 1\u001b[0;31m \u001b[0mplot_acc_metrics\u001b[0m\u001b[0;34m(\u001b[0m\u001b[0mtop_history\u001b[0m\u001b[0;34m,\u001b[0m\u001b[0mft_history\u001b[0m\u001b[0;34m)\u001b[0m\u001b[0;34m\u001b[0m\u001b[0;34m\u001b[0m\u001b[0m\n\u001b[0m",
            "\u001b[0;32m<ipython-input-49-a368ede21718>\u001b[0m in \u001b[0;36mplot_acc_metrics\u001b[0;34m(hist1, hist2, stop1, stop2)\u001b[0m\n\u001b[1;32m      3\u001b[0m     \u001b[0maxes\u001b[0m \u001b[0;34m=\u001b[0m \u001b[0maxes\u001b[0m\u001b[0;34m.\u001b[0m\u001b[0mflatten\u001b[0m\u001b[0;34m(\u001b[0m\u001b[0;34m)\u001b[0m\u001b[0;34m\u001b[0m\u001b[0;34m\u001b[0m\u001b[0m\n\u001b[1;32m      4\u001b[0m \u001b[0;34m\u001b[0m\u001b[0m\n\u001b[0;32m----> 5\u001b[0;31m     \u001b[0maxes\u001b[0m\u001b[0;34m[\u001b[0m\u001b[0;36m0\u001b[0m\u001b[0;34m]\u001b[0m\u001b[0;34m.\u001b[0m\u001b[0mplot\u001b[0m\u001b[0;34m(\u001b[0m\u001b[0mrange\u001b[0m\u001b[0;34m(\u001b[0m\u001b[0mstop1\u001b[0m\u001b[0;34m)\u001b[0m\u001b[0;34m,\u001b[0m\u001b[0mhist1\u001b[0m\u001b[0;34m[\u001b[0m\u001b[0;34m'acc'\u001b[0m\u001b[0;34m]\u001b[0m\u001b[0;34m,\u001b[0m\u001b[0mlabel\u001b[0m\u001b[0;34m=\u001b[0m\u001b[0;34m'training'\u001b[0m\u001b[0;34m,\u001b[0m\u001b[0mcolor\u001b[0m\u001b[0;34m=\u001b[0m\u001b[0;34m'#FF533D'\u001b[0m\u001b[0;34m)\u001b[0m\u001b[0;34m\u001b[0m\u001b[0;34m\u001b[0m\u001b[0m\n\u001b[0m\u001b[1;32m      6\u001b[0m     \u001b[0maxes\u001b[0m\u001b[0;34m[\u001b[0m\u001b[0;36m0\u001b[0m\u001b[0;34m]\u001b[0m\u001b[0;34m.\u001b[0m\u001b[0mplot\u001b[0m\u001b[0;34m(\u001b[0m\u001b[0mrange\u001b[0m\u001b[0;34m(\u001b[0m\u001b[0mstop1\u001b[0m\u001b[0;34m)\u001b[0m\u001b[0;34m,\u001b[0m\u001b[0mhist1\u001b[0m\u001b[0;34m[\u001b[0m\u001b[0;34m'val_acc'\u001b[0m\u001b[0;34m]\u001b[0m\u001b[0;34m,\u001b[0m\u001b[0mlabel\u001b[0m\u001b[0;34m=\u001b[0m\u001b[0;34m'validation'\u001b[0m\u001b[0;34m,\u001b[0m\u001b[0mcolor\u001b[0m\u001b[0;34m=\u001b[0m\u001b[0;34m'#03507E'\u001b[0m\u001b[0;34m)\u001b[0m\u001b[0;34m\u001b[0m\u001b[0;34m\u001b[0m\u001b[0m\n\u001b[1;32m      7\u001b[0m     \u001b[0maxes\u001b[0m\u001b[0;34m[\u001b[0m\u001b[0;36m0\u001b[0m\u001b[0;34m]\u001b[0m\u001b[0;34m.\u001b[0m\u001b[0mset_title\u001b[0m\u001b[0;34m(\u001b[0m\u001b[0;34m'Training'\u001b[0m\u001b[0;34m)\u001b[0m\u001b[0;34m\u001b[0m\u001b[0;34m\u001b[0m\u001b[0m\n",
            "\u001b[0;31mKeyError\u001b[0m: 'acc'"
          ]
        },
        {
          "output_type": "display_data",
          "data": {
            "text/plain": [
              "<Figure size 500x600 with 2 Axes>"
            ],
            "image/png": "[encoded data removed]"
          },
          "metadata": {}
        }
      ],
      "source": [
        "plot_acc_metrics(top_history,ft_history)"
      ]
    },
    {
      "cell_type": "code",
      "execution_count": null,
      "metadata": {
        "colab": {
          "base_uri": "https://localhost:8080/"
        },
        "id": "n1UaljB599y5",
        "outputId": "91ea9782-ff42-4f13-a74a-a9ac7038aaa5"
      },
      "outputs": [
        {
          "output_type": "stream",
          "name": "stdout",
          "text": [
            "Found 460 images belonging to 2 classes.\n"
          ]
        },
        {
          "output_type": "stream",
          "name": "stderr",
          "text": [
            "<ipython-input-29-dec2a480aa77>:9: UserWarning: `Model.predict_generator` is deprecated and will be removed in a future version. Please use `Model.predict`, which supports generators.\n",
            "  predictions = model.predict_generator(test_generator,\n"
          ]
        },
        {
          "output_type": "stream",
          "name": "stdout",
          "text": [
            "57/57 [==============================] - 4s 62ms/step\n",
            "\n",
            "              precision    recall  f1-score   support\n",
            "\n",
            "           0       0.94      0.89      0.92       230\n",
            "           1       0.90      0.95      0.92       230\n",
            "\n",
            "    accuracy                           0.92       460\n",
            "   macro avg       0.92      0.92      0.92       460\n",
            "weighted avg       0.92      0.92      0.92       460\n",
            "\n",
            "\n"
          ]
        }
      ],
      "source": [
        "cm = evaluate_binary_model(ft_model,val_data_dir,val_labels)"
      ]
    },
    {
      "cell_type": "code",
      "execution_count": null,
      "metadata": {
        "id": "bqGsYkrh99y5"
      },
      "outputs": [],
      "source": [
        "heatmap_labels = ['damaged','whole']"
      ]
    },
    {
      "cell_type": "code",
      "execution_count": null,
      "metadata": {
        "colab": {
          "base_uri": "https://localhost:8080/",
          "height": 447
        },
        "id": "duNaAklF99y5",
        "outputId": "7006ef0b-0d6c-4235-90c4-80460f0b668d"
      },
      "outputs": [
        {
          "output_type": "execute_result",
          "data": {
            "text/plain": [
              "<Axes: >"
            ]
          },
          "metadata": {},
          "execution_count": 54
        },
        {
          "output_type": "display_data",
          "data": {
            "text/plain": [
              "<Figure size 640x480 with 2 Axes>"
            ],
            "image/png": "[encoded data removed]"
          },
          "metadata": {}
        }
      ],
      "source": [
        "sns.heatmap(cm,annot=True,annot_kws={\"size\":16},\n",
        "           fmt='g', cmap='Blues', xticklabels=heatmap_labels, yticklabels=heatmap_labels)"
      ]
    },
    {
      "cell_type": "markdown",
      "metadata": {
        "id": "Zn3OmK7Q99y6"
      },
      "source": [
        "### Making live predictions"
      ]
    },
    {
      "cell_type": "code",
      "execution_count": null,
      "metadata": {
        "id": "TFRGsGbW99y6"
      },
      "outputs": [],
      "source": [
        "def car_categories_gate(img_url,model):\n",
        "    urllib.request.urlretrieve(img_url,'save_second_gate.jpg')\n",
        "    img = load_img('save_second_gate.jpg',target_size=(256,256))\n",
        "    x = img_to_array(img)\n",
        "    x = x.reshape((1,) + x.shape)\n",
        "    pred = model.predict(x)\n",
        "    print(\"Validating that damage exists...\")\n",
        "    #print(pred)\n",
        "    if pred[0][0] <=.5:\n",
        "        print(\"Validation complete - proceed to location and severity determination\")\n",
        "    else:\n",
        "        print(\"Are you sure that your car is damaged? Please submit another picture of the damage.\")\n",
        "        print(\"Hint: Try zooming in/out, using a different angle or different lighting\")"
      ]
    },
    {
      "cell_type": "code",
      "source": [
        "Image('https://www.cashcarsbuyer.com/wp-content/uploads/2021/01/How-to-Remove-Scratches-from-A-Car.jpg')"
      ],
      "metadata": {
        "colab": {
          "base_uri": "https://localhost:8080/",
          "height": 617
        },
        "id": "i9fXvGRhIR4u",
        "outputId": "16690a98-09fa-4629-b48f-0d911afa55de"
      },
      "execution_count": null,
      "outputs": [
        {
          "output_type": "execute_result",
          "data": {
            "image/jpeg": "[encoded data removed]",
            "text/plain": [
              "<IPython.core.display.Image object>"
            ]
          },
          "metadata": {},
          "execution_count": 74
        }
      ]
    },
    {
      "cell_type": "code",
      "source": [
        "car_categories_gate('https://www.cashcarsbuyer.com/wp-content/uploads/2021/01/How-to-Remove-Scratches-from-A-Car.jpg', ft_model)"
      ],
      "metadata": {
        "colab": {
          "base_uri": "https://localhost:8080/"
        },
        "id": "MK1h2cD0Iis3",
        "outputId": "42fd46b9-5368-4cb3-dc74-2606f80bf45b"
      },
      "execution_count": null,
      "outputs": [
        {
          "output_type": "stream",
          "name": "stdout",
          "text": [
            "1/1 [==============================] - 0s 104ms/step\n",
            "Validating that damage exists...\n",
            "Validation complete - proceed to location and severity determination\n"
          ]
        }
      ]
    },
    {
      "cell_type": "code",
      "execution_count": null,
      "metadata": {
        "colab": {
          "base_uri": "https://localhost:8080/",
          "height": 405
        },
        "id": "v_l6e6uv99y6",
        "outputId": "94f57fe3-2228-466d-8ffc-fb7b21c82d72"
      },
      "outputs": [
        {
          "output_type": "execute_result",
          "data": {
            "image/jpeg": "[encoded data removed]",
            "text/plain": [
              "<IPython.core.display.Image object>"
            ]
          },
          "metadata": {},
          "execution_count": 76
        }
      ],
      "source": [
        "Image('https://dsource.in/sites/default/files/resource/timeline-indian-automobile/four-wheelers/premier-118ne-1985/images/01_Premier.jpg')"
      ]
    },
    {
      "cell_type": "code",
      "execution_count": null,
      "metadata": {
        "colab": {
          "base_uri": "https://localhost:8080/"
        },
        "id": "yMOLp1-z99y6",
        "outputId": "913d37c2-96b9-45ed-dffd-6067736d48dd"
      },
      "outputs": [
        {
          "output_type": "stream",
          "name": "stdout",
          "text": [
            "1/1 [==============================] - 0s 20ms/step\n",
            "Validating that damage exists...\n",
            "Are you sure that your car is damaged? Please submit another picture of the damage.\n",
            "Hint: Try zooming in/out, using a different angle or different lighting\n"
          ]
        }
      ],
      "source": [
        "car_categories_gate('https://dsource.in/sites/default/files/resource/timeline-indian-automobile/four-wheelers/premier-118ne-1985/images/01_Premier.jpg', ft_model)"
      ]
    },
    {
      "cell_type": "code",
      "execution_count": null,
      "metadata": {
        "colab": {
          "base_uri": "https://localhost:8080/",
          "height": 167
        },
        "id": "9v3pKIOX99y7",
        "outputId": "b5bec159-58d2-49cf-879c-b6be07c66b19"
      },
      "outputs": [
        {
          "output_type": "execute_result",
          "data": {
            "image/jpeg": "[encoded data removed]",
            "text/plain": [
              "<IPython.core.display.Image object>"
            ]
          },
          "metadata": {},
          "execution_count": 58
        }
      ],
      "source": [
        "Image('http://1.bp.blogspot.com/-ToQS-qIxYbo/UDNuV5OcVQI/AAAAAAAABdo/tjeQywWiOo0/s200/Key+scratch.jpg')"
      ]
    },
    {
      "cell_type": "code",
      "execution_count": null,
      "metadata": {
        "colab": {
          "base_uri": "https://localhost:8080/"
        },
        "id": "YYCV9svD99y7",
        "outputId": "2ec4902d-78c4-4b79-9637-6abef43d7807"
      },
      "outputs": [
        {
          "output_type": "stream",
          "name": "stdout",
          "text": [
            "1/1 [==============================] - 0s 22ms/step\n",
            "Validating that damage exists...\n",
            "Validation complete - proceed to location and severity determination\n"
          ]
        }
      ],
      "source": [
        "car_categories_gate('http://1.bp.blogspot.com/-ToQS-qIxYbo/UDNuV5OcVQI/AAAAAAAABdo/tjeQywWiOo0/s200/Key+scratch.jpg', ft_model)"
      ]
    },
    {
      "cell_type": "code",
      "execution_count": null,
      "metadata": {
        "colab": {
          "base_uri": "https://localhost:8080/",
          "height": 867
        },
        "id": "Dfaktf4q99y7",
        "outputId": "8e210cfb-eb35-4c12-86e9-8beacdf764fb"
      },
      "outputs": [
        {
          "output_type": "execute_result",
          "data": {
            "image/jpeg": "[encoded data removed]",
            "text/plain": [
              "<IPython.core.display.Image object>"
            ]
          },
          "metadata": {},
          "execution_count": 60
        }
      ],
      "source": [
        "Image('https://i.pinimg.com/originals/00/e2/d2/00e2d282c9d51424c5c3a96e9e649e37.jpg')"
      ]
    },
    {
      "cell_type": "code",
      "execution_count": null,
      "metadata": {
        "colab": {
          "base_uri": "https://localhost:8080/"
        },
        "id": "3dkixvgK99y7",
        "outputId": "b4747f96-8d0b-4d10-91a6-f1d03c2d52ad"
      },
      "outputs": [
        {
          "output_type": "stream",
          "name": "stdout",
          "text": [
            "1/1 [==============================] - 0s 20ms/step\n",
            "Validating that damage exists...\n",
            "Are you sure that your car is damaged? Please submit another picture of the damage.\n",
            "Hint: Try zooming in/out, using a different angle or different lighting\n"
          ]
        }
      ],
      "source": [
        "car_categories_gate('https://i.pinimg.com/originals/00/e2/d2/00e2d282c9d51424c5c3a96e9e649e37.jpg',ft_model)"
      ]
    },
    {
      "cell_type": "markdown",
      "metadata": {
        "id": "X1gX3pYA99y7"
      },
      "source": [
        "### Looking at edge cases"
      ]
    },
    {
      "cell_type": "code",
      "execution_count": null,
      "metadata": {
        "id": "Z5R4bRgH99y8"
      },
      "outputs": [],
      "source": [
        "def get_edge_cases(model, directory, exp_result):\n",
        "    img_list = os.listdir(directory)\n",
        "    edge_list = []\n",
        "    for name in img_list:\n",
        "        img = load_img(directory+name, target_size=(256, 256)) # this is a PIL image\n",
        "        x = img_to_array(img) # this is a Numpy array with shape (256, 256, 3)\n",
        "        x = x.reshape((1,) + x.shape) # this is a Numpy array with shape (1, 256, 256, 3)\n",
        "        pred_prob = model.predict(x)\n",
        "        if pred_prob[0][0] <=0.5:\n",
        "            pred = 0\n",
        "        else:\n",
        "            pred = 1\n",
        "#         print(pred_prob,pred,exp_result)\n",
        "        if pred != exp_result:\n",
        "            edge_list.append(name)\n",
        "    return edge_list"
      ]
    },
    {
      "cell_type": "code",
      "execution_count": null,
      "metadata": {
        "colab": {
          "base_uri": "https://localhost:8080/"
        },
        "id": "SSW2Zyfc99y8",
        "outputId": "42934d0a-16ea-451a-a9c6-06fc46cd830b"
      },
      "outputs": [
        {
          "output_type": "stream",
          "name": "stdout",
          "text": [
            "Found 460 images belonging to 2 classes.\n",
            " 1/57 [..............................] - ETA: 4s"
          ]
        },
        {
          "output_type": "stream",
          "name": "stderr",
          "text": [
            "<ipython-input-29-dec2a480aa77>:9: UserWarning: `Model.predict_generator` is deprecated and will be removed in a future version. Please use `Model.predict`, which supports generators.\n",
            "  predictions = model.predict_generator(test_generator,\n"
          ]
        },
        {
          "output_type": "stream",
          "name": "stdout",
          "text": [
            "57/57 [==============================] - 4s 62ms/step\n",
            "\n",
            "              precision    recall  f1-score   support\n",
            "\n",
            "           0       0.94      0.89      0.92       230\n",
            "           1       0.90      0.95      0.92       230\n",
            "\n",
            "    accuracy                           0.92       460\n",
            "   macro avg       0.92      0.92      0.92       460\n",
            "weighted avg       0.92      0.92      0.92       460\n",
            "\n",
            "\n"
          ]
        },
        {
          "output_type": "execute_result",
          "data": {
            "text/plain": [
              "array([[205,  25],\n",
              "       [ 12, 218]])"
            ]
          },
          "metadata": {},
          "execution_count": 79
        }
      ],
      "source": [
        "evaluate_binary_model(ft_model, val_data_dir, val_labels)\n",
        "# TP = 224, TN = 192, FP = 38, FN = 6\n",
        "# 9 were predicted to be damaged but were actually whole\n",
        "# 36 were predicted to be whole but were actually damaged"
      ]
    },
    {
      "cell_type": "code",
      "execution_count": null,
      "metadata": {
        "scrolled": true,
        "colab": {
          "base_uri": "https://localhost:8080/"
        },
        "id": "Ye59H5SM99y8",
        "outputId": "f529a3b6-9d42-4155-f013-7e1b9cd9d2e3"
      },
      "outputs": [
        {
          "output_type": "stream",
          "name": "stdout",
          "text": [
            "1/1 [==============================] - 0s 22ms/step\n",
            "1/1 [==============================] - 0s 23ms/step\n",
            "1/1 [==============================] - 0s 26ms/step\n",
            "1/1 [==============================] - 0s 25ms/step\n",
            "1/1 [==============================] - 0s 26ms/step\n",
            "1/1 [==============================] - 0s 26ms/step\n",
            "1/1 [==============================] - 0s 24ms/step\n",
            "1/1 [==============================] - 0s 19ms/step\n",
            "1/1 [==============================] - 0s 22ms/step\n",
            "1/1 [==============================] - 0s 21ms/step\n",
            "1/1 [==============================] - 0s 21ms/step\n",
            "1/1 [==============================] - 0s 18ms/step\n",
            "1/1 [==============================] - 0s 23ms/step\n",
            "1/1 [==============================] - 0s 25ms/step\n",
            "1/1 [==============================] - 0s 38ms/step\n",
            "1/1 [==============================] - 0s 19ms/step\n",
            "1/1 [==============================] - 0s 20ms/step\n",
            "1/1 [==============================] - 0s 21ms/step\n",
            "1/1 [==============================] - 0s 20ms/step\n",
            "1/1 [==============================] - 0s 19ms/step\n",
            "1/1 [==============================] - 0s 21ms/step\n",
            "1/1 [==============================] - 0s 20ms/step\n",
            "1/1 [==============================] - 0s 20ms/step\n",
            "1/1 [==============================] - 0s 25ms/step\n",
            "1/1 [==============================] - 0s 20ms/step\n",
            "1/1 [==============================] - 0s 22ms/step\n",
            "1/1 [==============================] - 0s 19ms/step\n",
            "1/1 [==============================] - 0s 23ms/step\n",
            "1/1 [==============================] - 0s 18ms/step\n",
            "1/1 [==============================] - 0s 19ms/step\n",
            "1/1 [==============================] - 0s 23ms/step\n",
            "1/1 [==============================] - 0s 22ms/step\n",
            "1/1 [==============================] - 0s 23ms/step\n",
            "1/1 [==============================] - 0s 23ms/step\n",
            "1/1 [==============================] - 0s 35ms/step\n",
            "1/1 [==============================] - 0s 31ms/step\n",
            "1/1 [==============================] - 0s 29ms/step\n",
            "1/1 [==============================] - 0s 30ms/step\n",
            "1/1 [==============================] - 0s 29ms/step\n",
            "1/1 [==============================] - 0s 31ms/step\n",
            "1/1 [==============================] - 0s 29ms/step\n",
            "1/1 [==============================] - 0s 31ms/step\n",
            "1/1 [==============================] - 0s 30ms/step\n",
            "1/1 [==============================] - 0s 33ms/step\n",
            "1/1 [==============================] - 0s 34ms/step\n",
            "1/1 [==============================] - 0s 36ms/step\n",
            "1/1 [==============================] - 0s 30ms/step\n",
            "1/1 [==============================] - 0s 31ms/step\n",
            "1/1 [==============================] - 0s 35ms/step\n",
            "1/1 [==============================] - 0s 30ms/step\n",
            "1/1 [==============================] - 0s 29ms/step\n",
            "1/1 [==============================] - 0s 29ms/step\n",
            "1/1 [==============================] - 0s 29ms/step\n",
            "1/1 [==============================] - 0s 32ms/step\n",
            "1/1 [==============================] - 0s 29ms/step\n",
            "1/1 [==============================] - 0s 27ms/step\n",
            "1/1 [==============================] - 0s 29ms/step\n",
            "1/1 [==============================] - 0s 28ms/step\n",
            "1/1 [==============================] - 0s 29ms/step\n",
            "1/1 [==============================] - 0s 30ms/step\n",
            "1/1 [==============================] - 0s 31ms/step\n",
            "1/1 [==============================] - 0s 38ms/step\n",
            "1/1 [==============================] - 0s 52ms/step\n",
            "1/1 [==============================] - 0s 32ms/step\n",
            "1/1 [==============================] - 0s 29ms/step\n",
            "1/1 [==============================] - 0s 32ms/step\n",
            "1/1 [==============================] - 0s 31ms/step\n",
            "1/1 [==============================] - 0s 31ms/step\n",
            "1/1 [==============================] - 0s 31ms/step\n",
            "1/1 [==============================] - 0s 27ms/step\n",
            "1/1 [==============================] - 0s 33ms/step\n",
            "1/1 [==============================] - 0s 32ms/step\n",
            "1/1 [==============================] - 0s 35ms/step\n",
            "1/1 [==============================] - 0s 31ms/step\n",
            "1/1 [==============================] - 0s 18ms/step\n",
            "1/1 [==============================] - 0s 23ms/step\n",
            "1/1 [==============================] - 0s 20ms/step\n",
            "1/1 [==============================] - 0s 19ms/step\n",
            "1/1 [==============================] - 0s 20ms/step\n",
            "1/1 [==============================] - 0s 25ms/step\n",
            "1/1 [==============================] - 0s 23ms/step\n",
            "1/1 [==============================] - 0s 18ms/step\n",
            "1/1 [==============================] - 0s 19ms/step\n",
            "1/1 [==============================] - 0s 18ms/step\n",
            "1/1 [==============================] - 0s 21ms/step\n",
            "1/1 [==============================] - 0s 19ms/step\n",
            "1/1 [==============================] - 0s 21ms/step\n",
            "1/1 [==============================] - 0s 22ms/step\n",
            "1/1 [==============================] - 0s 21ms/step\n",
            "1/1 [==============================] - 0s 20ms/step\n",
            "1/1 [==============================] - 0s 29ms/step\n",
            "1/1 [==============================] - 0s 19ms/step\n",
            "1/1 [==============================] - 0s 20ms/step\n",
            "1/1 [==============================] - 0s 20ms/step\n",
            "1/1 [==============================] - 0s 21ms/step\n",
            "1/1 [==============================] - 0s 21ms/step\n",
            "1/1 [==============================] - 0s 21ms/step\n",
            "1/1 [==============================] - 0s 21ms/step\n",
            "1/1 [==============================] - 0s 19ms/step\n",
            "1/1 [==============================] - 0s 18ms/step\n",
            "1/1 [==============================] - 0s 19ms/step\n",
            "1/1 [==============================] - 0s 19ms/step\n",
            "1/1 [==============================] - 0s 21ms/step\n",
            "1/1 [==============================] - 0s 23ms/step\n",
            "1/1 [==============================] - 0s 23ms/step\n",
            "1/1 [==============================] - 0s 23ms/step\n",
            "1/1 [==============================] - 0s 20ms/step\n",
            "1/1 [==============================] - 0s 25ms/step\n",
            "1/1 [==============================] - 0s 29ms/step\n",
            "1/1 [==============================] - 0s 23ms/step\n",
            "1/1 [==============================] - 0s 20ms/step\n",
            "1/1 [==============================] - 0s 21ms/step\n",
            "1/1 [==============================] - 0s 18ms/step\n",
            "1/1 [==============================] - 0s 21ms/step\n",
            "1/1 [==============================] - 0s 22ms/step\n",
            "1/1 [==============================] - 0s 37ms/step\n",
            "1/1 [==============================] - 0s 22ms/step\n",
            "1/1 [==============================] - 0s 23ms/step\n",
            "1/1 [==============================] - 0s 20ms/step\n",
            "1/1 [==============================] - 0s 22ms/step\n",
            "1/1 [==============================] - 0s 22ms/step\n",
            "1/1 [==============================] - 0s 19ms/step\n",
            "1/1 [==============================] - 0s 18ms/step\n",
            "1/1 [==============================] - 0s 20ms/step\n",
            "1/1 [==============================] - 0s 24ms/step\n",
            "1/1 [==============================] - 0s 26ms/step\n",
            "1/1 [==============================] - 0s 21ms/step\n",
            "1/1 [==============================] - 0s 23ms/step\n",
            "1/1 [==============================] - 0s 21ms/step\n",
            "1/1 [==============================] - 0s 20ms/step\n",
            "1/1 [==============================] - 0s 17ms/step\n",
            "1/1 [==============================] - 0s 19ms/step\n",
            "1/1 [==============================] - 0s 24ms/step\n",
            "1/1 [==============================] - 0s 22ms/step\n",
            "1/1 [==============================] - 0s 21ms/step\n",
            "1/1 [==============================] - 0s 22ms/step\n",
            "1/1 [==============================] - 0s 24ms/step\n",
            "1/1 [==============================] - 0s 22ms/step\n",
            "1/1 [==============================] - 0s 20ms/step\n",
            "1/1 [==============================] - 0s 23ms/step\n",
            "1/1 [==============================] - 0s 24ms/step\n",
            "1/1 [==============================] - 0s 20ms/step\n",
            "1/1 [==============================] - 0s 25ms/step\n",
            "1/1 [==============================] - 0s 24ms/step\n",
            "1/1 [==============================] - 0s 21ms/step\n",
            "1/1 [==============================] - 0s 21ms/step\n",
            "1/1 [==============================] - 0s 21ms/step\n",
            "1/1 [==============================] - 0s 23ms/step\n",
            "1/1 [==============================] - 0s 19ms/step\n",
            "1/1 [==============================] - 0s 22ms/step\n",
            "1/1 [==============================] - 0s 24ms/step\n",
            "1/1 [==============================] - 0s 22ms/step\n",
            "1/1 [==============================] - 0s 20ms/step\n",
            "1/1 [==============================] - 0s 22ms/step\n",
            "1/1 [==============================] - 0s 23ms/step\n",
            "1/1 [==============================] - 0s 23ms/step\n",
            "1/1 [==============================] - 0s 19ms/step\n",
            "1/1 [==============================] - 0s 23ms/step\n",
            "1/1 [==============================] - 0s 30ms/step\n",
            "1/1 [==============================] - 0s 24ms/step\n",
            "1/1 [==============================] - 0s 22ms/step\n",
            "1/1 [==============================] - 0s 21ms/step\n",
            "1/1 [==============================] - 0s 19ms/step\n",
            "1/1 [==============================] - 0s 21ms/step\n",
            "1/1 [==============================] - 0s 19ms/step\n",
            "1/1 [==============================] - 0s 19ms/step\n",
            "1/1 [==============================] - 0s 22ms/step\n",
            "1/1 [==============================] - 0s 20ms/step\n",
            "1/1 [==============================] - 0s 24ms/step\n",
            "1/1 [==============================] - 0s 19ms/step\n",
            "1/1 [==============================] - 0s 19ms/step\n",
            "1/1 [==============================] - 0s 21ms/step\n",
            "1/1 [==============================] - 0s 19ms/step\n",
            "1/1 [==============================] - 0s 22ms/step\n",
            "1/1 [==============================] - 0s 26ms/step\n",
            "1/1 [==============================] - 0s 21ms/step\n",
            "1/1 [==============================] - 0s 20ms/step\n",
            "1/1 [==============================] - 0s 19ms/step\n",
            "1/1 [==============================] - 0s 22ms/step\n",
            "1/1 [==============================] - 0s 22ms/step\n",
            "1/1 [==============================] - 0s 22ms/step\n",
            "1/1 [==============================] - 0s 18ms/step\n",
            "1/1 [==============================] - 0s 20ms/step\n",
            "1/1 [==============================] - 0s 22ms/step\n",
            "1/1 [==============================] - 0s 24ms/step\n",
            "1/1 [==============================] - 0s 19ms/step\n",
            "1/1 [==============================] - 0s 26ms/step\n",
            "1/1 [==============================] - 0s 28ms/step\n",
            "1/1 [==============================] - 0s 18ms/step\n",
            "1/1 [==============================] - 0s 19ms/step\n",
            "1/1 [==============================] - 0s 22ms/step\n",
            "1/1 [==============================] - 0s 23ms/step\n",
            "1/1 [==============================] - 0s 29ms/step\n",
            "1/1 [==============================] - 0s 24ms/step\n",
            "1/1 [==============================] - 0s 25ms/step\n",
            "1/1 [==============================] - 0s 21ms/step\n",
            "1/1 [==============================] - 0s 24ms/step\n",
            "1/1 [==============================] - 0s 26ms/step\n",
            "1/1 [==============================] - 0s 20ms/step\n",
            "1/1 [==============================] - 0s 22ms/step\n",
            "1/1 [==============================] - 0s 19ms/step\n",
            "1/1 [==============================] - 0s 23ms/step\n",
            "1/1 [==============================] - 0s 26ms/step\n",
            "1/1 [==============================] - 0s 21ms/step\n",
            "1/1 [==============================] - 0s 21ms/step\n",
            "1/1 [==============================] - 0s 23ms/step\n",
            "1/1 [==============================] - 0s 19ms/step\n",
            "1/1 [==============================] - 0s 21ms/step\n",
            "1/1 [==============================] - 0s 19ms/step\n",
            "1/1 [==============================] - 0s 18ms/step\n",
            "1/1 [==============================] - 0s 20ms/step\n",
            "1/1 [==============================] - 0s 23ms/step\n",
            "1/1 [==============================] - 0s 20ms/step\n",
            "1/1 [==============================] - 0s 21ms/step\n",
            "1/1 [==============================] - 0s 34ms/step\n",
            "1/1 [==============================] - 0s 38ms/step\n",
            "1/1 [==============================] - 0s 30ms/step\n",
            "1/1 [==============================] - 0s 28ms/step\n",
            "1/1 [==============================] - 0s 32ms/step\n",
            "1/1 [==============================] - 0s 28ms/step\n",
            "1/1 [==============================] - 0s 29ms/step\n",
            "1/1 [==============================] - 0s 29ms/step\n",
            "1/1 [==============================] - 0s 36ms/step\n",
            "1/1 [==============================] - 0s 30ms/step\n",
            "1/1 [==============================] - 0s 33ms/step\n",
            "1/1 [==============================] - 0s 32ms/step\n",
            "1/1 [==============================] - 0s 37ms/step\n",
            "1/1 [==============================] - 0s 32ms/step\n",
            "1/1 [==============================] - 0s 31ms/step\n",
            "1/1 [==============================] - 0s 32ms/step\n"
          ]
        }
      ],
      "source": [
        "fp = get_edge_cases(ft_model, location+'/validation/00-damage/', 0)"
      ]
    },
    {
      "cell_type": "code",
      "execution_count": null,
      "metadata": {
        "colab": {
          "base_uri": "https://localhost:8080/"
        },
        "id": "PCs7VwO699y8",
        "outputId": "734c43d7-2ffa-43cb-87f6-d4514eb460bc"
      },
      "outputs": [
        {
          "output_type": "execute_result",
          "data": {
            "text/plain": [
              "17"
            ]
          },
          "metadata": {},
          "execution_count": 81
        }
      ],
      "source": [
        "len(fp)"
      ]
    },
    {
      "cell_type": "code",
      "execution_count": null,
      "metadata": {
        "colab": {
          "base_uri": "https://localhost:8080/",
          "height": 884
        },
        "id": "cOXmVl7G99y9",
        "outputId": "013c3fdc-f322-4f34-cfb6-7a6d40f51de7"
      },
      "outputs": [
        {
          "output_type": "error",
          "ename": "FileNotFoundError",
          "evalue": "ignored",
          "traceback": [
            "\u001b[0;31m---------------------------------------------------------------------------\u001b[0m",
            "\u001b[0;31mTypeError\u001b[0m                                 Traceback (most recent call last)",
            "\u001b[0;32m/usr/local/lib/python3.10/dist-packages/IPython/core/display.py\u001b[0m in \u001b[0;36m_data_and_metadata\u001b[0;34m(self, always_both)\u001b[0m\n\u001b[1;32m   1299\u001b[0m         \u001b[0;32mtry\u001b[0m\u001b[0;34m:\u001b[0m\u001b[0;34m\u001b[0m\u001b[0;34m\u001b[0m\u001b[0m\n\u001b[0;32m-> 1300\u001b[0;31m             \u001b[0mb64_data\u001b[0m \u001b[0;34m=\u001b[0m \u001b[0mb2a_base64\u001b[0m\u001b[0;34m(\u001b[0m\u001b[0mself\u001b[0m\u001b[0;34m.\u001b[0m\u001b[0mdata\u001b[0m\u001b[0;34m)\u001b[0m\u001b[0;34m.\u001b[0m\u001b[0mdecode\u001b[0m\u001b[0;34m(\u001b[0m\u001b[0;34m'ascii'\u001b[0m\u001b[0;34m)\u001b[0m\u001b[0;34m\u001b[0m\u001b[0;34m\u001b[0m\u001b[0m\n\u001b[0m\u001b[1;32m   1301\u001b[0m         \u001b[0;32mexcept\u001b[0m \u001b[0mTypeError\u001b[0m\u001b[0;34m:\u001b[0m\u001b[0;34m\u001b[0m\u001b[0;34m\u001b[0m\u001b[0m\n",
            "\u001b[0;31mTypeError\u001b[0m: a bytes-like object is required, not 'str'",
            "\nDuring handling of the above exception, another exception occurred:\n",
            "\u001b[0;31mFileNotFoundError\u001b[0m                         Traceback (most recent call last)",
            "\u001b[0;32m/usr/local/lib/python3.10/dist-packages/IPython/core/formatters.py\u001b[0m in \u001b[0;36m__call__\u001b[0;34m(self, obj, include, exclude)\u001b[0m\n\u001b[1;32m    968\u001b[0m \u001b[0;34m\u001b[0m\u001b[0m\n\u001b[1;32m    969\u001b[0m             \u001b[0;32mif\u001b[0m \u001b[0mmethod\u001b[0m \u001b[0;32mis\u001b[0m \u001b[0;32mnot\u001b[0m \u001b[0;32mNone\u001b[0m\u001b[0;34m:\u001b[0m\u001b[0;34m\u001b[0m\u001b[0;34m\u001b[0m\u001b[0m\n\u001b[0;32m--> 970\u001b[0;31m                 \u001b[0;32mreturn\u001b[0m \u001b[0mmethod\u001b[0m\u001b[0;34m(\u001b[0m\u001b[0minclude\u001b[0m\u001b[0;34m=\u001b[0m\u001b[0minclude\u001b[0m\u001b[0;34m,\u001b[0m \u001b[0mexclude\u001b[0m\u001b[0;34m=\u001b[0m\u001b[0mexclude\u001b[0m\u001b[0;34m)\u001b[0m\u001b[0;34m\u001b[0m\u001b[0;34m\u001b[0m\u001b[0m\n\u001b[0m\u001b[1;32m    971\u001b[0m             \u001b[0;32mreturn\u001b[0m \u001b[0;32mNone\u001b[0m\u001b[0;34m\u001b[0m\u001b[0;34m\u001b[0m\u001b[0m\n\u001b[1;32m    972\u001b[0m         \u001b[0;32melse\u001b[0m\u001b[0;34m:\u001b[0m\u001b[0;34m\u001b[0m\u001b[0;34m\u001b[0m\u001b[0m\n",
            "\u001b[0;32m/usr/local/lib/python3.10/dist-packages/IPython/core/display.py\u001b[0m in \u001b[0;36m_repr_mimebundle_\u001b[0;34m(self, include, exclude)\u001b[0m\n\u001b[1;32m   1288\u001b[0m         \u001b[0;32mif\u001b[0m \u001b[0mself\u001b[0m\u001b[0;34m.\u001b[0m\u001b[0membed\u001b[0m\u001b[0;34m:\u001b[0m\u001b[0;34m\u001b[0m\u001b[0;34m\u001b[0m\u001b[0m\n\u001b[1;32m   1289\u001b[0m             \u001b[0mmimetype\u001b[0m \u001b[0;34m=\u001b[0m \u001b[0mself\u001b[0m\u001b[0;34m.\u001b[0m\u001b[0m_mimetype\u001b[0m\u001b[0;34m\u001b[0m\u001b[0;34m\u001b[0m\u001b[0m\n\u001b[0;32m-> 1290\u001b[0;31m             \u001b[0mdata\u001b[0m\u001b[0;34m,\u001b[0m \u001b[0mmetadata\u001b[0m \u001b[0;34m=\u001b[0m \u001b[0mself\u001b[0m\u001b[0;34m.\u001b[0m\u001b[0m_data_and_metadata\u001b[0m\u001b[0;34m(\u001b[0m\u001b[0malways_both\u001b[0m\u001b[0;34m=\u001b[0m\u001b[0;32mTrue\u001b[0m\u001b[0;34m)\u001b[0m\u001b[0;34m\u001b[0m\u001b[0;34m\u001b[0m\u001b[0m\n\u001b[0m\u001b[1;32m   1291\u001b[0m             \u001b[0;32mif\u001b[0m \u001b[0mmetadata\u001b[0m\u001b[0;34m:\u001b[0m\u001b[0;34m\u001b[0m\u001b[0;34m\u001b[0m\u001b[0m\n\u001b[1;32m   1292\u001b[0m                 \u001b[0mmetadata\u001b[0m \u001b[0;34m=\u001b[0m \u001b[0;34m{\u001b[0m\u001b[0mmimetype\u001b[0m\u001b[0;34m:\u001b[0m \u001b[0mmetadata\u001b[0m\u001b[0;34m}\u001b[0m\u001b[0;34m\u001b[0m\u001b[0;34m\u001b[0m\u001b[0m\n",
            "\u001b[0;32m/usr/local/lib/python3.10/dist-packages/IPython/core/display.py\u001b[0m in \u001b[0;36m_data_and_metadata\u001b[0;34m(self, always_both)\u001b[0m\n\u001b[1;32m   1300\u001b[0m             \u001b[0mb64_data\u001b[0m \u001b[0;34m=\u001b[0m \u001b[0mb2a_base64\u001b[0m\u001b[0;34m(\u001b[0m\u001b[0mself\u001b[0m\u001b[0;34m.\u001b[0m\u001b[0mdata\u001b[0m\u001b[0;34m)\u001b[0m\u001b[0;34m.\u001b[0m\u001b[0mdecode\u001b[0m\u001b[0;34m(\u001b[0m\u001b[0;34m'ascii'\u001b[0m\u001b[0;34m)\u001b[0m\u001b[0;34m\u001b[0m\u001b[0;34m\u001b[0m\u001b[0m\n\u001b[1;32m   1301\u001b[0m         \u001b[0;32mexcept\u001b[0m \u001b[0mTypeError\u001b[0m\u001b[0;34m:\u001b[0m\u001b[0;34m\u001b[0m\u001b[0;34m\u001b[0m\u001b[0m\n\u001b[0;32m-> 1302\u001b[0;31m             raise FileNotFoundError(\n\u001b[0m\u001b[1;32m   1303\u001b[0m                 \"No such file or directory: '%s'\" % (self.data))\n\u001b[1;32m   1304\u001b[0m         \u001b[0mmd\u001b[0m \u001b[0;34m=\u001b[0m \u001b[0;34m{\u001b[0m\u001b[0;34m}\u001b[0m\u001b[0;34m\u001b[0m\u001b[0;34m\u001b[0m\u001b[0m\n",
            "\u001b[0;31mFileNotFoundError\u001b[0m: No such file or directory: './car-damage-dataset/data1a/validation/00-damage/0216.JPEG'"
          ]
        },
        {
          "output_type": "error",
          "ename": "FileNotFoundError",
          "evalue": "ignored",
          "traceback": [
            "\u001b[0;31m---------------------------------------------------------------------------\u001b[0m",
            "\u001b[0;31mTypeError\u001b[0m                                 Traceback (most recent call last)",
            "\u001b[0;32m/usr/local/lib/python3.10/dist-packages/IPython/core/display.py\u001b[0m in \u001b[0;36m_data_and_metadata\u001b[0;34m(self, always_both)\u001b[0m\n\u001b[1;32m   1299\u001b[0m         \u001b[0;32mtry\u001b[0m\u001b[0;34m:\u001b[0m\u001b[0;34m\u001b[0m\u001b[0;34m\u001b[0m\u001b[0m\n\u001b[0;32m-> 1300\u001b[0;31m             \u001b[0mb64_data\u001b[0m \u001b[0;34m=\u001b[0m \u001b[0mb2a_base64\u001b[0m\u001b[0;34m(\u001b[0m\u001b[0mself\u001b[0m\u001b[0;34m.\u001b[0m\u001b[0mdata\u001b[0m\u001b[0;34m)\u001b[0m\u001b[0;34m.\u001b[0m\u001b[0mdecode\u001b[0m\u001b[0;34m(\u001b[0m\u001b[0;34m'ascii'\u001b[0m\u001b[0;34m)\u001b[0m\u001b[0;34m\u001b[0m\u001b[0;34m\u001b[0m\u001b[0m\n\u001b[0m\u001b[1;32m   1301\u001b[0m         \u001b[0;32mexcept\u001b[0m \u001b[0mTypeError\u001b[0m\u001b[0;34m:\u001b[0m\u001b[0;34m\u001b[0m\u001b[0;34m\u001b[0m\u001b[0m\n",
            "\u001b[0;31mTypeError\u001b[0m: a bytes-like object is required, not 'str'",
            "\nDuring handling of the above exception, another exception occurred:\n",
            "\u001b[0;31mFileNotFoundError\u001b[0m                         Traceback (most recent call last)",
            "\u001b[0;32m/usr/local/lib/python3.10/dist-packages/IPython/core/formatters.py\u001b[0m in \u001b[0;36m__call__\u001b[0;34m(self, obj)\u001b[0m\n\u001b[1;32m    343\u001b[0m             \u001b[0mmethod\u001b[0m \u001b[0;34m=\u001b[0m \u001b[0mget_real_method\u001b[0m\u001b[0;34m(\u001b[0m\u001b[0mobj\u001b[0m\u001b[0;34m,\u001b[0m \u001b[0mself\u001b[0m\u001b[0;34m.\u001b[0m\u001b[0mprint_method\u001b[0m\u001b[0;34m)\u001b[0m\u001b[0;34m\u001b[0m\u001b[0;34m\u001b[0m\u001b[0m\n\u001b[1;32m    344\u001b[0m             \u001b[0;32mif\u001b[0m \u001b[0mmethod\u001b[0m \u001b[0;32mis\u001b[0m \u001b[0;32mnot\u001b[0m \u001b[0;32mNone\u001b[0m\u001b[0;34m:\u001b[0m\u001b[0;34m\u001b[0m\u001b[0;34m\u001b[0m\u001b[0m\n\u001b[0;32m--> 345\u001b[0;31m                 \u001b[0;32mreturn\u001b[0m \u001b[0mmethod\u001b[0m\u001b[0;34m(\u001b[0m\u001b[0;34m)\u001b[0m\u001b[0;34m\u001b[0m\u001b[0;34m\u001b[0m\u001b[0m\n\u001b[0m\u001b[1;32m    346\u001b[0m             \u001b[0;32mreturn\u001b[0m \u001b[0;32mNone\u001b[0m\u001b[0;34m\u001b[0m\u001b[0;34m\u001b[0m\u001b[0m\n\u001b[1;32m    347\u001b[0m         \u001b[0;32melse\u001b[0m\u001b[0;34m:\u001b[0m\u001b[0;34m\u001b[0m\u001b[0;34m\u001b[0m\u001b[0m\n",
            "\u001b[0;32m/usr/local/lib/python3.10/dist-packages/IPython/core/display.py\u001b[0m in \u001b[0;36m_repr_png_\u001b[0;34m(self)\u001b[0m\n\u001b[1;32m   1318\u001b[0m     \u001b[0;32mdef\u001b[0m \u001b[0m_repr_png_\u001b[0m\u001b[0;34m(\u001b[0m\u001b[0mself\u001b[0m\u001b[0;34m)\u001b[0m\u001b[0;34m:\u001b[0m\u001b[0;34m\u001b[0m\u001b[0;34m\u001b[0m\u001b[0m\n\u001b[1;32m   1319\u001b[0m         \u001b[0;32mif\u001b[0m \u001b[0mself\u001b[0m\u001b[0;34m.\u001b[0m\u001b[0membed\u001b[0m \u001b[0;32mand\u001b[0m \u001b[0mself\u001b[0m\u001b[0;34m.\u001b[0m\u001b[0mformat\u001b[0m \u001b[0;34m==\u001b[0m \u001b[0mself\u001b[0m\u001b[0;34m.\u001b[0m\u001b[0m_FMT_PNG\u001b[0m\u001b[0;34m:\u001b[0m\u001b[0;34m\u001b[0m\u001b[0;34m\u001b[0m\u001b[0m\n\u001b[0;32m-> 1320\u001b[0;31m             \u001b[0;32mreturn\u001b[0m \u001b[0mself\u001b[0m\u001b[0;34m.\u001b[0m\u001b[0m_data_and_metadata\u001b[0m\u001b[0;34m(\u001b[0m\u001b[0;34m)\u001b[0m\u001b[0;34m\u001b[0m\u001b[0;34m\u001b[0m\u001b[0m\n\u001b[0m\u001b[1;32m   1321\u001b[0m \u001b[0;34m\u001b[0m\u001b[0m\n\u001b[1;32m   1322\u001b[0m     \u001b[0;32mdef\u001b[0m \u001b[0m_repr_jpeg_\u001b[0m\u001b[0;34m(\u001b[0m\u001b[0mself\u001b[0m\u001b[0;34m)\u001b[0m\u001b[0;34m:\u001b[0m\u001b[0;34m\u001b[0m\u001b[0;34m\u001b[0m\u001b[0m\n",
            "\u001b[0;32m/usr/local/lib/python3.10/dist-packages/IPython/core/display.py\u001b[0m in \u001b[0;36m_data_and_metadata\u001b[0;34m(self, always_both)\u001b[0m\n\u001b[1;32m   1300\u001b[0m             \u001b[0mb64_data\u001b[0m \u001b[0;34m=\u001b[0m \u001b[0mb2a_base64\u001b[0m\u001b[0;34m(\u001b[0m\u001b[0mself\u001b[0m\u001b[0;34m.\u001b[0m\u001b[0mdata\u001b[0m\u001b[0;34m)\u001b[0m\u001b[0;34m.\u001b[0m\u001b[0mdecode\u001b[0m\u001b[0;34m(\u001b[0m\u001b[0;34m'ascii'\u001b[0m\u001b[0;34m)\u001b[0m\u001b[0;34m\u001b[0m\u001b[0;34m\u001b[0m\u001b[0m\n\u001b[1;32m   1301\u001b[0m         \u001b[0;32mexcept\u001b[0m \u001b[0mTypeError\u001b[0m\u001b[0;34m:\u001b[0m\u001b[0;34m\u001b[0m\u001b[0;34m\u001b[0m\u001b[0m\n\u001b[0;32m-> 1302\u001b[0;31m             raise FileNotFoundError(\n\u001b[0m\u001b[1;32m   1303\u001b[0m                 \"No such file or directory: '%s'\" % (self.data))\n\u001b[1;32m   1304\u001b[0m         \u001b[0mmd\u001b[0m \u001b[0;34m=\u001b[0m \u001b[0;34m{\u001b[0m\u001b[0;34m}\u001b[0m\u001b[0;34m\u001b[0m\u001b[0;34m\u001b[0m\u001b[0m\n",
            "\u001b[0;31mFileNotFoundError\u001b[0m: No such file or directory: './car-damage-dataset/data1a/validation/00-damage/0216.JPEG'"
          ]
        },
        {
          "output_type": "display_data",
          "data": {
            "text/plain": [
              "<IPython.core.display.Image object>"
            ]
          },
          "metadata": {}
        }
      ],
      "source": [
        "view_images('./car-damage-dataset/data1a/validation/00-damage/', fp)  # damaged, identifed as whole"
      ]
    },
    {
      "cell_type": "code",
      "execution_count": null,
      "metadata": {
        "id": "5J4IAD5c99y9"
      },
      "outputs": [],
      "source": [
        "fn = get_edge_cases(ft_model,location+'/validation/01-whole/', 1)"
      ]
    },
    {
      "cell_type": "code",
      "execution_count": null,
      "metadata": {
        "id": "U_1ihDfh99y9",
        "outputId": "beb40859-7128-4dd2-d34c-2479aa6f6b6d"
      },
      "outputs": [
        {
          "data": {
            "image/jpeg": "[encoded data removed]",
            "text/plain": [
              "<IPython.core.display.Image object>"
            ]
          },
          "metadata": {
            "image/jpeg": {
              "width": 200
            }
          },
          "output_type": "display_data"
        },
        {
          "ename": "KeyboardInterrupt",
          "evalue": "",
          "output_type": "error",
          "traceback": [
            "\u001b[0;31m---------------------------------------------------------------------------\u001b[0m",
            "\u001b[0;31mKeyboardInterrupt\u001b[0m                         Traceback (most recent call last)",
            "\u001b[0;32m~/anaconda3/lib/python3.6/site-packages/ipykernel/kernelbase.py\u001b[0m in \u001b[0;36m_input_request\u001b[0;34m(self, prompt, ident, parent, password)\u001b[0m\n\u001b[1;32m    726\u001b[0m             \u001b[0;32mtry\u001b[0m\u001b[0;34m:\u001b[0m\u001b[0;34m\u001b[0m\u001b[0m\n\u001b[0;32m--> 727\u001b[0;31m                 \u001b[0mident\u001b[0m\u001b[0;34m,\u001b[0m \u001b[0mreply\u001b[0m \u001b[0;34m=\u001b[0m \u001b[0mself\u001b[0m\u001b[0;34m.\u001b[0m\u001b[0msession\u001b[0m\u001b[0;34m.\u001b[0m\u001b[0mrecv\u001b[0m\u001b[0;34m(\u001b[0m\u001b[0mself\u001b[0m\u001b[0;34m.\u001b[0m\u001b[0mstdin_socket\u001b[0m\u001b[0;34m,\u001b[0m \u001b[0;36m0\u001b[0m\u001b[0;34m)\u001b[0m\u001b[0;34m\u001b[0m\u001b[0m\n\u001b[0m\u001b[1;32m    728\u001b[0m             \u001b[0;32mexcept\u001b[0m \u001b[0mException\u001b[0m\u001b[0;34m:\u001b[0m\u001b[0;34m\u001b[0m\u001b[0m\n",
            "\u001b[0;32m~/anaconda3/lib/python3.6/site-packages/jupyter_client/session.py\u001b[0m in \u001b[0;36mrecv\u001b[0;34m(self, socket, mode, content, copy)\u001b[0m\n\u001b[1;32m    802\u001b[0m         \u001b[0;32mtry\u001b[0m\u001b[0;34m:\u001b[0m\u001b[0;34m\u001b[0m\u001b[0m\n\u001b[0;32m--> 803\u001b[0;31m             \u001b[0mmsg_list\u001b[0m \u001b[0;34m=\u001b[0m \u001b[0msocket\u001b[0m\u001b[0;34m.\u001b[0m\u001b[0mrecv_multipart\u001b[0m\u001b[0;34m(\u001b[0m\u001b[0mmode\u001b[0m\u001b[0;34m,\u001b[0m \u001b[0mcopy\u001b[0m\u001b[0;34m=\u001b[0m\u001b[0mcopy\u001b[0m\u001b[0;34m)\u001b[0m\u001b[0;34m\u001b[0m\u001b[0m\n\u001b[0m\u001b[1;32m    804\u001b[0m         \u001b[0;32mexcept\u001b[0m \u001b[0mzmq\u001b[0m\u001b[0;34m.\u001b[0m\u001b[0mZMQError\u001b[0m \u001b[0;32mas\u001b[0m \u001b[0me\u001b[0m\u001b[0;34m:\u001b[0m\u001b[0;34m\u001b[0m\u001b[0m\n",
            "\u001b[0;32m~/anaconda3/lib/python3.6/site-packages/zmq/sugar/socket.py\u001b[0m in \u001b[0;36mrecv_multipart\u001b[0;34m(self, flags, copy, track)\u001b[0m\n\u001b[1;32m    394\u001b[0m         \"\"\"\n\u001b[0;32m--> 395\u001b[0;31m         \u001b[0mparts\u001b[0m \u001b[0;34m=\u001b[0m \u001b[0;34m[\u001b[0m\u001b[0mself\u001b[0m\u001b[0;34m.\u001b[0m\u001b[0mrecv\u001b[0m\u001b[0;34m(\u001b[0m\u001b[0mflags\u001b[0m\u001b[0;34m,\u001b[0m \u001b[0mcopy\u001b[0m\u001b[0;34m=\u001b[0m\u001b[0mcopy\u001b[0m\u001b[0;34m,\u001b[0m \u001b[0mtrack\u001b[0m\u001b[0;34m=\u001b[0m\u001b[0mtrack\u001b[0m\u001b[0;34m)\u001b[0m\u001b[0;34m]\u001b[0m\u001b[0;34m\u001b[0m\u001b[0m\n\u001b[0m\u001b[1;32m    396\u001b[0m         \u001b[0;31m# have first part already, only loop while more to receive\u001b[0m\u001b[0;34m\u001b[0m\u001b[0;34m\u001b[0m\u001b[0m\n",
            "\u001b[0;32mzmq/backend/cython/socket.pyx\u001b[0m in \u001b[0;36mzmq.backend.cython.socket.Socket.recv\u001b[0;34m()\u001b[0m\n",
            "\u001b[0;32mzmq/backend/cython/socket.pyx\u001b[0m in \u001b[0;36mzmq.backend.cython.socket.Socket.recv\u001b[0;34m()\u001b[0m\n",
            "\u001b[0;32mzmq/backend/cython/socket.pyx\u001b[0m in \u001b[0;36mzmq.backend.cython.socket._recv_copy\u001b[0;34m()\u001b[0m\n",
            "\u001b[0;32m~/anaconda3/lib/python3.6/site-packages/zmq/backend/cython/checkrc.pxd\u001b[0m in \u001b[0;36mzmq.backend.cython.checkrc._check_rc\u001b[0;34m()\u001b[0m\n",
            "\u001b[0;31mKeyboardInterrupt\u001b[0m: ",
            "\nDuring handling of the above exception, another exception occurred:\n",
            "\u001b[0;31mKeyboardInterrupt\u001b[0m                         Traceback (most recent call last)",
            "\u001b[0;32m<ipython-input-79-0960f998abbc>\u001b[0m in \u001b[0;36m<module>\u001b[0;34m()\u001b[0m\n\u001b[0;32m----> 1\u001b[0;31m \u001b[0mview_images\u001b[0m\u001b[0;34m(\u001b[0m\u001b[0;34m'./car-damage-dataset/data1a/validation/01-whole/'\u001b[0m\u001b[0;34m,\u001b[0m \u001b[0mfn\u001b[0m\u001b[0;34m)\u001b[0m  \u001b[0;31m# whole, identifed as damage\u001b[0m\u001b[0;34m\u001b[0m\u001b[0m\n\u001b[0m",
            "\u001b[0;32m<ipython-input-26-e0cb5a0a3d06>\u001b[0m in \u001b[0;36mview_images\u001b[0;34m(img_dir, img_list)\u001b[0m\n\u001b[1;32m      3\u001b[0m         \u001b[0mclear_output\u001b[0m\u001b[0;34m(\u001b[0m\u001b[0;34m)\u001b[0m\u001b[0;34m\u001b[0m\u001b[0m\n\u001b[1;32m      4\u001b[0m         \u001b[0mdisplay\u001b[0m\u001b[0;34m(\u001b[0m\u001b[0mImage\u001b[0m\u001b[0;34m(\u001b[0m\u001b[0mimg_dir\u001b[0m\u001b[0;34m+\u001b[0m\u001b[0mimg\u001b[0m\u001b[0;34m,\u001b[0m\u001b[0mwidth\u001b[0m\u001b[0;34m=\u001b[0m\u001b[0;36m200\u001b[0m\u001b[0;34m)\u001b[0m\u001b[0;34m)\u001b[0m\u001b[0;34m\u001b[0m\u001b[0m\n\u001b[0;32m----> 5\u001b[0;31m         \u001b[0mnum\u001b[0m \u001b[0;34m=\u001b[0m \u001b[0minput\u001b[0m\u001b[0;34m(\u001b[0m\u001b[0;34m\"c to continue, q to quit\"\u001b[0m\u001b[0;34m)\u001b[0m\u001b[0;34m\u001b[0m\u001b[0m\n\u001b[0m\u001b[1;32m      6\u001b[0m         \u001b[0;32mif\u001b[0m \u001b[0mnum\u001b[0m \u001b[0;34m==\u001b[0m \u001b[0;34m'c'\u001b[0m\u001b[0;34m:\u001b[0m\u001b[0;34m\u001b[0m\u001b[0m\n\u001b[1;32m      7\u001b[0m             \u001b[0;32mpass\u001b[0m\u001b[0;34m\u001b[0m\u001b[0m\n",
            "\u001b[0;32m~/anaconda3/lib/python3.6/site-packages/ipykernel/kernelbase.py\u001b[0m in \u001b[0;36mraw_input\u001b[0;34m(self, prompt)\u001b[0m\n\u001b[1;32m    700\u001b[0m             \u001b[0mself\u001b[0m\u001b[0;34m.\u001b[0m\u001b[0m_parent_ident\u001b[0m\u001b[0;34m,\u001b[0m\u001b[0;34m\u001b[0m\u001b[0m\n\u001b[1;32m    701\u001b[0m             \u001b[0mself\u001b[0m\u001b[0;34m.\u001b[0m\u001b[0m_parent_header\u001b[0m\u001b[0;34m,\u001b[0m\u001b[0;34m\u001b[0m\u001b[0m\n\u001b[0;32m--> 702\u001b[0;31m             \u001b[0mpassword\u001b[0m\u001b[0;34m=\u001b[0m\u001b[0;32mFalse\u001b[0m\u001b[0;34m,\u001b[0m\u001b[0;34m\u001b[0m\u001b[0m\n\u001b[0m\u001b[1;32m    703\u001b[0m         )\n\u001b[1;32m    704\u001b[0m \u001b[0;34m\u001b[0m\u001b[0m\n",
            "\u001b[0;32m~/anaconda3/lib/python3.6/site-packages/ipykernel/kernelbase.py\u001b[0m in \u001b[0;36m_input_request\u001b[0;34m(self, prompt, ident, parent, password)\u001b[0m\n\u001b[1;32m    730\u001b[0m             \u001b[0;32mexcept\u001b[0m \u001b[0mKeyboardInterrupt\u001b[0m\u001b[0;34m:\u001b[0m\u001b[0;34m\u001b[0m\u001b[0m\n\u001b[1;32m    731\u001b[0m                 \u001b[0;31m# re-raise KeyboardInterrupt, to truncate traceback\u001b[0m\u001b[0;34m\u001b[0m\u001b[0;34m\u001b[0m\u001b[0m\n\u001b[0;32m--> 732\u001b[0;31m                 \u001b[0;32mraise\u001b[0m \u001b[0mKeyboardInterrupt\u001b[0m\u001b[0;34m\u001b[0m\u001b[0m\n\u001b[0m\u001b[1;32m    733\u001b[0m             \u001b[0;32melse\u001b[0m\u001b[0;34m:\u001b[0m\u001b[0;34m\u001b[0m\u001b[0m\n\u001b[1;32m    734\u001b[0m                 \u001b[0;32mbreak\u001b[0m\u001b[0;34m\u001b[0m\u001b[0m\n",
            "\u001b[0;31mKeyboardInterrupt\u001b[0m: "
          ]
        }
      ],
      "source": [
        "view_images('./car-damage-dataset/data1a/validation/01-whole/', fn)  # whole, identifed as damage"
      ]
    },
    {
      "cell_type": "code",
      "execution_count": null,
      "metadata": {
        "id": "gi8xoAY-99y9",
        "outputId": "7dd20666-bb0c-49f7-c854-51ae7a26b41f"
      },
      "outputs": [
        {
          "data": {
            "text/plain": [
              "16"
            ]
          },
          "execution_count": 77,
          "metadata": {},
          "output_type": "execute_result"
        }
      ],
      "source": [
        "len(fn)"
      ]
    },
    {
      "cell_type": "code",
      "execution_count": null,
      "metadata": {
        "id": "HDYXH9Sm99y9"
      },
      "outputs": [],
      "source": []
    }
  ],
  "metadata": {
    "kernelspec": {
      "display_name": "Python 3",
      "name": "python3"
    },
    "language_info": {
      "codemirror_mode": {
        "name": "ipython",
        "version": 3
      },
      "file_extension": ".py",
      "mimetype": "text/x-python",
      "name": "python",
      "nbconvert_exporter": "python",
      "pygments_lexer": "ipython3",
      "version": "3.6.2"
    },
    "colab": {
      "provenance": [],
      "gpuType": "T4"
    },
    "accelerator": "GPU"
  },
  "nbformat": 4,
  "nbformat_minor": 0
}